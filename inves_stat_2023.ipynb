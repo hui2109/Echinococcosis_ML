{
 "cells": [
  {
   "cell_type": "code",
   "execution_count": 31,
   "id": "initial_id",
   "metadata": {
    "collapsed": true,
    "ExecuteTime": {
     "end_time": "2023-09-22T05:21:42.262127Z",
     "start_time": "2023-09-22T05:21:41.188725Z"
    }
   },
   "outputs": [],
   "source": [
    "import pandas as pd\n",
    "import matplotlib.pyplot as plt\n",
    "import numpy as np\n",
    "from sklearn.metrics import roc_auc_score\n",
    "from sklearn.metrics import accuracy_score"
   ]
  },
  {
   "cell_type": "code",
   "execution_count": 18,
   "outputs": [
    {
     "data": {
      "text/plain": "    1、请选择肝包虫类型：（）？\\n\\n  2、请选择肝包虫类型：（）？\\n  3、请选择肝包虫类型：（）？\\n  4、请选择肝包虫类型：（）？\\n  \\\n0                    2                -3                -3                -3   \n1                    2                -3                 1                -3   \n2                   -3                 2                 2                -3   \n3                   -3                 2                -3                 2   \n4                    2                 1                -3                -3   \n..                 ...               ...               ...               ...   \n68                   2                 2                 1                 2   \n69                   2                 1                 1                -3   \n70                   2                -3                -3                -3   \n71                  -3                -3                 1                -3   \n72                   2                 1                 1                 2   \n\n    5、请选择肝包虫类型：（）？\\n  6、请选择肝包虫类型：（）？\\n  7、请选择肝包虫类型：（）？\\n  8、请选择肝包虫类型：（）？\\n  \\\n0                 -3                -3                 2                 2   \n1                  2                -3                 1                -3   \n2                 -3                 2                 2                 2   \n3                 -3                 2                -3                -3   \n4                  2                -3                 2                -3   \n..               ...               ...               ...               ...   \n68                -3                -3                 2                 2   \n69                -3                 2                -3                 2   \n70                 2                -3                -3                 2   \n71                -3                 2                 1                 2   \n72                -3                -3                -3                 2   \n\n    9、请选择肝包虫类型：（）？\\n  10、请选择肝包虫类型：（）？\\n  ...  51、请选择肝包虫类型：（）？\\n  \\\n0                  2                 -3  ...                 -3   \n1                  2                 -3  ...                  1   \n2                  2                  2  ...                  1   \n3                 -3                  1  ...                 -3   \n4                  2                 -3  ...                  2   \n..               ...                ...  ...                ...   \n68                -3                 -3  ...                 -3   \n69                 2                 -3  ...                  1   \n70                -3                 -3  ...                 -3   \n71                -3                 -3  ...                  1   \n72                -3                 -3  ...                 -3   \n\n    52、请选择肝包虫类型：（）？\\n  53、请选择肝包虫类型：（）？\\n  54、请选择肝包虫类型：（）？\\n  \\\n0                   1                 -3                  2   \n1                   1                 -3                  2   \n2                  -3                 -3                 -3   \n3                   1                  1                  2   \n4                   1                  1                  1   \n..                ...                ...                ...   \n68                 -3                  1                 -3   \n69                 -3                 -3                 -3   \n70                 -3                  1                 -3   \n71                 -3                  1                 -3   \n72                 -3                 -3                 -3   \n\n    55、请选择肝包虫类型：（）？\\n  56、请选择肝包虫类型：（）？\\n  57、请选择肝包虫类型：（）？\\n  \\\n0                   2                 -3                 -3   \n1                  -3                  2                 -3   \n2                   2                 -3                 -3   \n3                  -3                  2                  2   \n4                  -3                  1                 -3   \n..                ...                ...                ...   \n68                  2                  2                  2   \n69                  1                 -3                  1   \n70                 -3                 -3                  1   \n71                 -3                 -3                  1   \n72                  1                 -3                 -3   \n\n    58、请选择肝包虫类型：（）？\\n  59、请选择肝包虫类型：（）？\\n  60、请选择肝包虫类型：（）？\\n  \n0                   1                 -3                  2  \n1                  -3                 -3                 -3  \n2                   1                 -3                  2  \n3                  -3                 -3                  1  \n4                  -3                  1                 -3  \n..                ...                ...                ...  \n68                 -3                 -3                  2  \n69                 -3                  2                  1  \n70                 -3                  1                  1  \n71                  1                  1                 -3  \n72                 -3                  1                 -3  \n\n[73 rows x 60 columns]",
      "text/html": "<div>\n<style scoped>\n    .dataframe tbody tr th:only-of-type {\n        vertical-align: middle;\n    }\n\n    .dataframe tbody tr th {\n        vertical-align: top;\n    }\n\n    .dataframe thead th {\n        text-align: right;\n    }\n</style>\n<table border=\"1\" class=\"dataframe\">\n  <thead>\n    <tr style=\"text-align: right;\">\n      <th></th>\n      <th>1、请选择肝包虫类型：（）？\\n\\n</th>\n      <th>2、请选择肝包虫类型：（）？\\n</th>\n      <th>3、请选择肝包虫类型：（）？\\n</th>\n      <th>4、请选择肝包虫类型：（）？\\n</th>\n      <th>5、请选择肝包虫类型：（）？\\n</th>\n      <th>6、请选择肝包虫类型：（）？\\n</th>\n      <th>7、请选择肝包虫类型：（）？\\n</th>\n      <th>8、请选择肝包虫类型：（）？\\n</th>\n      <th>9、请选择肝包虫类型：（）？\\n</th>\n      <th>10、请选择肝包虫类型：（）？\\n</th>\n      <th>...</th>\n      <th>51、请选择肝包虫类型：（）？\\n</th>\n      <th>52、请选择肝包虫类型：（）？\\n</th>\n      <th>53、请选择肝包虫类型：（）？\\n</th>\n      <th>54、请选择肝包虫类型：（）？\\n</th>\n      <th>55、请选择肝包虫类型：（）？\\n</th>\n      <th>56、请选择肝包虫类型：（）？\\n</th>\n      <th>57、请选择肝包虫类型：（）？\\n</th>\n      <th>58、请选择肝包虫类型：（）？\\n</th>\n      <th>59、请选择肝包虫类型：（）？\\n</th>\n      <th>60、请选择肝包虫类型：（）？\\n</th>\n    </tr>\n  </thead>\n  <tbody>\n    <tr>\n      <th>0</th>\n      <td>2</td>\n      <td>-3</td>\n      <td>-3</td>\n      <td>-3</td>\n      <td>-3</td>\n      <td>-3</td>\n      <td>2</td>\n      <td>2</td>\n      <td>2</td>\n      <td>-3</td>\n      <td>...</td>\n      <td>-3</td>\n      <td>1</td>\n      <td>-3</td>\n      <td>2</td>\n      <td>2</td>\n      <td>-3</td>\n      <td>-3</td>\n      <td>1</td>\n      <td>-3</td>\n      <td>2</td>\n    </tr>\n    <tr>\n      <th>1</th>\n      <td>2</td>\n      <td>-3</td>\n      <td>1</td>\n      <td>-3</td>\n      <td>2</td>\n      <td>-3</td>\n      <td>1</td>\n      <td>-3</td>\n      <td>2</td>\n      <td>-3</td>\n      <td>...</td>\n      <td>1</td>\n      <td>1</td>\n      <td>-3</td>\n      <td>2</td>\n      <td>-3</td>\n      <td>2</td>\n      <td>-3</td>\n      <td>-3</td>\n      <td>-3</td>\n      <td>-3</td>\n    </tr>\n    <tr>\n      <th>2</th>\n      <td>-3</td>\n      <td>2</td>\n      <td>2</td>\n      <td>-3</td>\n      <td>-3</td>\n      <td>2</td>\n      <td>2</td>\n      <td>2</td>\n      <td>2</td>\n      <td>2</td>\n      <td>...</td>\n      <td>1</td>\n      <td>-3</td>\n      <td>-3</td>\n      <td>-3</td>\n      <td>2</td>\n      <td>-3</td>\n      <td>-3</td>\n      <td>1</td>\n      <td>-3</td>\n      <td>2</td>\n    </tr>\n    <tr>\n      <th>3</th>\n      <td>-3</td>\n      <td>2</td>\n      <td>-3</td>\n      <td>2</td>\n      <td>-3</td>\n      <td>2</td>\n      <td>-3</td>\n      <td>-3</td>\n      <td>-3</td>\n      <td>1</td>\n      <td>...</td>\n      <td>-3</td>\n      <td>1</td>\n      <td>1</td>\n      <td>2</td>\n      <td>-3</td>\n      <td>2</td>\n      <td>2</td>\n      <td>-3</td>\n      <td>-3</td>\n      <td>1</td>\n    </tr>\n    <tr>\n      <th>4</th>\n      <td>2</td>\n      <td>1</td>\n      <td>-3</td>\n      <td>-3</td>\n      <td>2</td>\n      <td>-3</td>\n      <td>2</td>\n      <td>-3</td>\n      <td>2</td>\n      <td>-3</td>\n      <td>...</td>\n      <td>2</td>\n      <td>1</td>\n      <td>1</td>\n      <td>1</td>\n      <td>-3</td>\n      <td>1</td>\n      <td>-3</td>\n      <td>-3</td>\n      <td>1</td>\n      <td>-3</td>\n    </tr>\n    <tr>\n      <th>...</th>\n      <td>...</td>\n      <td>...</td>\n      <td>...</td>\n      <td>...</td>\n      <td>...</td>\n      <td>...</td>\n      <td>...</td>\n      <td>...</td>\n      <td>...</td>\n      <td>...</td>\n      <td>...</td>\n      <td>...</td>\n      <td>...</td>\n      <td>...</td>\n      <td>...</td>\n      <td>...</td>\n      <td>...</td>\n      <td>...</td>\n      <td>...</td>\n      <td>...</td>\n      <td>...</td>\n    </tr>\n    <tr>\n      <th>68</th>\n      <td>2</td>\n      <td>2</td>\n      <td>1</td>\n      <td>2</td>\n      <td>-3</td>\n      <td>-3</td>\n      <td>2</td>\n      <td>2</td>\n      <td>-3</td>\n      <td>-3</td>\n      <td>...</td>\n      <td>-3</td>\n      <td>-3</td>\n      <td>1</td>\n      <td>-3</td>\n      <td>2</td>\n      <td>2</td>\n      <td>2</td>\n      <td>-3</td>\n      <td>-3</td>\n      <td>2</td>\n    </tr>\n    <tr>\n      <th>69</th>\n      <td>2</td>\n      <td>1</td>\n      <td>1</td>\n      <td>-3</td>\n      <td>-3</td>\n      <td>2</td>\n      <td>-3</td>\n      <td>2</td>\n      <td>2</td>\n      <td>-3</td>\n      <td>...</td>\n      <td>1</td>\n      <td>-3</td>\n      <td>-3</td>\n      <td>-3</td>\n      <td>1</td>\n      <td>-3</td>\n      <td>1</td>\n      <td>-3</td>\n      <td>2</td>\n      <td>1</td>\n    </tr>\n    <tr>\n      <th>70</th>\n      <td>2</td>\n      <td>-3</td>\n      <td>-3</td>\n      <td>-3</td>\n      <td>2</td>\n      <td>-3</td>\n      <td>-3</td>\n      <td>2</td>\n      <td>-3</td>\n      <td>-3</td>\n      <td>...</td>\n      <td>-3</td>\n      <td>-3</td>\n      <td>1</td>\n      <td>-3</td>\n      <td>-3</td>\n      <td>-3</td>\n      <td>1</td>\n      <td>-3</td>\n      <td>1</td>\n      <td>1</td>\n    </tr>\n    <tr>\n      <th>71</th>\n      <td>-3</td>\n      <td>-3</td>\n      <td>1</td>\n      <td>-3</td>\n      <td>-3</td>\n      <td>2</td>\n      <td>1</td>\n      <td>2</td>\n      <td>-3</td>\n      <td>-3</td>\n      <td>...</td>\n      <td>1</td>\n      <td>-3</td>\n      <td>1</td>\n      <td>-3</td>\n      <td>-3</td>\n      <td>-3</td>\n      <td>1</td>\n      <td>1</td>\n      <td>1</td>\n      <td>-3</td>\n    </tr>\n    <tr>\n      <th>72</th>\n      <td>2</td>\n      <td>1</td>\n      <td>1</td>\n      <td>2</td>\n      <td>-3</td>\n      <td>-3</td>\n      <td>-3</td>\n      <td>2</td>\n      <td>-3</td>\n      <td>-3</td>\n      <td>...</td>\n      <td>-3</td>\n      <td>-3</td>\n      <td>-3</td>\n      <td>-3</td>\n      <td>1</td>\n      <td>-3</td>\n      <td>-3</td>\n      <td>-3</td>\n      <td>1</td>\n      <td>-3</td>\n    </tr>\n  </tbody>\n</table>\n<p>73 rows × 60 columns</p>\n</div>"
     },
     "execution_count": 18,
     "metadata": {},
     "output_type": "execute_result"
    }
   ],
   "source": [
    "source_df = pd.read_pickle('./resources/temp_file/2023_inves.pkl').iloc[:, 12:]\n",
    "source_df: pd.DataFrame\n",
    "source_df"
   ],
   "metadata": {
    "collapsed": false,
    "ExecuteTime": {
     "end_time": "2023-09-22T05:21:44.367932Z",
     "start_time": "2023-09-22T05:21:44.342543Z"
    }
   },
   "id": "df3185201f7cc5bf"
  },
  {
   "cell_type": "code",
   "execution_count": 3,
   "outputs": [
    {
     "name": "stdout",
     "output_type": "stream",
     "text": [
      "60 [1, 1, 1, 1, 1, 1, 1, 1, 1, 1, 1, 1, 1, 1, 1, 0, 0, 0, 0, 0, 0, 0, 0, 0, 0, 0, 0, 0, 0, 0, 1, 1, 1, 1, 1, 1, 1, 1, 1, 1, 1, 1, 1, 1, 1, 0, 0, 0, 0, 0, 0, 0, 0, 0, 0, 0, 0, 0, 0, 0]\n"
     ]
    }
   ],
   "source": [
    "a = list('1'*15)\n",
    "b = list('0'*15)\n",
    "c = list('1'*15)\n",
    "d = list('0'*15)\n",
    "answer_list = a + b + c + d\n",
    "answer_list = list(map(int, answer_list))\n",
    "print(len(answer_list), answer_list)"
   ],
   "metadata": {
    "collapsed": false,
    "ExecuteTime": {
     "end_time": "2023-09-22T05:21:45.483545Z",
     "start_time": "2023-09-22T05:21:45.475297Z"
    }
   },
   "id": "f81039f40ac7b148"
  },
  {
   "cell_type": "code",
   "execution_count": 4,
   "outputs": [],
   "source": [
    "# 查看每道题有多少人做\n",
    "num_list = []\n",
    "for i in range(60):\n",
    "    num = np.sum(~(source_df.iloc[:, i] == -3))\n",
    "    num_list.append(num)"
   ],
   "metadata": {
    "collapsed": false
   }
  },
  {
   "cell_type": "code",
   "execution_count": 5,
   "outputs": [
    {
     "data": {
      "text/plain": "(45, 27, 36.5)"
     },
     "execution_count": 5,
     "metadata": {},
     "output_type": "execute_result"
    }
   ],
   "source": [
    "np.max(num_list), np.min(num_list), np.mean(num_list)"
   ],
   "metadata": {
    "collapsed": false
   }
  },
  {
   "cell_type": "code",
   "execution_count": 6,
   "outputs": [
    {
     "data": {
      "text/plain": "0"
     },
     "execution_count": 6,
     "metadata": {},
     "output_type": "execute_result"
    }
   ],
   "source": [
    "# 查看是否有题没有人做\n",
    "np.sum(np.array(num_list) == 0)"
   ],
   "metadata": {
    "collapsed": false
   }
  },
  {
   "cell_type": "code",
   "execution_count": 19,
   "outputs": [
    {
     "data": {
      "text/plain": "<BarContainer object of 60 artists>"
     },
     "execution_count": 19,
     "metadata": {},
     "output_type": "execute_result"
    },
    {
     "data": {
      "text/plain": "<Figure size 640x480 with 1 Axes>",
      "image/png": "[encoded data removed]"
     },
     "metadata": {},
     "output_type": "display_data"
    }
   ],
   "source": [
    "fig, ax = plt.subplots()\n",
    "ax.bar(range(60), num_list)"
   ],
   "metadata": {
    "collapsed": false
   }
  },
  {
   "cell_type": "code",
   "execution_count": 8,
   "outputs": [],
   "source": [
    "# 计算每道题的概率，即患者有多少可能预测该图是AE\n",
    "# 设概率为预测 AE 的概率\n",
    "predict_AE_prob_list = []\n",
    "for i, num in enumerate(num_list):\n",
    "    predict_AE_num = np.sum(source_df.iloc[:, i] == 2)\n",
    "    predict_AE_prob = predict_AE_num / num\n",
    "    predict_AE_prob_list.append(predict_AE_prob)"
   ],
   "metadata": {
    "collapsed": false
   }
  },
  {
   "cell_type": "code",
   "execution_count": 9,
   "outputs": [
    {
     "name": "stdout",
     "output_type": "stream",
     "text": [
      "60 0.9\n"
     ]
    }
   ],
   "source": [
    "print(len(predict_AE_prob_list), predict_AE_prob_list[0])"
   ],
   "metadata": {
    "collapsed": false
   }
  },
  {
   "cell_type": "code",
   "execution_count": 15,
   "outputs": [
    {
     "data": {
      "text/plain": "0.8972222222222221"
     },
     "execution_count": 15,
     "metadata": {},
     "output_type": "execute_result"
    }
   ],
   "source": [
    "roc_auc_score(answer_list, predict_AE_prob_list)"
   ],
   "metadata": {
    "collapsed": false
   }
  },
  {
   "cell_type": "code",
   "execution_count": 20,
   "outputs": [],
   "source": [
    "mask = predict_AE_prob_list >= 0.5"
   ],
   "metadata": {
    "collapsed": false
   },
   "id": "eef522dc976ab72c"
  },
  {
   "cell_type": "code",
   "execution_count": 33,
   "outputs": [
    {
     "data": {
      "text/plain": "numpy.ndarray"
     },
     "execution_count": 33,
     "metadata": {},
     "output_type": "execute_result"
    }
   ],
   "source": [
    "type(predict_AE_prob_list)"
   ],
   "metadata": {
    "collapsed": false
   }
  },
  {
   "cell_type": "code",
   "execution_count": 30,
   "outputs": [
    {
     "name": "stdout",
     "output_type": "stream",
     "text": [
      "[1. 0. 0. 1. 1. 1. 1. 1. 1. 1. 1. 1. 0. 0. 1. 0. 0. 0. 0. 0. 0. 0. 0. 1.\n",
      " 0. 0. 0. 0. 0. 0. 1. 0. 0. 0. 0. 1. 1. 1. 1. 1. 1. 1. 1. 1. 1. 0. 0. 0.\n",
      " 0. 0. 0. 0. 0. 1. 1. 0. 1. 0. 1. 1.] [ True False False  True  True  True  True  True  True  True  True  True\n",
      " False False  True False False False False False False False False  True\n",
      " False False False False False False  True False False False False  True\n",
      "  True  True  True  True  True  True  True  True  True False False False\n",
      " False False False False False  True  True False  True False  True  True]\n"
     ]
    }
   ],
   "source": [
    "predict_result = np.ones(60)\n",
    "predict_result[mask] = 1\n",
    "predict_result[~mask] = 0\n",
    "print(predict_result, mask)"
   ],
   "metadata": {
    "collapsed": false
   }
  },
  {
   "cell_type": "code",
   "execution_count": 32,
   "outputs": [
    {
     "data": {
      "text/plain": "0.7666666666666667"
     },
     "execution_count": 32,
     "metadata": {},
     "output_type": "execute_result"
    }
   ],
   "source": [
    "accuracy_score(answer_list, predict_result)"
   ],
   "metadata": {
    "collapsed": false
   }
  },
  {
   "cell_type": "code",
   "execution_count": null,
   "outputs": [],
   "source": [],
   "metadata": {
    "collapsed": false
   }
  },
  {
   "cell_type": "code",
   "execution_count": 12,
   "outputs": [],
   "source": [
    "# df = pd.DataFrame(columns=['Label', 'Pred'])\n",
    "# df['Label'] = answer_list\n",
    "# df['Pred'] = predict_AE_prob_list\n",
    "# df.to_csv('./resources/graphpad/inves_prob_2023.csv', index=False)"
   ],
   "metadata": {
    "collapsed": false
   }
  },
  {
   "cell_type": "code",
   "execution_count": null,
   "outputs": [],
   "source": [
    "# 用GraphPad进行验证\n",
    "# answer_list = np.array(answer_list)\n",
    "# predict_AE_prob_list = np.array(predict_AE_prob_list)\n",
    "# roc_auc_score(answer_list, predict_AE_prob_list)\n",
    "# # 取出所有答案为0或1的概率\n",
    "# predict_AE_prob_0 = predict_AE_prob_list[answer_list == 0]\n",
    "# predict_AE_prob_1 = predict_AE_prob_list[answer_list == 1]\n",
    "# len(predict_AE_prob_0), len(predict_AE_prob_1)\n",
    "# df = pd.DataFrame(columns=['0_prob', '1_prob'])\n",
    "# df['0_prob'] = predict_AE_prob_0\n",
    "# df['1_prob'] = predict_AE_prob_1\n",
    "# df.head()\n",
    "# df.to_csv('./resources/source_data/inves_prob_2023.csv', index=False)"
   ],
   "metadata": {
    "collapsed": false,
    "pycharm": {
     "is_executing": true
    }
   }
  }
 ],
 "metadata": {
  "kernelspec": {
   "display_name": "Python 3",
   "language": "python",
   "name": "python3"
  },
  "language_info": {
   "codemirror_mode": {
    "name": "ipython",
    "version": 2
   },
   "file_extension": ".py",
   "mimetype": "text/x-python",
   "name": "python",
   "nbconvert_exporter": "python",
   "pygments_lexer": "ipython2",
   "version": "2.7.6"
  }
 },
 "nbformat": 4,
 "nbformat_minor": 5
}
