{
 "cells": [
  {
   "cell_type": "code",
   "execution_count": 1,
   "id": "initial_id",
   "metadata": {
    "collapsed": true,
    "ExecuteTime": {
     "end_time": "2024-01-09T03:00:09.510696400Z",
     "start_time": "2024-01-09T03:00:08.486184900Z"
    }
   },
   "outputs": [],
   "source": [
    "import numpy as np\n",
    "import pandas as pd\n",
    "import scipy.stats as stats\n",
    "from sklearn.metrics import confusion_matrix, f1_score\n",
    "\n",
    "from draw_figures.open_tools import CalculateAUC"
   ]
  },
  {
   "cell_type": "code",
   "outputs": [],
   "source": [
    "results_path_all = {\n",
    "    'DL_inves': './resources/results/DL/inves_2022_mk.csv',\n",
    "    'DL_test': './resources/results/DL/test.csv',\n",
    "    'DL_val': './resources/results/DL/validation.csv',\n",
    "\n",
    "    'ML_RF_inves': './resources/results/ML/Mean_PCC_KW_24_RF/inves_2023_mk.csv',\n",
    "    'ML_RF_test': './resources/results/ML/Mean_PCC_KW_24_RF/random_test_results_mk.csv',\n",
    "    'ML_RF_val': './resources/results/ML/Mean_PCC_KW_24_RF/random_val_results_mk.csv',\n",
    "\n",
    "    'ML_AE_inves': './resources/results/ML/Zscore_PCC_KW_29_AE/inves_2023_mk.csv',\n",
    "    'ML_AE_test': './resources/results/ML/Zscore_PCC_KW_29_AE/random_test_results_mk.csv',\n",
    "    'ML_AE_val': './resources/results/ML/Zscore_PCC_KW_29_AE/random_val_results_mk.csv',\n",
    "\n",
    "    'External_junior_E': './resources/results/External/junior_E/mk_2022_inves.csv',\n",
    "    'External_junior_NE': './resources/results/External/junior_NE/mk_2022_inves.csv',\n",
    "\n",
    "    'External_middle_E': './resources/results/External/middle_E/mk_2022_inves.csv',\n",
    "    'External_middle_NE': './resources/results/External/middle_NE/mk_2022_inves.csv',\n",
    "\n",
    "    'External_senior_E': './resources/results/External/senior_E/mk_2022_inves.csv',\n",
    "    'External_senior_NE': './resources/results/External/senior_NE/mk_2022_inves.csv',\n",
    "\n",
    "    'outline_SVM_p1': './resources/results/outlines/SVM/val/p1.csv',\n",
    "    'outline_SVM_p2': './resources/results/outlines/SVM/val/p2.csv',\n",
    "    'outline_SVM_p3': './resources/results/outlines/SVM/val/p3.csv',\n",
    "    'outline_SVM_p4': './resources/results/outlines/SVM/val/p4.csv',\n",
    "    'outline_SVM_p5': './resources/results/outlines/SVM/val/p5.csv',\n",
    "    'outline_SVM_p6': './resources/results/outlines/SVM/val/p6.csv',\n",
    "\n",
    "    'outline_ResNet_p1': './resources/results/outlines/ResNet/val/p1.csv',\n",
    "    'outline_ResNet_p2': './resources/results/outlines/ResNet/val/p2.csv',\n",
    "    'outline_ResNet_p3': './resources/results/outlines/ResNet/val/p3.csv',\n",
    "    'outline_ResNet_p4': './resources/results/outlines/ResNet/val/p4.csv',\n",
    "    'outline_ResNet_p5': './resources/results/outlines/ResNet/val/p5.csv',\n",
    "    'outline_ResNet_p6': './resources/results/outlines/ResNet/val/p6.csv',\n",
    "}"
   ],
   "metadata": {
    "collapsed": false,
    "ExecuteTime": {
     "end_time": "2024-01-09T03:00:31.307237200Z",
     "start_time": "2024-01-09T03:00:31.295226600Z"
    }
   },
   "id": "787790a8105d5df1",
   "execution_count": 2
  },
  {
   "cell_type": "code",
   "outputs": [],
   "source": [
    "def clopper_pearson(successes, trials):\n",
    "    alpha = 0.05\n",
    "    lower = stats.beta.ppf(alpha / 2, successes, trials - successes + 1)\n",
    "    upper = stats.beta.ppf(1 - alpha / 2, successes + 1, trials - successes)\n",
    "    return lower, upper"
   ],
   "metadata": {
    "collapsed": false,
    "ExecuteTime": {
     "end_time": "2024-01-09T03:00:36.274023100Z",
     "start_time": "2024-01-09T03:00:36.266044900Z"
    }
   },
   "id": "f474ff3059fa908a",
   "execution_count": 3
  },
  {
   "cell_type": "code",
   "outputs": [],
   "source": [
    "def normal_approximation(successes, trials):\n",
    "    z = 1.96\n",
    "    p = successes / trials if trials != 0 else 0\n",
    "    interval = z * np.sqrt(p * (1 - p) / trials) if trials != 0 else 0\n",
    "    return max(0, p - interval), min(1, p + interval)"
   ],
   "metadata": {
    "collapsed": false,
    "ExecuteTime": {
     "end_time": "2024-01-09T03:00:36.820220800Z",
     "start_time": "2024-01-09T03:00:36.808252400Z"
    }
   },
   "id": "3aa51acc73c5ae4a",
   "execution_count": 4
  },
  {
   "cell_type": "code",
   "outputs": [],
   "source": [
    "def compute_CI(tn, fp, fn, tp, method='clopper_pearson'):\n",
    "    if method == 'clopper_pearson':\n",
    "        sensitivity_CI = clopper_pearson(tp, tp + fn)\n",
    "        specificity_CI = clopper_pearson(tn, tn + fp)\n",
    "        accuracy_CI = clopper_pearson(tp + tn, tp + tn + fp + fn)\n",
    "        ppv_CI = clopper_pearson(tp, tp + fp)\n",
    "        npv_CI = clopper_pearson(tn, tn + fn)\n",
    "    else:\n",
    "        sensitivity_CI = normal_approximation(tp, tp + fn)\n",
    "        specificity_CI = normal_approximation(tn, tn + fp)\n",
    "        accuracy_CI = normal_approximation(tp + tn, tp + tn + fp + fn)\n",
    "        ppv_CI = normal_approximation(tp, tp + fp)\n",
    "        npv_CI = normal_approximation(tn, tn + fn)\n",
    "    return sensitivity_CI, specificity_CI, accuracy_CI, ppv_CI, npv_CI"
   ],
   "metadata": {
    "collapsed": false,
    "ExecuteTime": {
     "end_time": "2024-01-09T03:00:47.840738Z",
     "start_time": "2024-01-09T03:00:47.824759800Z"
    }
   },
   "id": "1a852b406132ab19",
   "execution_count": 5
  },
  {
   "cell_type": "code",
   "outputs": [],
   "source": [
    "def get_diagnosis_performance(res_path, method='clopper_pearson'):\n",
    "    if type(res_path) == str:\n",
    "        df = pd.read_csv(res_path)\n",
    "    else:\n",
    "        df = res_path\n",
    "    y_true = df['Label']\n",
    "    y_score = df['Score']\n",
    "    y_pred = np.where(y_score >= 0.5, 1, 0)\n",
    "\n",
    "    tn, fp, fn, tp = confusion_matrix(y_true, y_pred).ravel()\n",
    "\n",
    "    # 计算指标\n",
    "    sensitivity = tp / (tp + fn)\n",
    "    specificity = tn / (tn + fp)\n",
    "    accuracy = (tp + tn) / (tp + tn + fp + fn)\n",
    "    ppv = tp / (tp + fp)\n",
    "    npv = tn / (tn + fn)\n",
    "    sensitivity_CI, specificity_CI, accuracy_CI, ppv_CI, npv_CI = compute_CI(tn, fp, fn, tp, method)\n",
    "    f1Score = f1_score(y_true, y_pred)\n",
    "\n",
    "    auc, std_, auc_ci = CalculateAUC(y_true, y_score)\n",
    "\n",
    "    return sensitivity, specificity, accuracy, ppv, npv, sensitivity_CI, specificity_CI, accuracy_CI, ppv_CI, npv_CI, f1Score, auc, auc_ci"
   ],
   "metadata": {
    "collapsed": false,
    "ExecuteTime": {
     "end_time": "2024-01-09T03:01:08.477604900Z",
     "start_time": "2024-01-09T03:01:08.450674800Z"
    }
   },
   "id": "1e7b933b30b2d1e4",
   "execution_count": 6
  },
  {
   "cell_type": "code",
   "outputs": [],
   "source": [
    "def get_printed_results(value, low=None, high=None):\n",
    "    if low is not None:\n",
    "        return f'{value:.3f}\\n({low:.3f}-{high:.3f})'\n",
    "    else:\n",
    "        return f'{value:.3f}'"
   ],
   "metadata": {
    "collapsed": false,
    "ExecuteTime": {
     "end_time": "2024-01-09T03:01:12.460533300Z",
     "start_time": "2024-01-09T03:01:12.443519300Z"
    }
   },
   "id": "56b130f1815174da",
   "execution_count": 7
  },
  {
   "cell_type": "code",
   "outputs": [],
   "source": [
    "results_all = {\n",
    "    'Sen_(95% CI)': [],\n",
    "    'Spe_(95% CI)': [],\n",
    "    'Acc_(95% CI)': [],\n",
    "    'PPV_(95% CI)': [],\n",
    "    'NPV_(95% CI)': [],\n",
    "    'F1_score': [],\n",
    "    'AUC_(95% CI)': [],\n",
    "}"
   ],
   "metadata": {
    "collapsed": false,
    "ExecuteTime": {
     "end_time": "2024-01-09T03:01:17.289132700Z",
     "start_time": "2024-01-09T03:01:17.281080100Z"
    }
   },
   "id": "4daebd4e1d0e47ae",
   "execution_count": 8
  },
  {
   "cell_type": "code",
   "outputs": [],
   "source": [
    "indices = ['DL_val', 'ML_RF_val', 'ML_AE_val', 'DL_test', 'ML_RF_test', 'ML_AE_test', 'DL_inves', 'ML_RF_inves',\n",
    "           'ML_AE_inves']"
   ],
   "metadata": {
    "collapsed": false,
    "ExecuteTime": {
     "end_time": "2024-01-05T02:36:21.214102700Z",
     "start_time": "2024-01-05T02:36:21.182507Z"
    }
   },
   "id": "54b30c8839fe9e92",
   "execution_count": 77
  },
  {
   "cell_type": "code",
   "outputs": [],
   "source": [
    "for index in indices:\n",
    "    res_path = results_path_all[index]\n",
    "\n",
    "    if 'inves' in index:\n",
    "        method = 'clopper_pearson'\n",
    "    else:\n",
    "        method = 'normal_approximation'\n",
    "\n",
    "    sensitivity, specificity, accuracy, ppv, npv, sensitivity_CI, specificity_CI, accuracy_CI, ppv_CI, npv_CI, f1Score, auc, auc_ci = get_diagnosis_performance(\n",
    "        res_path, method=method)\n",
    "    results_all['Sen_(95% CI)'].append(get_printed_results(sensitivity, sensitivity_CI[0], sensitivity_CI[1]))\n",
    "    results_all['Spe_(95% CI)'].append(get_printed_results(specificity, specificity_CI[0], specificity_CI[1]))\n",
    "    results_all['Acc_(95% CI)'].append(get_printed_results(accuracy, accuracy_CI[0], accuracy_CI[1]))\n",
    "    results_all['PPV_(95% CI)'].append(get_printed_results(ppv, ppv_CI[0], ppv_CI[1]))\n",
    "    results_all['NPV_(95% CI)'].append(get_printed_results(npv, npv_CI[0], npv_CI[1]))\n",
    "    results_all['F1_score'].append(get_printed_results(f1Score))\n",
    "    results_all['AUC_(95% CI)'].append(get_printed_results(auc, auc_ci[0], auc_ci[1]))"
   ],
   "metadata": {
    "collapsed": false,
    "ExecuteTime": {
     "end_time": "2024-01-05T02:36:21.797820200Z",
     "start_time": "2024-01-05T02:36:21.667158Z"
    }
   },
   "id": "fbff8a24374c9c01",
   "execution_count": 78
  },
  {
   "cell_type": "code",
   "outputs": [],
   "source": [
    "results_all_df = pd.DataFrame(results_all, index=indices)"
   ],
   "metadata": {
    "collapsed": false,
    "ExecuteTime": {
     "end_time": "2024-01-05T02:37:00.607453500Z",
     "start_time": "2024-01-05T02:37:00.592549300Z"
    }
   },
   "id": "c53791db007d9329",
   "execution_count": 80
  },
  {
   "cell_type": "code",
   "outputs": [
    {
     "data": {
      "text/plain": "                     Sen_(95% CI)          Spe_(95% CI)          Acc_(95% CI)  \\\nDL_val       0.859\\n(0.846-0.872)  0.792\\n(0.773-0.811)  0.834\\n(0.823-0.845)   \nML_RF_val    0.893\\n(0.881-0.904)  0.646\\n(0.623-0.668)  0.800\\n(0.788-0.811)   \nML_AE_val    0.897\\n(0.886-0.908)  0.665\\n(0.642-0.687)  0.810\\n(0.799-0.821)   \nDL_test      0.863\\n(0.851-0.876)  0.810\\n(0.792-0.829)  0.844\\n(0.834-0.854)   \nML_RF_test   0.893\\n(0.882-0.904)  0.672\\n(0.649-0.694)  0.813\\n(0.802-0.824)   \nML_AE_test   0.876\\n(0.864-0.888)  0.693\\n(0.671-0.715)  0.810\\n(0.799-0.821)   \nDL_inves     0.767\\n(0.577-0.901)  0.967\\n(0.828-0.999)  0.867\\n(0.754-0.941)   \nML_RF_inves  0.867\\n(0.693-0.962)  0.833\\n(0.653-0.944)  0.850\\n(0.734-0.929)   \nML_AE_inves  0.900\\n(0.735-0.979)  0.767\\n(0.577-0.901)  0.833\\n(0.715-0.917)   \n\n                     PPV_(95% CI)          NPV_(95% CI) F1_score  \\\nDL_val       0.873\\n(0.861-0.885)  0.772\\n(0.752-0.791)    0.866   \nML_RF_val    0.807\\n(0.793-0.821)  0.783\\n(0.762-0.805)    0.848   \nML_AE_val    0.816\\n(0.803-0.830)  0.796\\n(0.775-0.816)    0.855   \nDL_test      0.889\\n(0.877-0.900)  0.771\\n(0.752-0.791)    0.876   \nML_RF_test   0.827\\n(0.814-0.840)  0.782\\n(0.761-0.803)    0.859   \nML_AE_test   0.834\\n(0.821-0.847)  0.761\\n(0.740-0.782)    0.854   \nDL_inves     0.958\\n(0.789-0.999)  0.806\\n(0.640-0.918)    0.852   \nML_RF_inves  0.839\\n(0.663-0.945)  0.862\\n(0.683-0.961)    0.852   \nML_AE_inves  0.794\\n(0.621-0.913)  0.885\\n(0.698-0.976)    0.844   \n\n                     AUC_(95% CI)  \nDL_val       0.912\\n(0.903-0.920)  \nML_RF_val    0.873\\n(0.863-0.883)  \nML_AE_val    0.877\\n(0.867-0.887)  \nDL_test      0.907\\n(0.898-0.916)  \nML_RF_test   0.871\\n(0.861-0.881)  \nML_AE_test   0.867\\n(0.857-0.878)  \nDL_inves     0.974\\n(0.942-1.000)  \nML_RF_inves  0.904\\n(0.821-0.988)  \nML_AE_inves  0.932\\n(0.871-0.993)  ",
      "text/html": "<div>\n<style scoped>\n    .dataframe tbody tr th:only-of-type {\n        vertical-align: middle;\n    }\n\n    .dataframe tbody tr th {\n        vertical-align: top;\n    }\n\n    .dataframe thead th {\n        text-align: right;\n    }\n</style>\n<table border=\"1\" class=\"dataframe\">\n  <thead>\n    <tr style=\"text-align: right;\">\n      <th></th>\n      <th>Sen_(95% CI)</th>\n      <th>Spe_(95% CI)</th>\n      <th>Acc_(95% CI)</th>\n      <th>PPV_(95% CI)</th>\n      <th>NPV_(95% CI)</th>\n      <th>F1_score</th>\n      <th>AUC_(95% CI)</th>\n    </tr>\n  </thead>\n  <tbody>\n    <tr>\n      <th>DL_val</th>\n      <td>0.859\\n(0.846-0.872)</td>\n      <td>0.792\\n(0.773-0.811)</td>\n      <td>0.834\\n(0.823-0.845)</td>\n      <td>0.873\\n(0.861-0.885)</td>\n      <td>0.772\\n(0.752-0.791)</td>\n      <td>0.866</td>\n      <td>0.912\\n(0.903-0.920)</td>\n    </tr>\n    <tr>\n      <th>ML_RF_val</th>\n      <td>0.893\\n(0.881-0.904)</td>\n      <td>0.646\\n(0.623-0.668)</td>\n      <td>0.800\\n(0.788-0.811)</td>\n      <td>0.807\\n(0.793-0.821)</td>\n      <td>0.783\\n(0.762-0.805)</td>\n      <td>0.848</td>\n      <td>0.873\\n(0.863-0.883)</td>\n    </tr>\n    <tr>\n      <th>ML_AE_val</th>\n      <td>0.897\\n(0.886-0.908)</td>\n      <td>0.665\\n(0.642-0.687)</td>\n      <td>0.810\\n(0.799-0.821)</td>\n      <td>0.816\\n(0.803-0.830)</td>\n      <td>0.796\\n(0.775-0.816)</td>\n      <td>0.855</td>\n      <td>0.877\\n(0.867-0.887)</td>\n    </tr>\n    <tr>\n      <th>DL_test</th>\n      <td>0.863\\n(0.851-0.876)</td>\n      <td>0.810\\n(0.792-0.829)</td>\n      <td>0.844\\n(0.834-0.854)</td>\n      <td>0.889\\n(0.877-0.900)</td>\n      <td>0.771\\n(0.752-0.791)</td>\n      <td>0.876</td>\n      <td>0.907\\n(0.898-0.916)</td>\n    </tr>\n    <tr>\n      <th>ML_RF_test</th>\n      <td>0.893\\n(0.882-0.904)</td>\n      <td>0.672\\n(0.649-0.694)</td>\n      <td>0.813\\n(0.802-0.824)</td>\n      <td>0.827\\n(0.814-0.840)</td>\n      <td>0.782\\n(0.761-0.803)</td>\n      <td>0.859</td>\n      <td>0.871\\n(0.861-0.881)</td>\n    </tr>\n    <tr>\n      <th>ML_AE_test</th>\n      <td>0.876\\n(0.864-0.888)</td>\n      <td>0.693\\n(0.671-0.715)</td>\n      <td>0.810\\n(0.799-0.821)</td>\n      <td>0.834\\n(0.821-0.847)</td>\n      <td>0.761\\n(0.740-0.782)</td>\n      <td>0.854</td>\n      <td>0.867\\n(0.857-0.878)</td>\n    </tr>\n    <tr>\n      <th>DL_inves</th>\n      <td>0.767\\n(0.577-0.901)</td>\n      <td>0.967\\n(0.828-0.999)</td>\n      <td>0.867\\n(0.754-0.941)</td>\n      <td>0.958\\n(0.789-0.999)</td>\n      <td>0.806\\n(0.640-0.918)</td>\n      <td>0.852</td>\n      <td>0.974\\n(0.942-1.000)</td>\n    </tr>\n    <tr>\n      <th>ML_RF_inves</th>\n      <td>0.867\\n(0.693-0.962)</td>\n      <td>0.833\\n(0.653-0.944)</td>\n      <td>0.850\\n(0.734-0.929)</td>\n      <td>0.839\\n(0.663-0.945)</td>\n      <td>0.862\\n(0.683-0.961)</td>\n      <td>0.852</td>\n      <td>0.904\\n(0.821-0.988)</td>\n    </tr>\n    <tr>\n      <th>ML_AE_inves</th>\n      <td>0.900\\n(0.735-0.979)</td>\n      <td>0.767\\n(0.577-0.901)</td>\n      <td>0.833\\n(0.715-0.917)</td>\n      <td>0.794\\n(0.621-0.913)</td>\n      <td>0.885\\n(0.698-0.976)</td>\n      <td>0.844</td>\n      <td>0.932\\n(0.871-0.993)</td>\n    </tr>\n  </tbody>\n</table>\n</div>"
     },
     "execution_count": 81,
     "metadata": {},
     "output_type": "execute_result"
    }
   ],
   "source": [
    "results_all_df"
   ],
   "metadata": {
    "collapsed": false,
    "ExecuteTime": {
     "end_time": "2024-01-05T02:37:04.155502900Z",
     "start_time": "2024-01-05T02:37:04.108012100Z"
    }
   },
   "id": "74daeea0aa545d73",
   "execution_count": 81
  },
  {
   "cell_type": "code",
   "outputs": [],
   "source": [
    "results_all_df.to_csv('./resources/results/results_all_models.csv')"
   ],
   "metadata": {
    "collapsed": false,
    "ExecuteTime": {
     "end_time": "2024-01-05T02:42:38.848060800Z",
     "start_time": "2024-01-05T02:42:38.829638800Z"
    }
   },
   "id": "5c60a27ed4af6d66",
   "execution_count": 85
  },
  {
   "cell_type": "markdown",
   "source": [
    "### 真人组的混淆矩阵"
   ],
   "metadata": {
    "collapsed": false
   },
   "id": "60cc5e22ed566bdc"
  },
  {
   "cell_type": "code",
   "outputs": [],
   "source": [
    "indices = ['All_Mean_radiologists', 'External_senior_E', 'External_middle_E', 'External_junior_E', 'Mean_HEA',\n",
    "           'External_senior_NE', 'External_middle_NE', 'External_junior_NE', 'Mean_LEA']\n",
    "results_all = {\n",
    "    'Sen_(95% CI)': [],\n",
    "    'Spe_(95% CI)': [],\n",
    "    'Acc_(95% CI)': [],\n",
    "    'PPV_(95% CI)': [],\n",
    "    'NPV_(95% CI)': [],\n",
    "    'F1_score': [],\n",
    "    'AUC_(95% CI)': [],\n",
    "}"
   ],
   "metadata": {
    "collapsed": false,
    "ExecuteTime": {
     "end_time": "2024-01-05T04:40:23.335587900Z",
     "start_time": "2024-01-05T04:40:23.321256300Z"
    }
   },
   "id": "2ce7cbc1b7ed028",
   "execution_count": 116
  },
  {
   "cell_type": "code",
   "outputs": [],
   "source": [
    "for index in indices:\n",
    "    if 'Mean' not in index:\n",
    "        method = 'clopper_pearson'\n",
    "        res_path = results_path_all[index]\n",
    "    else:\n",
    "        method = 'normal_approximation'\n",
    "        if 'All_Mean_radiologists' == index:\n",
    "            res_path = pd.concat([pd.read_csv(results_path_all['External_senior_E']),\n",
    "                                  pd.read_csv(results_path_all['External_middle_E']),\n",
    "                                  pd.read_csv(results_path_all['External_junior_E']),\n",
    "                                  pd.read_csv(results_path_all['External_senior_NE']),\n",
    "                                  pd.read_csv(results_path_all['External_middle_NE']),\n",
    "                                  pd.read_csv(results_path_all['External_junior_NE'])\n",
    "                                  ], ignore_index=True)\n",
    "        elif 'Mean_HEA' == index:\n",
    "            res_path = pd.concat([pd.read_csv(results_path_all['External_senior_E']),\n",
    "                                  pd.read_csv(results_path_all['External_middle_E']),\n",
    "                                  pd.read_csv(results_path_all['External_junior_E']),\n",
    "                                  ], ignore_index=True)\n",
    "        elif 'Mean_LEA' == index:\n",
    "            res_path = pd.concat([pd.read_csv(results_path_all['External_senior_NE']),\n",
    "                                  pd.read_csv(results_path_all['External_middle_NE']),\n",
    "                                  pd.read_csv(results_path_all['External_junior_NE'])\n",
    "                                  ], ignore_index=True)\n",
    "        else:\n",
    "            raise ValueError(f'Wrong index! {index}')\n",
    "\n",
    "    sensitivity, specificity, accuracy, ppv, npv, sensitivity_CI, specificity_CI, accuracy_CI, ppv_CI, npv_CI, f1Score, auc, auc_ci = get_diagnosis_performance(\n",
    "        res_path, method=method)\n",
    "    results_all['Sen_(95% CI)'].append(get_printed_results(sensitivity, sensitivity_CI[0], sensitivity_CI[1]))\n",
    "    results_all['Spe_(95% CI)'].append(get_printed_results(specificity, specificity_CI[0], specificity_CI[1]))\n",
    "    results_all['Acc_(95% CI)'].append(get_printed_results(accuracy, accuracy_CI[0], accuracy_CI[1]))\n",
    "    results_all['PPV_(95% CI)'].append(get_printed_results(ppv, ppv_CI[0], ppv_CI[1]))\n",
    "    results_all['NPV_(95% CI)'].append(get_printed_results(npv, npv_CI[0], npv_CI[1]))\n",
    "    results_all['F1_score'].append(get_printed_results(f1Score))\n",
    "    results_all['AUC_(95% CI)'].append(get_printed_results(auc, auc_ci[0], auc_ci[1]))"
   ],
   "metadata": {
    "collapsed": false,
    "ExecuteTime": {
     "end_time": "2024-01-05T04:40:24.202637900Z",
     "start_time": "2024-01-05T04:40:24.133962300Z"
    }
   },
   "id": "fe6bdccd8dd1b84e",
   "execution_count": 117
  },
  {
   "cell_type": "code",
   "outputs": [
    {
     "data": {
      "text/plain": "                               Sen_(95% CI)          Spe_(95% CI)  \\\nAll_Mean_radiologists  0.833\\n(0.779-0.888)  0.617\\n(0.546-0.688)   \nExternal_senior_E      0.900\\n(0.735-0.979)  0.767\\n(0.577-0.901)   \nExternal_middle_E      0.800\\n(0.614-0.923)  0.667\\n(0.472-0.827)   \nExternal_junior_E      0.800\\n(0.614-0.923)  0.533\\n(0.343-0.717)   \nMean_HEA               0.833\\n(0.756-0.910)  0.656\\n(0.557-0.754)   \nExternal_senior_NE     0.833\\n(0.653-0.944)  0.667\\n(0.472-0.827)   \nExternal_middle_NE     0.833\\n(0.653-0.944)  0.600\\n(0.406-0.773)   \nExternal_junior_NE     0.833\\n(0.653-0.944)  0.467\\n(0.283-0.657)   \nMean_LEA               0.833\\n(0.756-0.910)  0.578\\n(0.476-0.680)   \n\n                               Acc_(95% CI)          PPV_(95% CI)  \\\nAll_Mean_radiologists  0.725\\n(0.679-0.771)  0.685\\n(0.623-0.746)   \nExternal_senior_E      0.833\\n(0.715-0.917)  0.794\\n(0.621-0.913)   \nExternal_middle_E      0.733\\n(0.603-0.839)  0.706\\n(0.525-0.849)   \nExternal_junior_E      0.667\\n(0.533-0.783)  0.632\\n(0.460-0.782)   \nMean_HEA               0.744\\n(0.681-0.808)  0.708\\n(0.621-0.794)   \nExternal_senior_NE     0.750\\n(0.621-0.853)  0.714\\n(0.537-0.854)   \nExternal_middle_NE     0.717\\n(0.586-0.825)  0.676\\n(0.502-0.820)   \nExternal_junior_NE     0.650\\n(0.516-0.769)  0.610\\n(0.445-0.758)   \nMean_LEA               0.706\\n(0.639-0.772)  0.664\\n(0.577-0.751)   \n\n                               NPV_(95% CI) F1_score          AUC_(95% CI)  \nAll_Mean_radiologists  0.787\\n(0.720-0.855)    0.752  0.795\\n(0.750-0.840)  \nExternal_senior_E      0.885\\n(0.698-0.976)    0.844  0.886\\n(0.801-0.971)  \nExternal_middle_E      0.769\\n(0.564-0.910)    0.750  0.817\\n(0.708-0.926)  \nExternal_junior_E      0.727\\n(0.498-0.893)    0.706  0.748\\n(0.624-0.873)  \nMean_HEA               0.797\\n(0.706-0.889)    0.765  0.815\\n(0.753-0.877)  \nExternal_senior_NE     0.800\\n(0.593-0.932)    0.769  0.814\\n(0.707-0.921)  \nExternal_middle_NE     0.783\\n(0.563-0.925)    0.746  0.778\\n(0.659-0.896)  \nExternal_junior_NE     0.737\\n(0.488-0.909)    0.704  0.734\\n(0.608-0.861)  \nMean_LEA               0.776\\n(0.676-0.876)    0.739  0.776\\n(0.710-0.842)  ",
      "text/html": "<div>\n<style scoped>\n    .dataframe tbody tr th:only-of-type {\n        vertical-align: middle;\n    }\n\n    .dataframe tbody tr th {\n        vertical-align: top;\n    }\n\n    .dataframe thead th {\n        text-align: right;\n    }\n</style>\n<table border=\"1\" class=\"dataframe\">\n  <thead>\n    <tr style=\"text-align: right;\">\n      <th></th>\n      <th>Sen_(95% CI)</th>\n      <th>Spe_(95% CI)</th>\n      <th>Acc_(95% CI)</th>\n      <th>PPV_(95% CI)</th>\n      <th>NPV_(95% CI)</th>\n      <th>F1_score</th>\n      <th>AUC_(95% CI)</th>\n    </tr>\n  </thead>\n  <tbody>\n    <tr>\n      <th>All_Mean_radiologists</th>\n      <td>0.833\\n(0.779-0.888)</td>\n      <td>0.617\\n(0.546-0.688)</td>\n      <td>0.725\\n(0.679-0.771)</td>\n      <td>0.685\\n(0.623-0.746)</td>\n      <td>0.787\\n(0.720-0.855)</td>\n      <td>0.752</td>\n      <td>0.795\\n(0.750-0.840)</td>\n    </tr>\n    <tr>\n      <th>External_senior_E</th>\n      <td>0.900\\n(0.735-0.979)</td>\n      <td>0.767\\n(0.577-0.901)</td>\n      <td>0.833\\n(0.715-0.917)</td>\n      <td>0.794\\n(0.621-0.913)</td>\n      <td>0.885\\n(0.698-0.976)</td>\n      <td>0.844</td>\n      <td>0.886\\n(0.801-0.971)</td>\n    </tr>\n    <tr>\n      <th>External_middle_E</th>\n      <td>0.800\\n(0.614-0.923)</td>\n      <td>0.667\\n(0.472-0.827)</td>\n      <td>0.733\\n(0.603-0.839)</td>\n      <td>0.706\\n(0.525-0.849)</td>\n      <td>0.769\\n(0.564-0.910)</td>\n      <td>0.750</td>\n      <td>0.817\\n(0.708-0.926)</td>\n    </tr>\n    <tr>\n      <th>External_junior_E</th>\n      <td>0.800\\n(0.614-0.923)</td>\n      <td>0.533\\n(0.343-0.717)</td>\n      <td>0.667\\n(0.533-0.783)</td>\n      <td>0.632\\n(0.460-0.782)</td>\n      <td>0.727\\n(0.498-0.893)</td>\n      <td>0.706</td>\n      <td>0.748\\n(0.624-0.873)</td>\n    </tr>\n    <tr>\n      <th>Mean_HEA</th>\n      <td>0.833\\n(0.756-0.910)</td>\n      <td>0.656\\n(0.557-0.754)</td>\n      <td>0.744\\n(0.681-0.808)</td>\n      <td>0.708\\n(0.621-0.794)</td>\n      <td>0.797\\n(0.706-0.889)</td>\n      <td>0.765</td>\n      <td>0.815\\n(0.753-0.877)</td>\n    </tr>\n    <tr>\n      <th>External_senior_NE</th>\n      <td>0.833\\n(0.653-0.944)</td>\n      <td>0.667\\n(0.472-0.827)</td>\n      <td>0.750\\n(0.621-0.853)</td>\n      <td>0.714\\n(0.537-0.854)</td>\n      <td>0.800\\n(0.593-0.932)</td>\n      <td>0.769</td>\n      <td>0.814\\n(0.707-0.921)</td>\n    </tr>\n    <tr>\n      <th>External_middle_NE</th>\n      <td>0.833\\n(0.653-0.944)</td>\n      <td>0.600\\n(0.406-0.773)</td>\n      <td>0.717\\n(0.586-0.825)</td>\n      <td>0.676\\n(0.502-0.820)</td>\n      <td>0.783\\n(0.563-0.925)</td>\n      <td>0.746</td>\n      <td>0.778\\n(0.659-0.896)</td>\n    </tr>\n    <tr>\n      <th>External_junior_NE</th>\n      <td>0.833\\n(0.653-0.944)</td>\n      <td>0.467\\n(0.283-0.657)</td>\n      <td>0.650\\n(0.516-0.769)</td>\n      <td>0.610\\n(0.445-0.758)</td>\n      <td>0.737\\n(0.488-0.909)</td>\n      <td>0.704</td>\n      <td>0.734\\n(0.608-0.861)</td>\n    </tr>\n    <tr>\n      <th>Mean_LEA</th>\n      <td>0.833\\n(0.756-0.910)</td>\n      <td>0.578\\n(0.476-0.680)</td>\n      <td>0.706\\n(0.639-0.772)</td>\n      <td>0.664\\n(0.577-0.751)</td>\n      <td>0.776\\n(0.676-0.876)</td>\n      <td>0.739</td>\n      <td>0.776\\n(0.710-0.842)</td>\n    </tr>\n  </tbody>\n</table>\n</div>"
     },
     "execution_count": 118,
     "metadata": {},
     "output_type": "execute_result"
    }
   ],
   "source": [
    "results_all_df = pd.DataFrame(results_all, index=indices)\n",
    "results_all_df"
   ],
   "metadata": {
    "collapsed": false,
    "ExecuteTime": {
     "end_time": "2024-01-05T04:40:25.015353900Z",
     "start_time": "2024-01-05T04:40:24.987615400Z"
    }
   },
   "id": "6b03fa3316ebf476",
   "execution_count": 118
  },
  {
   "cell_type": "code",
   "outputs": [],
   "source": [
    "results_all_df.to_csv('./resources/results/results_all_radiologists.csv')"
   ],
   "metadata": {
    "collapsed": false,
    "ExecuteTime": {
     "end_time": "2024-01-05T04:42:32.349067600Z",
     "start_time": "2024-01-05T04:42:32.316575200Z"
    }
   },
   "id": "67804f03539a0a7a",
   "execution_count": 119
  },
  {
   "cell_type": "markdown",
   "source": [
    "### 不同勾画者的混淆矩阵"
   ],
   "metadata": {
    "collapsed": false
   },
   "id": "5b2400c71f660554"
  },
  {
   "cell_type": "code",
   "outputs": [],
   "source": [
    "indices = ['outline_SVM_p1', 'outline_SVM_p2', 'outline_SVM_p3', 'outline_SVM_p4', 'outline_SVM_p5', 'outline_SVM_p6',\n",
    "           'outline_ResNet_p1', 'outline_ResNet_p2', 'outline_ResNet_p3', 'outline_ResNet_p4', 'outline_ResNet_p5',\n",
    "           'outline_ResNet_p6']\n",
    "results_all = {\n",
    "    'Sen_(95% CI)': [],\n",
    "    'Spe_(95% CI)': [],\n",
    "    'Acc_(95% CI)': [],\n",
    "    'PPV_(95% CI)': [],\n",
    "    'NPV_(95% CI)': [],\n",
    "    'F1_score': [],\n",
    "    'AUC_(95% CI)': [],\n",
    "}"
   ],
   "metadata": {
    "collapsed": false,
    "ExecuteTime": {
     "end_time": "2024-01-09T03:04:04.379732700Z",
     "start_time": "2024-01-09T03:04:04.360269600Z"
    }
   },
   "id": "2c06f2ffb2db8d08",
   "execution_count": 9
  },
  {
   "cell_type": "code",
   "outputs": [],
   "source": [
    "for index in indices:\n",
    "    method = 'normal_approximation'\n",
    "    res_path = pd.read_csv(results_path_all[index])\n",
    "\n",
    "    sensitivity, specificity, accuracy, ppv, npv, sensitivity_CI, specificity_CI, accuracy_CI, ppv_CI, npv_CI, f1Score, auc, auc_ci = get_diagnosis_performance(\n",
    "        res_path, method=method)\n",
    "    results_all['Sen_(95% CI)'].append(get_printed_results(sensitivity, sensitivity_CI[0], sensitivity_CI[1]))\n",
    "    results_all['Spe_(95% CI)'].append(get_printed_results(specificity, specificity_CI[0], specificity_CI[1]))\n",
    "    results_all['Acc_(95% CI)'].append(get_printed_results(accuracy, accuracy_CI[0], accuracy_CI[1]))\n",
    "    results_all['PPV_(95% CI)'].append(get_printed_results(ppv, ppv_CI[0], ppv_CI[1]))\n",
    "    results_all['NPV_(95% CI)'].append(get_printed_results(npv, npv_CI[0], npv_CI[1]))\n",
    "    results_all['F1_score'].append(get_printed_results(f1Score))\n",
    "    results_all['AUC_(95% CI)'].append(get_printed_results(auc, auc_ci[0], auc_ci[1]))"
   ],
   "metadata": {
    "collapsed": false,
    "ExecuteTime": {
     "end_time": "2024-01-09T03:05:52.413359700Z",
     "start_time": "2024-01-09T03:05:52.300741100Z"
    }
   },
   "id": "ac6cf0864c7b9453",
   "execution_count": 10
  },
  {
   "cell_type": "code",
   "outputs": [
    {
     "data": {
      "text/plain": "                           Sen_(95% CI)          Spe_(95% CI)  \\\noutline_SVM_p1     0.856\\n(0.825-0.887)  0.490\\n(0.446-0.534)   \noutline_SVM_p2     0.854\\n(0.823-0.885)  0.484\\n(0.440-0.528)   \noutline_SVM_p3     0.854\\n(0.823-0.885)  0.486\\n(0.442-0.530)   \noutline_SVM_p4     0.880\\n(0.852-0.908)  0.506\\n(0.462-0.550)   \noutline_SVM_p5     0.864\\n(0.834-0.894)  0.522\\n(0.478-0.566)   \noutline_SVM_p6     0.852\\n(0.821-0.883)  0.492\\n(0.448-0.536)   \noutline_ResNet_p1  0.930\\n(0.908-0.952)  0.660\\n(0.618-0.702)   \noutline_ResNet_p2  0.928\\n(0.905-0.951)  0.648\\n(0.606-0.690)   \noutline_ResNet_p3  0.914\\n(0.889-0.939)  0.646\\n(0.604-0.688)   \noutline_ResNet_p4  0.950\\n(0.931-0.969)  0.678\\n(0.637-0.719)   \noutline_ResNet_p5  0.914\\n(0.889-0.939)  0.664\\n(0.623-0.705)   \noutline_ResNet_p6  0.910\\n(0.885-0.935)  0.650\\n(0.608-0.692)   \n\n                           Acc_(95% CI)          PPV_(95% CI)  \\\noutline_SVM_p1     0.673\\n(0.644-0.702)  0.627\\n(0.590-0.663)   \noutline_SVM_p2     0.669\\n(0.640-0.698)  0.623\\n(0.587-0.660)   \noutline_SVM_p3     0.670\\n(0.641-0.699)  0.624\\n(0.588-0.661)   \noutline_SVM_p4     0.693\\n(0.664-0.722)  0.640\\n(0.605-0.676)   \noutline_SVM_p5     0.693\\n(0.664-0.722)  0.644\\n(0.608-0.680)   \noutline_SVM_p6     0.672\\n(0.643-0.701)  0.626\\n(0.590-0.663)   \noutline_ResNet_p1  0.795\\n(0.770-0.820)  0.732\\n(0.698-0.767)   \noutline_ResNet_p2  0.788\\n(0.763-0.813)  0.725\\n(0.690-0.760)   \noutline_ResNet_p3  0.780\\n(0.754-0.806)  0.721\\n(0.686-0.756)   \noutline_ResNet_p4  0.814\\n(0.790-0.838)  0.747\\n(0.713-0.781)   \noutline_ResNet_p5  0.789\\n(0.764-0.814)  0.731\\n(0.696-0.766)   \noutline_ResNet_p6  0.780\\n(0.754-0.806)  0.722\\n(0.687-0.757)   \n\n                           NPV_(95% CI) F1_score          AUC_(95% CI)  \noutline_SVM_p1     0.773\\n(0.727-0.819)    0.724  0.799\\n(0.772-0.826)  \noutline_SVM_p2     0.768\\n(0.722-0.815)    0.721  0.793\\n(0.766-0.821)  \noutline_SVM_p3     0.769\\n(0.723-0.815)    0.721  0.799\\n(0.772-0.826)  \noutline_SVM_p4     0.808\\n(0.765-0.852)    0.741  0.814\\n(0.788-0.840)  \noutline_SVM_p5     0.793\\n(0.750-0.837)    0.738  0.804\\n(0.778-0.831)  \noutline_SVM_p6     0.769\\n(0.723-0.815)    0.722  0.808\\n(0.781-0.834)  \noutline_ResNet_p1  0.904\\n(0.874-0.934)    0.819  0.894\\n(0.875-0.913)  \noutline_ResNet_p2  0.900\\n(0.869-0.931)    0.814  0.897\\n(0.878-0.916)  \noutline_ResNet_p3  0.883\\n(0.850-0.916)    0.806  0.887\\n(0.867-0.906)  \noutline_ResNet_p4  0.931\\n(0.905-0.957)    0.836  0.913\\n(0.896-0.930)  \noutline_ResNet_p5  0.885\\n(0.853-0.918)    0.812  0.888\\n(0.868-0.908)  \noutline_ResNet_p6  0.878\\n(0.845-0.912)    0.805  0.888\\n(0.868-0.908)  ",
      "text/html": "<div>\n<style scoped>\n    .dataframe tbody tr th:only-of-type {\n        vertical-align: middle;\n    }\n\n    .dataframe tbody tr th {\n        vertical-align: top;\n    }\n\n    .dataframe thead th {\n        text-align: right;\n    }\n</style>\n<table border=\"1\" class=\"dataframe\">\n  <thead>\n    <tr style=\"text-align: right;\">\n      <th></th>\n      <th>Sen_(95% CI)</th>\n      <th>Spe_(95% CI)</th>\n      <th>Acc_(95% CI)</th>\n      <th>PPV_(95% CI)</th>\n      <th>NPV_(95% CI)</th>\n      <th>F1_score</th>\n      <th>AUC_(95% CI)</th>\n    </tr>\n  </thead>\n  <tbody>\n    <tr>\n      <th>outline_SVM_p1</th>\n      <td>0.856\\n(0.825-0.887)</td>\n      <td>0.490\\n(0.446-0.534)</td>\n      <td>0.673\\n(0.644-0.702)</td>\n      <td>0.627\\n(0.590-0.663)</td>\n      <td>0.773\\n(0.727-0.819)</td>\n      <td>0.724</td>\n      <td>0.799\\n(0.772-0.826)</td>\n    </tr>\n    <tr>\n      <th>outline_SVM_p2</th>\n      <td>0.854\\n(0.823-0.885)</td>\n      <td>0.484\\n(0.440-0.528)</td>\n      <td>0.669\\n(0.640-0.698)</td>\n      <td>0.623\\n(0.587-0.660)</td>\n      <td>0.768\\n(0.722-0.815)</td>\n      <td>0.721</td>\n      <td>0.793\\n(0.766-0.821)</td>\n    </tr>\n    <tr>\n      <th>outline_SVM_p3</th>\n      <td>0.854\\n(0.823-0.885)</td>\n      <td>0.486\\n(0.442-0.530)</td>\n      <td>0.670\\n(0.641-0.699)</td>\n      <td>0.624\\n(0.588-0.661)</td>\n      <td>0.769\\n(0.723-0.815)</td>\n      <td>0.721</td>\n      <td>0.799\\n(0.772-0.826)</td>\n    </tr>\n    <tr>\n      <th>outline_SVM_p4</th>\n      <td>0.880\\n(0.852-0.908)</td>\n      <td>0.506\\n(0.462-0.550)</td>\n      <td>0.693\\n(0.664-0.722)</td>\n      <td>0.640\\n(0.605-0.676)</td>\n      <td>0.808\\n(0.765-0.852)</td>\n      <td>0.741</td>\n      <td>0.814\\n(0.788-0.840)</td>\n    </tr>\n    <tr>\n      <th>outline_SVM_p5</th>\n      <td>0.864\\n(0.834-0.894)</td>\n      <td>0.522\\n(0.478-0.566)</td>\n      <td>0.693\\n(0.664-0.722)</td>\n      <td>0.644\\n(0.608-0.680)</td>\n      <td>0.793\\n(0.750-0.837)</td>\n      <td>0.738</td>\n      <td>0.804\\n(0.778-0.831)</td>\n    </tr>\n    <tr>\n      <th>outline_SVM_p6</th>\n      <td>0.852\\n(0.821-0.883)</td>\n      <td>0.492\\n(0.448-0.536)</td>\n      <td>0.672\\n(0.643-0.701)</td>\n      <td>0.626\\n(0.590-0.663)</td>\n      <td>0.769\\n(0.723-0.815)</td>\n      <td>0.722</td>\n      <td>0.808\\n(0.781-0.834)</td>\n    </tr>\n    <tr>\n      <th>outline_ResNet_p1</th>\n      <td>0.930\\n(0.908-0.952)</td>\n      <td>0.660\\n(0.618-0.702)</td>\n      <td>0.795\\n(0.770-0.820)</td>\n      <td>0.732\\n(0.698-0.767)</td>\n      <td>0.904\\n(0.874-0.934)</td>\n      <td>0.819</td>\n      <td>0.894\\n(0.875-0.913)</td>\n    </tr>\n    <tr>\n      <th>outline_ResNet_p2</th>\n      <td>0.928\\n(0.905-0.951)</td>\n      <td>0.648\\n(0.606-0.690)</td>\n      <td>0.788\\n(0.763-0.813)</td>\n      <td>0.725\\n(0.690-0.760)</td>\n      <td>0.900\\n(0.869-0.931)</td>\n      <td>0.814</td>\n      <td>0.897\\n(0.878-0.916)</td>\n    </tr>\n    <tr>\n      <th>outline_ResNet_p3</th>\n      <td>0.914\\n(0.889-0.939)</td>\n      <td>0.646\\n(0.604-0.688)</td>\n      <td>0.780\\n(0.754-0.806)</td>\n      <td>0.721\\n(0.686-0.756)</td>\n      <td>0.883\\n(0.850-0.916)</td>\n      <td>0.806</td>\n      <td>0.887\\n(0.867-0.906)</td>\n    </tr>\n    <tr>\n      <th>outline_ResNet_p4</th>\n      <td>0.950\\n(0.931-0.969)</td>\n      <td>0.678\\n(0.637-0.719)</td>\n      <td>0.814\\n(0.790-0.838)</td>\n      <td>0.747\\n(0.713-0.781)</td>\n      <td>0.931\\n(0.905-0.957)</td>\n      <td>0.836</td>\n      <td>0.913\\n(0.896-0.930)</td>\n    </tr>\n    <tr>\n      <th>outline_ResNet_p5</th>\n      <td>0.914\\n(0.889-0.939)</td>\n      <td>0.664\\n(0.623-0.705)</td>\n      <td>0.789\\n(0.764-0.814)</td>\n      <td>0.731\\n(0.696-0.766)</td>\n      <td>0.885\\n(0.853-0.918)</td>\n      <td>0.812</td>\n      <td>0.888\\n(0.868-0.908)</td>\n    </tr>\n    <tr>\n      <th>outline_ResNet_p6</th>\n      <td>0.910\\n(0.885-0.935)</td>\n      <td>0.650\\n(0.608-0.692)</td>\n      <td>0.780\\n(0.754-0.806)</td>\n      <td>0.722\\n(0.687-0.757)</td>\n      <td>0.878\\n(0.845-0.912)</td>\n      <td>0.805</td>\n      <td>0.888\\n(0.868-0.908)</td>\n    </tr>\n  </tbody>\n</table>\n</div>"
     },
     "execution_count": 11,
     "metadata": {},
     "output_type": "execute_result"
    }
   ],
   "source": [
    "results_all_df = pd.DataFrame(results_all, index=indices)\n",
    "results_all_df"
   ],
   "metadata": {
    "collapsed": false,
    "ExecuteTime": {
     "end_time": "2024-01-09T03:06:03.669545400Z",
     "start_time": "2024-01-09T03:06:03.635635800Z"
    }
   },
   "id": "2120bc97a95ca284",
   "execution_count": 11
  },
  {
   "cell_type": "code",
   "outputs": [],
   "source": [
    "results_all_df.to_csv('./resources/results/results_all_outliners.csv')"
   ],
   "metadata": {
    "collapsed": false,
    "ExecuteTime": {
     "end_time": "2024-01-09T03:06:57.490307200Z",
     "start_time": "2024-01-09T03:06:57.457395200Z"
    }
   },
   "id": "534eb1eb869dbaad",
   "execution_count": 12
  },
  {
   "cell_type": "code",
   "outputs": [],
   "source": [],
   "metadata": {
    "collapsed": false
   },
   "id": "11e42418231fe6ba"
  }
 ],
 "metadata": {
  "kernelspec": {
   "display_name": "Python 3",
   "language": "python",
   "name": "python3"
  },
  "language_info": {
   "codemirror_mode": {
    "name": "ipython",
    "version": 2
   },
   "file_extension": ".py",
   "mimetype": "text/x-python",
   "name": "python",
   "nbconvert_exporter": "python",
   "pygments_lexer": "ipython2",
   "version": "2.7.6"
  }
 },
 "nbformat": 4,
 "nbformat_minor": 5
}
