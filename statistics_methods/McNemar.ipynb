{
 "cells": [
  {
   "cell_type": "code",
   "execution_count": 7,
   "id": "initial_id",
   "metadata": {
    "collapsed": true,
    "ExecuteTime": {
     "end_time": "2024-01-03T10:58:58.462225Z",
     "start_time": "2024-01-03T10:58:58.443121800Z"
    }
   },
   "outputs": [],
   "source": [
    "from statsmodels.stats.contingency_tables import mcnemar\n",
    "import pandas as pd\n",
    "import numpy as np"
   ]
  },
  {
   "cell_type": "code",
   "outputs": [],
   "source": [
    "def get_mc_data(df1, df2):\n",
    "    pred1 = np.where(df1['Score']>=0.5, True, False)\n",
    "    pred2 = np.where(df2['Score']>=0.5, True, False)\n",
    "        \n",
    "    plus_plus = np.sum(pred1[pred2])\n",
    "    plus_minus = np.sum(pred1[~pred2])\n",
    "    minus_plus = np.sum(~pred1[pred2])\n",
    "    minus_minus = np.sum(~pred1[~pred2])\n",
    "    \n",
    "    data = [[plus_plus, plus_minus], [minus_plus, minus_minus]]\n",
    "    \n",
    "    return mcnemar(data, exact=False, correction=True)"
   ],
   "metadata": {
    "collapsed": false,
    "ExecuteTime": {
     "end_time": "2024-01-03T10:58:59.049545900Z",
     "start_time": "2024-01-03T10:58:59.019530200Z"
    }
   },
   "id": "8f58acf8cd7c08b2",
   "execution_count": 8
  },
  {
   "cell_type": "code",
   "outputs": [],
   "source": [
    "results_path_all = {\n",
    "    'DL_inves': './resources/results/DL/inves_2022_mk.csv',\n",
    "    'DL_test': './resources/results/DL/test.csv',\n",
    "    'DL_val': './resources/results/DL/validation.csv',\n",
    "\n",
    "    'ML_RF_inves': './resources/results/ML/Mean_PCC_KW_24_RF/inves_2023_mk.csv',\n",
    "    'ML_RF_test': './resources/results/ML/Mean_PCC_KW_24_RF/random_test_results_mk.csv',\n",
    "    'ML_RF_val': './resources/results/ML/Mean_PCC_KW_24_RF/random_val_results_mk.csv',\n",
    "\n",
    "    'ML_AE_inves': './resources/results/ML/Zscore_PCC_KW_29_AE/inves_2023_mk.csv',\n",
    "    'ML_AE_test': './resources/results/ML/Zscore_PCC_KW_29_AE/random_test_results_mk.csv',\n",
    "    'ML_AE_val': './resources/results/ML/Zscore_PCC_KW_29_AE/random_val_results_mk.csv',\n",
    "\n",
    "    'External_junior_E': './resources/results/External/junior_E/mk_2022_inves.csv',\n",
    "    'External_junior_NE': './resources/results/External/junior_NE/mk_2022_inves.csv',\n",
    "\n",
    "    'External_middle_E': './resources/results/External/middle_E/mk_2022_inves.csv',\n",
    "    'External_middle_NE': './resources/results/External/middle_NE/mk_2022_inves.csv',\n",
    "\n",
    "    'External_senior_E': './resources/results/External/senior_E/mk_2022_inves.csv',\n",
    "    'External_senior_NE': './resources/results/External/senior_NE/mk_2022_inves.csv',\n",
    "}"
   ],
   "metadata": {
    "collapsed": false,
    "ExecuteTime": {
     "end_time": "2024-01-03T11:07:47.303242800Z",
     "start_time": "2024-01-03T11:07:47.283946Z"
    }
   },
   "id": "54faadfcc4def9f2",
   "execution_count": 15
  },
  {
   "cell_type": "code",
   "outputs": [],
   "source": [
    "models = ['DL_inves', 'ML_RF_inves', 'ML_AE_inves']\n",
    "radiologists = ['External_junior_E', 'External_junior_NE', 'External_middle_E', 'External_middle_NE', 'External_senior_E', 'External_senior_NE']"
   ],
   "metadata": {
    "collapsed": false,
    "ExecuteTime": {
     "end_time": "2024-01-03T11:07:47.503255Z",
     "start_time": "2024-01-03T11:07:47.484790400Z"
    }
   },
   "id": "d68ea8f9c4903097",
   "execution_count": 16
  },
  {
   "cell_type": "code",
   "outputs": [
    {
     "name": "stdout",
     "output_type": "stream",
     "text": [
      "DL_inves_External_junior_E_pvalue      0.007963489206550005\n",
      "statistic   7.041666666666667\n",
      "DL_inves_External_junior_NE_pvalue      0.0020755629257427034\n",
      "statistic   9.481481481481481\n",
      "DL_inves_External_middle_E_pvalue      0.04417134490844271\n",
      "statistic   4.05\n",
      "DL_inves_External_middle_NE_pvalue      0.008828760952818631\n",
      "statistic   6.857142857142857\n",
      "DL_inves_External_senior_E_pvalue      0.024448945310089332\n",
      "statistic   5.0625\n",
      "DL_inves_External_senior_NE_pvalue      0.029096331741252267\n",
      "statistic   4.761904761904762\n",
      "ML_RF_inves_External_junior_E_pvalue      0.23013934044341317\n",
      "statistic   1.44\n",
      "ML_RF_inves_External_junior_NE_pvalue      0.033894853524689295\n",
      "statistic   4.5\n",
      "ML_RF_inves_External_middle_E_pvalue      0.6276258050283593\n",
      "statistic   0.23529411764705882\n",
      "ML_RF_inves_External_middle_NE_pvalue      0.30743416592739237\n",
      "statistic   1.0416666666666667\n",
      "ML_RF_inves_External_senior_E_pvalue      0.6276258050283593\n",
      "statistic   0.23529411764705882\n",
      "ML_RF_inves_External_senior_NE_pvalue      0.5224312849615643\n",
      "statistic   0.4090909090909091\n",
      "ML_AE_inves_External_junior_E_pvalue      0.5402913746074199\n",
      "statistic   0.375\n",
      "ML_AE_inves_External_junior_NE_pvalue      0.16866861888781112\n",
      "statistic   1.894736842105263\n",
      "ML_AE_inves_External_middle_E_pvalue      0.8136637157667919\n",
      "statistic   0.05555555555555555\n",
      "ML_AE_inves_External_middle_NE_pvalue      0.6625205835400574\n",
      "statistic   0.19047619047619047\n",
      "ML_AE_inves_External_senior_E_pvalue      0.8025873486341526\n",
      "statistic   0.0625\n",
      "ML_AE_inves_External_senior_NE_pvalue      1.0\n",
      "statistic   0.0\n"
     ]
    }
   ],
   "source": [
    "for i in models:\n",
    "    for j in radiologists:\n",
    "        df1 = pd.read_csv(results_path_all[i])\n",
    "        df2 = pd.read_csv(results_path_all[j])\n",
    "        print(f'{i}_{j}_{get_mc_data(df1, df2)}')"
   ],
   "metadata": {
    "collapsed": false,
    "ExecuteTime": {
     "end_time": "2024-01-03T11:07:48.250398900Z",
     "start_time": "2024-01-03T11:07:48.142356600Z"
    }
   },
   "id": "22724dc802aa7af6",
   "execution_count": 17
  },
  {
   "cell_type": "code",
   "outputs": [],
   "source": [],
   "metadata": {
    "collapsed": false
   },
   "id": "21ee148b67c3c583"
  }
 ],
 "metadata": {
  "kernelspec": {
   "display_name": "Python 3",
   "language": "python",
   "name": "python3"
  },
  "language_info": {
   "codemirror_mode": {
    "name": "ipython",
    "version": 2
   },
   "file_extension": ".py",
   "mimetype": "text/x-python",
   "name": "python",
   "nbconvert_exporter": "python",
   "pygments_lexer": "ipython2",
   "version": "2.7.6"
  }
 },
 "nbformat": 4,
 "nbformat_minor": 5
}
