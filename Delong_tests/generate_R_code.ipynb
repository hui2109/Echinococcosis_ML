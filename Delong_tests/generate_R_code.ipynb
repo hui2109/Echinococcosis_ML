{
 "cells": [
  {
   "cell_type": "code",
   "execution_count": 37,
   "id": "initial_id",
   "metadata": {
    "collapsed": true,
    "ExecuteTime": {
     "end_time": "2024-03-22T16:08:29.383322Z",
     "start_time": "2024-03-22T16:08:29.375062Z"
    }
   },
   "outputs": [],
   "source": [
    "from pathlib import Path\n",
    "from itertools import combinations\n",
    "import pandas as pd"
   ]
  },
  {
   "cell_type": "code",
   "outputs": [],
   "source": [
    "# 生成R代码\n",
    "code_path = Path('./DeLong_test_CUltra.R')"
   ],
   "metadata": {
    "collapsed": false,
    "ExecuteTime": {
     "end_time": "2024-03-22T16:08:29.569571Z",
     "start_time": "2024-03-22T16:08:29.555385Z"
    }
   },
   "id": "39f79b80fc1607a2",
   "execution_count": 38
  },
  {
   "cell_type": "code",
   "outputs": [],
   "source": [
    "def write_R_codes(codes: str):\n",
    "    with code_path.open('a+', 1, 'utf-8') as f:\n",
    "        f.write(codes + '\\n')"
   ],
   "metadata": {
    "collapsed": false,
    "ExecuteTime": {
     "end_time": "2024-03-22T16:08:29.785881Z",
     "start_time": "2024-03-22T16:08:29.767972Z"
    }
   },
   "id": "42f834a00076fd57",
   "execution_count": 39
  },
  {
   "cell_type": "code",
   "outputs": [],
   "source": [
    "basic_codes = \"\"\"\n",
    "library(pROC)\n",
    "sink('./DeLong_test_CUltra.txt')\n",
    "lines = '################################################################################################'\n",
    "computeDelong <- function(y_true, y_score1, y_score2){\n",
    "  roc1 <- roc(y_true, y_score1)\n",
    "  roc2 <- roc(y_true, y_score2)\n",
    "  delong_res <- roc.test(roc1, roc2, method='delong')\n",
    "  return(list(roc1 = roc1, roc2 = roc2, delong_res = delong_res))\n",
    "}\n",
    "\"\"\"\n",
    "write_R_codes(basic_codes)"
   ],
   "metadata": {
    "collapsed": false,
    "ExecuteTime": {
     "end_time": "2024-03-22T16:08:29.958159Z",
     "start_time": "2024-03-22T16:08:29.938036Z"
    }
   },
   "id": "c940d3b2889f9c5d",
   "execution_count": 40
  },
  {
   "cell_type": "code",
   "outputs": [],
   "source": [
    "def get_compare_codes(name1, name2):\n",
    "    name3 = name1 + '_VS_' + name2\n",
    "\n",
    "    template_codes = f\"\"\"\n",
    "################################################################################################\n",
    "{name1} <- read.csv('{results_path_all[name1]}')\n",
    "{name2} <- read.csv('{results_path_all[name2]}')\n",
    "{name3} = computeDelong({name1}[, 'Label'], {name1}[, 'Pred'], {name2}[, 'Pred'])\n",
    "print(lines)\n",
    "print('{name3}')\n",
    "{name3}$delong_res$roc1\n",
    "{name3}$delong_res$roc2\n",
    "{name3}$delong_res\n",
    "print(lines)\n",
    "################################################################################################\n",
    "\"\"\"\n",
    "    write_R_codes(template_codes)"
   ],
   "metadata": {
    "collapsed": false,
    "ExecuteTime": {
     "end_time": "2024-03-22T16:08:30.187402Z",
     "start_time": "2024-03-22T16:08:30.181420Z"
    }
   },
   "id": "48f227625d1bcf71",
   "execution_count": 41
  },
  {
   "cell_type": "code",
   "outputs": [],
   "source": [
    "results_path_all = {\n",
    "    'DL_inves': './resources/results/DL/inves_2022_mk.csv',\n",
    "    'DL_test': './resources/results/DL/test.csv',\n",
    "    'DL_val': './resources/results/DL/validation.csv',\n",
    "\n",
    "    'ML_RF_inves': './resources/results/ML/Mean_PCC_KW_24_RF/inves_2023_mk.csv',\n",
    "    'ML_RF_test': './resources/results/ML/Mean_PCC_KW_24_RF/random_test_results_mk.csv',\n",
    "    'ML_RF_val': './resources/results/ML/Mean_PCC_KW_24_RF/random_val_results_mk.csv',\n",
    "\n",
    "    'ML_AE_inves': './resources/results/ML/Zscore_PCC_KW_29_AE/inves_2023_mk.csv',\n",
    "    'ML_AE_test': './resources/results/ML/Zscore_PCC_KW_29_AE/random_test_results_mk.csv',\n",
    "    'ML_AE_val': './resources/results/ML/Zscore_PCC_KW_29_AE/random_val_results_mk.csv',\n",
    "\n",
    "    'External_junior_E': './resources/results/External/junior_E/mk_2022_inves.csv',\n",
    "    'External_junior_NE': './resources/results/External/junior_NE/mk_2022_inves.csv',\n",
    "\n",
    "    'External_middle_E': './resources/results/External/middle_E/mk_2022_inves.csv',\n",
    "    'External_middle_NE': './resources/results/External/middle_NE/mk_2022_inves.csv',\n",
    "\n",
    "    'External_senior_E': './resources/results/External/senior_E/mk_2022_inves.csv',\n",
    "    'External_senior_NE': './resources/results/External/senior_NE/mk_2022_inves.csv',\n",
    "    \n",
    "    'External_E': './resources/results/External/Mean_E/mk_2022_inves.csv',\n",
    "    'External_NE': './resources/results/External/Mean_NE/mk_2022_inves.csv',\n",
    "    \n",
    "    'outline_SVM_p1': './resources/results/outlines/SVM/val/p1.csv',\n",
    "    'outline_SVM_p2': './resources/results/outlines/SVM/val/p2.csv',\n",
    "    'outline_SVM_p3': './resources/results/outlines/SVM/val/p3.csv',\n",
    "    'outline_SVM_p4': './resources/results/outlines/SVM/val/p4.csv',\n",
    "    'outline_SVM_p5': './resources/results/outlines/SVM/val/p5.csv',\n",
    "    'outline_SVM_p6': './resources/results/outlines/SVM/val/p6.csv',\n",
    "    \n",
    "    'outline_ResNet_p1': './resources/results/outlines/ResNet/val/p1.csv',\n",
    "    'outline_ResNet_p2': './resources/results/outlines/ResNet/val/p2.csv',\n",
    "    'outline_ResNet_p3': './resources/results/outlines/ResNet/val/p3.csv',\n",
    "    'outline_ResNet_p4': './resources/results/outlines/ResNet/val/p4.csv',\n",
    "    'outline_ResNet_p5': './resources/results/outlines/ResNet/val/p5.csv',\n",
    "    'outline_ResNet_p6': './resources/results/outlines/ResNet/val/p6.csv',\n",
    "}"
   ],
   "metadata": {
    "collapsed": false,
    "ExecuteTime": {
     "end_time": "2024-03-19T12:49:53.565211Z",
     "start_time": "2024-03-19T12:49:53.552534Z"
    }
   },
   "id": "c3aefb6002b6d7d0",
   "execution_count": 18
  },
  {
   "cell_type": "code",
   "outputs": [],
   "source": [
    "# 对比验证集\n",
    "get_compare_codes('DL_val', 'ML_RF_val')\n",
    "get_compare_codes('DL_val', 'ML_AE_val')\n",
    "\n",
    "# 对比测试集\n",
    "get_compare_codes('DL_test', 'ML_RF_test')\n",
    "get_compare_codes('DL_test', 'ML_AE_test')\n",
    "\n",
    "# 对比外部测试集\n",
    "get_compare_codes('DL_inves', 'ML_RF_inves')\n",
    "get_compare_codes('DL_inves', 'ML_AE_inves')\n",
    "\n",
    "# DL与真人比\n",
    "get_compare_codes('DL_inves', 'External_junior_E')\n",
    "get_compare_codes('DL_inves', 'External_junior_NE')\n",
    "get_compare_codes('DL_inves', 'External_middle_E')\n",
    "get_compare_codes('DL_inves', 'External_middle_NE')\n",
    "get_compare_codes('DL_inves', 'External_senior_E')\n",
    "get_compare_codes('DL_inves', 'External_senior_NE')\n",
    "\n",
    "# ML与真人比\n",
    "get_compare_codes('ML_RF_inves', 'External_junior_E')\n",
    "get_compare_codes('ML_RF_inves', 'External_junior_NE')\n",
    "get_compare_codes('ML_RF_inves', 'External_middle_E')\n",
    "get_compare_codes('ML_RF_inves', 'External_middle_NE')\n",
    "get_compare_codes('ML_RF_inves', 'External_senior_E')\n",
    "get_compare_codes('ML_RF_inves', 'External_senior_NE')\n",
    "\n",
    "get_compare_codes('ML_AE_inves', 'External_junior_E')\n",
    "get_compare_codes('ML_AE_inves', 'External_junior_NE')\n",
    "get_compare_codes('ML_AE_inves', 'External_middle_E')\n",
    "get_compare_codes('ML_AE_inves', 'External_middle_NE')\n",
    "get_compare_codes('ML_AE_inves', 'External_senior_E')\n",
    "get_compare_codes('ML_AE_inves', 'External_senior_NE')"
   ],
   "metadata": {
    "collapsed": false,
    "ExecuteTime": {
     "end_time": "2023-12-25T13:53:23.492803Z",
     "start_time": "2023-12-25T13:53:23.483038Z"
    }
   },
   "id": "f971b5d4aace5c91",
   "execution_count": 39
  },
  {
   "cell_type": "code",
   "outputs": [],
   "source": [
    "outline_SVM_list = ['outline_SVM_p1', 'outline_SVM_p2', 'outline_SVM_p3', 'outline_SVM_p4', 'outline_SVM_p5', 'outline_SVM_p6']\n",
    "outline_SVM_list = list(combinations(outline_SVM_list, 2))\n",
    "\n",
    "outline_ResNet_list = ['outline_ResNet_p1', 'outline_ResNet_p2', 'outline_ResNet_p3', 'outline_ResNet_p4', 'outline_ResNet_p5', 'outline_ResNet_p6']\n",
    "outline_ResNet_list = list(combinations(outline_ResNet_list, 2))"
   ],
   "metadata": {
    "collapsed": false,
    "ExecuteTime": {
     "end_time": "2024-01-09T01:37:09.417727200Z",
     "start_time": "2024-01-09T01:37:09.403729700Z"
    }
   },
   "id": "6f7f4d21970d70bc",
   "execution_count": 27
  },
  {
   "cell_type": "code",
   "outputs": [],
   "source": [
    "# SVM勾画对比\n",
    "for combination in outline_SVM_list:\n",
    "    item1, item2 = combination\n",
    "    get_compare_codes(item1, item2)"
   ],
   "metadata": {
    "collapsed": false,
    "ExecuteTime": {
     "end_time": "2024-01-09T01:37:10.576948800Z",
     "start_time": "2024-01-09T01:37:10.561991600Z"
    }
   },
   "id": "9b6d2eb1afe60482",
   "execution_count": 28
  },
  {
   "cell_type": "code",
   "outputs": [],
   "source": [
    "# ResNet勾画对比\n",
    "for combination in outline_ResNet_list:\n",
    "    item1, item2 = combination\n",
    "    get_compare_codes(item1, item2)"
   ],
   "metadata": {
    "collapsed": false,
    "ExecuteTime": {
     "end_time": "2024-01-09T01:37:20.854525300Z",
     "start_time": "2024-01-09T01:37:20.817749Z"
    }
   },
   "id": "8b5ae108e7d0e36e",
   "execution_count": 29
  },
  {
   "cell_type": "code",
   "outputs": [],
   "source": [
    "# 对比真人集\n",
    "get_compare_codes('External_junior_E', 'External_junior_NE')\n",
    "get_compare_codes('External_middle_E', 'External_middle_NE')\n",
    "get_compare_codes('External_senior_E', 'External_senior_NE')\n",
    "get_compare_codes('External_E', 'External_NE')"
   ],
   "metadata": {
    "collapsed": false,
    "ExecuteTime": {
     "end_time": "2024-03-19T12:49:59.157374Z",
     "start_time": "2024-03-19T12:49:59.140155Z"
    }
   },
   "id": "8c24f178506bd4ee",
   "execution_count": 19
  },
  {
   "cell_type": "code",
   "outputs": [],
   "source": [
    "# 临床超声医学杂志模型比较\n",
    "root_path = Path(r'F:/数据/FAE/huis_data/results/results2_合并')\n",
    "cv_val_name = 'cv_val_prediction.csv'\n",
    "test_name = 'test_prediction.csv'\n",
    "results_path_all = {\n",
    "    'SVMTrain': root_path / 'MinMax' / 'PCA' / 'RFE_37' / 'SVM' / cv_val_name,\n",
    "    'SVMTest': root_path / 'MinMax' / 'PCA' / 'RFE_37' / 'SVM' / test_name,\n",
    "    'AETrain': root_path / 'Zscore' / 'PCC' / 'RFE_27' / 'AE' / cv_val_name,\n",
    "    'AETest': root_path / 'Zscore' / 'PCC' / 'RFE_27' / 'AE' / test_name,\n",
    "    'LDATrain': root_path / 'Mean' / 'PCA' / 'RFE_39' / 'LDA' / cv_val_name,\n",
    "    'LDATest': root_path / 'Mean' / 'PCA' / 'RFE_39' / 'LDA' / test_name,\n",
    "    'RFTrain': root_path / 'Zscore' / 'PCC' / 'RFE_38' / 'RF' / cv_val_name,\n",
    "    'RFTest': root_path / 'Mean' / 'PCC' / 'Relief_32' / 'RF' / test_name,\n",
    "    'LRTrain': root_path / 'MinMax' / 'PCA' / 'RFE_32' / 'LR' / cv_val_name,\n",
    "    'LRTest': root_path / 'MinMax' / 'PCA' / 'RFE_32' / 'LR' / test_name,\n",
    "    'ABTrain': root_path / 'Mean' / 'PCC' / 'RFE_33' / 'AB' / cv_val_name,\n",
    "    'ABTest': root_path / 'Mean' / 'PCC' / 'RFE_33' / 'AB' / test_name,\n",
    "    'DTTrain': root_path / 'MinMax' / 'PCC' / 'RFE_30' / 'DT' / cv_val_name,\n",
    "    'DTTest': root_path / 'MinMax' / 'PCC' / 'RFE_30' / 'DT' / test_name,\n",
    "    'NBTrain': root_path / 'MinMax' / 'PCA' / 'RFE_31' / 'NB' / cv_val_name,\n",
    "    'NBTest': root_path / 'MinMax' / 'PCA' / 'RFE_31' / 'NB' / test_name,\n",
    "}\n",
    "get_compare_codes('RFTrain', 'SVMTrain')\n",
    "get_compare_codes('RFTrain', 'AETrain')\n",
    "get_compare_codes('RFTrain', 'LDATrain')\n",
    "get_compare_codes('RFTrain', 'LRTrain')\n",
    "get_compare_codes('RFTrain', 'ABTrain')\n",
    "get_compare_codes('RFTrain', 'DTTrain')\n",
    "get_compare_codes('RFTrain', 'NBTrain')\n",
    "\n",
    "get_compare_codes('RFTest', 'SVMTest')\n",
    "get_compare_codes('RFTest', 'AETest')\n",
    "get_compare_codes('RFTest', 'LDATest')\n",
    "get_compare_codes('RFTest', 'LRTest')\n",
    "get_compare_codes('RFTest', 'ABTest')\n",
    "get_compare_codes('RFTest', 'DTTest')\n",
    "get_compare_codes('RFTest', 'NBTest')"
   ],
   "metadata": {
    "collapsed": false,
    "ExecuteTime": {
     "end_time": "2024-03-22T16:08:38.031421Z",
     "start_time": "2024-03-22T16:08:38.008351Z"
    }
   },
   "id": "9401fbdbb9fb649f",
   "execution_count": 42
  },
  {
   "cell_type": "code",
   "outputs": [],
   "source": [],
   "metadata": {
    "collapsed": false
   },
   "id": "b03eb1e83846b0a9"
  }
 ],
 "metadata": {
  "kernelspec": {
   "display_name": "Python 3",
   "language": "python",
   "name": "python3"
  },
  "language_info": {
   "codemirror_mode": {
    "name": "ipython",
    "version": 2
   },
   "file_extension": ".py",
   "mimetype": "text/x-python",
   "name": "python",
   "nbconvert_exporter": "python",
   "pygments_lexer": "ipython2",
   "version": "2.7.6"
  }
 },
 "nbformat": 4,
 "nbformat_minor": 5
}
