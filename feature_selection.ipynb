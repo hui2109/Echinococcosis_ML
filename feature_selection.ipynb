{
 "cells": [
  {
   "cell_type": "code",
   "execution_count": 9,
   "id": "initial_id",
   "metadata": {
    "collapsed": true,
    "ExecuteTime": {
     "end_time": "2023-09-18T11:57:39.221087Z",
     "start_time": "2023-09-18T11:57:39.160805Z"
    }
   },
   "outputs": [],
   "source": [
    "%reload_ext autoreload\n",
    "%autoreload 2\n",
    "import pandas as pd\n",
    "from pathlib import Path\n",
    "import numpy as np\n",
    "import math\n",
    "from scipy.stats import levene, ttest_ind\n",
    "from sklearn.preprocessing import StandardScaler\n",
    "from sklearn.feature_selection import SelectKBest\n",
    "from sklearn.feature_selection import RFE\n",
    "from sklearn.linear_model import LogisticRegressionCV\n",
    "from sklearn.linear_model import LassoCV\n",
    "from sklearn.utils import shuffle\n",
    "from scipy.stats import pearsonr\n",
    "\n",
    "from utils import get_target_group\n",
    "from utils import save_to_pickle\n",
    "from utils import load_pickle"
   ]
  },
  {
   "cell_type": "code",
   "execution_count": 2,
   "outputs": [],
   "source": [
    "p = Path('./resources/temp_file/final_extract_results.pkl')\n",
    "final_results_df = pd.read_pickle(p)"
   ],
   "metadata": {
    "collapsed": false,
    "ExecuteTime": {
     "end_time": "2023-09-18T04:26:10.658038300Z",
     "start_time": "2023-09-18T04:26:10.307449Z"
    }
   },
   "id": "4d53665accc9e154"
  },
  {
   "cell_type": "code",
   "execution_count": 3,
   "outputs": [
    {
     "data": {
      "text/plain": "  diagnostics_Versions_PyRadiomics diagnostics_Versions_Numpy  \\\n0                           v3.1.0                     1.21.6   \n1                           v3.1.0                     1.21.6   \n\n  diagnostics_Versions_SimpleITK diagnostics_Versions_PyWavelet  \\\n0                          2.2.1                          1.3.0   \n1                          2.2.1                          1.3.0   \n\n  diagnostics_Versions_Python  \\\n0                       3.7.9   \n1                       3.7.9   \n\n                  diagnostics_Configuration_Settings  \\\n0  {'minimumROIDimensions': 2, 'minimumROISize': ...   \n1  {'minimumROIDimensions': 2, 'minimumROISize': ...   \n\n         diagnostics_Configuration_EnabledImageTypes  \\\n0  {'Original': {}, 'Wavelet': {}, 'LoG': {}, 'Lo...   \n1  {'Original': {}, 'Wavelet': {}, 'LoG': {}, 'Lo...   \n\n            diagnostics_Image-original_Hash  \\\n0  ed56dfd16b94093bb78ace3a0bd739f8e0d877c2   \n1  8ef55464a40ae22f61f193f0992c28e56d1cf5ef   \n\n  diagnostics_Image-original_Dimensionality  \\\n0                                        3D   \n1                                        3D   \n\n  diagnostics_Image-original_Spacing  ... gradient_glszm_ZoneVariance  \\\n0                    (1.0, 1.0, 1.0)  ...                2.175838e+06   \n1                    (1.0, 1.0, 1.0)  ...                1.533044e+07   \n\n   gradient_ngtdm_Busyness  gradient_ngtdm_Coarseness  \\\n0                10.218170                   0.049777   \n1               321.873332                   0.000793   \n\n   gradient_ngtdm_Complexity gradient_ngtdm_Contrast gradient_ngtdm_Strength  \\\n0                   0.008120                0.000045                0.050537   \n1                   0.122848                0.000212                0.003918   \n\n  label process_index                                stem  patient_ID  \n0     1             0  B-00073B8A5734D5E5D21C6E9B04299C3F      00001E  \n1     1             1  B-000C017A869153D099C1AA9B0C892CF1      00002E  \n\n[2 rows x 1156 columns]",
      "text/html": "<div>\n<style scoped>\n    .dataframe tbody tr th:only-of-type {\n        vertical-align: middle;\n    }\n\n    .dataframe tbody tr th {\n        vertical-align: top;\n    }\n\n    .dataframe thead th {\n        text-align: right;\n    }\n</style>\n<table border=\"1\" class=\"dataframe\">\n  <thead>\n    <tr style=\"text-align: right;\">\n      <th></th>\n      <th>diagnostics_Versions_PyRadiomics</th>\n      <th>diagnostics_Versions_Numpy</th>\n      <th>diagnostics_Versions_SimpleITK</th>\n      <th>diagnostics_Versions_PyWavelet</th>\n      <th>diagnostics_Versions_Python</th>\n      <th>diagnostics_Configuration_Settings</th>\n      <th>diagnostics_Configuration_EnabledImageTypes</th>\n      <th>diagnostics_Image-original_Hash</th>\n      <th>diagnostics_Image-original_Dimensionality</th>\n      <th>diagnostics_Image-original_Spacing</th>\n      <th>...</th>\n      <th>gradient_glszm_ZoneVariance</th>\n      <th>gradient_ngtdm_Busyness</th>\n      <th>gradient_ngtdm_Coarseness</th>\n      <th>gradient_ngtdm_Complexity</th>\n      <th>gradient_ngtdm_Contrast</th>\n      <th>gradient_ngtdm_Strength</th>\n      <th>label</th>\n      <th>process_index</th>\n      <th>stem</th>\n      <th>patient_ID</th>\n    </tr>\n  </thead>\n  <tbody>\n    <tr>\n      <th>0</th>\n      <td>v3.1.0</td>\n      <td>1.21.6</td>\n      <td>2.2.1</td>\n      <td>1.3.0</td>\n      <td>3.7.9</td>\n      <td>{'minimumROIDimensions': 2, 'minimumROISize': ...</td>\n      <td>{'Original': {}, 'Wavelet': {}, 'LoG': {}, 'Lo...</td>\n      <td>ed56dfd16b94093bb78ace3a0bd739f8e0d877c2</td>\n      <td>3D</td>\n      <td>(1.0, 1.0, 1.0)</td>\n      <td>...</td>\n      <td>2.175838e+06</td>\n      <td>10.218170</td>\n      <td>0.049777</td>\n      <td>0.008120</td>\n      <td>0.000045</td>\n      <td>0.050537</td>\n      <td>1</td>\n      <td>0</td>\n      <td>B-00073B8A5734D5E5D21C6E9B04299C3F</td>\n      <td>00001E</td>\n    </tr>\n    <tr>\n      <th>1</th>\n      <td>v3.1.0</td>\n      <td>1.21.6</td>\n      <td>2.2.1</td>\n      <td>1.3.0</td>\n      <td>3.7.9</td>\n      <td>{'minimumROIDimensions': 2, 'minimumROISize': ...</td>\n      <td>{'Original': {}, 'Wavelet': {}, 'LoG': {}, 'Lo...</td>\n      <td>8ef55464a40ae22f61f193f0992c28e56d1cf5ef</td>\n      <td>3D</td>\n      <td>(1.0, 1.0, 1.0)</td>\n      <td>...</td>\n      <td>1.533044e+07</td>\n      <td>321.873332</td>\n      <td>0.000793</td>\n      <td>0.122848</td>\n      <td>0.000212</td>\n      <td>0.003918</td>\n      <td>1</td>\n      <td>1</td>\n      <td>B-000C017A869153D099C1AA9B0C892CF1</td>\n      <td>00002E</td>\n    </tr>\n  </tbody>\n</table>\n<p>2 rows × 1156 columns</p>\n</div>"
     },
     "execution_count": 3,
     "metadata": {},
     "output_type": "execute_result"
    }
   ],
   "source": [
    "final_results_df: pd.DataFrame\n",
    "final_results_df.iloc[[0, 1]]"
   ],
   "metadata": {
    "collapsed": false,
    "ExecuteTime": {
     "end_time": "2023-09-18T04:26:12.492082800Z",
     "start_time": "2023-09-18T04:26:12.364243200Z"
    }
   },
   "id": "301575e9061a1a79"
  },
  {
   "cell_type": "code",
   "execution_count": 4,
   "outputs": [],
   "source": [
    "# 数据集的划分\n",
    "p_train = Path('./resources/all_images/Groups/train_ids.csv')\n",
    "train_df = pd.read_csv(p_train)\n",
    "train_label = train_df['ids']\n",
    "train_data = get_target_group(train_label, final_results_df).iloc[:, 22:-3]\n",
    "\n",
    "p_val = Path('./resources/all_images/Groups/validation_ids.csv')\n",
    "val_df = pd.read_csv(p_val)\n",
    "val_label = val_df['ids']\n",
    "val_data = get_target_group(val_label, final_results_df).iloc[:, 22:-3]\n",
    "\n",
    "p_test = Path('./resources/all_images/Groups/test_ids.csv')\n",
    "test_df = pd.read_csv(p_test)\n",
    "test_label = test_df['ids']\n",
    "test_data = get_target_group(test_label, final_results_df).iloc[:, 22:-3]"
   ],
   "metadata": {
    "collapsed": false,
    "ExecuteTime": {
     "end_time": "2023-09-18T04:28:16.650896900Z",
     "start_time": "2023-09-18T04:26:21.240394300Z"
    }
   },
   "id": "c127845eac8446c3"
  },
  {
   "cell_type": "code",
   "execution_count": 5,
   "outputs": [
    {
     "name": "stdout",
     "output_type": "stream",
     "text": [
      "(13772, 1131)\n",
      "(4593, 1131)\n",
      "(4691, 1131)\n"
     ]
    }
   ],
   "source": [
    "print(train_data.shape)\n",
    "print(val_data.shape)\n",
    "print(test_data.shape)"
   ],
   "metadata": {
    "collapsed": false,
    "ExecuteTime": {
     "end_time": "2023-09-18T04:28:16.792589100Z",
     "start_time": "2023-09-18T04:28:16.650896900Z"
    }
   },
   "id": "508f6a666b382aa"
  },
  {
   "cell_type": "code",
   "execution_count": 6,
   "outputs": [
    {
     "name": "stdout",
     "output_type": "stream",
     "text": [
      "(4944, 1131) (8828, 1131)\n"
     ]
    }
   ],
   "source": [
    "# t检验\n",
    "# 数据分组，数据按 label=0 和 label=1 分组\n",
    "train_data_0 = train_data[train_data['label'] == 0]\n",
    "train_data_1 = train_data[train_data['label'] == 1]\n",
    "print(train_data_0.shape, train_data_1.shape)"
   ],
   "metadata": {
    "collapsed": false,
    "ExecuteTime": {
     "end_time": "2023-09-18T04:28:17.064953700Z",
     "start_time": "2023-09-18T04:28:16.792589100Z"
    }
   },
   "id": "6543018f66e57475"
  },
  {
   "cell_type": "code",
   "execution_count": 7,
   "outputs": [
    {
     "name": "stderr",
     "output_type": "stream",
     "text": [
      "D:\\exe_code\\Python\\17_Echinococcosis_ML\\venv\\lib\\site-packages\\scipy\\stats\\morestats.py:2603: RuntimeWarning: invalid value encountered in double_scalars\n",
      "  W = numer / denom\n"
     ]
    },
    {
     "name": "stdout",
     "output_type": "stream",
     "text": [
      "1062 original_shape_Elongation label\n"
     ]
    }
   ],
   "source": [
    "# t检验特征筛选\n",
    "t_test_index = []\n",
    "for colName in train_data.columns[:]:\n",
    "    if levene(train_data_0[colName], train_data_1[colName])[1] > 0.05:\n",
    "        if ttest_ind(train_data_0[colName], train_data_1[colName])[1] < 0.05:\n",
    "            t_test_index.append(colName)\n",
    "    else:\n",
    "        if ttest_ind(train_data_0[colName], train_data_1[colName], equal_var=False)[1] < 0.05:\n",
    "            t_test_index.append(colName)\n",
    "print(len(t_test_index), t_test_index[0], t_test_index[-1])"
   ],
   "metadata": {
    "collapsed": false,
    "ExecuteTime": {
     "end_time": "2023-09-18T04:28:18.553090200Z",
     "start_time": "2023-09-18T04:28:17.064953700Z"
    }
   },
   "id": "955293f9896bdcb1"
  },
  {
   "cell_type": "code",
   "execution_count": 8,
   "outputs": [
    {
     "name": "stdout",
     "output_type": "stream",
     "text": [
      "(13772, 1061) (13772,)\n"
     ]
    }
   ],
   "source": [
    "# t检验后 训练集 数据整理\n",
    "train_data_0 = train_data_0[t_test_index]\n",
    "train_data_1 = train_data_1[t_test_index]\n",
    "train_data = pd.concat([train_data_0, train_data_1])\n",
    "\n",
    "X_train = train_data[train_data.columns[:-1]]\n",
    "\n",
    "scaler = StandardScaler()\n",
    "scaler.fit(X_train)\n",
    "X_train = scaler.transform(X_train)\n",
    "X_train = pd.DataFrame(X_train)\n",
    "X_train.columns = t_test_index[:-1]\n",
    "\n",
    "y_train = train_data['label']\n",
    "print(X_train.shape, y_train.shape)"
   ],
   "metadata": {
    "collapsed": false,
    "ExecuteTime": {
     "end_time": "2023-09-18T04:28:19.220382300Z",
     "start_time": "2023-09-18T04:28:18.553090200Z"
    }
   },
   "id": "64c20c3a6196ad7f"
  },
  {
   "cell_type": "code",
   "execution_count": 9,
   "outputs": [
    {
     "name": "stdout",
     "output_type": "stream",
     "text": [
      "(4593, 1061) (4593,)\n"
     ]
    }
   ],
   "source": [
    "# t检验后 验证集 数据整理\n",
    "val_data = val_data[t_test_index]\n",
    "\n",
    "X_val = val_data[val_data.columns[:-1]]\n",
    "\n",
    "X_val = scaler.transform(X_val)\n",
    "X_val = pd.DataFrame(X_val)\n",
    "X_val.columns = t_test_index[:-1]\n",
    "\n",
    "y_val = val_data['label']\n",
    "print(X_val.shape, y_val.shape)"
   ],
   "metadata": {
    "collapsed": false,
    "ExecuteTime": {
     "end_time": "2023-09-18T04:28:19.439155800Z",
     "start_time": "2023-09-18T04:28:19.220382300Z"
    }
   },
   "id": "7583102288726b2c"
  },
  {
   "cell_type": "code",
   "execution_count": 10,
   "outputs": [
    {
     "name": "stdout",
     "output_type": "stream",
     "text": [
      "(4691, 1061) (4691,)\n"
     ]
    }
   ],
   "source": [
    "# t检验后 测试集 数据整理\n",
    "test_data = test_data[t_test_index]\n",
    "\n",
    "X_test = test_data[test_data.columns[:-1]]\n",
    "\n",
    "X_test = scaler.transform(X_test)\n",
    "X_test = pd.DataFrame(X_test)\n",
    "X_test.columns = t_test_index[:-1]\n",
    "\n",
    "y_test = test_data['label']\n",
    "print(X_test.shape, y_test.shape)"
   ],
   "metadata": {
    "collapsed": false,
    "ExecuteTime": {
     "end_time": "2023-09-18T04:28:19.649463900Z",
     "start_time": "2023-09-18T04:28:19.439155800Z"
    }
   },
   "id": "c69176b2ab2e0f13"
  },
  {
   "cell_type": "code",
   "execution_count": 11,
   "outputs": [
    {
     "name": "stdout",
     "output_type": "stream",
     "text": [
      "1059\n"
     ]
    }
   ],
   "source": [
    "# Pearson相关系数\n",
    "pearson_index = []\n",
    "statistic_list = []\n",
    "for colName in X_train.columns[:]:\n",
    "    statistic, p_value = pearsonr(X_train[colName], y_train)\n",
    "    statistic_list.append(statistic)\n",
    "    if p_value < 0.05:\n",
    "        pearson_index.append(colName)\n",
    "print(len(pearson_index))"
   ],
   "metadata": {
    "collapsed": false,
    "ExecuteTime": {
     "end_time": "2023-09-18T04:28:20.194664700Z",
     "start_time": "2023-09-18T04:28:19.642204400Z"
    }
   },
   "id": "7e19b925333fb90e"
  },
  {
   "cell_type": "code",
   "execution_count": 12,
   "outputs": [
    {
     "name": "stdout",
     "output_type": "stream",
     "text": [
      "(13772, 1059) (4593, 1059) (4691, 1059)\n"
     ]
    }
   ],
   "source": [
    "# Pearson相关系数 数据整理\n",
    "X_train = X_train[pearson_index]\n",
    "X_val = X_val[pearson_index]\n",
    "X_test = X_test[pearson_index]\n",
    "print(X_train.shape, X_val.shape, X_test.shape)"
   ],
   "metadata": {
    "collapsed": false,
    "ExecuteTime": {
     "end_time": "2023-09-18T04:28:20.382472400Z",
     "start_time": "2023-09-18T04:28:20.194664700Z"
    }
   },
   "id": "74e3678e17c3a72e"
  },
  {
   "cell_type": "code",
   "execution_count": null,
   "outputs": [],
   "source": [
    "# Lasso回归\n",
    "alphas = np.logspace(-4, 1, 100)  # alpha就是损失函数的lambda\n",
    "model_lassoCV = LassoCV(alphas=alphas, max_iter=2000, cv=5).fit(X_train, y_train)"
   ],
   "metadata": {
    "collapsed": false
   },
   "id": "7b20c211dcfb3170"
  },
  {
   "cell_type": "code",
   "execution_count": 16,
   "outputs": [],
   "source": [
    "# 临时保存下\n",
    "save_to_pickle(Path('./resources/temp_file/X_train.pkl'), X_train)\n",
    "save_to_pickle(Path('./resources/temp_file/y_train.pkl'), y_train)\n",
    "save_to_pickle(Path('./resources/temp_file/X_val.pkl'), X_val)\n",
    "save_to_pickle(Path('./resources/temp_file/y_val.pkl'), y_val)\n",
    "save_to_pickle(Path('./resources/temp_file/X_test.pkl'), X_test)\n",
    "save_to_pickle(Path('./resources/temp_file/y_test.pkl'), y_test)\n",
    "save_to_pickle(Path('./resources/temp_file/model_lassoCV.pkl'), model_lassoCV)"
   ],
   "metadata": {
    "collapsed": false,
    "ExecuteTime": {
     "end_time": "2023-09-18T05:36:15.865713900Z",
     "start_time": "2023-09-18T05:36:15.185910300Z"
    }
   },
   "id": "4446ce7e5ce0a44c"
  },
  {
   "cell_type": "code",
   "execution_count": 2,
   "outputs": [],
   "source": [
    "# 加载数据\n",
    "X_train = load_pickle(Path('./resources/temp_file/X_train.pkl'))\n",
    "y_train = load_pickle(Path('./resources/temp_file/y_train.pkl'))\n",
    "X_val = load_pickle(Path('./resources/temp_file/X_val.pkl'))\n",
    "y_val = load_pickle(Path('./resources/temp_file/y_val.pkl'))\n",
    "X_test = load_pickle(Path('./resources/temp_file/X_test.pkl'))\n",
    "y_test = load_pickle(Path('./resources/temp_file/y_test.pkl'))\n",
    "model_lassoCV = load_pickle(Path('./resources/temp_file/model_lassoCV.pkl'))"
   ],
   "metadata": {
    "collapsed": false,
    "ExecuteTime": {
     "end_time": "2023-09-18T08:09:11.049482Z",
     "start_time": "2023-09-18T08:09:10.778633Z"
    }
   },
   "id": "55f0c9578cba2caa"
  },
  {
   "cell_type": "code",
   "execution_count": 4,
   "outputs": [
    {
     "name": "stdout",
     "output_type": "stream",
     "text": [
      "Lasso选择出的系数不为0的特征的个数: 679 original_shape_Elongation gradient_ngtdm_Strength\n"
     ]
    }
   ],
   "source": [
    "# coef_代表LASSO计算出来的每个特征的系数\n",
    "coef = pd.Series(model_lassoCV.coef_, index=X_train.columns)\n",
    "lasso_index = coef[coef != 0].index\n",
    "print('Lasso选择出的系数不为0的特征的个数:', len(lasso_index), lasso_index[0], lasso_index[-1])"
   ],
   "metadata": {
    "collapsed": false,
    "ExecuteTime": {
     "end_time": "2023-09-18T08:09:18.903255Z",
     "start_time": "2023-09-18T08:09:18.861123Z"
    }
   },
   "id": "8a088d252c20fac7"
  },
  {
   "cell_type": "code",
   "execution_count": 5,
   "outputs": [],
   "source": [
    "# lasso回归后数据处理\n",
    "X_train = X_train[lasso_index]\n",
    "X_val = X_val[lasso_index]\n",
    "X_test = X_test[lasso_index]"
   ],
   "metadata": {
    "collapsed": false,
    "ExecuteTime": {
     "end_time": "2023-09-18T11:41:56.045599Z",
     "start_time": "2023-09-18T11:41:55.139663Z"
    }
   },
   "id": "b6e2cae15ec91f05"
  },
  {
   "cell_type": "code",
   "execution_count": 6,
   "outputs": [
    {
     "name": "stdout",
     "output_type": "stream",
     "text": [
      "(13772, 679) (4593, 679) (4691, 679)\n"
     ]
    }
   ],
   "source": [
    "print(X_train.shape, X_val.shape, X_test.shape)"
   ],
   "metadata": {
    "collapsed": false,
    "ExecuteTime": {
     "end_time": "2023-09-18T11:42:18.298064Z",
     "start_time": "2023-09-18T11:42:18.261223Z"
    }
   },
   "id": "242ceb825a4b7d2"
  },
  {
   "cell_type": "code",
   "execution_count": 12,
   "outputs": [
    {
     "name": "stderr",
     "output_type": "stream",
     "text": [
      "/Users/kukudehui/Documents/exec_code/python/17_Echinococcosis_ML/venv/lib/python3.7/site-packages/sklearn/linear_model/_sag.py:354: ConvergenceWarning: The max_iter was reached which means the coef_ did not converge\n",
      "  ConvergenceWarning,\n",
      "/Users/kukudehui/Documents/exec_code/python/17_Echinococcosis_ML/venv/lib/python3.7/site-packages/sklearn/linear_model/_sag.py:354: ConvergenceWarning: The max_iter was reached which means the coef_ did not converge\n",
      "  ConvergenceWarning,\n",
      "/Users/kukudehui/Documents/exec_code/python/17_Echinococcosis_ML/venv/lib/python3.7/site-packages/sklearn/linear_model/_sag.py:354: ConvergenceWarning: The max_iter was reached which means the coef_ did not converge\n",
      "  ConvergenceWarning,\n",
      "/Users/kukudehui/Documents/exec_code/python/17_Echinococcosis_ML/venv/lib/python3.7/site-packages/sklearn/linear_model/_sag.py:354: ConvergenceWarning: The max_iter was reached which means the coef_ did not converge\n",
      "  ConvergenceWarning,\n",
      "/Users/kukudehui/Documents/exec_code/python/17_Echinococcosis_ML/venv/lib/python3.7/site-packages/sklearn/linear_model/_sag.py:354: ConvergenceWarning: The max_iter was reached which means the coef_ did not converge\n",
      "  ConvergenceWarning,\n",
      "/Users/kukudehui/Documents/exec_code/python/17_Echinococcosis_ML/venv/lib/python3.7/site-packages/sklearn/linear_model/_sag.py:354: ConvergenceWarning: The max_iter was reached which means the coef_ did not converge\n",
      "  ConvergenceWarning,\n",
      "/Users/kukudehui/Documents/exec_code/python/17_Echinococcosis_ML/venv/lib/python3.7/site-packages/sklearn/linear_model/_sag.py:354: ConvergenceWarning: The max_iter was reached which means the coef_ did not converge\n",
      "  ConvergenceWarning,\n",
      "/Users/kukudehui/Documents/exec_code/python/17_Echinococcosis_ML/venv/lib/python3.7/site-packages/sklearn/linear_model/_sag.py:354: ConvergenceWarning: The max_iter was reached which means the coef_ did not converge\n",
      "  ConvergenceWarning,\n",
      "/Users/kukudehui/Documents/exec_code/python/17_Echinococcosis_ML/venv/lib/python3.7/site-packages/sklearn/linear_model/_sag.py:354: ConvergenceWarning: The max_iter was reached which means the coef_ did not converge\n",
      "  ConvergenceWarning,\n",
      "/Users/kukudehui/Documents/exec_code/python/17_Echinococcosis_ML/venv/lib/python3.7/site-packages/sklearn/linear_model/_sag.py:354: ConvergenceWarning: The max_iter was reached which means the coef_ did not converge\n",
      "  ConvergenceWarning,\n"
     ]
    },
    {
     "ename": "KeyboardInterrupt",
     "evalue": "",
     "output_type": "error",
     "traceback": [
      "\u001B[0;31m---------------------------------------------------------------------------\u001B[0m",
      "\u001B[0;31mKeyboardInterrupt\u001B[0m                         Traceback (most recent call last)",
      "\u001B[0;32m/var/folders/_4/6rrhrwms28lb7yz69_b76dhr0000gn/T/ipykernel_92331/1268758213.py\u001B[0m in \u001B[0;36m<module>\u001B[0;34m\u001B[0m\n\u001B[1;32m      2\u001B[0m \u001B[0mestimator\u001B[0m \u001B[0;34m=\u001B[0m \u001B[0mLogisticRegressionCV\u001B[0m\u001B[0;34m(\u001B[0m\u001B[0mclass_weight\u001B[0m\u001B[0;34m=\u001B[0m\u001B[0;34m'balanced'\u001B[0m\u001B[0;34m,\u001B[0m \u001B[0mcv\u001B[0m\u001B[0;34m=\u001B[0m\u001B[0;36m5\u001B[0m\u001B[0;34m,\u001B[0m \u001B[0mmax_iter\u001B[0m\u001B[0;34m=\u001B[0m\u001B[0;36m1000\u001B[0m\u001B[0;34m,\u001B[0m \u001B[0msolver\u001B[0m\u001B[0;34m=\u001B[0m\u001B[0;34m'sag'\u001B[0m\u001B[0;34m)\u001B[0m\u001B[0;34m\u001B[0m\u001B[0;34m\u001B[0m\u001B[0m\n\u001B[1;32m      3\u001B[0m \u001B[0mrfe\u001B[0m \u001B[0;34m=\u001B[0m \u001B[0mRFE\u001B[0m\u001B[0;34m(\u001B[0m\u001B[0mestimator\u001B[0m\u001B[0;34m=\u001B[0m\u001B[0mestimator\u001B[0m\u001B[0;34m,\u001B[0m \u001B[0mn_features_to_select\u001B[0m\u001B[0;34m=\u001B[0m\u001B[0;36m30\u001B[0m\u001B[0;34m,\u001B[0m \u001B[0mstep\u001B[0m\u001B[0;34m=\u001B[0m\u001B[0;36m1\u001B[0m\u001B[0;34m)\u001B[0m\u001B[0;34m\u001B[0m\u001B[0;34m\u001B[0m\u001B[0m\n\u001B[0;32m----> 4\u001B[0;31m \u001B[0mrfe\u001B[0m \u001B[0;34m=\u001B[0m \u001B[0mrfe\u001B[0m\u001B[0;34m.\u001B[0m\u001B[0mfit\u001B[0m\u001B[0;34m(\u001B[0m\u001B[0mX_train\u001B[0m\u001B[0;34m,\u001B[0m \u001B[0my_train\u001B[0m\u001B[0;34m)\u001B[0m\u001B[0;34m\u001B[0m\u001B[0;34m\u001B[0m\u001B[0m\n\u001B[0m",
      "\u001B[0;32m~/Documents/exec_code/python/17_Echinococcosis_ML/venv/lib/python3.7/site-packages/sklearn/feature_selection/_rfe.py\u001B[0m in \u001B[0;36mfit\u001B[0;34m(self, X, y, **fit_params)\u001B[0m\n\u001B[1;32m    220\u001B[0m             \u001B[0mFitted\u001B[0m \u001B[0mestimator\u001B[0m\u001B[0;34m.\u001B[0m\u001B[0;34m\u001B[0m\u001B[0;34m\u001B[0m\u001B[0m\n\u001B[1;32m    221\u001B[0m         \"\"\"\n\u001B[0;32m--> 222\u001B[0;31m         \u001B[0;32mreturn\u001B[0m \u001B[0mself\u001B[0m\u001B[0;34m.\u001B[0m\u001B[0m_fit\u001B[0m\u001B[0;34m(\u001B[0m\u001B[0mX\u001B[0m\u001B[0;34m,\u001B[0m \u001B[0my\u001B[0m\u001B[0;34m,\u001B[0m \u001B[0;34m**\u001B[0m\u001B[0mfit_params\u001B[0m\u001B[0;34m)\u001B[0m\u001B[0;34m\u001B[0m\u001B[0;34m\u001B[0m\u001B[0m\n\u001B[0m\u001B[1;32m    223\u001B[0m \u001B[0;34m\u001B[0m\u001B[0m\n\u001B[1;32m    224\u001B[0m     \u001B[0;32mdef\u001B[0m \u001B[0m_fit\u001B[0m\u001B[0;34m(\u001B[0m\u001B[0mself\u001B[0m\u001B[0;34m,\u001B[0m \u001B[0mX\u001B[0m\u001B[0;34m,\u001B[0m \u001B[0my\u001B[0m\u001B[0;34m,\u001B[0m \u001B[0mstep_score\u001B[0m\u001B[0;34m=\u001B[0m\u001B[0;32mNone\u001B[0m\u001B[0;34m,\u001B[0m \u001B[0;34m**\u001B[0m\u001B[0mfit_params\u001B[0m\u001B[0;34m)\u001B[0m\u001B[0;34m:\u001B[0m\u001B[0;34m\u001B[0m\u001B[0;34m\u001B[0m\u001B[0m\n",
      "\u001B[0;32m~/Documents/exec_code/python/17_Echinococcosis_ML/venv/lib/python3.7/site-packages/sklearn/feature_selection/_rfe.py\u001B[0m in \u001B[0;36m_fit\u001B[0;34m(self, X, y, step_score, **fit_params)\u001B[0m\n\u001B[1;32m    281\u001B[0m                 \u001B[0mprint\u001B[0m\u001B[0;34m(\u001B[0m\u001B[0;34m\"Fitting estimator with %d features.\"\u001B[0m \u001B[0;34m%\u001B[0m \u001B[0mnp\u001B[0m\u001B[0;34m.\u001B[0m\u001B[0msum\u001B[0m\u001B[0;34m(\u001B[0m\u001B[0msupport_\u001B[0m\u001B[0;34m)\u001B[0m\u001B[0;34m)\u001B[0m\u001B[0;34m\u001B[0m\u001B[0;34m\u001B[0m\u001B[0m\n\u001B[1;32m    282\u001B[0m \u001B[0;34m\u001B[0m\u001B[0m\n\u001B[0;32m--> 283\u001B[0;31m             \u001B[0mestimator\u001B[0m\u001B[0;34m.\u001B[0m\u001B[0mfit\u001B[0m\u001B[0;34m(\u001B[0m\u001B[0mX\u001B[0m\u001B[0;34m[\u001B[0m\u001B[0;34m:\u001B[0m\u001B[0;34m,\u001B[0m \u001B[0mfeatures\u001B[0m\u001B[0;34m]\u001B[0m\u001B[0;34m,\u001B[0m \u001B[0my\u001B[0m\u001B[0;34m,\u001B[0m \u001B[0;34m**\u001B[0m\u001B[0mfit_params\u001B[0m\u001B[0;34m)\u001B[0m\u001B[0;34m\u001B[0m\u001B[0;34m\u001B[0m\u001B[0m\n\u001B[0m\u001B[1;32m    284\u001B[0m \u001B[0;34m\u001B[0m\u001B[0m\n\u001B[1;32m    285\u001B[0m             \u001B[0;31m# Get importance and rank them\u001B[0m\u001B[0;34m\u001B[0m\u001B[0;34m\u001B[0m\u001B[0;34m\u001B[0m\u001B[0m\n",
      "\u001B[0;32m~/Documents/exec_code/python/17_Echinococcosis_ML/venv/lib/python3.7/site-packages/sklearn/linear_model/_logistic.py\u001B[0m in \u001B[0;36mfit\u001B[0;34m(self, X, y, sample_weight)\u001B[0m\n\u001B[1;32m   2180\u001B[0m                 \u001B[0ml1_ratio\u001B[0m\u001B[0;34m=\u001B[0m\u001B[0ml1_ratio\u001B[0m\u001B[0;34m,\u001B[0m\u001B[0;34m\u001B[0m\u001B[0;34m\u001B[0m\u001B[0m\n\u001B[1;32m   2181\u001B[0m             )\n\u001B[0;32m-> 2182\u001B[0;31m             \u001B[0;32mfor\u001B[0m \u001B[0mlabel\u001B[0m \u001B[0;32min\u001B[0m \u001B[0miter_encoded_labels\u001B[0m\u001B[0;34m\u001B[0m\u001B[0;34m\u001B[0m\u001B[0m\n\u001B[0m\u001B[1;32m   2183\u001B[0m             \u001B[0;32mfor\u001B[0m \u001B[0mtrain\u001B[0m\u001B[0;34m,\u001B[0m \u001B[0mtest\u001B[0m \u001B[0;32min\u001B[0m \u001B[0mfolds\u001B[0m\u001B[0;34m\u001B[0m\u001B[0;34m\u001B[0m\u001B[0m\n\u001B[1;32m   2184\u001B[0m             \u001B[0;32mfor\u001B[0m \u001B[0ml1_ratio\u001B[0m \u001B[0;32min\u001B[0m \u001B[0ml1_ratios_\u001B[0m\u001B[0;34m\u001B[0m\u001B[0;34m\u001B[0m\u001B[0m\n",
      "\u001B[0;32m~/Documents/exec_code/python/17_Echinococcosis_ML/venv/lib/python3.7/site-packages/joblib/parallel.py\u001B[0m in \u001B[0;36m__call__\u001B[0;34m(self, iterable)\u001B[0m\n\u001B[1;32m   1861\u001B[0m             \u001B[0moutput\u001B[0m \u001B[0;34m=\u001B[0m \u001B[0mself\u001B[0m\u001B[0;34m.\u001B[0m\u001B[0m_get_sequential_output\u001B[0m\u001B[0;34m(\u001B[0m\u001B[0miterable\u001B[0m\u001B[0;34m)\u001B[0m\u001B[0;34m\u001B[0m\u001B[0;34m\u001B[0m\u001B[0m\n\u001B[1;32m   1862\u001B[0m             \u001B[0mnext\u001B[0m\u001B[0;34m(\u001B[0m\u001B[0moutput\u001B[0m\u001B[0;34m)\u001B[0m\u001B[0;34m\u001B[0m\u001B[0;34m\u001B[0m\u001B[0m\n\u001B[0;32m-> 1863\u001B[0;31m             \u001B[0;32mreturn\u001B[0m \u001B[0moutput\u001B[0m \u001B[0;32mif\u001B[0m \u001B[0mself\u001B[0m\u001B[0;34m.\u001B[0m\u001B[0mreturn_generator\u001B[0m \u001B[0;32melse\u001B[0m \u001B[0mlist\u001B[0m\u001B[0;34m(\u001B[0m\u001B[0moutput\u001B[0m\u001B[0;34m)\u001B[0m\u001B[0;34m\u001B[0m\u001B[0;34m\u001B[0m\u001B[0m\n\u001B[0m\u001B[1;32m   1864\u001B[0m \u001B[0;34m\u001B[0m\u001B[0m\n\u001B[1;32m   1865\u001B[0m         \u001B[0;31m# Let's create an ID that uniquely identifies the current call. If the\u001B[0m\u001B[0;34m\u001B[0m\u001B[0;34m\u001B[0m\u001B[0;34m\u001B[0m\u001B[0m\n",
      "\u001B[0;32m~/Documents/exec_code/python/17_Echinococcosis_ML/venv/lib/python3.7/site-packages/joblib/parallel.py\u001B[0m in \u001B[0;36m_get_sequential_output\u001B[0;34m(self, iterable)\u001B[0m\n\u001B[1;32m   1790\u001B[0m                 \u001B[0mself\u001B[0m\u001B[0;34m.\u001B[0m\u001B[0mn_dispatched_batches\u001B[0m \u001B[0;34m+=\u001B[0m \u001B[0;36m1\u001B[0m\u001B[0;34m\u001B[0m\u001B[0;34m\u001B[0m\u001B[0m\n\u001B[1;32m   1791\u001B[0m                 \u001B[0mself\u001B[0m\u001B[0;34m.\u001B[0m\u001B[0mn_dispatched_tasks\u001B[0m \u001B[0;34m+=\u001B[0m \u001B[0;36m1\u001B[0m\u001B[0;34m\u001B[0m\u001B[0;34m\u001B[0m\u001B[0m\n\u001B[0;32m-> 1792\u001B[0;31m                 \u001B[0mres\u001B[0m \u001B[0;34m=\u001B[0m \u001B[0mfunc\u001B[0m\u001B[0;34m(\u001B[0m\u001B[0;34m*\u001B[0m\u001B[0margs\u001B[0m\u001B[0;34m,\u001B[0m \u001B[0;34m**\u001B[0m\u001B[0mkwargs\u001B[0m\u001B[0;34m)\u001B[0m\u001B[0;34m\u001B[0m\u001B[0;34m\u001B[0m\u001B[0m\n\u001B[0m\u001B[1;32m   1793\u001B[0m                 \u001B[0mself\u001B[0m\u001B[0;34m.\u001B[0m\u001B[0mn_completed_tasks\u001B[0m \u001B[0;34m+=\u001B[0m \u001B[0;36m1\u001B[0m\u001B[0;34m\u001B[0m\u001B[0;34m\u001B[0m\u001B[0m\n\u001B[1;32m   1794\u001B[0m                 \u001B[0mself\u001B[0m\u001B[0;34m.\u001B[0m\u001B[0mprint_progress\u001B[0m\u001B[0;34m(\u001B[0m\u001B[0;34m)\u001B[0m\u001B[0;34m\u001B[0m\u001B[0;34m\u001B[0m\u001B[0m\n",
      "\u001B[0;32m~/Documents/exec_code/python/17_Echinococcosis_ML/venv/lib/python3.7/site-packages/sklearn/utils/fixes.py\u001B[0m in \u001B[0;36m__call__\u001B[0;34m(self, *args, **kwargs)\u001B[0m\n\u001B[1;32m    214\u001B[0m     \u001B[0;32mdef\u001B[0m \u001B[0m__call__\u001B[0m\u001B[0;34m(\u001B[0m\u001B[0mself\u001B[0m\u001B[0;34m,\u001B[0m \u001B[0;34m*\u001B[0m\u001B[0margs\u001B[0m\u001B[0;34m,\u001B[0m \u001B[0;34m**\u001B[0m\u001B[0mkwargs\u001B[0m\u001B[0;34m)\u001B[0m\u001B[0;34m:\u001B[0m\u001B[0;34m\u001B[0m\u001B[0;34m\u001B[0m\u001B[0m\n\u001B[1;32m    215\u001B[0m         \u001B[0;32mwith\u001B[0m \u001B[0mconfig_context\u001B[0m\u001B[0;34m(\u001B[0m\u001B[0;34m**\u001B[0m\u001B[0mself\u001B[0m\u001B[0;34m.\u001B[0m\u001B[0mconfig\u001B[0m\u001B[0;34m)\u001B[0m\u001B[0;34m:\u001B[0m\u001B[0;34m\u001B[0m\u001B[0;34m\u001B[0m\u001B[0m\n\u001B[0;32m--> 216\u001B[0;31m             \u001B[0;32mreturn\u001B[0m \u001B[0mself\u001B[0m\u001B[0;34m.\u001B[0m\u001B[0mfunction\u001B[0m\u001B[0;34m(\u001B[0m\u001B[0;34m*\u001B[0m\u001B[0margs\u001B[0m\u001B[0;34m,\u001B[0m \u001B[0;34m**\u001B[0m\u001B[0mkwargs\u001B[0m\u001B[0;34m)\u001B[0m\u001B[0;34m\u001B[0m\u001B[0;34m\u001B[0m\u001B[0m\n\u001B[0m\u001B[1;32m    217\u001B[0m \u001B[0;34m\u001B[0m\u001B[0m\n\u001B[1;32m    218\u001B[0m \u001B[0;34m\u001B[0m\u001B[0m\n",
      "\u001B[0;32m~/Documents/exec_code/python/17_Echinococcosis_ML/venv/lib/python3.7/site-packages/sklearn/linear_model/_logistic.py\u001B[0m in \u001B[0;36m_log_reg_scoring_path\u001B[0;34m(X, y, train, test, pos_class, Cs, scoring, fit_intercept, max_iter, tol, class_weight, verbose, solver, penalty, dual, intercept_scaling, multi_class, random_state, max_squared_sum, sample_weight, l1_ratio)\u001B[0m\n\u001B[1;32m   1077\u001B[0m         \u001B[0mcheck_input\u001B[0m\u001B[0;34m=\u001B[0m\u001B[0;32mFalse\u001B[0m\u001B[0;34m,\u001B[0m\u001B[0;34m\u001B[0m\u001B[0;34m\u001B[0m\u001B[0m\n\u001B[1;32m   1078\u001B[0m         \u001B[0mmax_squared_sum\u001B[0m\u001B[0;34m=\u001B[0m\u001B[0mmax_squared_sum\u001B[0m\u001B[0;34m,\u001B[0m\u001B[0;34m\u001B[0m\u001B[0;34m\u001B[0m\u001B[0m\n\u001B[0;32m-> 1079\u001B[0;31m         \u001B[0msample_weight\u001B[0m\u001B[0;34m=\u001B[0m\u001B[0msample_weight\u001B[0m\u001B[0;34m,\u001B[0m\u001B[0;34m\u001B[0m\u001B[0;34m\u001B[0m\u001B[0m\n\u001B[0m\u001B[1;32m   1080\u001B[0m     )\n\u001B[1;32m   1081\u001B[0m \u001B[0;34m\u001B[0m\u001B[0m\n",
      "\u001B[0;32m~/Documents/exec_code/python/17_Echinococcosis_ML/venv/lib/python3.7/site-packages/sklearn/linear_model/_logistic.py\u001B[0m in \u001B[0;36m_logistic_regression_path\u001B[0;34m(X, y, pos_class, Cs, fit_intercept, max_iter, tol, verbose, solver, coef, class_weight, dual, penalty, intercept_scaling, multi_class, random_state, check_input, max_squared_sum, sample_weight, l1_ratio)\u001B[0m\n\u001B[1;32m    876\u001B[0m                 \u001B[0mmax_squared_sum\u001B[0m\u001B[0;34m,\u001B[0m\u001B[0;34m\u001B[0m\u001B[0;34m\u001B[0m\u001B[0m\n\u001B[1;32m    877\u001B[0m                 \u001B[0mwarm_start_sag\u001B[0m\u001B[0;34m,\u001B[0m\u001B[0;34m\u001B[0m\u001B[0;34m\u001B[0m\u001B[0m\n\u001B[0;32m--> 878\u001B[0;31m                 \u001B[0mis_saga\u001B[0m\u001B[0;34m=\u001B[0m\u001B[0;34m(\u001B[0m\u001B[0msolver\u001B[0m \u001B[0;34m==\u001B[0m \u001B[0;34m\"saga\"\u001B[0m\u001B[0;34m)\u001B[0m\u001B[0;34m,\u001B[0m\u001B[0;34m\u001B[0m\u001B[0;34m\u001B[0m\u001B[0m\n\u001B[0m\u001B[1;32m    879\u001B[0m             )\n\u001B[1;32m    880\u001B[0m \u001B[0;34m\u001B[0m\u001B[0m\n",
      "\u001B[0;32m~/Documents/exec_code/python/17_Echinococcosis_ML/venv/lib/python3.7/site-packages/sklearn/linear_model/_sag.py\u001B[0m in \u001B[0;36msag_solver\u001B[0;34m(X, y, sample_weight, loss, alpha, beta, max_iter, tol, verbose, random_state, check_input, max_squared_sum, warm_start_mem, is_saga)\u001B[0m\n\u001B[1;32m    346\u001B[0m         \u001B[0mintercept_decay\u001B[0m\u001B[0;34m,\u001B[0m\u001B[0;34m\u001B[0m\u001B[0;34m\u001B[0m\u001B[0m\n\u001B[1;32m    347\u001B[0m         \u001B[0mis_saga\u001B[0m\u001B[0;34m,\u001B[0m\u001B[0;34m\u001B[0m\u001B[0;34m\u001B[0m\u001B[0m\n\u001B[0;32m--> 348\u001B[0;31m         \u001B[0mverbose\u001B[0m\u001B[0;34m,\u001B[0m\u001B[0;34m\u001B[0m\u001B[0;34m\u001B[0m\u001B[0m\n\u001B[0m\u001B[1;32m    349\u001B[0m     )\n\u001B[1;32m    350\u001B[0m \u001B[0;34m\u001B[0m\u001B[0m\n",
      "\u001B[0;31mKeyboardInterrupt\u001B[0m: "
     ]
    }
   ],
   "source": [
    "# 递归特征消除\n",
    "estimator = LogisticRegressionCV(class_weight='balanced', cv=5, max_iter=1000, solver='sag')\n",
    "rfe = RFE(estimator=estimator, n_features_to_select=30, step=1)\n",
    "rfe = rfe.fit(X_train, y_train)"
   ],
   "metadata": {
    "collapsed": false,
    "ExecuteTime": {
     "end_time": "2023-09-18T12:12:25.444100Z",
     "start_time": "2023-09-18T12:04:07.146273Z"
    }
   },
   "id": "eb2f642e6d7f3252"
  },
  {
   "cell_type": "code",
   "execution_count": null,
   "outputs": [],
   "source": [],
   "metadata": {
    "collapsed": false
   },
   "id": "8cc4a2202700641f"
  }
 ],
 "metadata": {
  "kernelspec": {
   "display_name": "Python 3",
   "language": "python",
   "name": "python3"
  },
  "language_info": {
   "codemirror_mode": {
    "name": "ipython",
    "version": 2
   },
   "file_extension": ".py",
   "mimetype": "text/x-python",
   "name": "python",
   "nbconvert_exporter": "python",
   "pygments_lexer": "ipython2",
   "version": "2.7.6"
  }
 },
 "nbformat": 4,
 "nbformat_minor": 5
}
