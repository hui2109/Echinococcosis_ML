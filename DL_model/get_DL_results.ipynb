{
 "cells": [
  {
   "cell_type": "code",
   "execution_count": 29,
   "id": "initial_id",
   "metadata": {
    "collapsed": true,
    "ExecuteTime": {
     "end_time": "2023-12-13T11:59:27.038876200Z",
     "start_time": "2023-12-13T11:59:27.027871900Z"
    }
   },
   "outputs": [],
   "source": [
    "import pandas as pd\n",
    "import numpy as np\n",
    "from sklearn.metrics import accuracy_score, roc_auc_score"
   ]
  },
  {
   "cell_type": "code",
   "execution_count": 33,
   "outputs": [],
   "source": [
    "def read_results(res_path):\n",
    "    df = pd.read_csv(res_path)\n",
    "    y_true = df['labels']\n",
    "    y_score = df['probs_1']\n",
    "    y_pred = np.where(y_score >= 0.5, 1, 0)\n",
    "    acc = accuracy_score(y_true, y_pred)\n",
    "    auc = roc_auc_score(y_true, y_score)\n",
    "    return acc, auc"
   ],
   "metadata": {
    "collapsed": false,
    "ExecuteTime": {
     "end_time": "2023-12-13T11:59:41.111892600Z",
     "start_time": "2023-12-13T11:59:41.095936700Z"
    }
   },
   "id": "10ec41dc9b165271"
  },
  {
   "cell_type": "code",
   "execution_count": 34,
   "outputs": [],
   "source": [
    "results = {\n",
    "    '训练集Acc':[],\n",
    "    '训练集AUC':[],\n",
    "    '验证集Acc':[],\n",
    "    '验证集AUC':[],\n",
    "    '测试集Acc':[],\n",
    "    '测试集AUC':[],\n",
    "    '调研2022_Acc':[],\n",
    "    '调研2022_AUC':[],\n",
    "}"
   ],
   "metadata": {
    "collapsed": false,
    "ExecuteTime": {
     "end_time": "2023-12-13T11:59:41.554306900Z",
     "start_time": "2023-12-13T11:59:41.544334700Z"
    }
   },
   "id": "6e7f54b52ccd56c3"
  },
  {
   "cell_type": "code",
   "execution_count": 35,
   "outputs": [],
   "source": [
    "train_acc, train_auc = read_results('./resources/results/DL/train.csv')\n",
    "results['训练集Acc'].append(train_acc)\n",
    "results['训练集AUC'].append(train_auc)"
   ],
   "metadata": {
    "collapsed": false,
    "ExecuteTime": {
     "end_time": "2023-12-13T11:59:42.201388900Z",
     "start_time": "2023-12-13T11:59:42.174469100Z"
    }
   },
   "id": "bafa7bf0d54487a4"
  },
  {
   "cell_type": "code",
   "execution_count": 36,
   "outputs": [],
   "source": [
    "val_acc,  val_auc = read_results('./resources/results/DL/validation.csv')\n",
    "results['验证集Acc'].append(val_acc)\n",
    "results['验证集AUC'].append(val_auc)"
   ],
   "metadata": {
    "collapsed": false,
    "ExecuteTime": {
     "end_time": "2023-12-13T12:00:25.745453500Z",
     "start_time": "2023-12-13T12:00:25.724511100Z"
    }
   },
   "id": "da4646308f0ab962"
  },
  {
   "cell_type": "code",
   "execution_count": 37,
   "outputs": [],
   "source": [
    "test_acc, test_auc = read_results('./resources/results/DL/test.csv')\n",
    "results['测试集Acc'].append(test_acc)\n",
    "results['测试集AUC'].append(test_auc)"
   ],
   "metadata": {
    "collapsed": false,
    "ExecuteTime": {
     "end_time": "2023-12-13T12:00:44.369114900Z",
     "start_time": "2023-12-13T12:00:44.346176200Z"
    }
   },
   "id": "adc6d24ccb1db711"
  },
  {
   "cell_type": "code",
   "execution_count": 38,
   "outputs": [],
   "source": [
    "survey_acc, survey_auc = read_results('./resources/results/DL/inves_2022.csv')\n",
    "results['调研2022_Acc'].append(survey_acc)\n",
    "results['调研2022_AUC'].append(survey_auc)"
   ],
   "metadata": {
    "collapsed": false,
    "ExecuteTime": {
     "end_time": "2023-12-13T12:01:19.169852900Z",
     "start_time": "2023-12-13T12:01:19.150849400Z"
    }
   },
   "id": "ed523128b4d78f67"
  },
  {
   "cell_type": "code",
   "execution_count": 39,
   "outputs": [],
   "source": [
    "results = pd.DataFrame(results)\n",
    "results.to_csv('./resources/results/DL/results_all.csv', index=False)"
   ],
   "metadata": {
    "collapsed": false,
    "ExecuteTime": {
     "end_time": "2023-12-13T12:01:40.098019Z",
     "start_time": "2023-12-13T12:01:40.075033300Z"
    }
   },
   "id": "4e12b94568ac382c"
  },
  {
   "cell_type": "code",
   "execution_count": null,
   "outputs": [],
   "source": [],
   "metadata": {
    "collapsed": false
   },
   "id": "61703d50a0509a90"
  }
 ],
 "metadata": {
  "kernelspec": {
   "display_name": "Python 3",
   "language": "python",
   "name": "python3"
  },
  "language_info": {
   "codemirror_mode": {
    "name": "ipython",
    "version": 2
   },
   "file_extension": ".py",
   "mimetype": "text/x-python",
   "name": "python",
   "nbconvert_exporter": "python",
   "pygments_lexer": "ipython2",
   "version": "2.7.6"
  }
 },
 "nbformat": 4,
 "nbformat_minor": 5
}
