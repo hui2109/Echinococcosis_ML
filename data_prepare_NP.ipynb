{
 "cells": [
  {
   "cell_type": "code",
   "execution_count": 8,
   "id": "initial_id",
   "metadata": {
    "collapsed": true,
    "ExecuteTime": {
     "end_time": "2023-11-14T15:25:23.812747100Z",
     "start_time": "2023-11-14T15:25:23.793781Z"
    }
   },
   "outputs": [],
   "source": [
    "import pandas as pd\n",
    "from pathlib import Path\n",
    "import pickle"
   ]
  },
  {
   "cell_type": "code",
   "execution_count": 9,
   "outputs": [],
   "source": [
    "final_extract_results_path = Path('./resources/temp_file/final_extract_results.pkl')\n",
    "source_data_path = Path('./resources/source_data/source_data.csv')"
   ],
   "metadata": {
    "collapsed": false,
    "ExecuteTime": {
     "end_time": "2023-11-14T15:25:24.758200Z",
     "start_time": "2023-11-14T15:25:24.738253Z"
    }
   },
   "id": "b220e7c77798d12d"
  },
  {
   "cell_type": "code",
   "execution_count": 10,
   "outputs": [],
   "source": [
    "final_extract_results: pd.DataFrame = pd.read_pickle(final_extract_results_path)\n",
    "source_data: pd.DataFrame = pd.read_csv(source_data_path)"
   ],
   "metadata": {
    "collapsed": false,
    "ExecuteTime": {
     "end_time": "2023-11-14T15:25:25.929220400Z",
     "start_time": "2023-11-14T15:25:25.627658800Z"
    }
   },
   "id": "2348226a8cda0846"
  },
  {
   "cell_type": "code",
   "execution_count": 4,
   "outputs": [],
   "source": [
    "better_image_names = []"
   ],
   "metadata": {
    "collapsed": false,
    "ExecuteTime": {
     "end_time": "2023-11-14T08:12:07.906710Z",
     "start_time": "2023-11-14T08:12:07.896662Z"
    }
   },
   "id": "2e45e9295e67d998"
  },
  {
   "cell_type": "code",
   "execution_count": 5,
   "outputs": [],
   "source": [
    "for i,j in enumerate(source_data['精选的包虫图像']):\n",
    "    if j == '精选':\n",
    "        better_image_names.append(source_data.iloc[i, 0])"
   ],
   "metadata": {
    "collapsed": false,
    "ExecuteTime": {
     "end_time": "2023-11-14T08:12:30.573874Z",
     "start_time": "2023-11-14T08:12:30.422668Z"
    }
   },
   "id": "48efaedee2c61407"
  },
  {
   "cell_type": "code",
   "execution_count": 6,
   "outputs": [
    {
     "name": "stdout",
     "output_type": "stream",
     "text": [
      "8405\n"
     ]
    }
   ],
   "source": [
    "print(better_image_names.__len__())"
   ],
   "metadata": {
    "collapsed": false,
    "ExecuteTime": {
     "end_time": "2023-11-14T08:12:45.678684Z",
     "start_time": "2023-11-14T08:12:45.603502Z"
    }
   },
   "id": "fe898ed38c54a6ea"
  },
  {
   "cell_type": "code",
   "execution_count": 15,
   "outputs": [],
   "source": [
    "better_image_dict = {\n",
    "    'CE':[],\n",
    "    'AE':[],\n",
    "    'All_names': []\n",
    "}\n",
    "\n",
    "for i in better_image_names:\n",
    "    j = i[:-4]\n",
    "    better_image_dict['All_names'].append(j)\n",
    "    if j.startswith('B'):\n",
    "        better_image_dict['AE'].append(j)\n",
    "    elif j.startswith('C'):\n",
    "        better_image_dict['AE'].append(j)\n",
    "    elif j.startswith('R'):\n",
    "        better_image_dict['CE'].append(j)\n",
    "    elif j.startswith('M'):\n",
    "        better_image_dict['CE'].append(j)\n",
    "    else:\n",
    "        print('xyxy', j, j.startswith('B'))"
   ],
   "metadata": {
    "collapsed": false,
    "ExecuteTime": {
     "end_time": "2023-11-14T08:26:09.956990Z",
     "start_time": "2023-11-14T08:26:09.954518Z"
    }
   },
   "id": "f0d26948ac4bc92f"
  },
  {
   "cell_type": "code",
   "execution_count": 17,
   "outputs": [
    {
     "name": "stdout",
     "output_type": "stream",
     "text": [
      "4076 4329 8405\n"
     ]
    }
   ],
   "source": [
    "print(better_image_dict['CE'].__len__(), better_image_dict['AE'].__len__(), better_image_dict['All_names'].__len__())"
   ],
   "metadata": {
    "collapsed": false,
    "ExecuteTime": {
     "end_time": "2023-11-14T08:26:44.387870Z",
     "start_time": "2023-11-14T08:26:44.381139Z"
    }
   },
   "id": "85c4f94cdf954348"
  },
  {
   "cell_type": "code",
   "execution_count": 19,
   "outputs": [
    {
     "name": "stdout",
     "output_type": "stream",
     "text": [
      "['B-0011E7D1D5506FE65860A7C161441B8E', 'B-00471E97F96A2C7C727D6FF8BB05967B', 'B-0069E8976EB261589AACAC784B378CBF', 'B-00823A87509B4BAADF0443F2DA6B1D2C', 'B-0084AA3E54CC5C1A67E007D3F2CA2725']\n"
     ]
    }
   ],
   "source": [
    "print(better_image_dict['All_names'][:5])"
   ],
   "metadata": {
    "collapsed": false,
    "ExecuteTime": {
     "end_time": "2023-11-14T08:30:15.362451Z",
     "start_time": "2023-11-14T08:30:15.349641Z"
    }
   },
   "id": "a827feafc1f38543"
  },
  {
   "cell_type": "code",
   "execution_count": 18,
   "outputs": [
    {
     "data": {
      "text/plain": "      diagnostics_Versions_PyRadiomics diagnostics_Versions_Numpy  \\\n0                               v3.1.0                     1.21.6   \n1                               v3.1.0                     1.21.6   \n2                               v3.1.0                     1.21.6   \n3                               v3.1.0                     1.21.6   \n4                               v3.1.0                     1.21.6   \n...                                ...                        ...   \n23447                           v3.1.0                     1.21.6   \n23448                           v3.1.0                     1.21.6   \n23449                           v3.1.0                     1.21.6   \n23450                           v3.1.0                     1.21.6   \n23451                           v3.1.0                     1.21.6   \n\n      diagnostics_Versions_SimpleITK diagnostics_Versions_PyWavelet  \\\n0                              2.2.1                          1.3.0   \n1                              2.2.1                          1.3.0   \n2                              2.2.1                          1.3.0   \n3                              2.2.1                          1.3.0   \n4                              2.2.1                          1.3.0   \n...                              ...                            ...   \n23447                          2.2.1                          1.3.0   \n23448                          2.2.1                          1.3.0   \n23449                          2.2.1                          1.3.0   \n23450                          2.2.1                          1.3.0   \n23451                          2.2.1                          1.3.0   \n\n      diagnostics_Versions_Python  \\\n0                           3.7.9   \n1                           3.7.9   \n2                           3.7.9   \n3                           3.7.9   \n4                           3.7.9   \n...                           ...   \n23447                       3.7.9   \n23448                       3.7.9   \n23449                       3.7.9   \n23450                       3.7.9   \n23451                       3.7.9   \n\n                      diagnostics_Configuration_Settings  \\\n0      {'minimumROIDimensions': 2, 'minimumROISize': ...   \n1      {'minimumROIDimensions': 2, 'minimumROISize': ...   \n2      {'minimumROIDimensions': 2, 'minimumROISize': ...   \n3      {'minimumROIDimensions': 2, 'minimumROISize': ...   \n4      {'minimumROIDimensions': 2, 'minimumROISize': ...   \n...                                                  ...   \n23447  {'minimumROIDimensions': 2, 'minimumROISize': ...   \n23448  {'minimumROIDimensions': 2, 'minimumROISize': ...   \n23449  {'minimumROIDimensions': 2, 'minimumROISize': ...   \n23450  {'minimumROIDimensions': 2, 'minimumROISize': ...   \n23451  {'minimumROIDimensions': 2, 'minimumROISize': ...   \n\n             diagnostics_Configuration_EnabledImageTypes  \\\n0      {'Original': {}, 'Wavelet': {}, 'LoG': {}, 'Lo...   \n1      {'Original': {}, 'Wavelet': {}, 'LoG': {}, 'Lo...   \n2      {'Original': {}, 'Wavelet': {}, 'LoG': {}, 'Lo...   \n3      {'Original': {}, 'Wavelet': {}, 'LoG': {}, 'Lo...   \n4      {'Original': {}, 'Wavelet': {}, 'LoG': {}, 'Lo...   \n...                                                  ...   \n23447  {'Original': {}, 'Wavelet': {}, 'LoG': {}, 'Lo...   \n23448  {'Original': {}, 'Wavelet': {}, 'LoG': {}, 'Lo...   \n23449  {'Original': {}, 'Wavelet': {}, 'LoG': {}, 'Lo...   \n23450  {'Original': {}, 'Wavelet': {}, 'LoG': {}, 'Lo...   \n23451  {'Original': {}, 'Wavelet': {}, 'LoG': {}, 'Lo...   \n\n                diagnostics_Image-original_Hash  \\\n0      ed56dfd16b94093bb78ace3a0bd739f8e0d877c2   \n1      8ef55464a40ae22f61f193f0992c28e56d1cf5ef   \n2      c5b7e4cc8b3304b8a9879d11034c9deb7271fd5f   \n3      dbe150397f9576e3980b938d0d01afe113615ced   \n4      9bab9badbf31000349d2c25ac168e70db027b7df   \n...                                         ...   \n23447  8e33e38aa0548554297987805fc901af7aa413b4   \n23448  c3448a7f3927722dda9d759546d512519013a64b   \n23449  f668d1f2f6016fd9ec4471029378ed8870c16d9a   \n23450  7bce5bffd1773d8c1284445f2fa904b5bdab7658   \n23451  67e32f8e482429b61fbab5129d906f997b40f519   \n\n      diagnostics_Image-original_Dimensionality  \\\n0                                            3D   \n1                                            3D   \n2                                            3D   \n3                                            3D   \n4                                            3D   \n...                                         ...   \n23447                                        3D   \n23448                                        3D   \n23449                                        3D   \n23450                                        3D   \n23451                                        3D   \n\n      diagnostics_Image-original_Spacing  ... gradient_glszm_ZoneVariance  \\\n0                        (1.0, 1.0, 1.0)  ...                2.175838e+06   \n1                        (1.0, 1.0, 1.0)  ...                1.533044e+07   \n2                        (1.0, 1.0, 1.0)  ...                1.984614e+08   \n3                        (1.0, 1.0, 1.0)  ...                3.651020e+04   \n4                        (1.0, 1.0, 1.0)  ...                2.430580e+07   \n...                                  ...  ...                         ...   \n23447                    (1.0, 1.0, 1.0)  ...                9.346179e+07   \n23448                    (1.0, 1.0, 1.0)  ...                2.273263e+05   \n23449                    (1.0, 1.0, 1.0)  ...                6.989955e+07   \n23450                    (1.0, 1.0, 1.0)  ...                3.977091e+07   \n23451                    (1.0, 1.0, 1.0)  ...                1.139050e+07   \n\n       gradient_ngtdm_Busyness  gradient_ngtdm_Coarseness  \\\n0                    10.218170                   0.049777   \n1                   321.873332                   0.000793   \n2                    92.457669                   0.002721   \n3                    10.455631                   0.017684   \n4                     8.782931                   0.057331   \n...                        ...                        ...   \n23447                 4.007028                   0.125000   \n23448                25.566116                   0.003057   \n23449                 2.126798                   0.235294   \n23450               142.932545                   0.001177   \n23451                60.670836                   0.002075   \n\n       gradient_ngtdm_Complexity gradient_ngtdm_Contrast  \\\n0                       0.008120            4.500440e-05   \n1                       0.122848            2.118807e-04   \n2                       0.022308            1.193983e-05   \n3                       1.084110            4.594474e-03   \n4                       0.002630            6.120285e-06   \n...                          ...                     ...   \n23447                   0.000779            4.554478e-07   \n23448                   4.933786            7.518353e-03   \n23449                   0.000479            1.349623e-07   \n23450                   0.187414            8.795695e-05   \n23451                   0.344726            8.659226e-05   \n\n      gradient_ngtdm_Strength label process_index  \\\n0                    0.050537     1             0   \n1                    0.003918     1             1   \n2                    0.013522     1             2   \n3                    0.208175     1             3   \n4                    0.057428     1             4   \n...                       ...   ...           ...   \n23447                0.125000     0         23447   \n23448                0.246425     0         23448   \n23449                0.235294     0         23449   \n23450                0.016185     0         23450   \n23451                0.061219     0         23451   \n\n                                     stem  patient_ID  \n0      B-00073B8A5734D5E5D21C6E9B04299C3F      00001E  \n1      B-000C017A869153D099C1AA9B0C892CF1      00002E  \n2      B-0011E7D1D5506FE65860A7C161441B8E      00003E  \n3      B-0016A093D3B14AD44076356F24B59DAC      00004E  \n4      B-00197B92826AEC1999D2DA23FE9A52C6      00005E  \n...                                   ...         ...  \n23447  R-FFBC3481A5479BE3EDB0AF8D6F5447D1      04073E  \n23448  R-FFBDA3DB7ADC48E248DD7467CFD535DC      02897E  \n23449  R-FFD03989F3566EE1C7A843748A6A8652      04592E  \n23450  R-FFDC713CF7698E805C8DA0F8B36D74AF      03363E  \n23451  R-FFF336289C5E489182A4A4EE7880AB15      04814E  \n\n[23452 rows x 1156 columns]",
      "text/html": "<div>\n<style scoped>\n    .dataframe tbody tr th:only-of-type {\n        vertical-align: middle;\n    }\n\n    .dataframe tbody tr th {\n        vertical-align: top;\n    }\n\n    .dataframe thead th {\n        text-align: right;\n    }\n</style>\n<table border=\"1\" class=\"dataframe\">\n  <thead>\n    <tr style=\"text-align: right;\">\n      <th></th>\n      <th>diagnostics_Versions_PyRadiomics</th>\n      <th>diagnostics_Versions_Numpy</th>\n      <th>diagnostics_Versions_SimpleITK</th>\n      <th>diagnostics_Versions_PyWavelet</th>\n      <th>diagnostics_Versions_Python</th>\n      <th>diagnostics_Configuration_Settings</th>\n      <th>diagnostics_Configuration_EnabledImageTypes</th>\n      <th>diagnostics_Image-original_Hash</th>\n      <th>diagnostics_Image-original_Dimensionality</th>\n      <th>diagnostics_Image-original_Spacing</th>\n      <th>...</th>\n      <th>gradient_glszm_ZoneVariance</th>\n      <th>gradient_ngtdm_Busyness</th>\n      <th>gradient_ngtdm_Coarseness</th>\n      <th>gradient_ngtdm_Complexity</th>\n      <th>gradient_ngtdm_Contrast</th>\n      <th>gradient_ngtdm_Strength</th>\n      <th>label</th>\n      <th>process_index</th>\n      <th>stem</th>\n      <th>patient_ID</th>\n    </tr>\n  </thead>\n  <tbody>\n    <tr>\n      <th>0</th>\n      <td>v3.1.0</td>\n      <td>1.21.6</td>\n      <td>2.2.1</td>\n      <td>1.3.0</td>\n      <td>3.7.9</td>\n      <td>{'minimumROIDimensions': 2, 'minimumROISize': ...</td>\n      <td>{'Original': {}, 'Wavelet': {}, 'LoG': {}, 'Lo...</td>\n      <td>ed56dfd16b94093bb78ace3a0bd739f8e0d877c2</td>\n      <td>3D</td>\n      <td>(1.0, 1.0, 1.0)</td>\n      <td>...</td>\n      <td>2.175838e+06</td>\n      <td>10.218170</td>\n      <td>0.049777</td>\n      <td>0.008120</td>\n      <td>4.500440e-05</td>\n      <td>0.050537</td>\n      <td>1</td>\n      <td>0</td>\n      <td>B-00073B8A5734D5E5D21C6E9B04299C3F</td>\n      <td>00001E</td>\n    </tr>\n    <tr>\n      <th>1</th>\n      <td>v3.1.0</td>\n      <td>1.21.6</td>\n      <td>2.2.1</td>\n      <td>1.3.0</td>\n      <td>3.7.9</td>\n      <td>{'minimumROIDimensions': 2, 'minimumROISize': ...</td>\n      <td>{'Original': {}, 'Wavelet': {}, 'LoG': {}, 'Lo...</td>\n      <td>8ef55464a40ae22f61f193f0992c28e56d1cf5ef</td>\n      <td>3D</td>\n      <td>(1.0, 1.0, 1.0)</td>\n      <td>...</td>\n      <td>1.533044e+07</td>\n      <td>321.873332</td>\n      <td>0.000793</td>\n      <td>0.122848</td>\n      <td>2.118807e-04</td>\n      <td>0.003918</td>\n      <td>1</td>\n      <td>1</td>\n      <td>B-000C017A869153D099C1AA9B0C892CF1</td>\n      <td>00002E</td>\n    </tr>\n    <tr>\n      <th>2</th>\n      <td>v3.1.0</td>\n      <td>1.21.6</td>\n      <td>2.2.1</td>\n      <td>1.3.0</td>\n      <td>3.7.9</td>\n      <td>{'minimumROIDimensions': 2, 'minimumROISize': ...</td>\n      <td>{'Original': {}, 'Wavelet': {}, 'LoG': {}, 'Lo...</td>\n      <td>c5b7e4cc8b3304b8a9879d11034c9deb7271fd5f</td>\n      <td>3D</td>\n      <td>(1.0, 1.0, 1.0)</td>\n      <td>...</td>\n      <td>1.984614e+08</td>\n      <td>92.457669</td>\n      <td>0.002721</td>\n      <td>0.022308</td>\n      <td>1.193983e-05</td>\n      <td>0.013522</td>\n      <td>1</td>\n      <td>2</td>\n      <td>B-0011E7D1D5506FE65860A7C161441B8E</td>\n      <td>00003E</td>\n    </tr>\n    <tr>\n      <th>3</th>\n      <td>v3.1.0</td>\n      <td>1.21.6</td>\n      <td>2.2.1</td>\n      <td>1.3.0</td>\n      <td>3.7.9</td>\n      <td>{'minimumROIDimensions': 2, 'minimumROISize': ...</td>\n      <td>{'Original': {}, 'Wavelet': {}, 'LoG': {}, 'Lo...</td>\n      <td>dbe150397f9576e3980b938d0d01afe113615ced</td>\n      <td>3D</td>\n      <td>(1.0, 1.0, 1.0)</td>\n      <td>...</td>\n      <td>3.651020e+04</td>\n      <td>10.455631</td>\n      <td>0.017684</td>\n      <td>1.084110</td>\n      <td>4.594474e-03</td>\n      <td>0.208175</td>\n      <td>1</td>\n      <td>3</td>\n      <td>B-0016A093D3B14AD44076356F24B59DAC</td>\n      <td>00004E</td>\n    </tr>\n    <tr>\n      <th>4</th>\n      <td>v3.1.0</td>\n      <td>1.21.6</td>\n      <td>2.2.1</td>\n      <td>1.3.0</td>\n      <td>3.7.9</td>\n      <td>{'minimumROIDimensions': 2, 'minimumROISize': ...</td>\n      <td>{'Original': {}, 'Wavelet': {}, 'LoG': {}, 'Lo...</td>\n      <td>9bab9badbf31000349d2c25ac168e70db027b7df</td>\n      <td>3D</td>\n      <td>(1.0, 1.0, 1.0)</td>\n      <td>...</td>\n      <td>2.430580e+07</td>\n      <td>8.782931</td>\n      <td>0.057331</td>\n      <td>0.002630</td>\n      <td>6.120285e-06</td>\n      <td>0.057428</td>\n      <td>1</td>\n      <td>4</td>\n      <td>B-00197B92826AEC1999D2DA23FE9A52C6</td>\n      <td>00005E</td>\n    </tr>\n    <tr>\n      <th>...</th>\n      <td>...</td>\n      <td>...</td>\n      <td>...</td>\n      <td>...</td>\n      <td>...</td>\n      <td>...</td>\n      <td>...</td>\n      <td>...</td>\n      <td>...</td>\n      <td>...</td>\n      <td>...</td>\n      <td>...</td>\n      <td>...</td>\n      <td>...</td>\n      <td>...</td>\n      <td>...</td>\n      <td>...</td>\n      <td>...</td>\n      <td>...</td>\n      <td>...</td>\n      <td>...</td>\n    </tr>\n    <tr>\n      <th>23447</th>\n      <td>v3.1.0</td>\n      <td>1.21.6</td>\n      <td>2.2.1</td>\n      <td>1.3.0</td>\n      <td>3.7.9</td>\n      <td>{'minimumROIDimensions': 2, 'minimumROISize': ...</td>\n      <td>{'Original': {}, 'Wavelet': {}, 'LoG': {}, 'Lo...</td>\n      <td>8e33e38aa0548554297987805fc901af7aa413b4</td>\n      <td>3D</td>\n      <td>(1.0, 1.0, 1.0)</td>\n      <td>...</td>\n      <td>9.346179e+07</td>\n      <td>4.007028</td>\n      <td>0.125000</td>\n      <td>0.000779</td>\n      <td>4.554478e-07</td>\n      <td>0.125000</td>\n      <td>0</td>\n      <td>23447</td>\n      <td>R-FFBC3481A5479BE3EDB0AF8D6F5447D1</td>\n      <td>04073E</td>\n    </tr>\n    <tr>\n      <th>23448</th>\n      <td>v3.1.0</td>\n      <td>1.21.6</td>\n      <td>2.2.1</td>\n      <td>1.3.0</td>\n      <td>3.7.9</td>\n      <td>{'minimumROIDimensions': 2, 'minimumROISize': ...</td>\n      <td>{'Original': {}, 'Wavelet': {}, 'LoG': {}, 'Lo...</td>\n      <td>c3448a7f3927722dda9d759546d512519013a64b</td>\n      <td>3D</td>\n      <td>(1.0, 1.0, 1.0)</td>\n      <td>...</td>\n      <td>2.273263e+05</td>\n      <td>25.566116</td>\n      <td>0.003057</td>\n      <td>4.933786</td>\n      <td>7.518353e-03</td>\n      <td>0.246425</td>\n      <td>0</td>\n      <td>23448</td>\n      <td>R-FFBDA3DB7ADC48E248DD7467CFD535DC</td>\n      <td>02897E</td>\n    </tr>\n    <tr>\n      <th>23449</th>\n      <td>v3.1.0</td>\n      <td>1.21.6</td>\n      <td>2.2.1</td>\n      <td>1.3.0</td>\n      <td>3.7.9</td>\n      <td>{'minimumROIDimensions': 2, 'minimumROISize': ...</td>\n      <td>{'Original': {}, 'Wavelet': {}, 'LoG': {}, 'Lo...</td>\n      <td>f668d1f2f6016fd9ec4471029378ed8870c16d9a</td>\n      <td>3D</td>\n      <td>(1.0, 1.0, 1.0)</td>\n      <td>...</td>\n      <td>6.989955e+07</td>\n      <td>2.126798</td>\n      <td>0.235294</td>\n      <td>0.000479</td>\n      <td>1.349623e-07</td>\n      <td>0.235294</td>\n      <td>0</td>\n      <td>23449</td>\n      <td>R-FFD03989F3566EE1C7A843748A6A8652</td>\n      <td>04592E</td>\n    </tr>\n    <tr>\n      <th>23450</th>\n      <td>v3.1.0</td>\n      <td>1.21.6</td>\n      <td>2.2.1</td>\n      <td>1.3.0</td>\n      <td>3.7.9</td>\n      <td>{'minimumROIDimensions': 2, 'minimumROISize': ...</td>\n      <td>{'Original': {}, 'Wavelet': {}, 'LoG': {}, 'Lo...</td>\n      <td>7bce5bffd1773d8c1284445f2fa904b5bdab7658</td>\n      <td>3D</td>\n      <td>(1.0, 1.0, 1.0)</td>\n      <td>...</td>\n      <td>3.977091e+07</td>\n      <td>142.932545</td>\n      <td>0.001177</td>\n      <td>0.187414</td>\n      <td>8.795695e-05</td>\n      <td>0.016185</td>\n      <td>0</td>\n      <td>23450</td>\n      <td>R-FFDC713CF7698E805C8DA0F8B36D74AF</td>\n      <td>03363E</td>\n    </tr>\n    <tr>\n      <th>23451</th>\n      <td>v3.1.0</td>\n      <td>1.21.6</td>\n      <td>2.2.1</td>\n      <td>1.3.0</td>\n      <td>3.7.9</td>\n      <td>{'minimumROIDimensions': 2, 'minimumROISize': ...</td>\n      <td>{'Original': {}, 'Wavelet': {}, 'LoG': {}, 'Lo...</td>\n      <td>67e32f8e482429b61fbab5129d906f997b40f519</td>\n      <td>3D</td>\n      <td>(1.0, 1.0, 1.0)</td>\n      <td>...</td>\n      <td>1.139050e+07</td>\n      <td>60.670836</td>\n      <td>0.002075</td>\n      <td>0.344726</td>\n      <td>8.659226e-05</td>\n      <td>0.061219</td>\n      <td>0</td>\n      <td>23451</td>\n      <td>R-FFF336289C5E489182A4A4EE7880AB15</td>\n      <td>04814E</td>\n    </tr>\n  </tbody>\n</table>\n<p>23452 rows × 1156 columns</p>\n</div>"
     },
     "execution_count": 18,
     "metadata": {},
     "output_type": "execute_result"
    }
   ],
   "source": [
    "final_extract_results"
   ],
   "metadata": {
    "collapsed": false,
    "ExecuteTime": {
     "end_time": "2023-11-14T08:28:45.067364Z",
     "start_time": "2023-11-14T08:28:45.001173Z"
    }
   },
   "id": "3b43653458e46f83"
  },
  {
   "cell_type": "code",
   "execution_count": 21,
   "outputs": [],
   "source": [
    "better_images_index = []\n",
    "for i,j in enumerate(final_extract_results['stem']):\n",
    "    if j in better_image_dict['All_names']:\n",
    "        better_images_index.append(i)"
   ],
   "metadata": {
    "collapsed": false,
    "ExecuteTime": {
     "end_time": "2023-11-14T13:59:36.079694Z",
     "start_time": "2023-11-14T13:59:33.721722Z"
    }
   },
   "id": "67dea4278f0caa86"
  },
  {
   "cell_type": "code",
   "execution_count": 23,
   "outputs": [
    {
     "data": {
      "text/plain": "(8405, [2, 11, 17, 19, 21])"
     },
     "execution_count": 23,
     "metadata": {},
     "output_type": "execute_result"
    }
   ],
   "source": [
    "better_images_index.__len__(), better_images_index[:5]"
   ],
   "metadata": {
    "collapsed": false,
    "ExecuteTime": {
     "end_time": "2023-11-14T14:00:06.197772Z",
     "start_time": "2023-11-14T14:00:06.193474Z"
    }
   },
   "id": "162c1add3b8d3791"
  },
  {
   "cell_type": "code",
   "execution_count": 25,
   "outputs": [],
   "source": [
    "with open('./resources/temp_file/better_images_index.pkl', 'wb') as f:\n",
    "    pickle.dump(better_images_index, f)"
   ],
   "metadata": {
    "collapsed": false,
    "ExecuteTime": {
     "end_time": "2023-11-14T14:03:20.439967Z",
     "start_time": "2023-11-14T14:03:20.426356Z"
    }
   },
   "id": "c12bdcf30f3795df"
  },
  {
   "cell_type": "markdown",
   "source": [
    "### 开始截取精选图像特征"
   ],
   "metadata": {
    "collapsed": false
   },
   "id": "9ae76320e20ede64"
  },
  {
   "cell_type": "code",
   "execution_count": 6,
   "outputs": [],
   "source": [
    "with open('./resources/temp_file/better_images_index.pkl', 'rb') as f:\n",
    "    better_images_index = pickle.load(f)"
   ],
   "metadata": {
    "collapsed": false,
    "ExecuteTime": {
     "end_time": "2023-11-14T15:25:11.013997600Z",
     "start_time": "2023-11-14T15:25:10.995048800Z"
    }
   },
   "id": "358fadb234b398b5"
  },
  {
   "cell_type": "code",
   "execution_count": 7,
   "outputs": [
    {
     "data": {
      "text/plain": "8405"
     },
     "execution_count": 7,
     "metadata": {},
     "output_type": "execute_result"
    }
   ],
   "source": [
    "len(better_images_index)"
   ],
   "metadata": {
    "collapsed": false,
    "ExecuteTime": {
     "end_time": "2023-11-14T15:25:11.421282700Z",
     "start_time": "2023-11-14T15:25:11.399332600Z"
    }
   },
   "id": "471b866d5e467a9a"
  },
  {
   "cell_type": "code",
   "execution_count": 16,
   "outputs": [],
   "source": [
    "better_image_extract_results = final_extract_results.loc[better_images_index]"
   ],
   "metadata": {
    "collapsed": false,
    "ExecuteTime": {
     "end_time": "2023-11-15T11:32:09.596907100Z",
     "start_time": "2023-11-15T11:32:09.538090800Z"
    }
   },
   "id": "2c93701aadc6de61"
  },
  {
   "cell_type": "code",
   "execution_count": 28,
   "outputs": [
    {
     "data": {
      "text/plain": "       original_shape_Elongation  original_shape_Flatness  \\\n2                       0.706141                        0   \n11                      0.915437                        0   \n17                      0.771783                        0   \n19                      0.847851                        0   \n21                      0.734867                        0   \n...                          ...                      ...   \n23441                   0.836709                        0   \n23445                   0.761478                        0   \n23446                   0.796614                        0   \n23448                   0.694843                        0   \n23450                   0.820288                        0   \n\n       original_shape_LeastAxisLength  original_shape_MajorAxisLength  \\\n2                                   0                      486.539994   \n11                                  0                      194.555430   \n17                                  0                      354.496355   \n19                                  0                      228.044755   \n21                                  0                      370.994399   \n...                               ...                             ...   \n23441                               0                      254.954504   \n23445                               0                      412.626424   \n23446                               0                      316.513136   \n23448                               0                       85.621733   \n23450                               0                      354.995918   \n\n       original_shape_Maximum2DDiameterColumn  \\\n2                                         472   \n11                                        191   \n17                                        329   \n19                                        235   \n21                                        359   \n...                                       ...   \n23441                                     247   \n23445                                     398   \n23446                                     285   \n23448                                      86   \n23450                                     292   \n\n       original_shape_Maximum2DDiameterRow  \\\n2                                      340   \n11                                     176   \n17                                     266   \n19                                     208   \n21                                     269   \n...                                    ...   \n23441                                  245   \n23445                                  315   \n23446                                  261   \n23448                                   59   \n23450                                  343   \n\n       original_shape_Maximum2DDiameterSlice  \\\n2                                 474.806276   \n11                                199.424171   \n17                                367.865465   \n19                                237.356272   \n21                                375.474367   \n...                                      ...   \n23441                             267.082384   \n23445                             407.921561   \n23446                             324.655202   \n23448                              87.132084   \n23450                             360.410877   \n\n       original_shape_Maximum3DDiameter  original_shape_MeshVolume  \\\n2                            474.806276              129595.666667   \n11                           199.424171               26812.666667   \n17                           367.865465               75006.666667   \n19                           237.356272               33497.666667   \n21                           375.474367               78520.916667   \n...                                 ...                        ...   \n23441                        267.082384               41111.666667   \n23445                        407.921561              101048.416667   \n23446                        324.655202               62157.666667   \n23448                         87.132084                3935.166667   \n23450                        360.410877               80756.416667   \n\n       original_shape_MinorAxisLength  ...  gradient_glszm_ZoneVariance  \\\n2                          343.565759  ...                 1.984614e+08   \n11                         178.103257  ...                 3.346420e+06   \n17                         273.594339  ...                 4.319102e+08   \n19                         193.348072  ...                 8.477003e+06   \n21                         272.631377  ...                 2.373130e+08   \n...                               ...  ...                          ...   \n23441                      213.322745  ...                 1.393211e+07   \n23445                      314.205767  ...                 6.306305e+06   \n23446                      252.138703  ...                 3.494308e+08   \n23448                       59.493655  ...                 2.273263e+05   \n23450                      291.199062  ...                 3.977091e+07   \n\n       gradient_ngtdm_Busyness  gradient_ngtdm_Coarseness  \\\n2                    92.457669                   0.002721   \n11                  194.622209                   0.001348   \n17                   18.493140                   0.027088   \n19                   52.754246                   0.003194   \n21                   40.166125                   0.012516   \n...                        ...                        ...   \n23441               117.812463                   0.002179   \n23445               398.042633                   0.000207   \n23446                18.313650                   0.027371   \n23448                25.566116                   0.003057   \n23450               142.932545                   0.001177   \n\n       gradient_ngtdm_Complexity  gradient_ngtdm_Contrast  \\\n2                       0.022308             1.193983e-05   \n11                      0.218372             8.240049e-04   \n17                      0.000981             6.007820e-07   \n19                      0.150342             7.718093e-05   \n21                      0.002029             3.636031e-06   \n...                          ...                      ...   \n23441                   0.085184             1.915864e-04   \n23445                   3.361528             7.493884e-04   \n23446                   0.001172             9.755572e-07   \n23448                   4.933786             7.518353e-03   \n23450                   0.187414             8.795695e-05   \n\n       gradient_ngtdm_Strength  label  process_index  \\\n2                     0.013522      1              2   \n11                    0.006541      1             11   \n17                    0.027617      1             17   \n19                    0.042810      1             19   \n21                    0.012480      1             21   \n...                        ...    ...            ...   \n23441                 0.010663      0          23441   \n23445                 0.017190      0          23445   \n23446                 0.027384      0          23446   \n23448                 0.246425      0          23448   \n23450                 0.016185      0          23450   \n\n                                     stem  patient_ID  \n2      B-0011E7D1D5506FE65860A7C161441B8E      00003E  \n11     B-00471E97F96A2C7C727D6FF8BB05967B      00012E  \n17     B-0069E8976EB261589AACAC784B378CBF      00018E  \n19     B-00823A87509B4BAADF0443F2DA6B1D2C      00020E  \n21     B-0084AA3E54CC5C1A67E007D3F2CA2725      00022E  \n...                                   ...         ...  \n23441  R-FF907E80A07DA3887BC550C145E7FA69      04873E  \n23445  R-FFAFE280F34781E99E19891464302BF3      04187E  \n23446  R-FFAFFF3F4F69AB2DAADB84D91D62F269      04876E  \n23448  R-FFBDA3DB7ADC48E248DD7467CFD535DC      02897E  \n23450  R-FFDC713CF7698E805C8DA0F8B36D74AF      03363E  \n\n[8405 rows x 1134 columns]",
      "text/html": "<div>\n<style scoped>\n    .dataframe tbody tr th:only-of-type {\n        vertical-align: middle;\n    }\n\n    .dataframe tbody tr th {\n        vertical-align: top;\n    }\n\n    .dataframe thead th {\n        text-align: right;\n    }\n</style>\n<table border=\"1\" class=\"dataframe\">\n  <thead>\n    <tr style=\"text-align: right;\">\n      <th></th>\n      <th>original_shape_Elongation</th>\n      <th>original_shape_Flatness</th>\n      <th>original_shape_LeastAxisLength</th>\n      <th>original_shape_MajorAxisLength</th>\n      <th>original_shape_Maximum2DDiameterColumn</th>\n      <th>original_shape_Maximum2DDiameterRow</th>\n      <th>original_shape_Maximum2DDiameterSlice</th>\n      <th>original_shape_Maximum3DDiameter</th>\n      <th>original_shape_MeshVolume</th>\n      <th>original_shape_MinorAxisLength</th>\n      <th>...</th>\n      <th>gradient_glszm_ZoneVariance</th>\n      <th>gradient_ngtdm_Busyness</th>\n      <th>gradient_ngtdm_Coarseness</th>\n      <th>gradient_ngtdm_Complexity</th>\n      <th>gradient_ngtdm_Contrast</th>\n      <th>gradient_ngtdm_Strength</th>\n      <th>label</th>\n      <th>process_index</th>\n      <th>stem</th>\n      <th>patient_ID</th>\n    </tr>\n  </thead>\n  <tbody>\n    <tr>\n      <th>2</th>\n      <td>0.706141</td>\n      <td>0</td>\n      <td>0</td>\n      <td>486.539994</td>\n      <td>472</td>\n      <td>340</td>\n      <td>474.806276</td>\n      <td>474.806276</td>\n      <td>129595.666667</td>\n      <td>343.565759</td>\n      <td>...</td>\n      <td>1.984614e+08</td>\n      <td>92.457669</td>\n      <td>0.002721</td>\n      <td>0.022308</td>\n      <td>1.193983e-05</td>\n      <td>0.013522</td>\n      <td>1</td>\n      <td>2</td>\n      <td>B-0011E7D1D5506FE65860A7C161441B8E</td>\n      <td>00003E</td>\n    </tr>\n    <tr>\n      <th>11</th>\n      <td>0.915437</td>\n      <td>0</td>\n      <td>0</td>\n      <td>194.555430</td>\n      <td>191</td>\n      <td>176</td>\n      <td>199.424171</td>\n      <td>199.424171</td>\n      <td>26812.666667</td>\n      <td>178.103257</td>\n      <td>...</td>\n      <td>3.346420e+06</td>\n      <td>194.622209</td>\n      <td>0.001348</td>\n      <td>0.218372</td>\n      <td>8.240049e-04</td>\n      <td>0.006541</td>\n      <td>1</td>\n      <td>11</td>\n      <td>B-00471E97F96A2C7C727D6FF8BB05967B</td>\n      <td>00012E</td>\n    </tr>\n    <tr>\n      <th>17</th>\n      <td>0.771783</td>\n      <td>0</td>\n      <td>0</td>\n      <td>354.496355</td>\n      <td>329</td>\n      <td>266</td>\n      <td>367.865465</td>\n      <td>367.865465</td>\n      <td>75006.666667</td>\n      <td>273.594339</td>\n      <td>...</td>\n      <td>4.319102e+08</td>\n      <td>18.493140</td>\n      <td>0.027088</td>\n      <td>0.000981</td>\n      <td>6.007820e-07</td>\n      <td>0.027617</td>\n      <td>1</td>\n      <td>17</td>\n      <td>B-0069E8976EB261589AACAC784B378CBF</td>\n      <td>00018E</td>\n    </tr>\n    <tr>\n      <th>19</th>\n      <td>0.847851</td>\n      <td>0</td>\n      <td>0</td>\n      <td>228.044755</td>\n      <td>235</td>\n      <td>208</td>\n      <td>237.356272</td>\n      <td>237.356272</td>\n      <td>33497.666667</td>\n      <td>193.348072</td>\n      <td>...</td>\n      <td>8.477003e+06</td>\n      <td>52.754246</td>\n      <td>0.003194</td>\n      <td>0.150342</td>\n      <td>7.718093e-05</td>\n      <td>0.042810</td>\n      <td>1</td>\n      <td>19</td>\n      <td>B-00823A87509B4BAADF0443F2DA6B1D2C</td>\n      <td>00020E</td>\n    </tr>\n    <tr>\n      <th>21</th>\n      <td>0.734867</td>\n      <td>0</td>\n      <td>0</td>\n      <td>370.994399</td>\n      <td>359</td>\n      <td>269</td>\n      <td>375.474367</td>\n      <td>375.474367</td>\n      <td>78520.916667</td>\n      <td>272.631377</td>\n      <td>...</td>\n      <td>2.373130e+08</td>\n      <td>40.166125</td>\n      <td>0.012516</td>\n      <td>0.002029</td>\n      <td>3.636031e-06</td>\n      <td>0.012480</td>\n      <td>1</td>\n      <td>21</td>\n      <td>B-0084AA3E54CC5C1A67E007D3F2CA2725</td>\n      <td>00022E</td>\n    </tr>\n    <tr>\n      <th>...</th>\n      <td>...</td>\n      <td>...</td>\n      <td>...</td>\n      <td>...</td>\n      <td>...</td>\n      <td>...</td>\n      <td>...</td>\n      <td>...</td>\n      <td>...</td>\n      <td>...</td>\n      <td>...</td>\n      <td>...</td>\n      <td>...</td>\n      <td>...</td>\n      <td>...</td>\n      <td>...</td>\n      <td>...</td>\n      <td>...</td>\n      <td>...</td>\n      <td>...</td>\n      <td>...</td>\n    </tr>\n    <tr>\n      <th>23441</th>\n      <td>0.836709</td>\n      <td>0</td>\n      <td>0</td>\n      <td>254.954504</td>\n      <td>247</td>\n      <td>245</td>\n      <td>267.082384</td>\n      <td>267.082384</td>\n      <td>41111.666667</td>\n      <td>213.322745</td>\n      <td>...</td>\n      <td>1.393211e+07</td>\n      <td>117.812463</td>\n      <td>0.002179</td>\n      <td>0.085184</td>\n      <td>1.915864e-04</td>\n      <td>0.010663</td>\n      <td>0</td>\n      <td>23441</td>\n      <td>R-FF907E80A07DA3887BC550C145E7FA69</td>\n      <td>04873E</td>\n    </tr>\n    <tr>\n      <th>23445</th>\n      <td>0.761478</td>\n      <td>0</td>\n      <td>0</td>\n      <td>412.626424</td>\n      <td>398</td>\n      <td>315</td>\n      <td>407.921561</td>\n      <td>407.921561</td>\n      <td>101048.416667</td>\n      <td>314.205767</td>\n      <td>...</td>\n      <td>6.306305e+06</td>\n      <td>398.042633</td>\n      <td>0.000207</td>\n      <td>3.361528</td>\n      <td>7.493884e-04</td>\n      <td>0.017190</td>\n      <td>0</td>\n      <td>23445</td>\n      <td>R-FFAFE280F34781E99E19891464302BF3</td>\n      <td>04187E</td>\n    </tr>\n    <tr>\n      <th>23446</th>\n      <td>0.796614</td>\n      <td>0</td>\n      <td>0</td>\n      <td>316.513136</td>\n      <td>285</td>\n      <td>261</td>\n      <td>324.655202</td>\n      <td>324.655202</td>\n      <td>62157.666667</td>\n      <td>252.138703</td>\n      <td>...</td>\n      <td>3.494308e+08</td>\n      <td>18.313650</td>\n      <td>0.027371</td>\n      <td>0.001172</td>\n      <td>9.755572e-07</td>\n      <td>0.027384</td>\n      <td>0</td>\n      <td>23446</td>\n      <td>R-FFAFFF3F4F69AB2DAADB84D91D62F269</td>\n      <td>04876E</td>\n    </tr>\n    <tr>\n      <th>23448</th>\n      <td>0.694843</td>\n      <td>0</td>\n      <td>0</td>\n      <td>85.621733</td>\n      <td>86</td>\n      <td>59</td>\n      <td>87.132084</td>\n      <td>87.132084</td>\n      <td>3935.166667</td>\n      <td>59.493655</td>\n      <td>...</td>\n      <td>2.273263e+05</td>\n      <td>25.566116</td>\n      <td>0.003057</td>\n      <td>4.933786</td>\n      <td>7.518353e-03</td>\n      <td>0.246425</td>\n      <td>0</td>\n      <td>23448</td>\n      <td>R-FFBDA3DB7ADC48E248DD7467CFD535DC</td>\n      <td>02897E</td>\n    </tr>\n    <tr>\n      <th>23450</th>\n      <td>0.820288</td>\n      <td>0</td>\n      <td>0</td>\n      <td>354.995918</td>\n      <td>292</td>\n      <td>343</td>\n      <td>360.410877</td>\n      <td>360.410877</td>\n      <td>80756.416667</td>\n      <td>291.199062</td>\n      <td>...</td>\n      <td>3.977091e+07</td>\n      <td>142.932545</td>\n      <td>0.001177</td>\n      <td>0.187414</td>\n      <td>8.795695e-05</td>\n      <td>0.016185</td>\n      <td>0</td>\n      <td>23450</td>\n      <td>R-FFDC713CF7698E805C8DA0F8B36D74AF</td>\n      <td>03363E</td>\n    </tr>\n  </tbody>\n</table>\n<p>8405 rows × 1134 columns</p>\n</div>"
     },
     "execution_count": 28,
     "metadata": {},
     "output_type": "execute_result"
    }
   ],
   "source": [
    "better_image_extract_results: pd.DataFrame\n",
    "better_image_extract_results.iloc[:,22:]"
   ],
   "metadata": {
    "collapsed": false,
    "ExecuteTime": {
     "end_time": "2023-11-15T11:38:33.382847400Z",
     "start_time": "2023-11-15T11:38:33.318565700Z"
    }
   },
   "id": "452fe4fa165b7593"
  },
  {
   "cell_type": "code",
   "execution_count": 23,
   "outputs": [],
   "source": [
    "better_image_extract_results.to_csv('./resources/source_data/better_image_extract_results.csv')"
   ],
   "metadata": {
    "collapsed": false,
    "ExecuteTime": {
     "end_time": "2023-11-15T11:36:00.372397100Z",
     "start_time": "2023-11-15T11:35:49.485336700Z"
    }
   },
   "id": "eaa0ac5fd608314b"
  },
  {
   "cell_type": "markdown",
   "source": [
    "### 将数据按8: 2分为训练组和测试组"
   ],
   "metadata": {
    "collapsed": false
   },
   "id": "ba00a477a1371564"
  },
  {
   "cell_type": "code",
   "execution_count": 40,
   "outputs": [],
   "source": [
    "from sklearn.model_selection import train_test_split"
   ],
   "metadata": {
    "collapsed": false,
    "ExecuteTime": {
     "end_time": "2023-11-15T12:12:04.085081800Z",
     "start_time": "2023-11-15T12:12:04.067118600Z"
    }
   },
   "id": "b4eb797ed4cd759b"
  },
  {
   "cell_type": "code",
   "execution_count": 43,
   "outputs": [],
   "source": [
    "better_images_results = pd.read_csv(r'G:\\FAE\\huis_data\\source_data\\better_images_results.csv')"
   ],
   "metadata": {
    "collapsed": false,
    "ExecuteTime": {
     "end_time": "2023-11-15T12:12:26.938969Z",
     "start_time": "2023-11-15T12:12:25.154660600Z"
    }
   },
   "id": "af67e62a68ea9fa0"
  },
  {
   "cell_type": "code",
   "execution_count": 44,
   "outputs": [
    {
     "data": {
      "text/plain": "       index  label  original_shape_Elongation  original_shape_Flatness  \\\n0     00003E      1                   0.706141                        0   \n1     00012E      1                   0.915437                        0   \n2     00018E      1                   0.771783                        0   \n3     00020E      1                   0.847851                        0   \n4     00022E      1                   0.734867                        0   \n...      ...    ...                        ...                      ...   \n8400  04873E      0                   0.836709                        0   \n8401  04187E      0                   0.761478                        0   \n8402  04876E      0                   0.796614                        0   \n8403  02897E      0                   0.694843                        0   \n8404  03363E      0                   0.820288                        0   \n\n      original_shape_LeastAxisLength  original_shape_MajorAxisLength  \\\n0                                  0                      486.539994   \n1                                  0                      194.555430   \n2                                  0                      354.496355   \n3                                  0                      228.044755   \n4                                  0                      370.994399   \n...                              ...                             ...   \n8400                               0                      254.954504   \n8401                               0                      412.626424   \n8402                               0                      316.513136   \n8403                               0                       85.621733   \n8404                               0                      354.995918   \n\n      original_shape_Maximum2DDiameterColumn  \\\n0                                        472   \n1                                        191   \n2                                        329   \n3                                        235   \n4                                        359   \n...                                      ...   \n8400                                     247   \n8401                                     398   \n8402                                     285   \n8403                                      86   \n8404                                     292   \n\n      original_shape_Maximum2DDiameterRow  \\\n0                                     340   \n1                                     176   \n2                                     266   \n3                                     208   \n4                                     269   \n...                                   ...   \n8400                                  245   \n8401                                  315   \n8402                                  261   \n8403                                   59   \n8404                                  343   \n\n      original_shape_Maximum2DDiameterSlice  original_shape_Maximum3DDiameter  \\\n0                                474.806276                        474.806276   \n1                                199.424171                        199.424171   \n2                                367.865464                        367.865464   \n3                                237.356272                        237.356272   \n4                                375.474367                        375.474367   \n...                                     ...                               ...   \n8400                             267.082384                        267.082384   \n8401                             407.921561                        407.921561   \n8402                             324.655202                        324.655202   \n8403                              87.132084                         87.132084   \n8404                             360.410877                        360.410877   \n\n      ...  gradient_glszm_SmallAreaHighGrayLevelEmphasis  \\\n0     ...                                       1.044220   \n1     ...                                       1.421589   \n2     ...                                       1.335293   \n3     ...                                       2.974376   \n4     ...                                       1.366632   \n...   ...                                            ...   \n8400  ...                                       1.164617   \n8401  ...                                       3.789671   \n8402  ...                                       0.257889   \n8403  ...                                      12.273251   \n8404  ...                                       0.987149   \n\n      gradient_glszm_SmallAreaLowGrayLevelEmphasis  \\\n0                                         0.057824   \n1                                         0.085476   \n2                                         0.083456   \n3                                         0.109513   \n4                                         0.085415   \n...                                            ...   \n8400                                      0.065243   \n8401                                      0.084092   \n8402                                      0.016118   \n8403                                      0.208563   \n8404                                      0.060166   \n\n      gradient_glszm_ZoneEntropy  gradient_glszm_ZonePercentage  \\\n0                       4.193610                       0.000639   \n1                       3.852568                       0.007310   \n2                       2.625815                       0.000159   \n3                       3.727771                       0.003834   \n4                       3.187601                       0.000317   \n...                          ...                            ...   \n8400                    4.107342                       0.002810   \n8401                    4.679143                       0.013561   \n8402                    2.446439                       0.000160   \n8403                    4.124974                       0.014794   \n8404                    4.573896                       0.001926   \n\n      gradient_glszm_ZoneVariance  gradient_ngtdm_Busyness  \\\n0                    1.984614e+08                92.457669   \n1                    3.346420e+06               194.622209   \n2                    4.319102e+08                18.493140   \n3                    8.477003e+06                52.754246   \n4                    2.373130e+08                40.166125   \n...                           ...                      ...   \n8400                 1.393211e+07               117.812463   \n8401                 6.306305e+06               398.042633   \n8402                 3.494308e+08                18.313650   \n8403                 2.273263e+05                25.566116   \n8404                 3.977091e+07               142.932545   \n\n      gradient_ngtdm_Coarseness  gradient_ngtdm_Complexity  \\\n0                      0.002721                   0.022308   \n1                      0.001348                   0.218372   \n2                      0.027088                   0.000981   \n3                      0.003194                   0.150342   \n4                      0.012516                   0.002029   \n...                         ...                        ...   \n8400                   0.002179                   0.085184   \n8401                   0.000207                   3.361528   \n8402                   0.027371                   0.001172   \n8403                   0.003057                   4.933786   \n8404                   0.001177                   0.187414   \n\n      gradient_ngtdm_Contrast  gradient_ngtdm_Strength  \n0                1.190000e-05                 0.013522  \n1                8.240050e-04                 0.006541  \n2                6.010000e-07                 0.027617  \n3                7.720000e-05                 0.042810  \n4                3.640000e-06                 0.012480  \n...                       ...                      ...  \n8400             1.915860e-04                 0.010663  \n8401             7.493880e-04                 0.017190  \n8402             9.760000e-07                 0.027384  \n8403             7.518353e-03                 0.246425  \n8404             8.800000e-05                 0.016185  \n\n[8405 rows x 1132 columns]",
      "text/html": "<div>\n<style scoped>\n    .dataframe tbody tr th:only-of-type {\n        vertical-align: middle;\n    }\n\n    .dataframe tbody tr th {\n        vertical-align: top;\n    }\n\n    .dataframe thead th {\n        text-align: right;\n    }\n</style>\n<table border=\"1\" class=\"dataframe\">\n  <thead>\n    <tr style=\"text-align: right;\">\n      <th></th>\n      <th>index</th>\n      <th>label</th>\n      <th>original_shape_Elongation</th>\n      <th>original_shape_Flatness</th>\n      <th>original_shape_LeastAxisLength</th>\n      <th>original_shape_MajorAxisLength</th>\n      <th>original_shape_Maximum2DDiameterColumn</th>\n      <th>original_shape_Maximum2DDiameterRow</th>\n      <th>original_shape_Maximum2DDiameterSlice</th>\n      <th>original_shape_Maximum3DDiameter</th>\n      <th>...</th>\n      <th>gradient_glszm_SmallAreaHighGrayLevelEmphasis</th>\n      <th>gradient_glszm_SmallAreaLowGrayLevelEmphasis</th>\n      <th>gradient_glszm_ZoneEntropy</th>\n      <th>gradient_glszm_ZonePercentage</th>\n      <th>gradient_glszm_ZoneVariance</th>\n      <th>gradient_ngtdm_Busyness</th>\n      <th>gradient_ngtdm_Coarseness</th>\n      <th>gradient_ngtdm_Complexity</th>\n      <th>gradient_ngtdm_Contrast</th>\n      <th>gradient_ngtdm_Strength</th>\n    </tr>\n  </thead>\n  <tbody>\n    <tr>\n      <th>0</th>\n      <td>00003E</td>\n      <td>1</td>\n      <td>0.706141</td>\n      <td>0</td>\n      <td>0</td>\n      <td>486.539994</td>\n      <td>472</td>\n      <td>340</td>\n      <td>474.806276</td>\n      <td>474.806276</td>\n      <td>...</td>\n      <td>1.044220</td>\n      <td>0.057824</td>\n      <td>4.193610</td>\n      <td>0.000639</td>\n      <td>1.984614e+08</td>\n      <td>92.457669</td>\n      <td>0.002721</td>\n      <td>0.022308</td>\n      <td>1.190000e-05</td>\n      <td>0.013522</td>\n    </tr>\n    <tr>\n      <th>1</th>\n      <td>00012E</td>\n      <td>1</td>\n      <td>0.915437</td>\n      <td>0</td>\n      <td>0</td>\n      <td>194.555430</td>\n      <td>191</td>\n      <td>176</td>\n      <td>199.424171</td>\n      <td>199.424171</td>\n      <td>...</td>\n      <td>1.421589</td>\n      <td>0.085476</td>\n      <td>3.852568</td>\n      <td>0.007310</td>\n      <td>3.346420e+06</td>\n      <td>194.622209</td>\n      <td>0.001348</td>\n      <td>0.218372</td>\n      <td>8.240050e-04</td>\n      <td>0.006541</td>\n    </tr>\n    <tr>\n      <th>2</th>\n      <td>00018E</td>\n      <td>1</td>\n      <td>0.771783</td>\n      <td>0</td>\n      <td>0</td>\n      <td>354.496355</td>\n      <td>329</td>\n      <td>266</td>\n      <td>367.865464</td>\n      <td>367.865464</td>\n      <td>...</td>\n      <td>1.335293</td>\n      <td>0.083456</td>\n      <td>2.625815</td>\n      <td>0.000159</td>\n      <td>4.319102e+08</td>\n      <td>18.493140</td>\n      <td>0.027088</td>\n      <td>0.000981</td>\n      <td>6.010000e-07</td>\n      <td>0.027617</td>\n    </tr>\n    <tr>\n      <th>3</th>\n      <td>00020E</td>\n      <td>1</td>\n      <td>0.847851</td>\n      <td>0</td>\n      <td>0</td>\n      <td>228.044755</td>\n      <td>235</td>\n      <td>208</td>\n      <td>237.356272</td>\n      <td>237.356272</td>\n      <td>...</td>\n      <td>2.974376</td>\n      <td>0.109513</td>\n      <td>3.727771</td>\n      <td>0.003834</td>\n      <td>8.477003e+06</td>\n      <td>52.754246</td>\n      <td>0.003194</td>\n      <td>0.150342</td>\n      <td>7.720000e-05</td>\n      <td>0.042810</td>\n    </tr>\n    <tr>\n      <th>4</th>\n      <td>00022E</td>\n      <td>1</td>\n      <td>0.734867</td>\n      <td>0</td>\n      <td>0</td>\n      <td>370.994399</td>\n      <td>359</td>\n      <td>269</td>\n      <td>375.474367</td>\n      <td>375.474367</td>\n      <td>...</td>\n      <td>1.366632</td>\n      <td>0.085415</td>\n      <td>3.187601</td>\n      <td>0.000317</td>\n      <td>2.373130e+08</td>\n      <td>40.166125</td>\n      <td>0.012516</td>\n      <td>0.002029</td>\n      <td>3.640000e-06</td>\n      <td>0.012480</td>\n    </tr>\n    <tr>\n      <th>...</th>\n      <td>...</td>\n      <td>...</td>\n      <td>...</td>\n      <td>...</td>\n      <td>...</td>\n      <td>...</td>\n      <td>...</td>\n      <td>...</td>\n      <td>...</td>\n      <td>...</td>\n      <td>...</td>\n      <td>...</td>\n      <td>...</td>\n      <td>...</td>\n      <td>...</td>\n      <td>...</td>\n      <td>...</td>\n      <td>...</td>\n      <td>...</td>\n      <td>...</td>\n      <td>...</td>\n    </tr>\n    <tr>\n      <th>8400</th>\n      <td>04873E</td>\n      <td>0</td>\n      <td>0.836709</td>\n      <td>0</td>\n      <td>0</td>\n      <td>254.954504</td>\n      <td>247</td>\n      <td>245</td>\n      <td>267.082384</td>\n      <td>267.082384</td>\n      <td>...</td>\n      <td>1.164617</td>\n      <td>0.065243</td>\n      <td>4.107342</td>\n      <td>0.002810</td>\n      <td>1.393211e+07</td>\n      <td>117.812463</td>\n      <td>0.002179</td>\n      <td>0.085184</td>\n      <td>1.915860e-04</td>\n      <td>0.010663</td>\n    </tr>\n    <tr>\n      <th>8401</th>\n      <td>04187E</td>\n      <td>0</td>\n      <td>0.761478</td>\n      <td>0</td>\n      <td>0</td>\n      <td>412.626424</td>\n      <td>398</td>\n      <td>315</td>\n      <td>407.921561</td>\n      <td>407.921561</td>\n      <td>...</td>\n      <td>3.789671</td>\n      <td>0.084092</td>\n      <td>4.679143</td>\n      <td>0.013561</td>\n      <td>6.306305e+06</td>\n      <td>398.042633</td>\n      <td>0.000207</td>\n      <td>3.361528</td>\n      <td>7.493880e-04</td>\n      <td>0.017190</td>\n    </tr>\n    <tr>\n      <th>8402</th>\n      <td>04876E</td>\n      <td>0</td>\n      <td>0.796614</td>\n      <td>0</td>\n      <td>0</td>\n      <td>316.513136</td>\n      <td>285</td>\n      <td>261</td>\n      <td>324.655202</td>\n      <td>324.655202</td>\n      <td>...</td>\n      <td>0.257889</td>\n      <td>0.016118</td>\n      <td>2.446439</td>\n      <td>0.000160</td>\n      <td>3.494308e+08</td>\n      <td>18.313650</td>\n      <td>0.027371</td>\n      <td>0.001172</td>\n      <td>9.760000e-07</td>\n      <td>0.027384</td>\n    </tr>\n    <tr>\n      <th>8403</th>\n      <td>02897E</td>\n      <td>0</td>\n      <td>0.694843</td>\n      <td>0</td>\n      <td>0</td>\n      <td>85.621733</td>\n      <td>86</td>\n      <td>59</td>\n      <td>87.132084</td>\n      <td>87.132084</td>\n      <td>...</td>\n      <td>12.273251</td>\n      <td>0.208563</td>\n      <td>4.124974</td>\n      <td>0.014794</td>\n      <td>2.273263e+05</td>\n      <td>25.566116</td>\n      <td>0.003057</td>\n      <td>4.933786</td>\n      <td>7.518353e-03</td>\n      <td>0.246425</td>\n    </tr>\n    <tr>\n      <th>8404</th>\n      <td>03363E</td>\n      <td>0</td>\n      <td>0.820288</td>\n      <td>0</td>\n      <td>0</td>\n      <td>354.995918</td>\n      <td>292</td>\n      <td>343</td>\n      <td>360.410877</td>\n      <td>360.410877</td>\n      <td>...</td>\n      <td>0.987149</td>\n      <td>0.060166</td>\n      <td>4.573896</td>\n      <td>0.001926</td>\n      <td>3.977091e+07</td>\n      <td>142.932545</td>\n      <td>0.001177</td>\n      <td>0.187414</td>\n      <td>8.800000e-05</td>\n      <td>0.016185</td>\n    </tr>\n  </tbody>\n</table>\n<p>8405 rows × 1132 columns</p>\n</div>"
     },
     "execution_count": 44,
     "metadata": {},
     "output_type": "execute_result"
    }
   ],
   "source": [
    "better_images_results"
   ],
   "metadata": {
    "collapsed": false,
    "ExecuteTime": {
     "end_time": "2023-11-15T12:12:26.967860Z",
     "start_time": "2023-11-15T12:12:26.932944700Z"
    }
   },
   "id": "5213a0359c7f3eea"
  },
  {
   "cell_type": "code",
   "execution_count": 45,
   "outputs": [],
   "source": [
    "X = better_images_results.iloc[:, [0] + list(range(2, better_images_results.shape[1]))]\n",
    "y = better_images_results.iloc[:, 1]"
   ],
   "metadata": {
    "collapsed": false,
    "ExecuteTime": {
     "end_time": "2023-11-15T12:20:01.780055400Z",
     "start_time": "2023-11-15T12:20:01.714252400Z"
    }
   },
   "id": "4f39e816516ef1a5"
  },
  {
   "cell_type": "code",
   "execution_count": 46,
   "outputs": [
    {
     "data": {
      "text/plain": "       index  original_shape_Elongation  original_shape_Flatness  \\\n0     00003E                   0.706141                        0   \n1     00012E                   0.915437                        0   \n2     00018E                   0.771783                        0   \n3     00020E                   0.847851                        0   \n4     00022E                   0.734867                        0   \n...      ...                        ...                      ...   \n8400  04873E                   0.836709                        0   \n8401  04187E                   0.761478                        0   \n8402  04876E                   0.796614                        0   \n8403  02897E                   0.694843                        0   \n8404  03363E                   0.820288                        0   \n\n      original_shape_LeastAxisLength  original_shape_MajorAxisLength  \\\n0                                  0                      486.539994   \n1                                  0                      194.555430   \n2                                  0                      354.496355   \n3                                  0                      228.044755   \n4                                  0                      370.994399   \n...                              ...                             ...   \n8400                               0                      254.954504   \n8401                               0                      412.626424   \n8402                               0                      316.513136   \n8403                               0                       85.621733   \n8404                               0                      354.995918   \n\n      original_shape_Maximum2DDiameterColumn  \\\n0                                        472   \n1                                        191   \n2                                        329   \n3                                        235   \n4                                        359   \n...                                      ...   \n8400                                     247   \n8401                                     398   \n8402                                     285   \n8403                                      86   \n8404                                     292   \n\n      original_shape_Maximum2DDiameterRow  \\\n0                                     340   \n1                                     176   \n2                                     266   \n3                                     208   \n4                                     269   \n...                                   ...   \n8400                                  245   \n8401                                  315   \n8402                                  261   \n8403                                   59   \n8404                                  343   \n\n      original_shape_Maximum2DDiameterSlice  original_shape_Maximum3DDiameter  \\\n0                                474.806276                        474.806276   \n1                                199.424171                        199.424171   \n2                                367.865464                        367.865464   \n3                                237.356272                        237.356272   \n4                                375.474367                        375.474367   \n...                                     ...                               ...   \n8400                             267.082384                        267.082384   \n8401                             407.921561                        407.921561   \n8402                             324.655202                        324.655202   \n8403                              87.132084                         87.132084   \n8404                             360.410877                        360.410877   \n\n      original_shape_MeshVolume  ...  \\\n0                 129595.666700  ...   \n1                  26812.666670  ...   \n2                  75006.666670  ...   \n3                  33497.666670  ...   \n4                  78520.916670  ...   \n...                         ...  ...   \n8400               41111.666670  ...   \n8401              101048.416700  ...   \n8402               62157.666670  ...   \n8403                3935.166667  ...   \n8404               80756.416670  ...   \n\n      gradient_glszm_SmallAreaHighGrayLevelEmphasis  \\\n0                                          1.044220   \n1                                          1.421589   \n2                                          1.335293   \n3                                          2.974376   \n4                                          1.366632   \n...                                             ...   \n8400                                       1.164617   \n8401                                       3.789671   \n8402                                       0.257889   \n8403                                      12.273251   \n8404                                       0.987149   \n\n      gradient_glszm_SmallAreaLowGrayLevelEmphasis  \\\n0                                         0.057824   \n1                                         0.085476   \n2                                         0.083456   \n3                                         0.109513   \n4                                         0.085415   \n...                                            ...   \n8400                                      0.065243   \n8401                                      0.084092   \n8402                                      0.016118   \n8403                                      0.208563   \n8404                                      0.060166   \n\n      gradient_glszm_ZoneEntropy  gradient_glszm_ZonePercentage  \\\n0                       4.193610                       0.000639   \n1                       3.852568                       0.007310   \n2                       2.625815                       0.000159   \n3                       3.727771                       0.003834   \n4                       3.187601                       0.000317   \n...                          ...                            ...   \n8400                    4.107342                       0.002810   \n8401                    4.679143                       0.013561   \n8402                    2.446439                       0.000160   \n8403                    4.124974                       0.014794   \n8404                    4.573896                       0.001926   \n\n      gradient_glszm_ZoneVariance  gradient_ngtdm_Busyness  \\\n0                    1.984614e+08                92.457669   \n1                    3.346420e+06               194.622209   \n2                    4.319102e+08                18.493140   \n3                    8.477003e+06                52.754246   \n4                    2.373130e+08                40.166125   \n...                           ...                      ...   \n8400                 1.393211e+07               117.812463   \n8401                 6.306305e+06               398.042633   \n8402                 3.494308e+08                18.313650   \n8403                 2.273263e+05                25.566116   \n8404                 3.977091e+07               142.932545   \n\n      gradient_ngtdm_Coarseness  gradient_ngtdm_Complexity  \\\n0                      0.002721                   0.022308   \n1                      0.001348                   0.218372   \n2                      0.027088                   0.000981   \n3                      0.003194                   0.150342   \n4                      0.012516                   0.002029   \n...                         ...                        ...   \n8400                   0.002179                   0.085184   \n8401                   0.000207                   3.361528   \n8402                   0.027371                   0.001172   \n8403                   0.003057                   4.933786   \n8404                   0.001177                   0.187414   \n\n      gradient_ngtdm_Contrast  gradient_ngtdm_Strength  \n0                1.190000e-05                 0.013522  \n1                8.240050e-04                 0.006541  \n2                6.010000e-07                 0.027617  \n3                7.720000e-05                 0.042810  \n4                3.640000e-06                 0.012480  \n...                       ...                      ...  \n8400             1.915860e-04                 0.010663  \n8401             7.493880e-04                 0.017190  \n8402             9.760000e-07                 0.027384  \n8403             7.518353e-03                 0.246425  \n8404             8.800000e-05                 0.016185  \n\n[8405 rows x 1131 columns]",
      "text/html": "<div>\n<style scoped>\n    .dataframe tbody tr th:only-of-type {\n        vertical-align: middle;\n    }\n\n    .dataframe tbody tr th {\n        vertical-align: top;\n    }\n\n    .dataframe thead th {\n        text-align: right;\n    }\n</style>\n<table border=\"1\" class=\"dataframe\">\n  <thead>\n    <tr style=\"text-align: right;\">\n      <th></th>\n      <th>index</th>\n      <th>original_shape_Elongation</th>\n      <th>original_shape_Flatness</th>\n      <th>original_shape_LeastAxisLength</th>\n      <th>original_shape_MajorAxisLength</th>\n      <th>original_shape_Maximum2DDiameterColumn</th>\n      <th>original_shape_Maximum2DDiameterRow</th>\n      <th>original_shape_Maximum2DDiameterSlice</th>\n      <th>original_shape_Maximum3DDiameter</th>\n      <th>original_shape_MeshVolume</th>\n      <th>...</th>\n      <th>gradient_glszm_SmallAreaHighGrayLevelEmphasis</th>\n      <th>gradient_glszm_SmallAreaLowGrayLevelEmphasis</th>\n      <th>gradient_glszm_ZoneEntropy</th>\n      <th>gradient_glszm_ZonePercentage</th>\n      <th>gradient_glszm_ZoneVariance</th>\n      <th>gradient_ngtdm_Busyness</th>\n      <th>gradient_ngtdm_Coarseness</th>\n      <th>gradient_ngtdm_Complexity</th>\n      <th>gradient_ngtdm_Contrast</th>\n      <th>gradient_ngtdm_Strength</th>\n    </tr>\n  </thead>\n  <tbody>\n    <tr>\n      <th>0</th>\n      <td>00003E</td>\n      <td>0.706141</td>\n      <td>0</td>\n      <td>0</td>\n      <td>486.539994</td>\n      <td>472</td>\n      <td>340</td>\n      <td>474.806276</td>\n      <td>474.806276</td>\n      <td>129595.666700</td>\n      <td>...</td>\n      <td>1.044220</td>\n      <td>0.057824</td>\n      <td>4.193610</td>\n      <td>0.000639</td>\n      <td>1.984614e+08</td>\n      <td>92.457669</td>\n      <td>0.002721</td>\n      <td>0.022308</td>\n      <td>1.190000e-05</td>\n      <td>0.013522</td>\n    </tr>\n    <tr>\n      <th>1</th>\n      <td>00012E</td>\n      <td>0.915437</td>\n      <td>0</td>\n      <td>0</td>\n      <td>194.555430</td>\n      <td>191</td>\n      <td>176</td>\n      <td>199.424171</td>\n      <td>199.424171</td>\n      <td>26812.666670</td>\n      <td>...</td>\n      <td>1.421589</td>\n      <td>0.085476</td>\n      <td>3.852568</td>\n      <td>0.007310</td>\n      <td>3.346420e+06</td>\n      <td>194.622209</td>\n      <td>0.001348</td>\n      <td>0.218372</td>\n      <td>8.240050e-04</td>\n      <td>0.006541</td>\n    </tr>\n    <tr>\n      <th>2</th>\n      <td>00018E</td>\n      <td>0.771783</td>\n      <td>0</td>\n      <td>0</td>\n      <td>354.496355</td>\n      <td>329</td>\n      <td>266</td>\n      <td>367.865464</td>\n      <td>367.865464</td>\n      <td>75006.666670</td>\n      <td>...</td>\n      <td>1.335293</td>\n      <td>0.083456</td>\n      <td>2.625815</td>\n      <td>0.000159</td>\n      <td>4.319102e+08</td>\n      <td>18.493140</td>\n      <td>0.027088</td>\n      <td>0.000981</td>\n      <td>6.010000e-07</td>\n      <td>0.027617</td>\n    </tr>\n    <tr>\n      <th>3</th>\n      <td>00020E</td>\n      <td>0.847851</td>\n      <td>0</td>\n      <td>0</td>\n      <td>228.044755</td>\n      <td>235</td>\n      <td>208</td>\n      <td>237.356272</td>\n      <td>237.356272</td>\n      <td>33497.666670</td>\n      <td>...</td>\n      <td>2.974376</td>\n      <td>0.109513</td>\n      <td>3.727771</td>\n      <td>0.003834</td>\n      <td>8.477003e+06</td>\n      <td>52.754246</td>\n      <td>0.003194</td>\n      <td>0.150342</td>\n      <td>7.720000e-05</td>\n      <td>0.042810</td>\n    </tr>\n    <tr>\n      <th>4</th>\n      <td>00022E</td>\n      <td>0.734867</td>\n      <td>0</td>\n      <td>0</td>\n      <td>370.994399</td>\n      <td>359</td>\n      <td>269</td>\n      <td>375.474367</td>\n      <td>375.474367</td>\n      <td>78520.916670</td>\n      <td>...</td>\n      <td>1.366632</td>\n      <td>0.085415</td>\n      <td>3.187601</td>\n      <td>0.000317</td>\n      <td>2.373130e+08</td>\n      <td>40.166125</td>\n      <td>0.012516</td>\n      <td>0.002029</td>\n      <td>3.640000e-06</td>\n      <td>0.012480</td>\n    </tr>\n    <tr>\n      <th>...</th>\n      <td>...</td>\n      <td>...</td>\n      <td>...</td>\n      <td>...</td>\n      <td>...</td>\n      <td>...</td>\n      <td>...</td>\n      <td>...</td>\n      <td>...</td>\n      <td>...</td>\n      <td>...</td>\n      <td>...</td>\n      <td>...</td>\n      <td>...</td>\n      <td>...</td>\n      <td>...</td>\n      <td>...</td>\n      <td>...</td>\n      <td>...</td>\n      <td>...</td>\n      <td>...</td>\n    </tr>\n    <tr>\n      <th>8400</th>\n      <td>04873E</td>\n      <td>0.836709</td>\n      <td>0</td>\n      <td>0</td>\n      <td>254.954504</td>\n      <td>247</td>\n      <td>245</td>\n      <td>267.082384</td>\n      <td>267.082384</td>\n      <td>41111.666670</td>\n      <td>...</td>\n      <td>1.164617</td>\n      <td>0.065243</td>\n      <td>4.107342</td>\n      <td>0.002810</td>\n      <td>1.393211e+07</td>\n      <td>117.812463</td>\n      <td>0.002179</td>\n      <td>0.085184</td>\n      <td>1.915860e-04</td>\n      <td>0.010663</td>\n    </tr>\n    <tr>\n      <th>8401</th>\n      <td>04187E</td>\n      <td>0.761478</td>\n      <td>0</td>\n      <td>0</td>\n      <td>412.626424</td>\n      <td>398</td>\n      <td>315</td>\n      <td>407.921561</td>\n      <td>407.921561</td>\n      <td>101048.416700</td>\n      <td>...</td>\n      <td>3.789671</td>\n      <td>0.084092</td>\n      <td>4.679143</td>\n      <td>0.013561</td>\n      <td>6.306305e+06</td>\n      <td>398.042633</td>\n      <td>0.000207</td>\n      <td>3.361528</td>\n      <td>7.493880e-04</td>\n      <td>0.017190</td>\n    </tr>\n    <tr>\n      <th>8402</th>\n      <td>04876E</td>\n      <td>0.796614</td>\n      <td>0</td>\n      <td>0</td>\n      <td>316.513136</td>\n      <td>285</td>\n      <td>261</td>\n      <td>324.655202</td>\n      <td>324.655202</td>\n      <td>62157.666670</td>\n      <td>...</td>\n      <td>0.257889</td>\n      <td>0.016118</td>\n      <td>2.446439</td>\n      <td>0.000160</td>\n      <td>3.494308e+08</td>\n      <td>18.313650</td>\n      <td>0.027371</td>\n      <td>0.001172</td>\n      <td>9.760000e-07</td>\n      <td>0.027384</td>\n    </tr>\n    <tr>\n      <th>8403</th>\n      <td>02897E</td>\n      <td>0.694843</td>\n      <td>0</td>\n      <td>0</td>\n      <td>85.621733</td>\n      <td>86</td>\n      <td>59</td>\n      <td>87.132084</td>\n      <td>87.132084</td>\n      <td>3935.166667</td>\n      <td>...</td>\n      <td>12.273251</td>\n      <td>0.208563</td>\n      <td>4.124974</td>\n      <td>0.014794</td>\n      <td>2.273263e+05</td>\n      <td>25.566116</td>\n      <td>0.003057</td>\n      <td>4.933786</td>\n      <td>7.518353e-03</td>\n      <td>0.246425</td>\n    </tr>\n    <tr>\n      <th>8404</th>\n      <td>03363E</td>\n      <td>0.820288</td>\n      <td>0</td>\n      <td>0</td>\n      <td>354.995918</td>\n      <td>292</td>\n      <td>343</td>\n      <td>360.410877</td>\n      <td>360.410877</td>\n      <td>80756.416670</td>\n      <td>...</td>\n      <td>0.987149</td>\n      <td>0.060166</td>\n      <td>4.573896</td>\n      <td>0.001926</td>\n      <td>3.977091e+07</td>\n      <td>142.932545</td>\n      <td>0.001177</td>\n      <td>0.187414</td>\n      <td>8.800000e-05</td>\n      <td>0.016185</td>\n    </tr>\n  </tbody>\n</table>\n<p>8405 rows × 1131 columns</p>\n</div>"
     },
     "execution_count": 46,
     "metadata": {},
     "output_type": "execute_result"
    }
   ],
   "source": [
    "X"
   ],
   "metadata": {
    "collapsed": false,
    "ExecuteTime": {
     "end_time": "2023-11-15T12:20:10.316271700Z",
     "start_time": "2023-11-15T12:20:10.265412Z"
    }
   },
   "id": "7125de1ebd1c34a3"
  },
  {
   "cell_type": "code",
   "execution_count": 47,
   "outputs": [
    {
     "data": {
      "text/plain": "0       1\n1       1\n2       1\n3       1\n4       1\n       ..\n8400    0\n8401    0\n8402    0\n8403    0\n8404    0\nName: label, Length: 8405, dtype: int64"
     },
     "execution_count": 47,
     "metadata": {},
     "output_type": "execute_result"
    }
   ],
   "source": [
    "y"
   ],
   "metadata": {
    "collapsed": false,
    "ExecuteTime": {
     "end_time": "2023-11-15T12:20:41.148107800Z",
     "start_time": "2023-11-15T12:20:41.134146700Z"
    }
   },
   "id": "f66f6a523cc7edf9"
  },
  {
   "cell_type": "code",
   "execution_count": 60,
   "outputs": [],
   "source": [
    "X_train, X_test, y_train, y_test = train_test_split(X, y, test_size=0.2, random_state=4)"
   ],
   "metadata": {
    "collapsed": false,
    "ExecuteTime": {
     "end_time": "2023-11-15T12:25:09.679428400Z",
     "start_time": "2023-11-15T12:25:09.601636900Z"
    }
   },
   "id": "28eaee3fb56f318e"
  },
  {
   "cell_type": "code",
   "execution_count": 61,
   "outputs": [
    {
     "data": {
      "text/plain": "((6724, 1131), (1681, 1131), (6724,), (1681,))"
     },
     "execution_count": 61,
     "metadata": {},
     "output_type": "execute_result"
    }
   ],
   "source": [
    "X_train.shape, X_test.shape, y_train.shape, y_test.shape"
   ],
   "metadata": {
    "collapsed": false,
    "ExecuteTime": {
     "end_time": "2023-11-15T12:25:10.399212400Z",
     "start_time": "2023-11-15T12:25:10.349299800Z"
    }
   },
   "id": "e61937a0cff2676"
  },
  {
   "cell_type": "code",
   "execution_count": 62,
   "outputs": [],
   "source": [
    "X_train: pd.DataFrame"
   ],
   "metadata": {
    "collapsed": false,
    "ExecuteTime": {
     "end_time": "2023-11-15T12:25:12.632945500Z",
     "start_time": "2023-11-15T12:25:12.614960Z"
    }
   },
   "id": "885dd4691968440a"
  },
  {
   "cell_type": "code",
   "execution_count": 63,
   "outputs": [],
   "source": [
    "X_train['label'] = y_train\n",
    "X_test['label'] = y_test"
   ],
   "metadata": {
    "collapsed": false,
    "ExecuteTime": {
     "end_time": "2023-11-15T12:25:21.316431600Z",
     "start_time": "2023-11-15T12:25:21.288520200Z"
    }
   },
   "id": "859e559eb9d15707"
  },
  {
   "cell_type": "code",
   "execution_count": 64,
   "outputs": [
    {
     "data": {
      "text/plain": "       index  original_shape_Elongation  original_shape_Flatness  \\\n6540  03979E                   0.874360                        0   \n5009  03363E                   0.939965                        0   \n1279  01842E                   0.779014                        0   \n4189  01121E                   0.526238                        0   \n2650  01185E                   0.788678                        0   \n...      ...                        ...                      ...   \n456   00572E                   0.874832                        0   \n6017  03755E                   0.737578                        0   \n709   01643E                   0.573941                        0   \n8366  03536E                   0.755482                        0   \n1146  01922E                   0.934474                        0   \n\n      original_shape_LeastAxisLength  original_shape_MajorAxisLength  \\\n6540                               0                      159.979302   \n5009                               0                      344.704502   \n1279                               0                       73.895623   \n4189                               0                      368.648244   \n2650                               0                      222.517104   \n...                              ...                             ...   \n456                                0                      245.388821   \n6017                               0                      320.230895   \n709                                0                      301.624195   \n8366                               0                      216.654417   \n1146                               0                      256.059938   \n\n      original_shape_Maximum2DDiameterColumn  \\\n6540                                     150   \n5009                                     329   \n1279                                      57   \n4189                                     371   \n2650                                     190   \n...                                      ...   \n456                                      241   \n6017                                     311   \n709                                      288   \n8366                                     208   \n1146                                     253   \n\n      original_shape_Maximum2DDiameterRow  \\\n6540                                  143   \n5009                                  340   \n1279                                   73   \n4189                                  213   \n2650                                  202   \n...                                   ...   \n456                                   219   \n6017                                  248   \n709                                   179   \n8366                                  158   \n1146                                  248   \n\n      original_shape_Maximum2DDiameterSlice  original_shape_Maximum3DDiameter  \\\n6540                             163.049072                        163.049072   \n5009                             355.620584                        355.620584   \n1279                              74.525164                         74.525164   \n4189                             376.362857                        376.362857   \n2650                             229.839074                        229.839074   \n...                                     ...                               ...   \n456                              246.333108                        246.333108   \n6017                             315.126959                        315.126959   \n709                              309.885463                        309.885463   \n8366                             216.011574                        216.011574   \n1146                             265.800677                        265.800677   \n\n      original_shape_MeshVolume  ...  \\\n6540               17370.916670  ...   \n5009               87164.916670  ...   \n1279                3272.916667  ...   \n4189               55281.916670  ...   \n2650               29456.333330  ...   \n...                         ...  ...   \n456                40989.166670  ...   \n6017               58087.666670  ...   \n709                39862.666670  ...   \n8366               27517.416670  ...   \n1146               46565.666670  ...   \n\n      gradient_glszm_SmallAreaLowGrayLevelEmphasis  \\\n6540                                      0.085783   \n5009                                      0.061736   \n1279                                      0.145432   \n4189                                      0.087637   \n2650                                      0.050350   \n...                                            ...   \n456                                       0.103966   \n6017                                      0.107442   \n709                                       0.098639   \n8366                                      0.018457   \n1146                                      0.082784   \n\n      gradient_glszm_ZoneEntropy  gradient_glszm_ZonePercentage  \\\n6540                    2.235926                       0.000400   \n5009                    4.021508                       0.001041   \n1279                    1.911513                       0.007827   \n4189                    4.269558                       0.015695   \n2650                    3.536887                       0.000642   \n...                          ...                            ...   \n456                     3.013149                       0.004811   \n6017                    2.560329                       0.000600   \n709                     2.550341                       0.000275   \n8366                    4.985461                       0.001988   \n1146                    3.416668                       0.001519   \n\n      gradient_glszm_ZoneVariance  gradient_ngtdm_Busyness  \\\n6540                 3.730953e+07                 7.934678   \n5009                 8.161608e+07                93.357424   \n1279                 3.914540e+05                26.019920   \n4189                 2.804786e+06               290.876964   \n2650                 4.330019e+07                43.413589   \n...                           ...                      ...   \n456                  8.258919e+06                44.547454   \n6017                 9.387465e+07                47.699416   \n709                  1.319691e+08                19.487413   \n8366                 1.199469e+07               156.117693   \n1146                 3.009666e+07                43.133293   \n\n      gradient_ngtdm_Coarseness  gradient_ngtdm_Complexity  \\\n6540                   0.063242                   0.001809   \n5009                   0.002703                   0.033406   \n1279                   0.020434                   0.029463   \n4189                   0.000343                   2.577750   \n2650                   0.011671                   0.005788   \n...                         ...                        ...   \n456                    0.002240                   0.539942   \n6017                   0.010555                   0.003251   \n709                    0.025806                   0.001935   \n8366                   0.001709                   0.169111   \n1146                   0.002913                   0.238027   \n\n      gradient_ngtdm_Contrast  gradient_ngtdm_Strength  label  \n6540                 0.000002                 0.062820      0  \n5009                 0.000026                 0.013338      0  \n1279                 0.000568                 0.020628      1  \n4189                 0.000965                 0.017488      1  \n2650                 0.000025                 0.011725      1  \n...                       ...                      ...    ...  \n456                  0.000029                 0.119739      1  \n6017                 0.000007                 0.010656      0  \n709                  0.000004                 0.025806      1  \n8366                 0.000844                 0.008134      0  \n1146                 0.000051                 0.147762      1  \n\n[6724 rows x 1132 columns]",
      "text/html": "<div>\n<style scoped>\n    .dataframe tbody tr th:only-of-type {\n        vertical-align: middle;\n    }\n\n    .dataframe tbody tr th {\n        vertical-align: top;\n    }\n\n    .dataframe thead th {\n        text-align: right;\n    }\n</style>\n<table border=\"1\" class=\"dataframe\">\n  <thead>\n    <tr style=\"text-align: right;\">\n      <th></th>\n      <th>index</th>\n      <th>original_shape_Elongation</th>\n      <th>original_shape_Flatness</th>\n      <th>original_shape_LeastAxisLength</th>\n      <th>original_shape_MajorAxisLength</th>\n      <th>original_shape_Maximum2DDiameterColumn</th>\n      <th>original_shape_Maximum2DDiameterRow</th>\n      <th>original_shape_Maximum2DDiameterSlice</th>\n      <th>original_shape_Maximum3DDiameter</th>\n      <th>original_shape_MeshVolume</th>\n      <th>...</th>\n      <th>gradient_glszm_SmallAreaLowGrayLevelEmphasis</th>\n      <th>gradient_glszm_ZoneEntropy</th>\n      <th>gradient_glszm_ZonePercentage</th>\n      <th>gradient_glszm_ZoneVariance</th>\n      <th>gradient_ngtdm_Busyness</th>\n      <th>gradient_ngtdm_Coarseness</th>\n      <th>gradient_ngtdm_Complexity</th>\n      <th>gradient_ngtdm_Contrast</th>\n      <th>gradient_ngtdm_Strength</th>\n      <th>label</th>\n    </tr>\n  </thead>\n  <tbody>\n    <tr>\n      <th>6540</th>\n      <td>03979E</td>\n      <td>0.874360</td>\n      <td>0</td>\n      <td>0</td>\n      <td>159.979302</td>\n      <td>150</td>\n      <td>143</td>\n      <td>163.049072</td>\n      <td>163.049072</td>\n      <td>17370.916670</td>\n      <td>...</td>\n      <td>0.085783</td>\n      <td>2.235926</td>\n      <td>0.000400</td>\n      <td>3.730953e+07</td>\n      <td>7.934678</td>\n      <td>0.063242</td>\n      <td>0.001809</td>\n      <td>0.000002</td>\n      <td>0.062820</td>\n      <td>0</td>\n    </tr>\n    <tr>\n      <th>5009</th>\n      <td>03363E</td>\n      <td>0.939965</td>\n      <td>0</td>\n      <td>0</td>\n      <td>344.704502</td>\n      <td>329</td>\n      <td>340</td>\n      <td>355.620584</td>\n      <td>355.620584</td>\n      <td>87164.916670</td>\n      <td>...</td>\n      <td>0.061736</td>\n      <td>4.021508</td>\n      <td>0.001041</td>\n      <td>8.161608e+07</td>\n      <td>93.357424</td>\n      <td>0.002703</td>\n      <td>0.033406</td>\n      <td>0.000026</td>\n      <td>0.013338</td>\n      <td>0</td>\n    </tr>\n    <tr>\n      <th>1279</th>\n      <td>01842E</td>\n      <td>0.779014</td>\n      <td>0</td>\n      <td>0</td>\n      <td>73.895623</td>\n      <td>57</td>\n      <td>73</td>\n      <td>74.525164</td>\n      <td>74.525164</td>\n      <td>3272.916667</td>\n      <td>...</td>\n      <td>0.145432</td>\n      <td>1.911513</td>\n      <td>0.007827</td>\n      <td>3.914540e+05</td>\n      <td>26.019920</td>\n      <td>0.020434</td>\n      <td>0.029463</td>\n      <td>0.000568</td>\n      <td>0.020628</td>\n      <td>1</td>\n    </tr>\n    <tr>\n      <th>4189</th>\n      <td>01121E</td>\n      <td>0.526238</td>\n      <td>0</td>\n      <td>0</td>\n      <td>368.648244</td>\n      <td>371</td>\n      <td>213</td>\n      <td>376.362857</td>\n      <td>376.362857</td>\n      <td>55281.916670</td>\n      <td>...</td>\n      <td>0.087637</td>\n      <td>4.269558</td>\n      <td>0.015695</td>\n      <td>2.804786e+06</td>\n      <td>290.876964</td>\n      <td>0.000343</td>\n      <td>2.577750</td>\n      <td>0.000965</td>\n      <td>0.017488</td>\n      <td>1</td>\n    </tr>\n    <tr>\n      <th>2650</th>\n      <td>01185E</td>\n      <td>0.788678</td>\n      <td>0</td>\n      <td>0</td>\n      <td>222.517104</td>\n      <td>190</td>\n      <td>202</td>\n      <td>229.839074</td>\n      <td>229.839074</td>\n      <td>29456.333330</td>\n      <td>...</td>\n      <td>0.050350</td>\n      <td>3.536887</td>\n      <td>0.000642</td>\n      <td>4.330019e+07</td>\n      <td>43.413589</td>\n      <td>0.011671</td>\n      <td>0.005788</td>\n      <td>0.000025</td>\n      <td>0.011725</td>\n      <td>1</td>\n    </tr>\n    <tr>\n      <th>...</th>\n      <td>...</td>\n      <td>...</td>\n      <td>...</td>\n      <td>...</td>\n      <td>...</td>\n      <td>...</td>\n      <td>...</td>\n      <td>...</td>\n      <td>...</td>\n      <td>...</td>\n      <td>...</td>\n      <td>...</td>\n      <td>...</td>\n      <td>...</td>\n      <td>...</td>\n      <td>...</td>\n      <td>...</td>\n      <td>...</td>\n      <td>...</td>\n      <td>...</td>\n      <td>...</td>\n    </tr>\n    <tr>\n      <th>456</th>\n      <td>00572E</td>\n      <td>0.874832</td>\n      <td>0</td>\n      <td>0</td>\n      <td>245.388821</td>\n      <td>241</td>\n      <td>219</td>\n      <td>246.333108</td>\n      <td>246.333108</td>\n      <td>40989.166670</td>\n      <td>...</td>\n      <td>0.103966</td>\n      <td>3.013149</td>\n      <td>0.004811</td>\n      <td>8.258919e+06</td>\n      <td>44.547454</td>\n      <td>0.002240</td>\n      <td>0.539942</td>\n      <td>0.000029</td>\n      <td>0.119739</td>\n      <td>1</td>\n    </tr>\n    <tr>\n      <th>6017</th>\n      <td>03755E</td>\n      <td>0.737578</td>\n      <td>0</td>\n      <td>0</td>\n      <td>320.230895</td>\n      <td>311</td>\n      <td>248</td>\n      <td>315.126959</td>\n      <td>315.126959</td>\n      <td>58087.666670</td>\n      <td>...</td>\n      <td>0.107442</td>\n      <td>2.560329</td>\n      <td>0.000600</td>\n      <td>9.387465e+07</td>\n      <td>47.699416</td>\n      <td>0.010555</td>\n      <td>0.003251</td>\n      <td>0.000007</td>\n      <td>0.010656</td>\n      <td>0</td>\n    </tr>\n    <tr>\n      <th>709</th>\n      <td>01643E</td>\n      <td>0.573941</td>\n      <td>0</td>\n      <td>0</td>\n      <td>301.624195</td>\n      <td>288</td>\n      <td>179</td>\n      <td>309.885463</td>\n      <td>309.885463</td>\n      <td>39862.666670</td>\n      <td>...</td>\n      <td>0.098639</td>\n      <td>2.550341</td>\n      <td>0.000275</td>\n      <td>1.319691e+08</td>\n      <td>19.487413</td>\n      <td>0.025806</td>\n      <td>0.001935</td>\n      <td>0.000004</td>\n      <td>0.025806</td>\n      <td>1</td>\n    </tr>\n    <tr>\n      <th>8366</th>\n      <td>03536E</td>\n      <td>0.755482</td>\n      <td>0</td>\n      <td>0</td>\n      <td>216.654417</td>\n      <td>208</td>\n      <td>158</td>\n      <td>216.011574</td>\n      <td>216.011574</td>\n      <td>27517.416670</td>\n      <td>...</td>\n      <td>0.018457</td>\n      <td>4.985461</td>\n      <td>0.001988</td>\n      <td>1.199469e+07</td>\n      <td>156.117693</td>\n      <td>0.001709</td>\n      <td>0.169111</td>\n      <td>0.000844</td>\n      <td>0.008134</td>\n      <td>0</td>\n    </tr>\n    <tr>\n      <th>1146</th>\n      <td>01922E</td>\n      <td>0.934474</td>\n      <td>0</td>\n      <td>0</td>\n      <td>256.059938</td>\n      <td>253</td>\n      <td>248</td>\n      <td>265.800677</td>\n      <td>265.800677</td>\n      <td>46565.666670</td>\n      <td>...</td>\n      <td>0.082784</td>\n      <td>3.416668</td>\n      <td>0.001519</td>\n      <td>3.009666e+07</td>\n      <td>43.133293</td>\n      <td>0.002913</td>\n      <td>0.238027</td>\n      <td>0.000051</td>\n      <td>0.147762</td>\n      <td>1</td>\n    </tr>\n  </tbody>\n</table>\n<p>6724 rows × 1132 columns</p>\n</div>"
     },
     "execution_count": 64,
     "metadata": {},
     "output_type": "execute_result"
    }
   ],
   "source": [
    "X_train"
   ],
   "metadata": {
    "collapsed": false,
    "ExecuteTime": {
     "end_time": "2023-11-15T12:25:22.253215500Z",
     "start_time": "2023-11-15T12:25:22.208335400Z"
    }
   },
   "id": "f113db21a97c11df"
  },
  {
   "cell_type": "code",
   "execution_count": 69,
   "outputs": [
    {
     "data": {
      "text/plain": "       index  original_shape_Elongation  original_shape_Flatness  \\\n1278  00504E                   0.724759                        0   \n5163  04206E                   0.795311                        0   \n5611  02001E                   0.930543                        0   \n7234  02443E                   0.826958                        0   \n2089  01735E                   0.909450                        0   \n...      ...                        ...                      ...   \n4984  04111E                   0.807902                        0   \n511   00088E                   0.835384                        0   \n1117  00711E                   0.910626                        0   \n1456  01001E                   0.769247                        0   \n6320  00479E                   0.923531                        0   \n\n      original_shape_LeastAxisLength  original_shape_MajorAxisLength  \\\n1278                               0                      400.551013   \n5163                               0                      202.724946   \n5611                               0                      161.249755   \n7234                               0                      173.522400   \n2089                               0                      113.337316   \n...                              ...                             ...   \n4984                               0                      237.984547   \n511                                0                      283.564064   \n1117                               0                      231.661790   \n1456                               0                      249.048218   \n6320                               0                      147.474335   \n\n      original_shape_Maximum2DDiameterColumn  \\\n1278                                     282   \n5163                                     199   \n5611                                     160   \n7234                                     168   \n2089                                     103   \n...                                      ...   \n4984                                     239   \n511                                      266   \n1117                                     246   \n1456                                     224   \n6320                                     143   \n\n      original_shape_Maximum2DDiameterRow  \\\n1278                                  383   \n5163                                  162   \n5611                                  152   \n7234                                  137   \n2089                                  110   \n...                                   ...   \n4984                                  200   \n511                                   248   \n1117                                  217   \n1456                                  231   \n6320                                  136   \n\n      original_shape_Maximum2DDiameterSlice  original_shape_Maximum3DDiameter  \\\n1278                             411.810636                        411.810636   \n5163                             199.424171                        199.424171   \n5611                             164.000000                        164.000000   \n7234                             173.458929                        173.458929   \n2089                             120.104122                        120.104122   \n...                                     ...                               ...   \n4984                             239.209114                        239.209114   \n511                              294.108823                        294.108823   \n1117                             248.072570                        248.072570   \n1456                             250.944217                        250.944217   \n6320                             150.446004                        150.446004   \n\n      original_shape_MeshVolume  ...  \\\n1278               90351.166670  ...   \n5163               25381.666670  ...   \n5611               18863.916670  ...   \n7234               19307.666670  ...   \n2089                8884.916667  ...   \n...                         ...  ...   \n4984               35421.916670  ...   \n511                52094.416670  ...   \n1117               37824.916670  ...   \n1456               36824.666670  ...   \n6320               15636.166670  ...   \n\n      gradient_glszm_SmallAreaLowGrayLevelEmphasis  \\\n1278                                      0.090803   \n5163                                      0.082793   \n5611                                      0.123248   \n7234                                      0.039273   \n2089                                      0.075850   \n...                                            ...   \n4984                                      0.107433   \n511                                       0.125000   \n1117                                      0.095569   \n1456                                      0.095535   \n6320                                      0.102185   \n\n      gradient_glszm_ZoneEntropy  gradient_glszm_ZonePercentage  \\\n1278                    4.920601                       0.001810   \n5163                    3.851061                       0.003018   \n5611                    3.153284                       0.003847   \n7234                    3.683542                       0.000927   \n2089                    3.837931                       0.005243   \n...                          ...                            ...   \n4984                    4.612389                       0.007196   \n511                     1.000000                       0.000038   \n1117                    3.327187                       0.001027   \n1456                    3.657458                       0.002352   \n6320                    4.614317                       0.016011   \n\n      gradient_glszm_ZoneVariance  gradient_ngtdm_Busyness  \\\n1278                 4.905649e+07                62.504738   \n5163                 8.106863e+06                40.437130   \n5611                 4.617084e+06                65.921845   \n7234                 1.951866e+07                18.258634   \n2089                 1.600865e+06                17.067937   \n...                           ...                      ...   \n4984                 4.687172e+06                81.107611   \n511                  6.836133e+08                 0.387524   \n1117                 3.550470e+07                40.368609   \n1456                 1.536582e+07                34.188124   \n6320                 8.792556e+05                70.245780   \n\n      gradient_ngtdm_Coarseness  gradient_ngtdm_Complexity  \\\n1278                   0.001329                   0.485143   \n5163                   0.003108                   0.350621   \n5611                   0.003903                   0.106167   \n7234                   0.013802                   0.028844   \n2089                   0.004885                   1.341779   \n...                         ...                        ...   \n4984                   0.001009                   1.689125   \n511                    1.290315                   0.000030   \n1117                   0.006239                   0.033704   \n1456                   0.002934                   0.361089   \n6320                   0.001452                   1.838579   \n\n      gradient_ngtdm_Contrast  gradient_ngtdm_Strength  label  \n1278             5.880000e-05                 0.114040      1  \n5163             1.046010e-04                 0.091890      0  \n5611             2.546440e-04                 0.018889      0  \n7234             1.980000e-05                 0.068143      0  \n2089             2.503950e-04                 0.432919      1  \n...                       ...                      ...    ...  \n4984             7.836740e-04                 0.080772      0  \n511              6.490000e-10                 1.126761      1  \n1117             2.060000e-05                 0.031001      1  \n1456             5.030000e-05                 0.159517      1  \n6320             2.218997e-03                 0.068774      0  \n\n[1681 rows x 1132 columns]",
      "text/html": "<div>\n<style scoped>\n    .dataframe tbody tr th:only-of-type {\n        vertical-align: middle;\n    }\n\n    .dataframe tbody tr th {\n        vertical-align: top;\n    }\n\n    .dataframe thead th {\n        text-align: right;\n    }\n</style>\n<table border=\"1\" class=\"dataframe\">\n  <thead>\n    <tr style=\"text-align: right;\">\n      <th></th>\n      <th>index</th>\n      <th>original_shape_Elongation</th>\n      <th>original_shape_Flatness</th>\n      <th>original_shape_LeastAxisLength</th>\n      <th>original_shape_MajorAxisLength</th>\n      <th>original_shape_Maximum2DDiameterColumn</th>\n      <th>original_shape_Maximum2DDiameterRow</th>\n      <th>original_shape_Maximum2DDiameterSlice</th>\n      <th>original_shape_Maximum3DDiameter</th>\n      <th>original_shape_MeshVolume</th>\n      <th>...</th>\n      <th>gradient_glszm_SmallAreaLowGrayLevelEmphasis</th>\n      <th>gradient_glszm_ZoneEntropy</th>\n      <th>gradient_glszm_ZonePercentage</th>\n      <th>gradient_glszm_ZoneVariance</th>\n      <th>gradient_ngtdm_Busyness</th>\n      <th>gradient_ngtdm_Coarseness</th>\n      <th>gradient_ngtdm_Complexity</th>\n      <th>gradient_ngtdm_Contrast</th>\n      <th>gradient_ngtdm_Strength</th>\n      <th>label</th>\n    </tr>\n  </thead>\n  <tbody>\n    <tr>\n      <th>1278</th>\n      <td>00504E</td>\n      <td>0.724759</td>\n      <td>0</td>\n      <td>0</td>\n      <td>400.551013</td>\n      <td>282</td>\n      <td>383</td>\n      <td>411.810636</td>\n      <td>411.810636</td>\n      <td>90351.166670</td>\n      <td>...</td>\n      <td>0.090803</td>\n      <td>4.920601</td>\n      <td>0.001810</td>\n      <td>4.905649e+07</td>\n      <td>62.504738</td>\n      <td>0.001329</td>\n      <td>0.485143</td>\n      <td>5.880000e-05</td>\n      <td>0.114040</td>\n      <td>1</td>\n    </tr>\n    <tr>\n      <th>5163</th>\n      <td>04206E</td>\n      <td>0.795311</td>\n      <td>0</td>\n      <td>0</td>\n      <td>202.724946</td>\n      <td>199</td>\n      <td>162</td>\n      <td>199.424171</td>\n      <td>199.424171</td>\n      <td>25381.666670</td>\n      <td>...</td>\n      <td>0.082793</td>\n      <td>3.851061</td>\n      <td>0.003018</td>\n      <td>8.106863e+06</td>\n      <td>40.437130</td>\n      <td>0.003108</td>\n      <td>0.350621</td>\n      <td>1.046010e-04</td>\n      <td>0.091890</td>\n      <td>0</td>\n    </tr>\n    <tr>\n      <th>5611</th>\n      <td>02001E</td>\n      <td>0.930543</td>\n      <td>0</td>\n      <td>0</td>\n      <td>161.249755</td>\n      <td>160</td>\n      <td>152</td>\n      <td>164.000000</td>\n      <td>164.000000</td>\n      <td>18863.916670</td>\n      <td>...</td>\n      <td>0.123248</td>\n      <td>3.153284</td>\n      <td>0.003847</td>\n      <td>4.617084e+06</td>\n      <td>65.921845</td>\n      <td>0.003903</td>\n      <td>0.106167</td>\n      <td>2.546440e-04</td>\n      <td>0.018889</td>\n      <td>0</td>\n    </tr>\n    <tr>\n      <th>7234</th>\n      <td>02443E</td>\n      <td>0.826958</td>\n      <td>0</td>\n      <td>0</td>\n      <td>173.522400</td>\n      <td>168</td>\n      <td>137</td>\n      <td>173.458929</td>\n      <td>173.458929</td>\n      <td>19307.666670</td>\n      <td>...</td>\n      <td>0.039273</td>\n      <td>3.683542</td>\n      <td>0.000927</td>\n      <td>1.951866e+07</td>\n      <td>18.258634</td>\n      <td>0.013802</td>\n      <td>0.028844</td>\n      <td>1.980000e-05</td>\n      <td>0.068143</td>\n      <td>0</td>\n    </tr>\n    <tr>\n      <th>2089</th>\n      <td>01735E</td>\n      <td>0.909450</td>\n      <td>0</td>\n      <td>0</td>\n      <td>113.337316</td>\n      <td>103</td>\n      <td>110</td>\n      <td>120.104122</td>\n      <td>120.104122</td>\n      <td>8884.916667</td>\n      <td>...</td>\n      <td>0.075850</td>\n      <td>3.837931</td>\n      <td>0.005243</td>\n      <td>1.600865e+06</td>\n      <td>17.067937</td>\n      <td>0.004885</td>\n      <td>1.341779</td>\n      <td>2.503950e-04</td>\n      <td>0.432919</td>\n      <td>1</td>\n    </tr>\n    <tr>\n      <th>...</th>\n      <td>...</td>\n      <td>...</td>\n      <td>...</td>\n      <td>...</td>\n      <td>...</td>\n      <td>...</td>\n      <td>...</td>\n      <td>...</td>\n      <td>...</td>\n      <td>...</td>\n      <td>...</td>\n      <td>...</td>\n      <td>...</td>\n      <td>...</td>\n      <td>...</td>\n      <td>...</td>\n      <td>...</td>\n      <td>...</td>\n      <td>...</td>\n      <td>...</td>\n      <td>...</td>\n    </tr>\n    <tr>\n      <th>4984</th>\n      <td>04111E</td>\n      <td>0.807902</td>\n      <td>0</td>\n      <td>0</td>\n      <td>237.984547</td>\n      <td>239</td>\n      <td>200</td>\n      <td>239.209114</td>\n      <td>239.209114</td>\n      <td>35421.916670</td>\n      <td>...</td>\n      <td>0.107433</td>\n      <td>4.612389</td>\n      <td>0.007196</td>\n      <td>4.687172e+06</td>\n      <td>81.107611</td>\n      <td>0.001009</td>\n      <td>1.689125</td>\n      <td>7.836740e-04</td>\n      <td>0.080772</td>\n      <td>0</td>\n    </tr>\n    <tr>\n      <th>511</th>\n      <td>00088E</td>\n      <td>0.835384</td>\n      <td>0</td>\n      <td>0</td>\n      <td>283.564064</td>\n      <td>266</td>\n      <td>248</td>\n      <td>294.108823</td>\n      <td>294.108823</td>\n      <td>52094.416670</td>\n      <td>...</td>\n      <td>0.125000</td>\n      <td>1.000000</td>\n      <td>0.000038</td>\n      <td>6.836133e+08</td>\n      <td>0.387524</td>\n      <td>1.290315</td>\n      <td>0.000030</td>\n      <td>6.490000e-10</td>\n      <td>1.126761</td>\n      <td>1</td>\n    </tr>\n    <tr>\n      <th>1117</th>\n      <td>00711E</td>\n      <td>0.910626</td>\n      <td>0</td>\n      <td>0</td>\n      <td>231.661790</td>\n      <td>246</td>\n      <td>217</td>\n      <td>248.072570</td>\n      <td>248.072570</td>\n      <td>37824.916670</td>\n      <td>...</td>\n      <td>0.095569</td>\n      <td>3.327187</td>\n      <td>0.001027</td>\n      <td>3.550470e+07</td>\n      <td>40.368609</td>\n      <td>0.006239</td>\n      <td>0.033704</td>\n      <td>2.060000e-05</td>\n      <td>0.031001</td>\n      <td>1</td>\n    </tr>\n    <tr>\n      <th>1456</th>\n      <td>01001E</td>\n      <td>0.769247</td>\n      <td>0</td>\n      <td>0</td>\n      <td>249.048218</td>\n      <td>224</td>\n      <td>231</td>\n      <td>250.944217</td>\n      <td>250.944217</td>\n      <td>36824.666670</td>\n      <td>...</td>\n      <td>0.095535</td>\n      <td>3.657458</td>\n      <td>0.002352</td>\n      <td>1.536582e+07</td>\n      <td>34.188124</td>\n      <td>0.002934</td>\n      <td>0.361089</td>\n      <td>5.030000e-05</td>\n      <td>0.159517</td>\n      <td>1</td>\n    </tr>\n    <tr>\n      <th>6320</th>\n      <td>00479E</td>\n      <td>0.923531</td>\n      <td>0</td>\n      <td>0</td>\n      <td>147.474335</td>\n      <td>143</td>\n      <td>136</td>\n      <td>150.446004</td>\n      <td>150.446004</td>\n      <td>15636.166670</td>\n      <td>...</td>\n      <td>0.102185</td>\n      <td>4.614317</td>\n      <td>0.016011</td>\n      <td>8.792556e+05</td>\n      <td>70.245780</td>\n      <td>0.001452</td>\n      <td>1.838579</td>\n      <td>2.218997e-03</td>\n      <td>0.068774</td>\n      <td>0</td>\n    </tr>\n  </tbody>\n</table>\n<p>1681 rows × 1132 columns</p>\n</div>"
     },
     "execution_count": 69,
     "metadata": {},
     "output_type": "execute_result"
    }
   ],
   "source": [
    "X_test.iloc[:, :]"
   ],
   "metadata": {
    "collapsed": false,
    "ExecuteTime": {
     "end_time": "2023-11-15T12:38:00.741183800Z",
     "start_time": "2023-11-15T12:38:00.691399700Z"
    }
   },
   "id": "797435cdd2ef3430"
  },
  {
   "cell_type": "code",
   "execution_count": 66,
   "outputs": [],
   "source": [
    "X_train.to_csv('./resources/source_data/better_images_train_set.csv')\n",
    "X_test.to_csv('./resources/source_data/better_images_test_set.csv')"
   ],
   "metadata": {
    "collapsed": false,
    "ExecuteTime": {
     "end_time": "2023-11-15T12:27:06.638843400Z",
     "start_time": "2023-11-15T12:26:57.353059Z"
    }
   },
   "id": "47964743eeddbcd1"
  },
  {
   "cell_type": "code",
   "execution_count": null,
   "outputs": [],
   "source": [],
   "metadata": {
    "collapsed": false
   },
   "id": "2fa982a543b21bdf"
  }
 ],
 "metadata": {
  "kernelspec": {
   "display_name": "Python 3",
   "language": "python",
   "name": "python3"
  },
  "language_info": {
   "codemirror_mode": {
    "name": "ipython",
    "version": 2
   },
   "file_extension": ".py",
   "mimetype": "text/x-python",
   "name": "python",
   "nbconvert_exporter": "python",
   "pygments_lexer": "ipython2",
   "version": "2.7.6"
  }
 },
 "nbformat": 4,
 "nbformat_minor": 5
}
