{
 "cells": [
  {
   "cell_type": "code",
   "execution_count": 24,
   "id": "initial_id",
   "metadata": {
    "collapsed": true,
    "ExecuteTime": {
     "end_time": "2023-11-14T14:02:16.607973Z",
     "start_time": "2023-11-14T14:02:16.605846Z"
    }
   },
   "outputs": [],
   "source": [
    "import pandas as pd\n",
    "from pathlib import Path\n",
    "import pickle"
   ]
  },
  {
   "cell_type": "code",
   "execution_count": 2,
   "outputs": [],
   "source": [
    "final_extract_results_path = Path('./resources/temp_file/final_extract_results.pkl')\n",
    "source_data_path = Path('./resources/source_data/source_data.csv')"
   ],
   "metadata": {
    "collapsed": false,
    "ExecuteTime": {
     "end_time": "2023-11-14T08:11:53.409637Z",
     "start_time": "2023-11-14T08:11:53.406230Z"
    }
   },
   "id": "b220e7c77798d12d"
  },
  {
   "cell_type": "code",
   "execution_count": 3,
   "outputs": [],
   "source": [
    "final_extract_results: pd.DataFrame = pd.read_pickle(final_extract_results_path)\n",
    "source_data: pd.DataFrame = pd.read_csv(source_data_path)"
   ],
   "metadata": {
    "collapsed": false,
    "ExecuteTime": {
     "end_time": "2023-11-14T08:12:00.741760Z",
     "start_time": "2023-11-14T08:12:00.350703Z"
    }
   },
   "id": "2348226a8cda0846"
  },
  {
   "cell_type": "code",
   "execution_count": 4,
   "outputs": [],
   "source": [
    "better_image_names = []"
   ],
   "metadata": {
    "collapsed": false,
    "ExecuteTime": {
     "end_time": "2023-11-14T08:12:07.906710Z",
     "start_time": "2023-11-14T08:12:07.896662Z"
    }
   },
   "id": "2e45e9295e67d998"
  },
  {
   "cell_type": "code",
   "execution_count": 5,
   "outputs": [],
   "source": [
    "for i,j in enumerate(source_data['精选的包虫图像']):\n",
    "    if j == '精选':\n",
    "        better_image_names.append(source_data.iloc[i, 0])"
   ],
   "metadata": {
    "collapsed": false,
    "ExecuteTime": {
     "end_time": "2023-11-14T08:12:30.573874Z",
     "start_time": "2023-11-14T08:12:30.422668Z"
    }
   },
   "id": "48efaedee2c61407"
  },
  {
   "cell_type": "code",
   "execution_count": 6,
   "outputs": [
    {
     "name": "stdout",
     "output_type": "stream",
     "text": [
      "8405\n"
     ]
    }
   ],
   "source": [
    "print(better_image_names.__len__())"
   ],
   "metadata": {
    "collapsed": false,
    "ExecuteTime": {
     "end_time": "2023-11-14T08:12:45.678684Z",
     "start_time": "2023-11-14T08:12:45.603502Z"
    }
   },
   "id": "fe898ed38c54a6ea"
  },
  {
   "cell_type": "code",
   "execution_count": 15,
   "outputs": [],
   "source": [
    "better_image_dict = {\n",
    "    'CE':[],\n",
    "    'AE':[],\n",
    "    'All_names': []\n",
    "}\n",
    "\n",
    "for i in better_image_names:\n",
    "    j = i[:-4]\n",
    "    better_image_dict['All_names'].append(j)\n",
    "    if j.startswith('B'):\n",
    "        better_image_dict['AE'].append(j)\n",
    "    elif j.startswith('C'):\n",
    "        better_image_dict['AE'].append(j)\n",
    "    elif j.startswith('R'):\n",
    "        better_image_dict['CE'].append(j)\n",
    "    elif j.startswith('M'):\n",
    "        better_image_dict['CE'].append(j)\n",
    "    else:\n",
    "        print('xyxy', j, j.startswith('B'))"
   ],
   "metadata": {
    "collapsed": false,
    "ExecuteTime": {
     "end_time": "2023-11-14T08:26:09.956990Z",
     "start_time": "2023-11-14T08:26:09.954518Z"
    }
   },
   "id": "f0d26948ac4bc92f"
  },
  {
   "cell_type": "code",
   "execution_count": 17,
   "outputs": [
    {
     "name": "stdout",
     "output_type": "stream",
     "text": [
      "4076 4329 8405\n"
     ]
    }
   ],
   "source": [
    "print(better_image_dict['CE'].__len__(), better_image_dict['AE'].__len__(), better_image_dict['All_names'].__len__())"
   ],
   "metadata": {
    "collapsed": false,
    "ExecuteTime": {
     "end_time": "2023-11-14T08:26:44.387870Z",
     "start_time": "2023-11-14T08:26:44.381139Z"
    }
   },
   "id": "85c4f94cdf954348"
  },
  {
   "cell_type": "code",
   "execution_count": 19,
   "outputs": [
    {
     "name": "stdout",
     "output_type": "stream",
     "text": [
      "['B-0011E7D1D5506FE65860A7C161441B8E', 'B-00471E97F96A2C7C727D6FF8BB05967B', 'B-0069E8976EB261589AACAC784B378CBF', 'B-00823A87509B4BAADF0443F2DA6B1D2C', 'B-0084AA3E54CC5C1A67E007D3F2CA2725']\n"
     ]
    }
   ],
   "source": [
    "print(better_image_dict['All_names'][:5])"
   ],
   "metadata": {
    "collapsed": false,
    "ExecuteTime": {
     "end_time": "2023-11-14T08:30:15.362451Z",
     "start_time": "2023-11-14T08:30:15.349641Z"
    }
   },
   "id": "a827feafc1f38543"
  },
  {
   "cell_type": "code",
   "execution_count": 18,
   "outputs": [
    {
     "data": {
      "text/plain": "      diagnostics_Versions_PyRadiomics diagnostics_Versions_Numpy  \\\n0                               v3.1.0                     1.21.6   \n1                               v3.1.0                     1.21.6   \n2                               v3.1.0                     1.21.6   \n3                               v3.1.0                     1.21.6   \n4                               v3.1.0                     1.21.6   \n...                                ...                        ...   \n23447                           v3.1.0                     1.21.6   \n23448                           v3.1.0                     1.21.6   \n23449                           v3.1.0                     1.21.6   \n23450                           v3.1.0                     1.21.6   \n23451                           v3.1.0                     1.21.6   \n\n      diagnostics_Versions_SimpleITK diagnostics_Versions_PyWavelet  \\\n0                              2.2.1                          1.3.0   \n1                              2.2.1                          1.3.0   \n2                              2.2.1                          1.3.0   \n3                              2.2.1                          1.3.0   \n4                              2.2.1                          1.3.0   \n...                              ...                            ...   \n23447                          2.2.1                          1.3.0   \n23448                          2.2.1                          1.3.0   \n23449                          2.2.1                          1.3.0   \n23450                          2.2.1                          1.3.0   \n23451                          2.2.1                          1.3.0   \n\n      diagnostics_Versions_Python  \\\n0                           3.7.9   \n1                           3.7.9   \n2                           3.7.9   \n3                           3.7.9   \n4                           3.7.9   \n...                           ...   \n23447                       3.7.9   \n23448                       3.7.9   \n23449                       3.7.9   \n23450                       3.7.9   \n23451                       3.7.9   \n\n                      diagnostics_Configuration_Settings  \\\n0      {'minimumROIDimensions': 2, 'minimumROISize': ...   \n1      {'minimumROIDimensions': 2, 'minimumROISize': ...   \n2      {'minimumROIDimensions': 2, 'minimumROISize': ...   \n3      {'minimumROIDimensions': 2, 'minimumROISize': ...   \n4      {'minimumROIDimensions': 2, 'minimumROISize': ...   \n...                                                  ...   \n23447  {'minimumROIDimensions': 2, 'minimumROISize': ...   \n23448  {'minimumROIDimensions': 2, 'minimumROISize': ...   \n23449  {'minimumROIDimensions': 2, 'minimumROISize': ...   \n23450  {'minimumROIDimensions': 2, 'minimumROISize': ...   \n23451  {'minimumROIDimensions': 2, 'minimumROISize': ...   \n\n             diagnostics_Configuration_EnabledImageTypes  \\\n0      {'Original': {}, 'Wavelet': {}, 'LoG': {}, 'Lo...   \n1      {'Original': {}, 'Wavelet': {}, 'LoG': {}, 'Lo...   \n2      {'Original': {}, 'Wavelet': {}, 'LoG': {}, 'Lo...   \n3      {'Original': {}, 'Wavelet': {}, 'LoG': {}, 'Lo...   \n4      {'Original': {}, 'Wavelet': {}, 'LoG': {}, 'Lo...   \n...                                                  ...   \n23447  {'Original': {}, 'Wavelet': {}, 'LoG': {}, 'Lo...   \n23448  {'Original': {}, 'Wavelet': {}, 'LoG': {}, 'Lo...   \n23449  {'Original': {}, 'Wavelet': {}, 'LoG': {}, 'Lo...   \n23450  {'Original': {}, 'Wavelet': {}, 'LoG': {}, 'Lo...   \n23451  {'Original': {}, 'Wavelet': {}, 'LoG': {}, 'Lo...   \n\n                diagnostics_Image-original_Hash  \\\n0      ed56dfd16b94093bb78ace3a0bd739f8e0d877c2   \n1      8ef55464a40ae22f61f193f0992c28e56d1cf5ef   \n2      c5b7e4cc8b3304b8a9879d11034c9deb7271fd5f   \n3      dbe150397f9576e3980b938d0d01afe113615ced   \n4      9bab9badbf31000349d2c25ac168e70db027b7df   \n...                                         ...   \n23447  8e33e38aa0548554297987805fc901af7aa413b4   \n23448  c3448a7f3927722dda9d759546d512519013a64b   \n23449  f668d1f2f6016fd9ec4471029378ed8870c16d9a   \n23450  7bce5bffd1773d8c1284445f2fa904b5bdab7658   \n23451  67e32f8e482429b61fbab5129d906f997b40f519   \n\n      diagnostics_Image-original_Dimensionality  \\\n0                                            3D   \n1                                            3D   \n2                                            3D   \n3                                            3D   \n4                                            3D   \n...                                         ...   \n23447                                        3D   \n23448                                        3D   \n23449                                        3D   \n23450                                        3D   \n23451                                        3D   \n\n      diagnostics_Image-original_Spacing  ... gradient_glszm_ZoneVariance  \\\n0                        (1.0, 1.0, 1.0)  ...                2.175838e+06   \n1                        (1.0, 1.0, 1.0)  ...                1.533044e+07   \n2                        (1.0, 1.0, 1.0)  ...                1.984614e+08   \n3                        (1.0, 1.0, 1.0)  ...                3.651020e+04   \n4                        (1.0, 1.0, 1.0)  ...                2.430580e+07   \n...                                  ...  ...                         ...   \n23447                    (1.0, 1.0, 1.0)  ...                9.346179e+07   \n23448                    (1.0, 1.0, 1.0)  ...                2.273263e+05   \n23449                    (1.0, 1.0, 1.0)  ...                6.989955e+07   \n23450                    (1.0, 1.0, 1.0)  ...                3.977091e+07   \n23451                    (1.0, 1.0, 1.0)  ...                1.139050e+07   \n\n       gradient_ngtdm_Busyness  gradient_ngtdm_Coarseness  \\\n0                    10.218170                   0.049777   \n1                   321.873332                   0.000793   \n2                    92.457669                   0.002721   \n3                    10.455631                   0.017684   \n4                     8.782931                   0.057331   \n...                        ...                        ...   \n23447                 4.007028                   0.125000   \n23448                25.566116                   0.003057   \n23449                 2.126798                   0.235294   \n23450               142.932545                   0.001177   \n23451                60.670836                   0.002075   \n\n       gradient_ngtdm_Complexity gradient_ngtdm_Contrast  \\\n0                       0.008120            4.500440e-05   \n1                       0.122848            2.118807e-04   \n2                       0.022308            1.193983e-05   \n3                       1.084110            4.594474e-03   \n4                       0.002630            6.120285e-06   \n...                          ...                     ...   \n23447                   0.000779            4.554478e-07   \n23448                   4.933786            7.518353e-03   \n23449                   0.000479            1.349623e-07   \n23450                   0.187414            8.795695e-05   \n23451                   0.344726            8.659226e-05   \n\n      gradient_ngtdm_Strength label process_index  \\\n0                    0.050537     1             0   \n1                    0.003918     1             1   \n2                    0.013522     1             2   \n3                    0.208175     1             3   \n4                    0.057428     1             4   \n...                       ...   ...           ...   \n23447                0.125000     0         23447   \n23448                0.246425     0         23448   \n23449                0.235294     0         23449   \n23450                0.016185     0         23450   \n23451                0.061219     0         23451   \n\n                                     stem  patient_ID  \n0      B-00073B8A5734D5E5D21C6E9B04299C3F      00001E  \n1      B-000C017A869153D099C1AA9B0C892CF1      00002E  \n2      B-0011E7D1D5506FE65860A7C161441B8E      00003E  \n3      B-0016A093D3B14AD44076356F24B59DAC      00004E  \n4      B-00197B92826AEC1999D2DA23FE9A52C6      00005E  \n...                                   ...         ...  \n23447  R-FFBC3481A5479BE3EDB0AF8D6F5447D1      04073E  \n23448  R-FFBDA3DB7ADC48E248DD7467CFD535DC      02897E  \n23449  R-FFD03989F3566EE1C7A843748A6A8652      04592E  \n23450  R-FFDC713CF7698E805C8DA0F8B36D74AF      03363E  \n23451  R-FFF336289C5E489182A4A4EE7880AB15      04814E  \n\n[23452 rows x 1156 columns]",
      "text/html": "<div>\n<style scoped>\n    .dataframe tbody tr th:only-of-type {\n        vertical-align: middle;\n    }\n\n    .dataframe tbody tr th {\n        vertical-align: top;\n    }\n\n    .dataframe thead th {\n        text-align: right;\n    }\n</style>\n<table border=\"1\" class=\"dataframe\">\n  <thead>\n    <tr style=\"text-align: right;\">\n      <th></th>\n      <th>diagnostics_Versions_PyRadiomics</th>\n      <th>diagnostics_Versions_Numpy</th>\n      <th>diagnostics_Versions_SimpleITK</th>\n      <th>diagnostics_Versions_PyWavelet</th>\n      <th>diagnostics_Versions_Python</th>\n      <th>diagnostics_Configuration_Settings</th>\n      <th>diagnostics_Configuration_EnabledImageTypes</th>\n      <th>diagnostics_Image-original_Hash</th>\n      <th>diagnostics_Image-original_Dimensionality</th>\n      <th>diagnostics_Image-original_Spacing</th>\n      <th>...</th>\n      <th>gradient_glszm_ZoneVariance</th>\n      <th>gradient_ngtdm_Busyness</th>\n      <th>gradient_ngtdm_Coarseness</th>\n      <th>gradient_ngtdm_Complexity</th>\n      <th>gradient_ngtdm_Contrast</th>\n      <th>gradient_ngtdm_Strength</th>\n      <th>label</th>\n      <th>process_index</th>\n      <th>stem</th>\n      <th>patient_ID</th>\n    </tr>\n  </thead>\n  <tbody>\n    <tr>\n      <th>0</th>\n      <td>v3.1.0</td>\n      <td>1.21.6</td>\n      <td>2.2.1</td>\n      <td>1.3.0</td>\n      <td>3.7.9</td>\n      <td>{'minimumROIDimensions': 2, 'minimumROISize': ...</td>\n      <td>{'Original': {}, 'Wavelet': {}, 'LoG': {}, 'Lo...</td>\n      <td>ed56dfd16b94093bb78ace3a0bd739f8e0d877c2</td>\n      <td>3D</td>\n      <td>(1.0, 1.0, 1.0)</td>\n      <td>...</td>\n      <td>2.175838e+06</td>\n      <td>10.218170</td>\n      <td>0.049777</td>\n      <td>0.008120</td>\n      <td>4.500440e-05</td>\n      <td>0.050537</td>\n      <td>1</td>\n      <td>0</td>\n      <td>B-00073B8A5734D5E5D21C6E9B04299C3F</td>\n      <td>00001E</td>\n    </tr>\n    <tr>\n      <th>1</th>\n      <td>v3.1.0</td>\n      <td>1.21.6</td>\n      <td>2.2.1</td>\n      <td>1.3.0</td>\n      <td>3.7.9</td>\n      <td>{'minimumROIDimensions': 2, 'minimumROISize': ...</td>\n      <td>{'Original': {}, 'Wavelet': {}, 'LoG': {}, 'Lo...</td>\n      <td>8ef55464a40ae22f61f193f0992c28e56d1cf5ef</td>\n      <td>3D</td>\n      <td>(1.0, 1.0, 1.0)</td>\n      <td>...</td>\n      <td>1.533044e+07</td>\n      <td>321.873332</td>\n      <td>0.000793</td>\n      <td>0.122848</td>\n      <td>2.118807e-04</td>\n      <td>0.003918</td>\n      <td>1</td>\n      <td>1</td>\n      <td>B-000C017A869153D099C1AA9B0C892CF1</td>\n      <td>00002E</td>\n    </tr>\n    <tr>\n      <th>2</th>\n      <td>v3.1.0</td>\n      <td>1.21.6</td>\n      <td>2.2.1</td>\n      <td>1.3.0</td>\n      <td>3.7.9</td>\n      <td>{'minimumROIDimensions': 2, 'minimumROISize': ...</td>\n      <td>{'Original': {}, 'Wavelet': {}, 'LoG': {}, 'Lo...</td>\n      <td>c5b7e4cc8b3304b8a9879d11034c9deb7271fd5f</td>\n      <td>3D</td>\n      <td>(1.0, 1.0, 1.0)</td>\n      <td>...</td>\n      <td>1.984614e+08</td>\n      <td>92.457669</td>\n      <td>0.002721</td>\n      <td>0.022308</td>\n      <td>1.193983e-05</td>\n      <td>0.013522</td>\n      <td>1</td>\n      <td>2</td>\n      <td>B-0011E7D1D5506FE65860A7C161441B8E</td>\n      <td>00003E</td>\n    </tr>\n    <tr>\n      <th>3</th>\n      <td>v3.1.0</td>\n      <td>1.21.6</td>\n      <td>2.2.1</td>\n      <td>1.3.0</td>\n      <td>3.7.9</td>\n      <td>{'minimumROIDimensions': 2, 'minimumROISize': ...</td>\n      <td>{'Original': {}, 'Wavelet': {}, 'LoG': {}, 'Lo...</td>\n      <td>dbe150397f9576e3980b938d0d01afe113615ced</td>\n      <td>3D</td>\n      <td>(1.0, 1.0, 1.0)</td>\n      <td>...</td>\n      <td>3.651020e+04</td>\n      <td>10.455631</td>\n      <td>0.017684</td>\n      <td>1.084110</td>\n      <td>4.594474e-03</td>\n      <td>0.208175</td>\n      <td>1</td>\n      <td>3</td>\n      <td>B-0016A093D3B14AD44076356F24B59DAC</td>\n      <td>00004E</td>\n    </tr>\n    <tr>\n      <th>4</th>\n      <td>v3.1.0</td>\n      <td>1.21.6</td>\n      <td>2.2.1</td>\n      <td>1.3.0</td>\n      <td>3.7.9</td>\n      <td>{'minimumROIDimensions': 2, 'minimumROISize': ...</td>\n      <td>{'Original': {}, 'Wavelet': {}, 'LoG': {}, 'Lo...</td>\n      <td>9bab9badbf31000349d2c25ac168e70db027b7df</td>\n      <td>3D</td>\n      <td>(1.0, 1.0, 1.0)</td>\n      <td>...</td>\n      <td>2.430580e+07</td>\n      <td>8.782931</td>\n      <td>0.057331</td>\n      <td>0.002630</td>\n      <td>6.120285e-06</td>\n      <td>0.057428</td>\n      <td>1</td>\n      <td>4</td>\n      <td>B-00197B92826AEC1999D2DA23FE9A52C6</td>\n      <td>00005E</td>\n    </tr>\n    <tr>\n      <th>...</th>\n      <td>...</td>\n      <td>...</td>\n      <td>...</td>\n      <td>...</td>\n      <td>...</td>\n      <td>...</td>\n      <td>...</td>\n      <td>...</td>\n      <td>...</td>\n      <td>...</td>\n      <td>...</td>\n      <td>...</td>\n      <td>...</td>\n      <td>...</td>\n      <td>...</td>\n      <td>...</td>\n      <td>...</td>\n      <td>...</td>\n      <td>...</td>\n      <td>...</td>\n      <td>...</td>\n    </tr>\n    <tr>\n      <th>23447</th>\n      <td>v3.1.0</td>\n      <td>1.21.6</td>\n      <td>2.2.1</td>\n      <td>1.3.0</td>\n      <td>3.7.9</td>\n      <td>{'minimumROIDimensions': 2, 'minimumROISize': ...</td>\n      <td>{'Original': {}, 'Wavelet': {}, 'LoG': {}, 'Lo...</td>\n      <td>8e33e38aa0548554297987805fc901af7aa413b4</td>\n      <td>3D</td>\n      <td>(1.0, 1.0, 1.0)</td>\n      <td>...</td>\n      <td>9.346179e+07</td>\n      <td>4.007028</td>\n      <td>0.125000</td>\n      <td>0.000779</td>\n      <td>4.554478e-07</td>\n      <td>0.125000</td>\n      <td>0</td>\n      <td>23447</td>\n      <td>R-FFBC3481A5479BE3EDB0AF8D6F5447D1</td>\n      <td>04073E</td>\n    </tr>\n    <tr>\n      <th>23448</th>\n      <td>v3.1.0</td>\n      <td>1.21.6</td>\n      <td>2.2.1</td>\n      <td>1.3.0</td>\n      <td>3.7.9</td>\n      <td>{'minimumROIDimensions': 2, 'minimumROISize': ...</td>\n      <td>{'Original': {}, 'Wavelet': {}, 'LoG': {}, 'Lo...</td>\n      <td>c3448a7f3927722dda9d759546d512519013a64b</td>\n      <td>3D</td>\n      <td>(1.0, 1.0, 1.0)</td>\n      <td>...</td>\n      <td>2.273263e+05</td>\n      <td>25.566116</td>\n      <td>0.003057</td>\n      <td>4.933786</td>\n      <td>7.518353e-03</td>\n      <td>0.246425</td>\n      <td>0</td>\n      <td>23448</td>\n      <td>R-FFBDA3DB7ADC48E248DD7467CFD535DC</td>\n      <td>02897E</td>\n    </tr>\n    <tr>\n      <th>23449</th>\n      <td>v3.1.0</td>\n      <td>1.21.6</td>\n      <td>2.2.1</td>\n      <td>1.3.0</td>\n      <td>3.7.9</td>\n      <td>{'minimumROIDimensions': 2, 'minimumROISize': ...</td>\n      <td>{'Original': {}, 'Wavelet': {}, 'LoG': {}, 'Lo...</td>\n      <td>f668d1f2f6016fd9ec4471029378ed8870c16d9a</td>\n      <td>3D</td>\n      <td>(1.0, 1.0, 1.0)</td>\n      <td>...</td>\n      <td>6.989955e+07</td>\n      <td>2.126798</td>\n      <td>0.235294</td>\n      <td>0.000479</td>\n      <td>1.349623e-07</td>\n      <td>0.235294</td>\n      <td>0</td>\n      <td>23449</td>\n      <td>R-FFD03989F3566EE1C7A843748A6A8652</td>\n      <td>04592E</td>\n    </tr>\n    <tr>\n      <th>23450</th>\n      <td>v3.1.0</td>\n      <td>1.21.6</td>\n      <td>2.2.1</td>\n      <td>1.3.0</td>\n      <td>3.7.9</td>\n      <td>{'minimumROIDimensions': 2, 'minimumROISize': ...</td>\n      <td>{'Original': {}, 'Wavelet': {}, 'LoG': {}, 'Lo...</td>\n      <td>7bce5bffd1773d8c1284445f2fa904b5bdab7658</td>\n      <td>3D</td>\n      <td>(1.0, 1.0, 1.0)</td>\n      <td>...</td>\n      <td>3.977091e+07</td>\n      <td>142.932545</td>\n      <td>0.001177</td>\n      <td>0.187414</td>\n      <td>8.795695e-05</td>\n      <td>0.016185</td>\n      <td>0</td>\n      <td>23450</td>\n      <td>R-FFDC713CF7698E805C8DA0F8B36D74AF</td>\n      <td>03363E</td>\n    </tr>\n    <tr>\n      <th>23451</th>\n      <td>v3.1.0</td>\n      <td>1.21.6</td>\n      <td>2.2.1</td>\n      <td>1.3.0</td>\n      <td>3.7.9</td>\n      <td>{'minimumROIDimensions': 2, 'minimumROISize': ...</td>\n      <td>{'Original': {}, 'Wavelet': {}, 'LoG': {}, 'Lo...</td>\n      <td>67e32f8e482429b61fbab5129d906f997b40f519</td>\n      <td>3D</td>\n      <td>(1.0, 1.0, 1.0)</td>\n      <td>...</td>\n      <td>1.139050e+07</td>\n      <td>60.670836</td>\n      <td>0.002075</td>\n      <td>0.344726</td>\n      <td>8.659226e-05</td>\n      <td>0.061219</td>\n      <td>0</td>\n      <td>23451</td>\n      <td>R-FFF336289C5E489182A4A4EE7880AB15</td>\n      <td>04814E</td>\n    </tr>\n  </tbody>\n</table>\n<p>23452 rows × 1156 columns</p>\n</div>"
     },
     "execution_count": 18,
     "metadata": {},
     "output_type": "execute_result"
    }
   ],
   "source": [
    "final_extract_results"
   ],
   "metadata": {
    "collapsed": false,
    "ExecuteTime": {
     "end_time": "2023-11-14T08:28:45.067364Z",
     "start_time": "2023-11-14T08:28:45.001173Z"
    }
   },
   "id": "3b43653458e46f83"
  },
  {
   "cell_type": "code",
   "execution_count": 21,
   "outputs": [],
   "source": [
    "better_images_index = []\n",
    "for i,j in enumerate(final_extract_results['stem']):\n",
    "    if j in better_image_dict['All_names']:\n",
    "        better_images_index.append(i)"
   ],
   "metadata": {
    "collapsed": false,
    "ExecuteTime": {
     "end_time": "2023-11-14T13:59:36.079694Z",
     "start_time": "2023-11-14T13:59:33.721722Z"
    }
   },
   "id": "67dea4278f0caa86"
  },
  {
   "cell_type": "code",
   "execution_count": 23,
   "outputs": [
    {
     "data": {
      "text/plain": "(8405, [2, 11, 17, 19, 21])"
     },
     "execution_count": 23,
     "metadata": {},
     "output_type": "execute_result"
    }
   ],
   "source": [
    "better_images_index.__len__(), better_images_index[:5]"
   ],
   "metadata": {
    "collapsed": false,
    "ExecuteTime": {
     "end_time": "2023-11-14T14:00:06.197772Z",
     "start_time": "2023-11-14T14:00:06.193474Z"
    }
   },
   "id": "162c1add3b8d3791"
  },
  {
   "cell_type": "code",
   "execution_count": 25,
   "outputs": [],
   "source": [
    "with open('./resources/temp_file/better_images_index.pkl', 'wb') as f:\n",
    "    pickle.dump(better_images_index, f)"
   ],
   "metadata": {
    "collapsed": false,
    "ExecuteTime": {
     "end_time": "2023-11-14T14:03:20.439967Z",
     "start_time": "2023-11-14T14:03:20.426356Z"
    }
   },
   "id": "c12bdcf30f3795df"
  },
  {
   "cell_type": "code",
   "execution_count": null,
   "outputs": [],
   "source": [],
   "metadata": {
    "collapsed": false
   },
   "id": "358fadb234b398b5"
  }
 ],
 "metadata": {
  "kernelspec": {
   "display_name": "Python 3",
   "language": "python",
   "name": "python3"
  },
  "language_info": {
   "codemirror_mode": {
    "name": "ipython",
    "version": 2
   },
   "file_extension": ".py",
   "mimetype": "text/x-python",
   "name": "python",
   "nbconvert_exporter": "python",
   "pygments_lexer": "ipython2",
   "version": "2.7.6"
  }
 },
 "nbformat": 4,
 "nbformat_minor": 5
}
