{
 "cells": [
  {
   "cell_type": "code",
   "execution_count": 4,
   "id": "initial_id",
   "metadata": {
    "collapsed": true,
    "ExecuteTime": {
     "end_time": "2023-11-23T02:14:42.406026800Z",
     "start_time": "2023-11-23T02:14:42.379998300Z"
    }
   },
   "outputs": [],
   "source": [
    "import pandas as pd\n",
    "from pathlib import Path\n",
    "import pickle"
   ]
  },
  {
   "cell_type": "code",
   "execution_count": 7,
   "outputs": [],
   "source": [
    "final_extract_results_path = Path('./resources/temp_file/final_extract_results_2D.pkl')\n",
    "source_data_path = Path('./resources/source_data/source_data.csv')"
   ],
   "metadata": {
    "collapsed": false,
    "ExecuteTime": {
     "end_time": "2023-11-23T02:18:23.592470500Z",
     "start_time": "2023-11-23T02:18:23.566812500Z"
    }
   },
   "id": "b220e7c77798d12d"
  },
  {
   "cell_type": "code",
   "execution_count": 8,
   "outputs": [],
   "source": [
    "final_extract_results: pd.DataFrame = pd.read_pickle(final_extract_results_path)\n",
    "source_data: pd.DataFrame = pd.read_csv(source_data_path)"
   ],
   "metadata": {
    "collapsed": false,
    "ExecuteTime": {
     "end_time": "2023-11-23T02:18:25.961033400Z",
     "start_time": "2023-11-23T02:18:25.746456300Z"
    }
   },
   "id": "2348226a8cda0846"
  },
  {
   "cell_type": "code",
   "execution_count": 4,
   "outputs": [],
   "source": [
    "better_image_names = []"
   ],
   "metadata": {
    "collapsed": false,
    "ExecuteTime": {
     "end_time": "2023-11-14T08:12:07.906710Z",
     "start_time": "2023-11-14T08:12:07.896662Z"
    }
   },
   "id": "2e45e9295e67d998"
  },
  {
   "cell_type": "code",
   "execution_count": 5,
   "outputs": [],
   "source": [
    "for i,j in enumerate(source_data['精选的包虫图像']):\n",
    "    if j == '精选':\n",
    "        better_image_names.append(source_data.iloc[i, 0])"
   ],
   "metadata": {
    "collapsed": false,
    "ExecuteTime": {
     "end_time": "2023-11-14T08:12:30.573874Z",
     "start_time": "2023-11-14T08:12:30.422668Z"
    }
   },
   "id": "48efaedee2c61407"
  },
  {
   "cell_type": "code",
   "execution_count": 6,
   "outputs": [
    {
     "name": "stdout",
     "output_type": "stream",
     "text": [
      "8405\n"
     ]
    }
   ],
   "source": [
    "print(better_image_names.__len__())"
   ],
   "metadata": {
    "collapsed": false,
    "ExecuteTime": {
     "end_time": "2023-11-14T08:12:45.678684Z",
     "start_time": "2023-11-14T08:12:45.603502Z"
    }
   },
   "id": "fe898ed38c54a6ea"
  },
  {
   "cell_type": "code",
   "execution_count": 15,
   "outputs": [],
   "source": [
    "better_image_dict = {\n",
    "    'CE':[],\n",
    "    'AE':[],\n",
    "    'All_names': []\n",
    "}\n",
    "\n",
    "for i in better_image_names:\n",
    "    j = i[:-4]\n",
    "    better_image_dict['All_names'].append(j)\n",
    "    if j.startswith('B'):\n",
    "        better_image_dict['AE'].append(j)\n",
    "    elif j.startswith('C'):\n",
    "        better_image_dict['AE'].append(j)\n",
    "    elif j.startswith('R'):\n",
    "        better_image_dict['CE'].append(j)\n",
    "    elif j.startswith('M'):\n",
    "        better_image_dict['CE'].append(j)\n",
    "    else:\n",
    "        print('xyxy', j, j.startswith('B'))"
   ],
   "metadata": {
    "collapsed": false,
    "ExecuteTime": {
     "end_time": "2023-11-14T08:26:09.956990Z",
     "start_time": "2023-11-14T08:26:09.954518Z"
    }
   },
   "id": "f0d26948ac4bc92f"
  },
  {
   "cell_type": "code",
   "execution_count": 17,
   "outputs": [
    {
     "name": "stdout",
     "output_type": "stream",
     "text": [
      "4076 4329 8405\n"
     ]
    }
   ],
   "source": [
    "print(better_image_dict['CE'].__len__(), better_image_dict['AE'].__len__(), better_image_dict['All_names'].__len__())"
   ],
   "metadata": {
    "collapsed": false,
    "ExecuteTime": {
     "end_time": "2023-11-14T08:26:44.387870Z",
     "start_time": "2023-11-14T08:26:44.381139Z"
    }
   },
   "id": "85c4f94cdf954348"
  },
  {
   "cell_type": "code",
   "execution_count": 19,
   "outputs": [
    {
     "name": "stdout",
     "output_type": "stream",
     "text": [
      "['B-0011E7D1D5506FE65860A7C161441B8E', 'B-00471E97F96A2C7C727D6FF8BB05967B', 'B-0069E8976EB261589AACAC784B378CBF', 'B-00823A87509B4BAADF0443F2DA6B1D2C', 'B-0084AA3E54CC5C1A67E007D3F2CA2725']\n"
     ]
    }
   ],
   "source": [
    "print(better_image_dict['All_names'][:5])"
   ],
   "metadata": {
    "collapsed": false,
    "ExecuteTime": {
     "end_time": "2023-11-14T08:30:15.362451Z",
     "start_time": "2023-11-14T08:30:15.349641Z"
    }
   },
   "id": "a827feafc1f38543"
  },
  {
   "cell_type": "code",
   "execution_count": 9,
   "outputs": [
    {
     "data": {
      "text/plain": "      diagnostics_Versions_PyRadiomics diagnostics_Versions_Numpy  \\\n0                               v3.1.0                     1.26.2   \n1                               v3.1.0                     1.26.2   \n2                               v3.1.0                     1.26.2   \n3                               v3.1.0                     1.26.2   \n4                               v3.1.0                     1.26.2   \n...                                ...                        ...   \n23447                           v3.1.0                     1.26.2   \n23448                           v3.1.0                     1.26.2   \n23449                           v3.1.0                     1.26.2   \n23450                           v3.1.0                     1.26.2   \n23451                           v3.1.0                     1.26.2   \n\n      diagnostics_Versions_SimpleITK diagnostics_Versions_PyWavelet  \\\n0                              2.3.1                          1.5.0   \n1                              2.3.1                          1.5.0   \n2                              2.3.1                          1.5.0   \n3                              2.3.1                          1.5.0   \n4                              2.3.1                          1.5.0   \n...                              ...                            ...   \n23447                          2.3.1                          1.5.0   \n23448                          2.3.1                          1.5.0   \n23449                          2.3.1                          1.5.0   \n23450                          2.3.1                          1.5.0   \n23451                          2.3.1                          1.5.0   \n\n      diagnostics_Versions_Python  \\\n0                           3.9.9   \n1                           3.9.9   \n2                           3.9.9   \n3                           3.9.9   \n4                           3.9.9   \n...                           ...   \n23447                       3.9.9   \n23448                       3.9.9   \n23449                       3.9.9   \n23450                       3.9.9   \n23451                       3.9.9   \n\n                      diagnostics_Configuration_Settings  \\\n0      {'minimumROIDimensions': 2, 'minimumROISize': ...   \n1      {'minimumROIDimensions': 2, 'minimumROISize': ...   \n2      {'minimumROIDimensions': 2, 'minimumROISize': ...   \n3      {'minimumROIDimensions': 2, 'minimumROISize': ...   \n4      {'minimumROIDimensions': 2, 'minimumROISize': ...   \n...                                                  ...   \n23447  {'minimumROIDimensions': 2, 'minimumROISize': ...   \n23448  {'minimumROIDimensions': 2, 'minimumROISize': ...   \n23449  {'minimumROIDimensions': 2, 'minimumROISize': ...   \n23450  {'minimumROIDimensions': 2, 'minimumROISize': ...   \n23451  {'minimumROIDimensions': 2, 'minimumROISize': ...   \n\n      diagnostics_Configuration_EnabledImageTypes  \\\n0                 {'Original': {}, 'Wavelet': {}}   \n1                 {'Original': {}, 'Wavelet': {}}   \n2                 {'Original': {}, 'Wavelet': {}}   \n3                 {'Original': {}, 'Wavelet': {}}   \n4                 {'Original': {}, 'Wavelet': {}}   \n...                                           ...   \n23447             {'Original': {}, 'Wavelet': {}}   \n23448             {'Original': {}, 'Wavelet': {}}   \n23449             {'Original': {}, 'Wavelet': {}}   \n23450             {'Original': {}, 'Wavelet': {}}   \n23451             {'Original': {}, 'Wavelet': {}}   \n\n                diagnostics_Image-original_Hash  \\\n0      ed56dfd16b94093bb78ace3a0bd739f8e0d877c2   \n1      8ef55464a40ae22f61f193f0992c28e56d1cf5ef   \n2      c5b7e4cc8b3304b8a9879d11034c9deb7271fd5f   \n3      dbe150397f9576e3980b938d0d01afe113615ced   \n4      9bab9badbf31000349d2c25ac168e70db027b7df   \n...                                         ...   \n23447  8e33e38aa0548554297987805fc901af7aa413b4   \n23448  c3448a7f3927722dda9d759546d512519013a64b   \n23449  f668d1f2f6016fd9ec4471029378ed8870c16d9a   \n23450  7bce5bffd1773d8c1284445f2fa904b5bdab7658   \n23451  67e32f8e482429b61fbab5129d906f997b40f519   \n\n      diagnostics_Image-original_Dimensionality  \\\n0                                            2D   \n1                                            2D   \n2                                            2D   \n3                                            2D   \n4                                            2D   \n...                                         ...   \n23447                                        2D   \n23448                                        2D   \n23449                                        2D   \n23450                                        2D   \n23451                                        2D   \n\n      diagnostics_Image-original_Spacing  ... wavelet-LL_glszm_ZoneVariance  \\\n0                             (1.0, 1.0)  ...                   2281.788429   \n1                             (1.0, 1.0)  ...                  55814.098463   \n2                             (1.0, 1.0)  ...                  61580.594853   \n3                             (1.0, 1.0)  ...                     76.184447   \n4                             (1.0, 1.0)  ...                 124973.902758   \n...                                  ...  ...                           ...   \n23447                         (1.0, 1.0)  ...                 386473.511511   \n23448                         (1.0, 1.0)  ...                   2992.808864   \n23449                         (1.0, 1.0)  ...                 207325.816817   \n23450                         (1.0, 1.0)  ...                  14455.030555   \n23451                         (1.0, 1.0)  ...                  41052.059316   \n\n       wavelet-LL_ngtdm_Busyness  wavelet-LL_ngtdm_Coarseness  \\\n0                       1.424073                     0.005610   \n1                      22.165058                     0.000406   \n2                      13.688392                     0.000461   \n3                       0.431729                     0.035985   \n4                      20.141635                     0.001589   \n...                          ...                          ...   \n23447                  12.238447                     0.001847   \n23448                   1.109356                     0.005211   \n23449                  32.430332                     0.001068   \n23450                  15.110109                     0.000721   \n23451                  11.328964                     0.000450   \n\n       wavelet-LL_ngtdm_Complexity wavelet-LL_ngtdm_Contrast  \\\n0                        22.477047                  0.024276   \n1                        66.659237                  0.015573   \n2                        48.959748                  0.019433   \n3                        46.214073                  0.043458   \n4                        11.626865                  0.010630   \n...                            ...                       ...   \n23447                    14.851245                  0.007082   \n23448                   106.835716                  0.017226   \n23449                     6.067431                  0.007648   \n23450                    53.906875                  0.026073   \n23451                    78.169066                  0.005440   \n\n      wavelet-LL_ngtdm_Strength label process_index  \\\n0                      0.402022     1             0   \n1                      0.102826     1             1   \n2                      0.087557     1             2   \n3                      3.901009     1             3   \n4                      0.116817     1             4   \n...                         ...   ...           ...   \n23447                  0.251368     0         23447   \n23448                  1.764040     0         23448   \n23449                  0.037139     0         23449   \n23450                  0.157918     0         23450   \n23451                  0.208988     0         23451   \n\n                                     stem  patient_ID  \n0      B-00073B8A5734D5E5D21C6E9B04299C3F      00001E  \n1      B-000C017A869153D099C1AA9B0C892CF1      00002E  \n2      B-0011E7D1D5506FE65860A7C161441B8E      00003E  \n3      B-0016A093D3B14AD44076356F24B59DAC      00004E  \n4      B-00197B92826AEC1999D2DA23FE9A52C6      00005E  \n...                                   ...         ...  \n23447  R-FFBC3481A5479BE3EDB0AF8D6F5447D1      04073E  \n23448  R-FFBDA3DB7ADC48E248DD7467CFD535DC      02897E  \n23449  R-FFD03989F3566EE1C7A843748A6A8652      04592E  \n23450  R-FFDC713CF7698E805C8DA0F8B36D74AF      03363E  \n23451  R-FFF336289C5E489182A4A4EE7880AB15      04814E  \n\n[23452 rows x 500 columns]",
      "text/html": "<div>\n<style scoped>\n    .dataframe tbody tr th:only-of-type {\n        vertical-align: middle;\n    }\n\n    .dataframe tbody tr th {\n        vertical-align: top;\n    }\n\n    .dataframe thead th {\n        text-align: right;\n    }\n</style>\n<table border=\"1\" class=\"dataframe\">\n  <thead>\n    <tr style=\"text-align: right;\">\n      <th></th>\n      <th>diagnostics_Versions_PyRadiomics</th>\n      <th>diagnostics_Versions_Numpy</th>\n      <th>diagnostics_Versions_SimpleITK</th>\n      <th>diagnostics_Versions_PyWavelet</th>\n      <th>diagnostics_Versions_Python</th>\n      <th>diagnostics_Configuration_Settings</th>\n      <th>diagnostics_Configuration_EnabledImageTypes</th>\n      <th>diagnostics_Image-original_Hash</th>\n      <th>diagnostics_Image-original_Dimensionality</th>\n      <th>diagnostics_Image-original_Spacing</th>\n      <th>...</th>\n      <th>wavelet-LL_glszm_ZoneVariance</th>\n      <th>wavelet-LL_ngtdm_Busyness</th>\n      <th>wavelet-LL_ngtdm_Coarseness</th>\n      <th>wavelet-LL_ngtdm_Complexity</th>\n      <th>wavelet-LL_ngtdm_Contrast</th>\n      <th>wavelet-LL_ngtdm_Strength</th>\n      <th>label</th>\n      <th>process_index</th>\n      <th>stem</th>\n      <th>patient_ID</th>\n    </tr>\n  </thead>\n  <tbody>\n    <tr>\n      <th>0</th>\n      <td>v3.1.0</td>\n      <td>1.26.2</td>\n      <td>2.3.1</td>\n      <td>1.5.0</td>\n      <td>3.9.9</td>\n      <td>{'minimumROIDimensions': 2, 'minimumROISize': ...</td>\n      <td>{'Original': {}, 'Wavelet': {}}</td>\n      <td>ed56dfd16b94093bb78ace3a0bd739f8e0d877c2</td>\n      <td>2D</td>\n      <td>(1.0, 1.0)</td>\n      <td>...</td>\n      <td>2281.788429</td>\n      <td>1.424073</td>\n      <td>0.005610</td>\n      <td>22.477047</td>\n      <td>0.024276</td>\n      <td>0.402022</td>\n      <td>1</td>\n      <td>0</td>\n      <td>B-00073B8A5734D5E5D21C6E9B04299C3F</td>\n      <td>00001E</td>\n    </tr>\n    <tr>\n      <th>1</th>\n      <td>v3.1.0</td>\n      <td>1.26.2</td>\n      <td>2.3.1</td>\n      <td>1.5.0</td>\n      <td>3.9.9</td>\n      <td>{'minimumROIDimensions': 2, 'minimumROISize': ...</td>\n      <td>{'Original': {}, 'Wavelet': {}}</td>\n      <td>8ef55464a40ae22f61f193f0992c28e56d1cf5ef</td>\n      <td>2D</td>\n      <td>(1.0, 1.0)</td>\n      <td>...</td>\n      <td>55814.098463</td>\n      <td>22.165058</td>\n      <td>0.000406</td>\n      <td>66.659237</td>\n      <td>0.015573</td>\n      <td>0.102826</td>\n      <td>1</td>\n      <td>1</td>\n      <td>B-000C017A869153D099C1AA9B0C892CF1</td>\n      <td>00002E</td>\n    </tr>\n    <tr>\n      <th>2</th>\n      <td>v3.1.0</td>\n      <td>1.26.2</td>\n      <td>2.3.1</td>\n      <td>1.5.0</td>\n      <td>3.9.9</td>\n      <td>{'minimumROIDimensions': 2, 'minimumROISize': ...</td>\n      <td>{'Original': {}, 'Wavelet': {}}</td>\n      <td>c5b7e4cc8b3304b8a9879d11034c9deb7271fd5f</td>\n      <td>2D</td>\n      <td>(1.0, 1.0)</td>\n      <td>...</td>\n      <td>61580.594853</td>\n      <td>13.688392</td>\n      <td>0.000461</td>\n      <td>48.959748</td>\n      <td>0.019433</td>\n      <td>0.087557</td>\n      <td>1</td>\n      <td>2</td>\n      <td>B-0011E7D1D5506FE65860A7C161441B8E</td>\n      <td>00003E</td>\n    </tr>\n    <tr>\n      <th>3</th>\n      <td>v3.1.0</td>\n      <td>1.26.2</td>\n      <td>2.3.1</td>\n      <td>1.5.0</td>\n      <td>3.9.9</td>\n      <td>{'minimumROIDimensions': 2, 'minimumROISize': ...</td>\n      <td>{'Original': {}, 'Wavelet': {}}</td>\n      <td>dbe150397f9576e3980b938d0d01afe113615ced</td>\n      <td>2D</td>\n      <td>(1.0, 1.0)</td>\n      <td>...</td>\n      <td>76.184447</td>\n      <td>0.431729</td>\n      <td>0.035985</td>\n      <td>46.214073</td>\n      <td>0.043458</td>\n      <td>3.901009</td>\n      <td>1</td>\n      <td>3</td>\n      <td>B-0016A093D3B14AD44076356F24B59DAC</td>\n      <td>00004E</td>\n    </tr>\n    <tr>\n      <th>4</th>\n      <td>v3.1.0</td>\n      <td>1.26.2</td>\n      <td>2.3.1</td>\n      <td>1.5.0</td>\n      <td>3.9.9</td>\n      <td>{'minimumROIDimensions': 2, 'minimumROISize': ...</td>\n      <td>{'Original': {}, 'Wavelet': {}}</td>\n      <td>9bab9badbf31000349d2c25ac168e70db027b7df</td>\n      <td>2D</td>\n      <td>(1.0, 1.0)</td>\n      <td>...</td>\n      <td>124973.902758</td>\n      <td>20.141635</td>\n      <td>0.001589</td>\n      <td>11.626865</td>\n      <td>0.010630</td>\n      <td>0.116817</td>\n      <td>1</td>\n      <td>4</td>\n      <td>B-00197B92826AEC1999D2DA23FE9A52C6</td>\n      <td>00005E</td>\n    </tr>\n    <tr>\n      <th>...</th>\n      <td>...</td>\n      <td>...</td>\n      <td>...</td>\n      <td>...</td>\n      <td>...</td>\n      <td>...</td>\n      <td>...</td>\n      <td>...</td>\n      <td>...</td>\n      <td>...</td>\n      <td>...</td>\n      <td>...</td>\n      <td>...</td>\n      <td>...</td>\n      <td>...</td>\n      <td>...</td>\n      <td>...</td>\n      <td>...</td>\n      <td>...</td>\n      <td>...</td>\n      <td>...</td>\n    </tr>\n    <tr>\n      <th>23447</th>\n      <td>v3.1.0</td>\n      <td>1.26.2</td>\n      <td>2.3.1</td>\n      <td>1.5.0</td>\n      <td>3.9.9</td>\n      <td>{'minimumROIDimensions': 2, 'minimumROISize': ...</td>\n      <td>{'Original': {}, 'Wavelet': {}}</td>\n      <td>8e33e38aa0548554297987805fc901af7aa413b4</td>\n      <td>2D</td>\n      <td>(1.0, 1.0)</td>\n      <td>...</td>\n      <td>386473.511511</td>\n      <td>12.238447</td>\n      <td>0.001847</td>\n      <td>14.851245</td>\n      <td>0.007082</td>\n      <td>0.251368</td>\n      <td>0</td>\n      <td>23447</td>\n      <td>R-FFBC3481A5479BE3EDB0AF8D6F5447D1</td>\n      <td>04073E</td>\n    </tr>\n    <tr>\n      <th>23448</th>\n      <td>v3.1.0</td>\n      <td>1.26.2</td>\n      <td>2.3.1</td>\n      <td>1.5.0</td>\n      <td>3.9.9</td>\n      <td>{'minimumROIDimensions': 2, 'minimumROISize': ...</td>\n      <td>{'Original': {}, 'Wavelet': {}}</td>\n      <td>c3448a7f3927722dda9d759546d512519013a64b</td>\n      <td>2D</td>\n      <td>(1.0, 1.0)</td>\n      <td>...</td>\n      <td>2992.808864</td>\n      <td>1.109356</td>\n      <td>0.005211</td>\n      <td>106.835716</td>\n      <td>0.017226</td>\n      <td>1.764040</td>\n      <td>0</td>\n      <td>23448</td>\n      <td>R-FFBDA3DB7ADC48E248DD7467CFD535DC</td>\n      <td>02897E</td>\n    </tr>\n    <tr>\n      <th>23449</th>\n      <td>v3.1.0</td>\n      <td>1.26.2</td>\n      <td>2.3.1</td>\n      <td>1.5.0</td>\n      <td>3.9.9</td>\n      <td>{'minimumROIDimensions': 2, 'minimumROISize': ...</td>\n      <td>{'Original': {}, 'Wavelet': {}}</td>\n      <td>f668d1f2f6016fd9ec4471029378ed8870c16d9a</td>\n      <td>2D</td>\n      <td>(1.0, 1.0)</td>\n      <td>...</td>\n      <td>207325.816817</td>\n      <td>32.430332</td>\n      <td>0.001068</td>\n      <td>6.067431</td>\n      <td>0.007648</td>\n      <td>0.037139</td>\n      <td>0</td>\n      <td>23449</td>\n      <td>R-FFD03989F3566EE1C7A843748A6A8652</td>\n      <td>04592E</td>\n    </tr>\n    <tr>\n      <th>23450</th>\n      <td>v3.1.0</td>\n      <td>1.26.2</td>\n      <td>2.3.1</td>\n      <td>1.5.0</td>\n      <td>3.9.9</td>\n      <td>{'minimumROIDimensions': 2, 'minimumROISize': ...</td>\n      <td>{'Original': {}, 'Wavelet': {}}</td>\n      <td>7bce5bffd1773d8c1284445f2fa904b5bdab7658</td>\n      <td>2D</td>\n      <td>(1.0, 1.0)</td>\n      <td>...</td>\n      <td>14455.030555</td>\n      <td>15.110109</td>\n      <td>0.000721</td>\n      <td>53.906875</td>\n      <td>0.026073</td>\n      <td>0.157918</td>\n      <td>0</td>\n      <td>23450</td>\n      <td>R-FFDC713CF7698E805C8DA0F8B36D74AF</td>\n      <td>03363E</td>\n    </tr>\n    <tr>\n      <th>23451</th>\n      <td>v3.1.0</td>\n      <td>1.26.2</td>\n      <td>2.3.1</td>\n      <td>1.5.0</td>\n      <td>3.9.9</td>\n      <td>{'minimumROIDimensions': 2, 'minimumROISize': ...</td>\n      <td>{'Original': {}, 'Wavelet': {}}</td>\n      <td>67e32f8e482429b61fbab5129d906f997b40f519</td>\n      <td>2D</td>\n      <td>(1.0, 1.0)</td>\n      <td>...</td>\n      <td>41052.059316</td>\n      <td>11.328964</td>\n      <td>0.000450</td>\n      <td>78.169066</td>\n      <td>0.005440</td>\n      <td>0.208988</td>\n      <td>0</td>\n      <td>23451</td>\n      <td>R-FFF336289C5E489182A4A4EE7880AB15</td>\n      <td>04814E</td>\n    </tr>\n  </tbody>\n</table>\n<p>23452 rows × 500 columns</p>\n</div>"
     },
     "execution_count": 9,
     "metadata": {},
     "output_type": "execute_result"
    }
   ],
   "source": [
    "final_extract_results"
   ],
   "metadata": {
    "collapsed": false,
    "ExecuteTime": {
     "end_time": "2023-11-23T02:18:38.820561800Z",
     "start_time": "2023-11-23T02:18:38.732524200Z"
    }
   },
   "id": "3b43653458e46f83"
  },
  {
   "cell_type": "code",
   "execution_count": 21,
   "outputs": [],
   "source": [
    "better_images_index = []\n",
    "for i,j in enumerate(final_extract_results['stem']):\n",
    "    if j in better_image_dict['All_names']:\n",
    "        better_images_index.append(i)"
   ],
   "metadata": {
    "collapsed": false,
    "ExecuteTime": {
     "end_time": "2023-11-14T13:59:36.079694Z",
     "start_time": "2023-11-14T13:59:33.721722Z"
    }
   },
   "id": "67dea4278f0caa86"
  },
  {
   "cell_type": "code",
   "execution_count": 23,
   "outputs": [
    {
     "data": {
      "text/plain": "(8405, [2, 11, 17, 19, 21])"
     },
     "execution_count": 23,
     "metadata": {},
     "output_type": "execute_result"
    }
   ],
   "source": [
    "better_images_index.__len__(), better_images_index[:5]"
   ],
   "metadata": {
    "collapsed": false,
    "ExecuteTime": {
     "end_time": "2023-11-14T14:00:06.197772Z",
     "start_time": "2023-11-14T14:00:06.193474Z"
    }
   },
   "id": "162c1add3b8d3791"
  },
  {
   "cell_type": "code",
   "execution_count": 25,
   "outputs": [],
   "source": [
    "with open('./resources/temp_file/better_images_index.pkl', 'wb') as f:\n",
    "    pickle.dump(better_images_index, f)"
   ],
   "metadata": {
    "collapsed": false,
    "ExecuteTime": {
     "end_time": "2023-11-14T14:03:20.439967Z",
     "start_time": "2023-11-14T14:03:20.426356Z"
    }
   },
   "id": "c12bdcf30f3795df"
  },
  {
   "cell_type": "markdown",
   "source": [
    "### 开始截取精选图像特征"
   ],
   "metadata": {
    "collapsed": false
   },
   "id": "9ae76320e20ede64"
  },
  {
   "cell_type": "code",
   "execution_count": 5,
   "outputs": [],
   "source": [
    "with open('./resources/temp_file/better_images_index.pkl', 'rb') as f:\n",
    "    better_images_index = pickle.load(f)"
   ],
   "metadata": {
    "collapsed": false,
    "ExecuteTime": {
     "end_time": "2023-11-23T02:14:54.096598200Z",
     "start_time": "2023-11-23T02:14:54.076245900Z"
    }
   },
   "id": "358fadb234b398b5"
  },
  {
   "cell_type": "code",
   "execution_count": 6,
   "outputs": [
    {
     "data": {
      "text/plain": "8405"
     },
     "execution_count": 6,
     "metadata": {},
     "output_type": "execute_result"
    }
   ],
   "source": [
    "len(better_images_index)"
   ],
   "metadata": {
    "collapsed": false,
    "ExecuteTime": {
     "end_time": "2023-11-23T02:14:54.568439900Z",
     "start_time": "2023-11-23T02:14:54.526224600Z"
    }
   },
   "id": "471b866d5e467a9a"
  },
  {
   "cell_type": "code",
   "execution_count": 10,
   "outputs": [],
   "source": [
    "better_image_extract_results = final_extract_results.loc[better_images_index]"
   ],
   "metadata": {
    "collapsed": false,
    "ExecuteTime": {
     "end_time": "2023-11-23T02:19:06.126892300Z",
     "start_time": "2023-11-23T02:19:06.085460100Z"
    }
   },
   "id": "2c93701aadc6de61"
  },
  {
   "cell_type": "code",
   "execution_count": 11,
   "outputs": [
    {
     "data": {
      "text/plain": "       original_shape2D_Elongation  original_shape2D_MajorAxisLength  \\\n2                         0.706141                        486.539994   \n11                        0.915437                        194.555430   \n17                        0.771783                        354.496355   \n19                        0.847851                        228.044755   \n21                        0.734867                        370.994399   \n...                            ...                               ...   \n23441                     0.836709                        254.954504   \n23445                     0.761478                        412.626424   \n23446                     0.796614                        316.513136   \n23448                     0.694843                         85.621733   \n23450                     0.820288                        354.995918   \n\n       original_shape2D_MaximumDiameter  original_shape2D_MeshSurface  \\\n2                            474.806276                      129904.5   \n11                           199.424171                       26947.5   \n17                           367.865465                       75244.5   \n19                           237.356272                       33649.5   \n21                           375.474367                       78759.5   \n...                                 ...                           ...   \n23441                        267.082384                       41275.5   \n23445                        407.921561                      101316.5   \n23446                        324.655202                       62367.5   \n23448                         87.132084                        3987.5   \n23450                        360.410877                       80989.5   \n\n       original_shape2D_MinorAxisLength  original_shape2D_Perimeter  \\\n2                            343.565759                 1400.028571   \n11                           178.103257                  622.014285   \n17                           273.594339                 1079.577777   \n19                           193.348072                  726.465079   \n21                           272.631377                 1091.276262   \n...                                 ...                         ...   \n23441                        213.322745                  801.803174   \n23445                        314.205767                 1236.614357   \n23446                        252.138703                  955.979797   \n23448                         59.493655                  243.965512   \n23450                        291.199062                 1080.045815   \n\n       original_shape2D_PerimeterSurfaceRatio  original_shape2D_PixelSurface  \\\n2                                    0.010777                         129905   \n11                                   0.023082                          26948   \n17                                   0.014348                          75245   \n19                                   0.021589                          33650   \n21                                   0.013856                          78760   \n...                                       ...                            ...   \n23441                                0.019426                          41276   \n23445                                0.012205                         101317   \n23446                                0.015328                          62368   \n23448                                0.061183                           3988   \n23450                                0.013336                          80990   \n\n       original_shape2D_Sphericity  original_firstorder_10Percentile  ...  \\\n2                         0.912599                              29.0  ...   \n11                        0.935543                              16.0  ...   \n17                        0.900717                              29.0  ...   \n19                        0.895116                              16.0  ...   \n21                        0.911636                              79.0  ...   \n...                            ...                               ...  ...   \n23441                     0.898221                              62.0  ...   \n23445                     0.912453                             118.0  ...   \n23446                     0.926052                               6.0  ...   \n23448                     0.917544                              28.0  ...   \n23450                     0.934065                               8.0  ...   \n\n       wavelet-LL_glszm_ZoneVariance  wavelet-LL_ngtdm_Busyness  \\\n2                       61580.594853                  13.688392   \n11                       2414.369506                   5.615847   \n17                     274113.991654                  19.053591   \n19                      76413.929396                  12.772382   \n21                      26891.653079                  18.744249   \n...                              ...                        ...   \n23441                   11522.388995                   5.554940   \n23445                     945.538955                   5.629440   \n23446                  112615.373959                  19.169991   \n23448                    2992.808864                   1.109356   \n23450                   14455.030555                  15.110109   \n\n       wavelet-LL_ngtdm_Coarseness  wavelet-LL_ngtdm_Complexity  \\\n2                         0.000461                    48.959748   \n11                        0.001195                    73.596600   \n17                        0.000662                    18.758008   \n19                        0.000730                    21.908351   \n21                        0.000416                    40.715986   \n...                            ...                          ...   \n23441                     0.000806                    57.381896   \n23445                     0.000280                   138.184794   \n23446                     0.000685                    26.607702   \n23448                     0.005211                   106.835716   \n23450                     0.000721                    53.906875   \n\n       wavelet-LL_ngtdm_Contrast  wavelet-LL_ngtdm_Strength  label  \\\n2                       0.019433                   0.087557      1   \n11                      0.021387                   0.265766      1   \n17                      0.014077                   0.063296      1   \n19                      0.010119                   0.073954      1   \n21                      0.011627                   0.071735      1   \n...                          ...                        ...    ...   \n23441                   0.012074                   0.163013      0   \n23445                   0.014792                   0.119069      0   \n23446                   0.014057                   0.086175      0   \n23448                   0.017226                   1.764040      0   \n23450                   0.026073                   0.157918      0   \n\n       process_index                                stem  patient_ID  \n2                  2  B-0011E7D1D5506FE65860A7C161441B8E      00003E  \n11                11  B-00471E97F96A2C7C727D6FF8BB05967B      00012E  \n17                17  B-0069E8976EB261589AACAC784B378CBF      00018E  \n19                19  B-00823A87509B4BAADF0443F2DA6B1D2C      00020E  \n21                21  B-0084AA3E54CC5C1A67E007D3F2CA2725      00022E  \n...              ...                                 ...         ...  \n23441          23441  R-FF907E80A07DA3887BC550C145E7FA69      04873E  \n23445          23445  R-FFAFE280F34781E99E19891464302BF3      04187E  \n23446          23446  R-FFAFFF3F4F69AB2DAADB84D91D62F269      04876E  \n23448          23448  R-FFBDA3DB7ADC48E248DD7467CFD535DC      02897E  \n23450          23450  R-FFDC713CF7698E805C8DA0F8B36D74AF      03363E  \n\n[8405 rows x 478 columns]",
      "text/html": "<div>\n<style scoped>\n    .dataframe tbody tr th:only-of-type {\n        vertical-align: middle;\n    }\n\n    .dataframe tbody tr th {\n        vertical-align: top;\n    }\n\n    .dataframe thead th {\n        text-align: right;\n    }\n</style>\n<table border=\"1\" class=\"dataframe\">\n  <thead>\n    <tr style=\"text-align: right;\">\n      <th></th>\n      <th>original_shape2D_Elongation</th>\n      <th>original_shape2D_MajorAxisLength</th>\n      <th>original_shape2D_MaximumDiameter</th>\n      <th>original_shape2D_MeshSurface</th>\n      <th>original_shape2D_MinorAxisLength</th>\n      <th>original_shape2D_Perimeter</th>\n      <th>original_shape2D_PerimeterSurfaceRatio</th>\n      <th>original_shape2D_PixelSurface</th>\n      <th>original_shape2D_Sphericity</th>\n      <th>original_firstorder_10Percentile</th>\n      <th>...</th>\n      <th>wavelet-LL_glszm_ZoneVariance</th>\n      <th>wavelet-LL_ngtdm_Busyness</th>\n      <th>wavelet-LL_ngtdm_Coarseness</th>\n      <th>wavelet-LL_ngtdm_Complexity</th>\n      <th>wavelet-LL_ngtdm_Contrast</th>\n      <th>wavelet-LL_ngtdm_Strength</th>\n      <th>label</th>\n      <th>process_index</th>\n      <th>stem</th>\n      <th>patient_ID</th>\n    </tr>\n  </thead>\n  <tbody>\n    <tr>\n      <th>2</th>\n      <td>0.706141</td>\n      <td>486.539994</td>\n      <td>474.806276</td>\n      <td>129904.5</td>\n      <td>343.565759</td>\n      <td>1400.028571</td>\n      <td>0.010777</td>\n      <td>129905</td>\n      <td>0.912599</td>\n      <td>29.0</td>\n      <td>...</td>\n      <td>61580.594853</td>\n      <td>13.688392</td>\n      <td>0.000461</td>\n      <td>48.959748</td>\n      <td>0.019433</td>\n      <td>0.087557</td>\n      <td>1</td>\n      <td>2</td>\n      <td>B-0011E7D1D5506FE65860A7C161441B8E</td>\n      <td>00003E</td>\n    </tr>\n    <tr>\n      <th>11</th>\n      <td>0.915437</td>\n      <td>194.555430</td>\n      <td>199.424171</td>\n      <td>26947.5</td>\n      <td>178.103257</td>\n      <td>622.014285</td>\n      <td>0.023082</td>\n      <td>26948</td>\n      <td>0.935543</td>\n      <td>16.0</td>\n      <td>...</td>\n      <td>2414.369506</td>\n      <td>5.615847</td>\n      <td>0.001195</td>\n      <td>73.596600</td>\n      <td>0.021387</td>\n      <td>0.265766</td>\n      <td>1</td>\n      <td>11</td>\n      <td>B-00471E97F96A2C7C727D6FF8BB05967B</td>\n      <td>00012E</td>\n    </tr>\n    <tr>\n      <th>17</th>\n      <td>0.771783</td>\n      <td>354.496355</td>\n      <td>367.865465</td>\n      <td>75244.5</td>\n      <td>273.594339</td>\n      <td>1079.577777</td>\n      <td>0.014348</td>\n      <td>75245</td>\n      <td>0.900717</td>\n      <td>29.0</td>\n      <td>...</td>\n      <td>274113.991654</td>\n      <td>19.053591</td>\n      <td>0.000662</td>\n      <td>18.758008</td>\n      <td>0.014077</td>\n      <td>0.063296</td>\n      <td>1</td>\n      <td>17</td>\n      <td>B-0069E8976EB261589AACAC784B378CBF</td>\n      <td>00018E</td>\n    </tr>\n    <tr>\n      <th>19</th>\n      <td>0.847851</td>\n      <td>228.044755</td>\n      <td>237.356272</td>\n      <td>33649.5</td>\n      <td>193.348072</td>\n      <td>726.465079</td>\n      <td>0.021589</td>\n      <td>33650</td>\n      <td>0.895116</td>\n      <td>16.0</td>\n      <td>...</td>\n      <td>76413.929396</td>\n      <td>12.772382</td>\n      <td>0.000730</td>\n      <td>21.908351</td>\n      <td>0.010119</td>\n      <td>0.073954</td>\n      <td>1</td>\n      <td>19</td>\n      <td>B-00823A87509B4BAADF0443F2DA6B1D2C</td>\n      <td>00020E</td>\n    </tr>\n    <tr>\n      <th>21</th>\n      <td>0.734867</td>\n      <td>370.994399</td>\n      <td>375.474367</td>\n      <td>78759.5</td>\n      <td>272.631377</td>\n      <td>1091.276262</td>\n      <td>0.013856</td>\n      <td>78760</td>\n      <td>0.911636</td>\n      <td>79.0</td>\n      <td>...</td>\n      <td>26891.653079</td>\n      <td>18.744249</td>\n      <td>0.000416</td>\n      <td>40.715986</td>\n      <td>0.011627</td>\n      <td>0.071735</td>\n      <td>1</td>\n      <td>21</td>\n      <td>B-0084AA3E54CC5C1A67E007D3F2CA2725</td>\n      <td>00022E</td>\n    </tr>\n    <tr>\n      <th>...</th>\n      <td>...</td>\n      <td>...</td>\n      <td>...</td>\n      <td>...</td>\n      <td>...</td>\n      <td>...</td>\n      <td>...</td>\n      <td>...</td>\n      <td>...</td>\n      <td>...</td>\n      <td>...</td>\n      <td>...</td>\n      <td>...</td>\n      <td>...</td>\n      <td>...</td>\n      <td>...</td>\n      <td>...</td>\n      <td>...</td>\n      <td>...</td>\n      <td>...</td>\n      <td>...</td>\n    </tr>\n    <tr>\n      <th>23441</th>\n      <td>0.836709</td>\n      <td>254.954504</td>\n      <td>267.082384</td>\n      <td>41275.5</td>\n      <td>213.322745</td>\n      <td>801.803174</td>\n      <td>0.019426</td>\n      <td>41276</td>\n      <td>0.898221</td>\n      <td>62.0</td>\n      <td>...</td>\n      <td>11522.388995</td>\n      <td>5.554940</td>\n      <td>0.000806</td>\n      <td>57.381896</td>\n      <td>0.012074</td>\n      <td>0.163013</td>\n      <td>0</td>\n      <td>23441</td>\n      <td>R-FF907E80A07DA3887BC550C145E7FA69</td>\n      <td>04873E</td>\n    </tr>\n    <tr>\n      <th>23445</th>\n      <td>0.761478</td>\n      <td>412.626424</td>\n      <td>407.921561</td>\n      <td>101316.5</td>\n      <td>314.205767</td>\n      <td>1236.614357</td>\n      <td>0.012205</td>\n      <td>101317</td>\n      <td>0.912453</td>\n      <td>118.0</td>\n      <td>...</td>\n      <td>945.538955</td>\n      <td>5.629440</td>\n      <td>0.000280</td>\n      <td>138.184794</td>\n      <td>0.014792</td>\n      <td>0.119069</td>\n      <td>0</td>\n      <td>23445</td>\n      <td>R-FFAFE280F34781E99E19891464302BF3</td>\n      <td>04187E</td>\n    </tr>\n    <tr>\n      <th>23446</th>\n      <td>0.796614</td>\n      <td>316.513136</td>\n      <td>324.655202</td>\n      <td>62367.5</td>\n      <td>252.138703</td>\n      <td>955.979797</td>\n      <td>0.015328</td>\n      <td>62368</td>\n      <td>0.926052</td>\n      <td>6.0</td>\n      <td>...</td>\n      <td>112615.373959</td>\n      <td>19.169991</td>\n      <td>0.000685</td>\n      <td>26.607702</td>\n      <td>0.014057</td>\n      <td>0.086175</td>\n      <td>0</td>\n      <td>23446</td>\n      <td>R-FFAFFF3F4F69AB2DAADB84D91D62F269</td>\n      <td>04876E</td>\n    </tr>\n    <tr>\n      <th>23448</th>\n      <td>0.694843</td>\n      <td>85.621733</td>\n      <td>87.132084</td>\n      <td>3987.5</td>\n      <td>59.493655</td>\n      <td>243.965512</td>\n      <td>0.061183</td>\n      <td>3988</td>\n      <td>0.917544</td>\n      <td>28.0</td>\n      <td>...</td>\n      <td>2992.808864</td>\n      <td>1.109356</td>\n      <td>0.005211</td>\n      <td>106.835716</td>\n      <td>0.017226</td>\n      <td>1.764040</td>\n      <td>0</td>\n      <td>23448</td>\n      <td>R-FFBDA3DB7ADC48E248DD7467CFD535DC</td>\n      <td>02897E</td>\n    </tr>\n    <tr>\n      <th>23450</th>\n      <td>0.820288</td>\n      <td>354.995918</td>\n      <td>360.410877</td>\n      <td>80989.5</td>\n      <td>291.199062</td>\n      <td>1080.045815</td>\n      <td>0.013336</td>\n      <td>80990</td>\n      <td>0.934065</td>\n      <td>8.0</td>\n      <td>...</td>\n      <td>14455.030555</td>\n      <td>15.110109</td>\n      <td>0.000721</td>\n      <td>53.906875</td>\n      <td>0.026073</td>\n      <td>0.157918</td>\n      <td>0</td>\n      <td>23450</td>\n      <td>R-FFDC713CF7698E805C8DA0F8B36D74AF</td>\n      <td>03363E</td>\n    </tr>\n  </tbody>\n</table>\n<p>8405 rows × 478 columns</p>\n</div>"
     },
     "execution_count": 11,
     "metadata": {},
     "output_type": "execute_result"
    }
   ],
   "source": [
    "better_image_extract_results: pd.DataFrame\n",
    "better_image_extract_results.iloc[:,22:]"
   ],
   "metadata": {
    "collapsed": false,
    "ExecuteTime": {
     "end_time": "2023-11-23T02:20:01.453600900Z",
     "start_time": "2023-11-23T02:20:01.377572200Z"
    }
   },
   "id": "452fe4fa165b7593"
  },
  {
   "cell_type": "code",
   "execution_count": 12,
   "outputs": [],
   "source": [
    "better_image_extract_results.to_csv('./resources/source_data/better_image_extract_results_2D.csv')"
   ],
   "metadata": {
    "collapsed": false,
    "ExecuteTime": {
     "end_time": "2023-11-23T02:20:48.034754900Z",
     "start_time": "2023-11-23T02:20:40.616798700Z"
    }
   },
   "id": "eaa0ac5fd608314b"
  },
  {
   "cell_type": "markdown",
   "source": [
    "### 将数据按8: 2分为训练组和测试组"
   ],
   "metadata": {
    "collapsed": false
   },
   "id": "ba00a477a1371564"
  },
  {
   "cell_type": "code",
   "execution_count": 13,
   "outputs": [],
   "source": [
    "from sklearn.model_selection import train_test_split"
   ],
   "metadata": {
    "collapsed": false,
    "ExecuteTime": {
     "end_time": "2023-11-23T02:20:49.511563700Z",
     "start_time": "2023-11-23T02:20:48.038759200Z"
    }
   },
   "id": "b4eb797ed4cd759b"
  },
  {
   "cell_type": "code",
   "execution_count": 15,
   "outputs": [],
   "source": [
    "better_images_results = pd.read_csv(r'G:\\FAE\\huis_data\\source_data\\better_images_results_2D.csv')"
   ],
   "metadata": {
    "collapsed": false,
    "ExecuteTime": {
     "end_time": "2023-11-23T02:27:01.601421700Z",
     "start_time": "2023-11-23T02:27:00.719186900Z"
    }
   },
   "id": "af67e62a68ea9fa0"
  },
  {
   "cell_type": "code",
   "execution_count": 16,
   "outputs": [
    {
     "data": {
      "text/plain": "       index  label  original_shape2D_Elongation  \\\n0     00003E      1                     0.706141   \n1     00012E      1                     0.915437   \n2     00018E      1                     0.771783   \n3     00020E      1                     0.847851   \n4     00022E      1                     0.734867   \n...      ...    ...                          ...   \n8400  04873E      0                     0.836709   \n8401  04187E      0                     0.761478   \n8402  04876E      0                     0.796614   \n8403  02897E      0                     0.694843   \n8404  03363E      0                     0.820288   \n\n      original_shape2D_MajorAxisLength  original_shape2D_MaximumDiameter  \\\n0                           486.539994                        474.806276   \n1                           194.555430                        199.424171   \n2                           354.496355                        367.865464   \n3                           228.044755                        237.356272   \n4                           370.994399                        375.474367   \n...                                ...                               ...   \n8400                        254.954504                        267.082384   \n8401                        412.626424                        407.921561   \n8402                        316.513136                        324.655202   \n8403                         85.621733                         87.132084   \n8404                        354.995918                        360.410877   \n\n      original_shape2D_MeshSurface  original_shape2D_MinorAxisLength  \\\n0                         129904.5                        343.565759   \n1                          26947.5                        178.103257   \n2                          75244.5                        273.594339   \n3                          33649.5                        193.348072   \n4                          78759.5                        272.631377   \n...                            ...                               ...   \n8400                       41275.5                        213.322745   \n8401                      101316.5                        314.205767   \n8402                       62367.5                        252.138703   \n8403                        3987.5                         59.493655   \n8404                       80989.5                        291.199062   \n\n      original_shape2D_Perimeter  original_shape2D_PerimeterSurfaceRatio  \\\n0                    1400.028571                                0.010777   \n1                     622.014285                                0.023082   \n2                    1079.577777                                0.014348   \n3                     726.465079                                0.021589   \n4                    1091.276262                                0.013856   \n...                          ...                                     ...   \n8400                  801.803174                                0.019426   \n8401                 1236.614357                                0.012205   \n8402                  955.979798                                0.015328   \n8403                  243.965512                                0.061183   \n8404                 1080.045815                                0.013336   \n\n      original_shape2D_PixelSurface  ...  \\\n0                            129905  ...   \n1                             26948  ...   \n2                             75245  ...   \n3                             33650  ...   \n4                             78760  ...   \n...                             ...  ...   \n8400                          41276  ...   \n8401                         101317  ...   \n8402                          62368  ...   \n8403                           3988  ...   \n8404                          80990  ...   \n\n      wavelet-LL_glszm_SmallAreaHighGrayLevelEmphasis  \\\n0                                           34.053530   \n1                                           36.875333   \n2                                            9.952329   \n3                                           19.772650   \n4                                            8.940120   \n...                                               ...   \n8400                                        51.525354   \n8401                                       117.371804   \n8402                                        10.923814   \n8403                                        72.028459   \n8404                                        48.198241   \n\n      wavelet-LL_glszm_SmallAreaLowGrayLevelEmphasis  \\\n0                                           0.005003   \n1                                           0.008470   \n2                                           0.017176   \n3                                           0.017557   \n4                                           0.005659   \n...                                              ...   \n8400                                        0.010795   \n8401                                        0.001723   \n8402                                        0.021598   \n8403                                        0.026951   \n8404                                        0.007724   \n\n      wavelet-LL_glszm_ZoneEntropy  wavelet-LL_glszm_ZonePercentage  \\\n0                         8.625680                         0.022078   \n1                         7.636575                         0.077334   \n2                         7.934791                         0.011350   \n3                         6.938698                         0.028945   \n4                         8.685447                         0.021534   \n...                            ...                              ...   \n8400                      7.670385                         0.043027   \n8401                      7.568242                         0.106507   \n8402                      8.213711                         0.013933   \n8403                      5.714611                         0.095035   \n8404                      7.861531                         0.041943   \n\n      wavelet-LL_glszm_ZoneVariance  wavelet-LL_ngtdm_Busyness  \\\n0                      61580.594850                  13.688392   \n1                       2414.369506                   5.615847   \n2                     274113.991700                  19.053591   \n3                      76413.929400                  12.772382   \n4                      26891.653080                  18.744249   \n...                             ...                        ...   \n8400                   11522.389000                   5.554940   \n8401                     945.538955                   5.629440   \n8402                  112615.374000                  19.169991   \n8403                    2992.808864                   1.109356   \n8404                   14455.030550                  15.110109   \n\n      wavelet-LL_ngtdm_Coarseness  wavelet-LL_ngtdm_Complexity  \\\n0                        0.000461                    48.959748   \n1                        0.001195                    73.596600   \n2                        0.000662                    18.758008   \n3                        0.000730                    21.908351   \n4                        0.000416                    40.715986   \n...                           ...                          ...   \n8400                     0.000806                    57.381896   \n8401                     0.000280                   138.184794   \n8402                     0.000685                    26.607702   \n8403                     0.005211                   106.835717   \n8404                     0.000721                    53.906875   \n\n      wavelet-LL_ngtdm_Contrast  wavelet-LL_ngtdm_Strength  \n0                      0.019433                   0.087557  \n1                      0.021387                   0.265766  \n2                      0.014077                   0.063296  \n3                      0.010119                   0.073954  \n4                      0.011627                   0.071735  \n...                         ...                        ...  \n8400                   0.012074                   0.163013  \n8401                   0.014792                   0.119069  \n8402                   0.014057                   0.086175  \n8403                   0.017226                   1.764040  \n8404                   0.026073                   0.157918  \n\n[8405 rows x 476 columns]",
      "text/html": "<div>\n<style scoped>\n    .dataframe tbody tr th:only-of-type {\n        vertical-align: middle;\n    }\n\n    .dataframe tbody tr th {\n        vertical-align: top;\n    }\n\n    .dataframe thead th {\n        text-align: right;\n    }\n</style>\n<table border=\"1\" class=\"dataframe\">\n  <thead>\n    <tr style=\"text-align: right;\">\n      <th></th>\n      <th>index</th>\n      <th>label</th>\n      <th>original_shape2D_Elongation</th>\n      <th>original_shape2D_MajorAxisLength</th>\n      <th>original_shape2D_MaximumDiameter</th>\n      <th>original_shape2D_MeshSurface</th>\n      <th>original_shape2D_MinorAxisLength</th>\n      <th>original_shape2D_Perimeter</th>\n      <th>original_shape2D_PerimeterSurfaceRatio</th>\n      <th>original_shape2D_PixelSurface</th>\n      <th>...</th>\n      <th>wavelet-LL_glszm_SmallAreaHighGrayLevelEmphasis</th>\n      <th>wavelet-LL_glszm_SmallAreaLowGrayLevelEmphasis</th>\n      <th>wavelet-LL_glszm_ZoneEntropy</th>\n      <th>wavelet-LL_glszm_ZonePercentage</th>\n      <th>wavelet-LL_glszm_ZoneVariance</th>\n      <th>wavelet-LL_ngtdm_Busyness</th>\n      <th>wavelet-LL_ngtdm_Coarseness</th>\n      <th>wavelet-LL_ngtdm_Complexity</th>\n      <th>wavelet-LL_ngtdm_Contrast</th>\n      <th>wavelet-LL_ngtdm_Strength</th>\n    </tr>\n  </thead>\n  <tbody>\n    <tr>\n      <th>0</th>\n      <td>00003E</td>\n      <td>1</td>\n      <td>0.706141</td>\n      <td>486.539994</td>\n      <td>474.806276</td>\n      <td>129904.5</td>\n      <td>343.565759</td>\n      <td>1400.028571</td>\n      <td>0.010777</td>\n      <td>129905</td>\n      <td>...</td>\n      <td>34.053530</td>\n      <td>0.005003</td>\n      <td>8.625680</td>\n      <td>0.022078</td>\n      <td>61580.594850</td>\n      <td>13.688392</td>\n      <td>0.000461</td>\n      <td>48.959748</td>\n      <td>0.019433</td>\n      <td>0.087557</td>\n    </tr>\n    <tr>\n      <th>1</th>\n      <td>00012E</td>\n      <td>1</td>\n      <td>0.915437</td>\n      <td>194.555430</td>\n      <td>199.424171</td>\n      <td>26947.5</td>\n      <td>178.103257</td>\n      <td>622.014285</td>\n      <td>0.023082</td>\n      <td>26948</td>\n      <td>...</td>\n      <td>36.875333</td>\n      <td>0.008470</td>\n      <td>7.636575</td>\n      <td>0.077334</td>\n      <td>2414.369506</td>\n      <td>5.615847</td>\n      <td>0.001195</td>\n      <td>73.596600</td>\n      <td>0.021387</td>\n      <td>0.265766</td>\n    </tr>\n    <tr>\n      <th>2</th>\n      <td>00018E</td>\n      <td>1</td>\n      <td>0.771783</td>\n      <td>354.496355</td>\n      <td>367.865464</td>\n      <td>75244.5</td>\n      <td>273.594339</td>\n      <td>1079.577777</td>\n      <td>0.014348</td>\n      <td>75245</td>\n      <td>...</td>\n      <td>9.952329</td>\n      <td>0.017176</td>\n      <td>7.934791</td>\n      <td>0.011350</td>\n      <td>274113.991700</td>\n      <td>19.053591</td>\n      <td>0.000662</td>\n      <td>18.758008</td>\n      <td>0.014077</td>\n      <td>0.063296</td>\n    </tr>\n    <tr>\n      <th>3</th>\n      <td>00020E</td>\n      <td>1</td>\n      <td>0.847851</td>\n      <td>228.044755</td>\n      <td>237.356272</td>\n      <td>33649.5</td>\n      <td>193.348072</td>\n      <td>726.465079</td>\n      <td>0.021589</td>\n      <td>33650</td>\n      <td>...</td>\n      <td>19.772650</td>\n      <td>0.017557</td>\n      <td>6.938698</td>\n      <td>0.028945</td>\n      <td>76413.929400</td>\n      <td>12.772382</td>\n      <td>0.000730</td>\n      <td>21.908351</td>\n      <td>0.010119</td>\n      <td>0.073954</td>\n    </tr>\n    <tr>\n      <th>4</th>\n      <td>00022E</td>\n      <td>1</td>\n      <td>0.734867</td>\n      <td>370.994399</td>\n      <td>375.474367</td>\n      <td>78759.5</td>\n      <td>272.631377</td>\n      <td>1091.276262</td>\n      <td>0.013856</td>\n      <td>78760</td>\n      <td>...</td>\n      <td>8.940120</td>\n      <td>0.005659</td>\n      <td>8.685447</td>\n      <td>0.021534</td>\n      <td>26891.653080</td>\n      <td>18.744249</td>\n      <td>0.000416</td>\n      <td>40.715986</td>\n      <td>0.011627</td>\n      <td>0.071735</td>\n    </tr>\n    <tr>\n      <th>...</th>\n      <td>...</td>\n      <td>...</td>\n      <td>...</td>\n      <td>...</td>\n      <td>...</td>\n      <td>...</td>\n      <td>...</td>\n      <td>...</td>\n      <td>...</td>\n      <td>...</td>\n      <td>...</td>\n      <td>...</td>\n      <td>...</td>\n      <td>...</td>\n      <td>...</td>\n      <td>...</td>\n      <td>...</td>\n      <td>...</td>\n      <td>...</td>\n      <td>...</td>\n      <td>...</td>\n    </tr>\n    <tr>\n      <th>8400</th>\n      <td>04873E</td>\n      <td>0</td>\n      <td>0.836709</td>\n      <td>254.954504</td>\n      <td>267.082384</td>\n      <td>41275.5</td>\n      <td>213.322745</td>\n      <td>801.803174</td>\n      <td>0.019426</td>\n      <td>41276</td>\n      <td>...</td>\n      <td>51.525354</td>\n      <td>0.010795</td>\n      <td>7.670385</td>\n      <td>0.043027</td>\n      <td>11522.389000</td>\n      <td>5.554940</td>\n      <td>0.000806</td>\n      <td>57.381896</td>\n      <td>0.012074</td>\n      <td>0.163013</td>\n    </tr>\n    <tr>\n      <th>8401</th>\n      <td>04187E</td>\n      <td>0</td>\n      <td>0.761478</td>\n      <td>412.626424</td>\n      <td>407.921561</td>\n      <td>101316.5</td>\n      <td>314.205767</td>\n      <td>1236.614357</td>\n      <td>0.012205</td>\n      <td>101317</td>\n      <td>...</td>\n      <td>117.371804</td>\n      <td>0.001723</td>\n      <td>7.568242</td>\n      <td>0.106507</td>\n      <td>945.538955</td>\n      <td>5.629440</td>\n      <td>0.000280</td>\n      <td>138.184794</td>\n      <td>0.014792</td>\n      <td>0.119069</td>\n    </tr>\n    <tr>\n      <th>8402</th>\n      <td>04876E</td>\n      <td>0</td>\n      <td>0.796614</td>\n      <td>316.513136</td>\n      <td>324.655202</td>\n      <td>62367.5</td>\n      <td>252.138703</td>\n      <td>955.979798</td>\n      <td>0.015328</td>\n      <td>62368</td>\n      <td>...</td>\n      <td>10.923814</td>\n      <td>0.021598</td>\n      <td>8.213711</td>\n      <td>0.013933</td>\n      <td>112615.374000</td>\n      <td>19.169991</td>\n      <td>0.000685</td>\n      <td>26.607702</td>\n      <td>0.014057</td>\n      <td>0.086175</td>\n    </tr>\n    <tr>\n      <th>8403</th>\n      <td>02897E</td>\n      <td>0</td>\n      <td>0.694843</td>\n      <td>85.621733</td>\n      <td>87.132084</td>\n      <td>3987.5</td>\n      <td>59.493655</td>\n      <td>243.965512</td>\n      <td>0.061183</td>\n      <td>3988</td>\n      <td>...</td>\n      <td>72.028459</td>\n      <td>0.026951</td>\n      <td>5.714611</td>\n      <td>0.095035</td>\n      <td>2992.808864</td>\n      <td>1.109356</td>\n      <td>0.005211</td>\n      <td>106.835717</td>\n      <td>0.017226</td>\n      <td>1.764040</td>\n    </tr>\n    <tr>\n      <th>8404</th>\n      <td>03363E</td>\n      <td>0</td>\n      <td>0.820288</td>\n      <td>354.995918</td>\n      <td>360.410877</td>\n      <td>80989.5</td>\n      <td>291.199062</td>\n      <td>1080.045815</td>\n      <td>0.013336</td>\n      <td>80990</td>\n      <td>...</td>\n      <td>48.198241</td>\n      <td>0.007724</td>\n      <td>7.861531</td>\n      <td>0.041943</td>\n      <td>14455.030550</td>\n      <td>15.110109</td>\n      <td>0.000721</td>\n      <td>53.906875</td>\n      <td>0.026073</td>\n      <td>0.157918</td>\n    </tr>\n  </tbody>\n</table>\n<p>8405 rows × 476 columns</p>\n</div>"
     },
     "execution_count": 16,
     "metadata": {},
     "output_type": "execute_result"
    }
   ],
   "source": [
    "better_images_results"
   ],
   "metadata": {
    "collapsed": false,
    "ExecuteTime": {
     "end_time": "2023-11-23T02:27:02.876007Z",
     "start_time": "2023-11-23T02:27:02.826616Z"
    }
   },
   "id": "5213a0359c7f3eea"
  },
  {
   "cell_type": "code",
   "execution_count": 17,
   "outputs": [],
   "source": [
    "X = better_images_results.iloc[:, [0] + list(range(2, better_images_results.shape[1]))]\n",
    "y = better_images_results.iloc[:, 1]"
   ],
   "metadata": {
    "collapsed": false,
    "ExecuteTime": {
     "end_time": "2023-11-23T02:27:37.095833900Z",
     "start_time": "2023-11-23T02:27:37.047855400Z"
    }
   },
   "id": "4f39e816516ef1a5"
  },
  {
   "cell_type": "code",
   "execution_count": 18,
   "outputs": [
    {
     "data": {
      "text/plain": "       index  original_shape2D_Elongation  original_shape2D_MajorAxisLength  \\\n0     00003E                     0.706141                        486.539994   \n1     00012E                     0.915437                        194.555430   \n2     00018E                     0.771783                        354.496355   \n3     00020E                     0.847851                        228.044755   \n4     00022E                     0.734867                        370.994399   \n...      ...                          ...                               ...   \n8400  04873E                     0.836709                        254.954504   \n8401  04187E                     0.761478                        412.626424   \n8402  04876E                     0.796614                        316.513136   \n8403  02897E                     0.694843                         85.621733   \n8404  03363E                     0.820288                        354.995918   \n\n      original_shape2D_MaximumDiameter  original_shape2D_MeshSurface  \\\n0                           474.806276                      129904.5   \n1                           199.424171                       26947.5   \n2                           367.865464                       75244.5   \n3                           237.356272                       33649.5   \n4                           375.474367                       78759.5   \n...                                ...                           ...   \n8400                        267.082384                       41275.5   \n8401                        407.921561                      101316.5   \n8402                        324.655202                       62367.5   \n8403                         87.132084                        3987.5   \n8404                        360.410877                       80989.5   \n\n      original_shape2D_MinorAxisLength  original_shape2D_Perimeter  \\\n0                           343.565759                 1400.028571   \n1                           178.103257                  622.014285   \n2                           273.594339                 1079.577777   \n3                           193.348072                  726.465079   \n4                           272.631377                 1091.276262   \n...                                ...                         ...   \n8400                        213.322745                  801.803174   \n8401                        314.205767                 1236.614357   \n8402                        252.138703                  955.979798   \n8403                         59.493655                  243.965512   \n8404                        291.199062                 1080.045815   \n\n      original_shape2D_PerimeterSurfaceRatio  original_shape2D_PixelSurface  \\\n0                                   0.010777                         129905   \n1                                   0.023082                          26948   \n2                                   0.014348                          75245   \n3                                   0.021589                          33650   \n4                                   0.013856                          78760   \n...                                      ...                            ...   \n8400                                0.019426                          41276   \n8401                                0.012205                         101317   \n8402                                0.015328                          62368   \n8403                                0.061183                           3988   \n8404                                0.013336                          80990   \n\n      original_shape2D_Sphericity  ...  \\\n0                        0.912599  ...   \n1                        0.935543  ...   \n2                        0.900717  ...   \n3                        0.895116  ...   \n4                        0.911636  ...   \n...                           ...  ...   \n8400                     0.898221  ...   \n8401                     0.912453  ...   \n8402                     0.926052  ...   \n8403                     0.917544  ...   \n8404                     0.934065  ...   \n\n      wavelet-LL_glszm_SmallAreaHighGrayLevelEmphasis  \\\n0                                           34.053530   \n1                                           36.875333   \n2                                            9.952329   \n3                                           19.772650   \n4                                            8.940120   \n...                                               ...   \n8400                                        51.525354   \n8401                                       117.371804   \n8402                                        10.923814   \n8403                                        72.028459   \n8404                                        48.198241   \n\n      wavelet-LL_glszm_SmallAreaLowGrayLevelEmphasis  \\\n0                                           0.005003   \n1                                           0.008470   \n2                                           0.017176   \n3                                           0.017557   \n4                                           0.005659   \n...                                              ...   \n8400                                        0.010795   \n8401                                        0.001723   \n8402                                        0.021598   \n8403                                        0.026951   \n8404                                        0.007724   \n\n      wavelet-LL_glszm_ZoneEntropy  wavelet-LL_glszm_ZonePercentage  \\\n0                         8.625680                         0.022078   \n1                         7.636575                         0.077334   \n2                         7.934791                         0.011350   \n3                         6.938698                         0.028945   \n4                         8.685447                         0.021534   \n...                            ...                              ...   \n8400                      7.670385                         0.043027   \n8401                      7.568242                         0.106507   \n8402                      8.213711                         0.013933   \n8403                      5.714611                         0.095035   \n8404                      7.861531                         0.041943   \n\n      wavelet-LL_glszm_ZoneVariance  wavelet-LL_ngtdm_Busyness  \\\n0                      61580.594850                  13.688392   \n1                       2414.369506                   5.615847   \n2                     274113.991700                  19.053591   \n3                      76413.929400                  12.772382   \n4                      26891.653080                  18.744249   \n...                             ...                        ...   \n8400                   11522.389000                   5.554940   \n8401                     945.538955                   5.629440   \n8402                  112615.374000                  19.169991   \n8403                    2992.808864                   1.109356   \n8404                   14455.030550                  15.110109   \n\n      wavelet-LL_ngtdm_Coarseness  wavelet-LL_ngtdm_Complexity  \\\n0                        0.000461                    48.959748   \n1                        0.001195                    73.596600   \n2                        0.000662                    18.758008   \n3                        0.000730                    21.908351   \n4                        0.000416                    40.715986   \n...                           ...                          ...   \n8400                     0.000806                    57.381896   \n8401                     0.000280                   138.184794   \n8402                     0.000685                    26.607702   \n8403                     0.005211                   106.835717   \n8404                     0.000721                    53.906875   \n\n      wavelet-LL_ngtdm_Contrast  wavelet-LL_ngtdm_Strength  \n0                      0.019433                   0.087557  \n1                      0.021387                   0.265766  \n2                      0.014077                   0.063296  \n3                      0.010119                   0.073954  \n4                      0.011627                   0.071735  \n...                         ...                        ...  \n8400                   0.012074                   0.163013  \n8401                   0.014792                   0.119069  \n8402                   0.014057                   0.086175  \n8403                   0.017226                   1.764040  \n8404                   0.026073                   0.157918  \n\n[8405 rows x 475 columns]",
      "text/html": "<div>\n<style scoped>\n    .dataframe tbody tr th:only-of-type {\n        vertical-align: middle;\n    }\n\n    .dataframe tbody tr th {\n        vertical-align: top;\n    }\n\n    .dataframe thead th {\n        text-align: right;\n    }\n</style>\n<table border=\"1\" class=\"dataframe\">\n  <thead>\n    <tr style=\"text-align: right;\">\n      <th></th>\n      <th>index</th>\n      <th>original_shape2D_Elongation</th>\n      <th>original_shape2D_MajorAxisLength</th>\n      <th>original_shape2D_MaximumDiameter</th>\n      <th>original_shape2D_MeshSurface</th>\n      <th>original_shape2D_MinorAxisLength</th>\n      <th>original_shape2D_Perimeter</th>\n      <th>original_shape2D_PerimeterSurfaceRatio</th>\n      <th>original_shape2D_PixelSurface</th>\n      <th>original_shape2D_Sphericity</th>\n      <th>...</th>\n      <th>wavelet-LL_glszm_SmallAreaHighGrayLevelEmphasis</th>\n      <th>wavelet-LL_glszm_SmallAreaLowGrayLevelEmphasis</th>\n      <th>wavelet-LL_glszm_ZoneEntropy</th>\n      <th>wavelet-LL_glszm_ZonePercentage</th>\n      <th>wavelet-LL_glszm_ZoneVariance</th>\n      <th>wavelet-LL_ngtdm_Busyness</th>\n      <th>wavelet-LL_ngtdm_Coarseness</th>\n      <th>wavelet-LL_ngtdm_Complexity</th>\n      <th>wavelet-LL_ngtdm_Contrast</th>\n      <th>wavelet-LL_ngtdm_Strength</th>\n    </tr>\n  </thead>\n  <tbody>\n    <tr>\n      <th>0</th>\n      <td>00003E</td>\n      <td>0.706141</td>\n      <td>486.539994</td>\n      <td>474.806276</td>\n      <td>129904.5</td>\n      <td>343.565759</td>\n      <td>1400.028571</td>\n      <td>0.010777</td>\n      <td>129905</td>\n      <td>0.912599</td>\n      <td>...</td>\n      <td>34.053530</td>\n      <td>0.005003</td>\n      <td>8.625680</td>\n      <td>0.022078</td>\n      <td>61580.594850</td>\n      <td>13.688392</td>\n      <td>0.000461</td>\n      <td>48.959748</td>\n      <td>0.019433</td>\n      <td>0.087557</td>\n    </tr>\n    <tr>\n      <th>1</th>\n      <td>00012E</td>\n      <td>0.915437</td>\n      <td>194.555430</td>\n      <td>199.424171</td>\n      <td>26947.5</td>\n      <td>178.103257</td>\n      <td>622.014285</td>\n      <td>0.023082</td>\n      <td>26948</td>\n      <td>0.935543</td>\n      <td>...</td>\n      <td>36.875333</td>\n      <td>0.008470</td>\n      <td>7.636575</td>\n      <td>0.077334</td>\n      <td>2414.369506</td>\n      <td>5.615847</td>\n      <td>0.001195</td>\n      <td>73.596600</td>\n      <td>0.021387</td>\n      <td>0.265766</td>\n    </tr>\n    <tr>\n      <th>2</th>\n      <td>00018E</td>\n      <td>0.771783</td>\n      <td>354.496355</td>\n      <td>367.865464</td>\n      <td>75244.5</td>\n      <td>273.594339</td>\n      <td>1079.577777</td>\n      <td>0.014348</td>\n      <td>75245</td>\n      <td>0.900717</td>\n      <td>...</td>\n      <td>9.952329</td>\n      <td>0.017176</td>\n      <td>7.934791</td>\n      <td>0.011350</td>\n      <td>274113.991700</td>\n      <td>19.053591</td>\n      <td>0.000662</td>\n      <td>18.758008</td>\n      <td>0.014077</td>\n      <td>0.063296</td>\n    </tr>\n    <tr>\n      <th>3</th>\n      <td>00020E</td>\n      <td>0.847851</td>\n      <td>228.044755</td>\n      <td>237.356272</td>\n      <td>33649.5</td>\n      <td>193.348072</td>\n      <td>726.465079</td>\n      <td>0.021589</td>\n      <td>33650</td>\n      <td>0.895116</td>\n      <td>...</td>\n      <td>19.772650</td>\n      <td>0.017557</td>\n      <td>6.938698</td>\n      <td>0.028945</td>\n      <td>76413.929400</td>\n      <td>12.772382</td>\n      <td>0.000730</td>\n      <td>21.908351</td>\n      <td>0.010119</td>\n      <td>0.073954</td>\n    </tr>\n    <tr>\n      <th>4</th>\n      <td>00022E</td>\n      <td>0.734867</td>\n      <td>370.994399</td>\n      <td>375.474367</td>\n      <td>78759.5</td>\n      <td>272.631377</td>\n      <td>1091.276262</td>\n      <td>0.013856</td>\n      <td>78760</td>\n      <td>0.911636</td>\n      <td>...</td>\n      <td>8.940120</td>\n      <td>0.005659</td>\n      <td>8.685447</td>\n      <td>0.021534</td>\n      <td>26891.653080</td>\n      <td>18.744249</td>\n      <td>0.000416</td>\n      <td>40.715986</td>\n      <td>0.011627</td>\n      <td>0.071735</td>\n    </tr>\n    <tr>\n      <th>...</th>\n      <td>...</td>\n      <td>...</td>\n      <td>...</td>\n      <td>...</td>\n      <td>...</td>\n      <td>...</td>\n      <td>...</td>\n      <td>...</td>\n      <td>...</td>\n      <td>...</td>\n      <td>...</td>\n      <td>...</td>\n      <td>...</td>\n      <td>...</td>\n      <td>...</td>\n      <td>...</td>\n      <td>...</td>\n      <td>...</td>\n      <td>...</td>\n      <td>...</td>\n      <td>...</td>\n    </tr>\n    <tr>\n      <th>8400</th>\n      <td>04873E</td>\n      <td>0.836709</td>\n      <td>254.954504</td>\n      <td>267.082384</td>\n      <td>41275.5</td>\n      <td>213.322745</td>\n      <td>801.803174</td>\n      <td>0.019426</td>\n      <td>41276</td>\n      <td>0.898221</td>\n      <td>...</td>\n      <td>51.525354</td>\n      <td>0.010795</td>\n      <td>7.670385</td>\n      <td>0.043027</td>\n      <td>11522.389000</td>\n      <td>5.554940</td>\n      <td>0.000806</td>\n      <td>57.381896</td>\n      <td>0.012074</td>\n      <td>0.163013</td>\n    </tr>\n    <tr>\n      <th>8401</th>\n      <td>04187E</td>\n      <td>0.761478</td>\n      <td>412.626424</td>\n      <td>407.921561</td>\n      <td>101316.5</td>\n      <td>314.205767</td>\n      <td>1236.614357</td>\n      <td>0.012205</td>\n      <td>101317</td>\n      <td>0.912453</td>\n      <td>...</td>\n      <td>117.371804</td>\n      <td>0.001723</td>\n      <td>7.568242</td>\n      <td>0.106507</td>\n      <td>945.538955</td>\n      <td>5.629440</td>\n      <td>0.000280</td>\n      <td>138.184794</td>\n      <td>0.014792</td>\n      <td>0.119069</td>\n    </tr>\n    <tr>\n      <th>8402</th>\n      <td>04876E</td>\n      <td>0.796614</td>\n      <td>316.513136</td>\n      <td>324.655202</td>\n      <td>62367.5</td>\n      <td>252.138703</td>\n      <td>955.979798</td>\n      <td>0.015328</td>\n      <td>62368</td>\n      <td>0.926052</td>\n      <td>...</td>\n      <td>10.923814</td>\n      <td>0.021598</td>\n      <td>8.213711</td>\n      <td>0.013933</td>\n      <td>112615.374000</td>\n      <td>19.169991</td>\n      <td>0.000685</td>\n      <td>26.607702</td>\n      <td>0.014057</td>\n      <td>0.086175</td>\n    </tr>\n    <tr>\n      <th>8403</th>\n      <td>02897E</td>\n      <td>0.694843</td>\n      <td>85.621733</td>\n      <td>87.132084</td>\n      <td>3987.5</td>\n      <td>59.493655</td>\n      <td>243.965512</td>\n      <td>0.061183</td>\n      <td>3988</td>\n      <td>0.917544</td>\n      <td>...</td>\n      <td>72.028459</td>\n      <td>0.026951</td>\n      <td>5.714611</td>\n      <td>0.095035</td>\n      <td>2992.808864</td>\n      <td>1.109356</td>\n      <td>0.005211</td>\n      <td>106.835717</td>\n      <td>0.017226</td>\n      <td>1.764040</td>\n    </tr>\n    <tr>\n      <th>8404</th>\n      <td>03363E</td>\n      <td>0.820288</td>\n      <td>354.995918</td>\n      <td>360.410877</td>\n      <td>80989.5</td>\n      <td>291.199062</td>\n      <td>1080.045815</td>\n      <td>0.013336</td>\n      <td>80990</td>\n      <td>0.934065</td>\n      <td>...</td>\n      <td>48.198241</td>\n      <td>0.007724</td>\n      <td>7.861531</td>\n      <td>0.041943</td>\n      <td>14455.030550</td>\n      <td>15.110109</td>\n      <td>0.000721</td>\n      <td>53.906875</td>\n      <td>0.026073</td>\n      <td>0.157918</td>\n    </tr>\n  </tbody>\n</table>\n<p>8405 rows × 475 columns</p>\n</div>"
     },
     "execution_count": 18,
     "metadata": {},
     "output_type": "execute_result"
    }
   ],
   "source": [
    "X"
   ],
   "metadata": {
    "collapsed": false,
    "ExecuteTime": {
     "end_time": "2023-11-23T02:27:43.488682600Z",
     "start_time": "2023-11-23T02:27:43.440677400Z"
    }
   },
   "id": "7125de1ebd1c34a3"
  },
  {
   "cell_type": "code",
   "execution_count": 19,
   "outputs": [
    {
     "data": {
      "text/plain": "0       1\n1       1\n2       1\n3       1\n4       1\n       ..\n8400    0\n8401    0\n8402    0\n8403    0\n8404    0\nName: label, Length: 8405, dtype: int64"
     },
     "execution_count": 19,
     "metadata": {},
     "output_type": "execute_result"
    }
   ],
   "source": [
    "y"
   ],
   "metadata": {
    "collapsed": false,
    "ExecuteTime": {
     "end_time": "2023-11-23T02:27:52.171307900Z",
     "start_time": "2023-11-23T02:27:52.154295100Z"
    }
   },
   "id": "f66f6a523cc7edf9"
  },
  {
   "cell_type": "code",
   "execution_count": 20,
   "outputs": [],
   "source": [
    "X_train, X_test, y_train, y_test = train_test_split(X, y, test_size=0.2, random_state=4)"
   ],
   "metadata": {
    "collapsed": false,
    "ExecuteTime": {
     "end_time": "2023-11-23T02:27:59.443439900Z",
     "start_time": "2023-11-23T02:27:59.400862600Z"
    }
   },
   "id": "28eaee3fb56f318e"
  },
  {
   "cell_type": "code",
   "execution_count": 21,
   "outputs": [
    {
     "data": {
      "text/plain": "((6724, 475), (1681, 475), (6724,), (1681,))"
     },
     "execution_count": 21,
     "metadata": {},
     "output_type": "execute_result"
    }
   ],
   "source": [
    "X_train.shape, X_test.shape, y_train.shape, y_test.shape"
   ],
   "metadata": {
    "collapsed": false,
    "ExecuteTime": {
     "end_time": "2023-11-23T02:28:00.636011600Z",
     "start_time": "2023-11-23T02:28:00.615356600Z"
    }
   },
   "id": "e61937a0cff2676"
  },
  {
   "cell_type": "code",
   "execution_count": 22,
   "outputs": [],
   "source": [
    "X_train: pd.DataFrame"
   ],
   "metadata": {
    "collapsed": false,
    "ExecuteTime": {
     "end_time": "2023-11-23T02:28:06.623068300Z",
     "start_time": "2023-11-23T02:28:06.575039900Z"
    }
   },
   "id": "885dd4691968440a"
  },
  {
   "cell_type": "code",
   "execution_count": 23,
   "outputs": [],
   "source": [
    "X_train['label'] = y_train\n",
    "X_test['label'] = y_test"
   ],
   "metadata": {
    "collapsed": false,
    "ExecuteTime": {
     "end_time": "2023-11-23T02:28:28.995111400Z",
     "start_time": "2023-11-23T02:28:28.959099700Z"
    }
   },
   "id": "859e559eb9d15707"
  },
  {
   "cell_type": "code",
   "execution_count": 24,
   "outputs": [
    {
     "data": {
      "text/plain": "       index  original_shape2D_Elongation  original_shape2D_MajorAxisLength  \\\n6540  03979E                     0.874360                        159.979302   \n5009  03363E                     0.939965                        344.704502   \n1279  01842E                     0.779014                         73.895623   \n4189  01121E                     0.526238                        368.648244   \n2650  01185E                     0.788678                        222.517104   \n...      ...                          ...                               ...   \n456   00572E                     0.874832                        245.388821   \n6017  03755E                     0.737578                        320.230895   \n709   01643E                     0.573941                        301.624195   \n8366  03536E                     0.755482                        216.654417   \n1146  01922E                     0.934474                        256.059938   \n\n      original_shape2D_MaximumDiameter  original_shape2D_MeshSurface  \\\n6540                        163.049072                       17479.5   \n5009                        355.620584                       87404.5   \n1279                         74.525164                        3321.5   \n4189                        376.362857                       55493.5   \n2650                        229.839074                       29605.0   \n...                                ...                           ...   \n456                         246.333108                       41153.5   \n6017                        315.126959                       58293.5   \n709                         309.885463                       40044.5   \n8366                        216.011574                       27659.5   \n1146                        265.800677                       46751.5   \n\n      original_shape2D_MinorAxisLength  original_shape2D_Perimeter  \\\n6540                        139.879451                  500.031529   \n5009                        324.010150                 1125.928066   \n1279                         57.565749                  221.923882   \n4189                        193.996631                  984.933116   \n2650                        175.494449                  684.641702   \n...                                ...                         ...   \n456                         214.674102                  767.352380   \n6017                        236.195359                  946.607215   \n709                         173.114420                  824.925974   \n8366                        163.678468                  642.315801   \n1146                        239.281250                  855.009235   \n\n      original_shape2D_PerimeterSurfaceRatio  original_shape2D_PixelSurface  \\\n6540                                0.028607                          17480   \n5009                                0.012882                          87405   \n1279                                0.066814                           3322   \n4189                                0.017749                          55494   \n2650                                0.023126                          29606   \n...                                      ...                            ...   \n456                                 0.018646                          41154   \n6017                                0.016239                          58294   \n709                                 0.020600                          40045   \n8366                                0.023222                          27660   \n1146                                0.018288                          46752   \n\n      original_shape2D_Sphericity  ...  \\\n6540                     0.937286  ...   \n5009                     0.930810  ...   \n1279                     0.920594  ...   \n4189                     0.847850  ...   \n2650                     0.890890  ...   \n...                           ...  ...   \n456                      0.937159  ...   \n6017                     0.904160  ...   \n709                      0.859927  ...   \n8366                     0.917864  ...   \n1146                     0.896462  ...   \n\n      wavelet-LL_glszm_SmallAreaLowGrayLevelEmphasis  \\\n6540                                        0.024179   \n5009                                        0.003382   \n1279                                        0.006556   \n4189                                        0.006026   \n2650                                        0.007033   \n...                                              ...   \n456                                         0.003749   \n6017                                        0.027698   \n709                                         0.004261   \n8366                                        0.005757   \n1146                                        0.020781   \n\n      wavelet-LL_glszm_ZoneEntropy  wavelet-LL_glszm_ZonePercentage  \\\n6540                      6.669046                         0.013330   \n5009                      8.503193                         0.034003   \n1279                      6.629748                         0.077664   \n4189                      7.486389                         0.104047   \n2650                      7.263126                         0.021719   \n...                            ...                              ...   \n456                       8.036993                         0.058852   \n6017                      7.708205                         0.026023   \n709                       8.019519                         0.019104   \n8366                      7.593021                         0.070318   \n1146                      7.280253                         0.031870   \n\n      wavelet-LL_glszm_ZoneVariance  wavelet-LL_ngtdm_Busyness  \\\n6540                  262142.012400                  16.403989   \n5009                    9017.699412                  10.725145   \n1279                     733.224926                   1.813234   \n4189                     539.569854                  16.100644   \n2650                   99018.492660                  12.476761   \n...                             ...                        ...   \n456                     2813.006538                   6.275247   \n6017                  174545.684400                  30.454632   \n709                    72884.649940                  10.010551   \n8366                    4271.871946                   5.502914   \n1146                   73630.667130                  29.097271   \n\n      wavelet-LL_ngtdm_Coarseness  wavelet-LL_ngtdm_Complexity  \\\n6540                     0.001193                    13.126892   \n5009                     0.000438                    63.007485   \n1279                     0.005311                    22.635357   \n4189                     0.000390                    62.795779   \n2650                     0.000778                    23.737007   \n...                           ...                          ...   \n456                      0.000832                    51.227304   \n6017                     0.000354                    47.262013   \n709                      0.000652                    36.005838   \n8366                     0.001708                    56.521307   \n1146                     0.000465                    30.435230   \n\n      wavelet-LL_ngtdm_Contrast  wavelet-LL_ngtdm_Strength  label  \n6540                   0.005940                   0.104187      0  \n5009                   0.011227                   0.102491      0  \n1279                   0.017117                   0.313011      1  \n4189                   0.019537                   0.051830      1  \n2650                   0.008116                   0.080241      1  \n...                         ...                        ...    ...  \n456                    0.021480                   0.109053      1  \n6017                   0.009609                   0.100472      0  \n709                    0.006642                   0.105413      1  \n8366                   0.021161                   0.363168      0  \n1146                   0.011327                   0.056790      1  \n\n[6724 rows x 476 columns]",
      "text/html": "<div>\n<style scoped>\n    .dataframe tbody tr th:only-of-type {\n        vertical-align: middle;\n    }\n\n    .dataframe tbody tr th {\n        vertical-align: top;\n    }\n\n    .dataframe thead th {\n        text-align: right;\n    }\n</style>\n<table border=\"1\" class=\"dataframe\">\n  <thead>\n    <tr style=\"text-align: right;\">\n      <th></th>\n      <th>index</th>\n      <th>original_shape2D_Elongation</th>\n      <th>original_shape2D_MajorAxisLength</th>\n      <th>original_shape2D_MaximumDiameter</th>\n      <th>original_shape2D_MeshSurface</th>\n      <th>original_shape2D_MinorAxisLength</th>\n      <th>original_shape2D_Perimeter</th>\n      <th>original_shape2D_PerimeterSurfaceRatio</th>\n      <th>original_shape2D_PixelSurface</th>\n      <th>original_shape2D_Sphericity</th>\n      <th>...</th>\n      <th>wavelet-LL_glszm_SmallAreaLowGrayLevelEmphasis</th>\n      <th>wavelet-LL_glszm_ZoneEntropy</th>\n      <th>wavelet-LL_glszm_ZonePercentage</th>\n      <th>wavelet-LL_glszm_ZoneVariance</th>\n      <th>wavelet-LL_ngtdm_Busyness</th>\n      <th>wavelet-LL_ngtdm_Coarseness</th>\n      <th>wavelet-LL_ngtdm_Complexity</th>\n      <th>wavelet-LL_ngtdm_Contrast</th>\n      <th>wavelet-LL_ngtdm_Strength</th>\n      <th>label</th>\n    </tr>\n  </thead>\n  <tbody>\n    <tr>\n      <th>6540</th>\n      <td>03979E</td>\n      <td>0.874360</td>\n      <td>159.979302</td>\n      <td>163.049072</td>\n      <td>17479.5</td>\n      <td>139.879451</td>\n      <td>500.031529</td>\n      <td>0.028607</td>\n      <td>17480</td>\n      <td>0.937286</td>\n      <td>...</td>\n      <td>0.024179</td>\n      <td>6.669046</td>\n      <td>0.013330</td>\n      <td>262142.012400</td>\n      <td>16.403989</td>\n      <td>0.001193</td>\n      <td>13.126892</td>\n      <td>0.005940</td>\n      <td>0.104187</td>\n      <td>0</td>\n    </tr>\n    <tr>\n      <th>5009</th>\n      <td>03363E</td>\n      <td>0.939965</td>\n      <td>344.704502</td>\n      <td>355.620584</td>\n      <td>87404.5</td>\n      <td>324.010150</td>\n      <td>1125.928066</td>\n      <td>0.012882</td>\n      <td>87405</td>\n      <td>0.930810</td>\n      <td>...</td>\n      <td>0.003382</td>\n      <td>8.503193</td>\n      <td>0.034003</td>\n      <td>9017.699412</td>\n      <td>10.725145</td>\n      <td>0.000438</td>\n      <td>63.007485</td>\n      <td>0.011227</td>\n      <td>0.102491</td>\n      <td>0</td>\n    </tr>\n    <tr>\n      <th>1279</th>\n      <td>01842E</td>\n      <td>0.779014</td>\n      <td>73.895623</td>\n      <td>74.525164</td>\n      <td>3321.5</td>\n      <td>57.565749</td>\n      <td>221.923882</td>\n      <td>0.066814</td>\n      <td>3322</td>\n      <td>0.920594</td>\n      <td>...</td>\n      <td>0.006556</td>\n      <td>6.629748</td>\n      <td>0.077664</td>\n      <td>733.224926</td>\n      <td>1.813234</td>\n      <td>0.005311</td>\n      <td>22.635357</td>\n      <td>0.017117</td>\n      <td>0.313011</td>\n      <td>1</td>\n    </tr>\n    <tr>\n      <th>4189</th>\n      <td>01121E</td>\n      <td>0.526238</td>\n      <td>368.648244</td>\n      <td>376.362857</td>\n      <td>55493.5</td>\n      <td>193.996631</td>\n      <td>984.933116</td>\n      <td>0.017749</td>\n      <td>55494</td>\n      <td>0.847850</td>\n      <td>...</td>\n      <td>0.006026</td>\n      <td>7.486389</td>\n      <td>0.104047</td>\n      <td>539.569854</td>\n      <td>16.100644</td>\n      <td>0.000390</td>\n      <td>62.795779</td>\n      <td>0.019537</td>\n      <td>0.051830</td>\n      <td>1</td>\n    </tr>\n    <tr>\n      <th>2650</th>\n      <td>01185E</td>\n      <td>0.788678</td>\n      <td>222.517104</td>\n      <td>229.839074</td>\n      <td>29605.0</td>\n      <td>175.494449</td>\n      <td>684.641702</td>\n      <td>0.023126</td>\n      <td>29606</td>\n      <td>0.890890</td>\n      <td>...</td>\n      <td>0.007033</td>\n      <td>7.263126</td>\n      <td>0.021719</td>\n      <td>99018.492660</td>\n      <td>12.476761</td>\n      <td>0.000778</td>\n      <td>23.737007</td>\n      <td>0.008116</td>\n      <td>0.080241</td>\n      <td>1</td>\n    </tr>\n    <tr>\n      <th>...</th>\n      <td>...</td>\n      <td>...</td>\n      <td>...</td>\n      <td>...</td>\n      <td>...</td>\n      <td>...</td>\n      <td>...</td>\n      <td>...</td>\n      <td>...</td>\n      <td>...</td>\n      <td>...</td>\n      <td>...</td>\n      <td>...</td>\n      <td>...</td>\n      <td>...</td>\n      <td>...</td>\n      <td>...</td>\n      <td>...</td>\n      <td>...</td>\n      <td>...</td>\n      <td>...</td>\n    </tr>\n    <tr>\n      <th>456</th>\n      <td>00572E</td>\n      <td>0.874832</td>\n      <td>245.388821</td>\n      <td>246.333108</td>\n      <td>41153.5</td>\n      <td>214.674102</td>\n      <td>767.352380</td>\n      <td>0.018646</td>\n      <td>41154</td>\n      <td>0.937159</td>\n      <td>...</td>\n      <td>0.003749</td>\n      <td>8.036993</td>\n      <td>0.058852</td>\n      <td>2813.006538</td>\n      <td>6.275247</td>\n      <td>0.000832</td>\n      <td>51.227304</td>\n      <td>0.021480</td>\n      <td>0.109053</td>\n      <td>1</td>\n    </tr>\n    <tr>\n      <th>6017</th>\n      <td>03755E</td>\n      <td>0.737578</td>\n      <td>320.230895</td>\n      <td>315.126959</td>\n      <td>58293.5</td>\n      <td>236.195359</td>\n      <td>946.607215</td>\n      <td>0.016239</td>\n      <td>58294</td>\n      <td>0.904160</td>\n      <td>...</td>\n      <td>0.027698</td>\n      <td>7.708205</td>\n      <td>0.026023</td>\n      <td>174545.684400</td>\n      <td>30.454632</td>\n      <td>0.000354</td>\n      <td>47.262013</td>\n      <td>0.009609</td>\n      <td>0.100472</td>\n      <td>0</td>\n    </tr>\n    <tr>\n      <th>709</th>\n      <td>01643E</td>\n      <td>0.573941</td>\n      <td>301.624195</td>\n      <td>309.885463</td>\n      <td>40044.5</td>\n      <td>173.114420</td>\n      <td>824.925974</td>\n      <td>0.020600</td>\n      <td>40045</td>\n      <td>0.859927</td>\n      <td>...</td>\n      <td>0.004261</td>\n      <td>8.019519</td>\n      <td>0.019104</td>\n      <td>72884.649940</td>\n      <td>10.010551</td>\n      <td>0.000652</td>\n      <td>36.005838</td>\n      <td>0.006642</td>\n      <td>0.105413</td>\n      <td>1</td>\n    </tr>\n    <tr>\n      <th>8366</th>\n      <td>03536E</td>\n      <td>0.755482</td>\n      <td>216.654417</td>\n      <td>216.011574</td>\n      <td>27659.5</td>\n      <td>163.678468</td>\n      <td>642.315801</td>\n      <td>0.023222</td>\n      <td>27660</td>\n      <td>0.917864</td>\n      <td>...</td>\n      <td>0.005757</td>\n      <td>7.593021</td>\n      <td>0.070318</td>\n      <td>4271.871946</td>\n      <td>5.502914</td>\n      <td>0.001708</td>\n      <td>56.521307</td>\n      <td>0.021161</td>\n      <td>0.363168</td>\n      <td>0</td>\n    </tr>\n    <tr>\n      <th>1146</th>\n      <td>01922E</td>\n      <td>0.934474</td>\n      <td>256.059938</td>\n      <td>265.800677</td>\n      <td>46751.5</td>\n      <td>239.281250</td>\n      <td>855.009235</td>\n      <td>0.018288</td>\n      <td>46752</td>\n      <td>0.896462</td>\n      <td>...</td>\n      <td>0.020781</td>\n      <td>7.280253</td>\n      <td>0.031870</td>\n      <td>73630.667130</td>\n      <td>29.097271</td>\n      <td>0.000465</td>\n      <td>30.435230</td>\n      <td>0.011327</td>\n      <td>0.056790</td>\n      <td>1</td>\n    </tr>\n  </tbody>\n</table>\n<p>6724 rows × 476 columns</p>\n</div>"
     },
     "execution_count": 24,
     "metadata": {},
     "output_type": "execute_result"
    }
   ],
   "source": [
    "X_train"
   ],
   "metadata": {
    "collapsed": false,
    "ExecuteTime": {
     "end_time": "2023-11-23T02:28:36.849497300Z",
     "start_time": "2023-11-23T02:28:36.782122600Z"
    }
   },
   "id": "f113db21a97c11df"
  },
  {
   "cell_type": "code",
   "execution_count": 25,
   "outputs": [
    {
     "data": {
      "text/plain": "       index  original_shape2D_Elongation  original_shape2D_MajorAxisLength  \\\n1278  00504E                     0.724759                        400.551013   \n5163  04206E                     0.795311                        202.724946   \n5611  02001E                     0.930543                        161.249755   \n7234  02443E                     0.826958                        173.522400   \n2089  01735E                     0.909450                        113.337316   \n...      ...                          ...                               ...   \n4984  04111E                     0.807902                        237.984547   \n511   00088E                     0.835384                        283.564064   \n1117  00711E                     0.910626                        231.661790   \n1456  01001E                     0.769247                        249.048218   \n6320  00479E                     0.923531                        147.474335   \n\n      original_shape2D_MaximumDiameter  original_shape2D_MeshSurface  \\\n1278                        411.810636                       90609.5   \n5163                        199.424171                       25513.5   \n5611                        164.000000                       18976.5   \n7234                        173.458929                       19424.5   \n2089                        120.104122                        8964.5   \n...                                ...                           ...   \n4984                        239.209114                       35576.5   \n511                         294.108823                       52293.5   \n1117                        248.072570                       37980.5   \n1456                        250.944217                       36984.5   \n6320                        150.446004                       15738.5   \n\n      original_shape2D_MinorAxisLength  original_shape2D_Perimeter  \\\n1278                        290.302761                 1169.862048   \n5163                        161.229468                  608.357431   \n5611                        150.049879                  522.658946   \n7234                        143.495785                  527.646753   \n2089                        103.074621                  364.149278   \n...                                ...                         ...   \n4984                        192.268098                  731.251875   \n511                         236.884955                  902.624458   \n1117                        210.957349                  748.506709   \n1456                        191.579502                  755.979798   \n6320                        136.197105                  472.132034   \n\n      original_shape2D_PerimeterSurfaceRatio  original_shape2D_PixelSurface  \\\n1278                                0.012911                          90610   \n5163                                0.023845                          25514   \n5611                                0.027542                          18977   \n7234                                0.027164                          19425   \n2089                                0.040621                           8965   \n...                                      ...                            ...   \n4984                                0.020554                          35577   \n511                                 0.017261                          52294   \n1117                                0.019708                          37981   \n1456                                0.020440                          36985   \n6320                                0.029999                          15739   \n\n      original_shape2D_Sphericity  ...  \\\n1278                     0.912131  ...   \n5163                     0.930746  ...   \n5611                     0.934318  ...   \n7234                     0.936346  ...   \n2089                     0.921698  ...   \n...                           ...  ...   \n4984                     0.914365  ...   \n511                      0.898094  ...   \n1117                     0.922974  ...   \n1456                     0.901788  ...   \n6320                     0.941940  ...   \n\n      wavelet-LL_glszm_SmallAreaLowGrayLevelEmphasis  \\\n1278                                        0.018048   \n5163                                        0.020454   \n5611                                        0.011773   \n7234                                        0.030708   \n2089                                        0.032573   \n...                                              ...   \n4984                                        0.041510   \n511                                         0.030269   \n1117                                        0.007553   \n1456                                        0.014117   \n6320                                        0.013882   \n\n      wavelet-LL_glszm_ZoneEntropy  wavelet-LL_glszm_ZonePercentage  \\\n1278                      7.430863                         0.017327   \n5163                      7.226264                         0.045034   \n5611                      7.712364                         0.058176   \n7234                      6.733106                         0.019511   \n2089                      7.002402                         0.054211   \n...                            ...                              ...   \n4984                      6.126031                         0.032127   \n511                       7.074639                         0.008548   \n1117                      7.897183                         0.030384   \n1456                      7.396599                         0.038556   \n6320                      6.876681                         0.067793   \n\n      wavelet-LL_glszm_ZoneVariance  wavelet-LL_ngtdm_Busyness  \\\n1278                   3.812324e+05                  19.967043   \n5163                   1.511627e+04                  12.749498   \n5611                   5.433260e+03                   4.288035   \n7234                   1.875564e+05                  21.461052   \n2089                   3.436618e+03                   4.417836   \n...                             ...                        ...   \n4984                   1.473063e+05                   7.593329   \n511                    1.103272e+06                  56.023235   \n1117                   1.371757e+04                   9.522719   \n1456                   2.372173e+04                   9.296927   \n6320                   4.981507e+03                   5.138580   \n\n      wavelet-LL_ngtdm_Coarseness  wavelet-LL_ngtdm_Complexity  \\\n1278                     0.000327                    67.478565   \n5163                     0.001019                    33.514732   \n5611                     0.002721                    48.525384   \n7234                     0.001658                    14.942631   \n2089                     0.002448                    54.282475   \n...                           ...                          ...   \n4984                     0.000959                    62.533514   \n511                      0.000420                     6.870121   \n1117                     0.000696                    46.177278   \n1456                     0.000674                    59.142381   \n6320                     0.001173                    92.460845   \n\n      wavelet-LL_ngtdm_Contrast  wavelet-LL_ngtdm_Strength  label  \n1278                   0.003664                   0.187708      1  \n5163                   0.015199                   0.121838      0  \n5611                   0.045732                   0.445139      0  \n7234                   0.007449                   0.228491      0  \n2089                   0.013495                   0.498877      1  \n...                         ...                        ...    ...  \n4984                   0.004702                   0.516465      0  \n511                    0.005442                   0.018135      1  \n1117                   0.009577                   0.126001      1  \n1456                   0.010278                   0.152954      1  \n6320                   0.008325                   0.477082      0  \n\n[1681 rows x 476 columns]",
      "text/html": "<div>\n<style scoped>\n    .dataframe tbody tr th:only-of-type {\n        vertical-align: middle;\n    }\n\n    .dataframe tbody tr th {\n        vertical-align: top;\n    }\n\n    .dataframe thead th {\n        text-align: right;\n    }\n</style>\n<table border=\"1\" class=\"dataframe\">\n  <thead>\n    <tr style=\"text-align: right;\">\n      <th></th>\n      <th>index</th>\n      <th>original_shape2D_Elongation</th>\n      <th>original_shape2D_MajorAxisLength</th>\n      <th>original_shape2D_MaximumDiameter</th>\n      <th>original_shape2D_MeshSurface</th>\n      <th>original_shape2D_MinorAxisLength</th>\n      <th>original_shape2D_Perimeter</th>\n      <th>original_shape2D_PerimeterSurfaceRatio</th>\n      <th>original_shape2D_PixelSurface</th>\n      <th>original_shape2D_Sphericity</th>\n      <th>...</th>\n      <th>wavelet-LL_glszm_SmallAreaLowGrayLevelEmphasis</th>\n      <th>wavelet-LL_glszm_ZoneEntropy</th>\n      <th>wavelet-LL_glszm_ZonePercentage</th>\n      <th>wavelet-LL_glszm_ZoneVariance</th>\n      <th>wavelet-LL_ngtdm_Busyness</th>\n      <th>wavelet-LL_ngtdm_Coarseness</th>\n      <th>wavelet-LL_ngtdm_Complexity</th>\n      <th>wavelet-LL_ngtdm_Contrast</th>\n      <th>wavelet-LL_ngtdm_Strength</th>\n      <th>label</th>\n    </tr>\n  </thead>\n  <tbody>\n    <tr>\n      <th>1278</th>\n      <td>00504E</td>\n      <td>0.724759</td>\n      <td>400.551013</td>\n      <td>411.810636</td>\n      <td>90609.5</td>\n      <td>290.302761</td>\n      <td>1169.862048</td>\n      <td>0.012911</td>\n      <td>90610</td>\n      <td>0.912131</td>\n      <td>...</td>\n      <td>0.018048</td>\n      <td>7.430863</td>\n      <td>0.017327</td>\n      <td>3.812324e+05</td>\n      <td>19.967043</td>\n      <td>0.000327</td>\n      <td>67.478565</td>\n      <td>0.003664</td>\n      <td>0.187708</td>\n      <td>1</td>\n    </tr>\n    <tr>\n      <th>5163</th>\n      <td>04206E</td>\n      <td>0.795311</td>\n      <td>202.724946</td>\n      <td>199.424171</td>\n      <td>25513.5</td>\n      <td>161.229468</td>\n      <td>608.357431</td>\n      <td>0.023845</td>\n      <td>25514</td>\n      <td>0.930746</td>\n      <td>...</td>\n      <td>0.020454</td>\n      <td>7.226264</td>\n      <td>0.045034</td>\n      <td>1.511627e+04</td>\n      <td>12.749498</td>\n      <td>0.001019</td>\n      <td>33.514732</td>\n      <td>0.015199</td>\n      <td>0.121838</td>\n      <td>0</td>\n    </tr>\n    <tr>\n      <th>5611</th>\n      <td>02001E</td>\n      <td>0.930543</td>\n      <td>161.249755</td>\n      <td>164.000000</td>\n      <td>18976.5</td>\n      <td>150.049879</td>\n      <td>522.658946</td>\n      <td>0.027542</td>\n      <td>18977</td>\n      <td>0.934318</td>\n      <td>...</td>\n      <td>0.011773</td>\n      <td>7.712364</td>\n      <td>0.058176</td>\n      <td>5.433260e+03</td>\n      <td>4.288035</td>\n      <td>0.002721</td>\n      <td>48.525384</td>\n      <td>0.045732</td>\n      <td>0.445139</td>\n      <td>0</td>\n    </tr>\n    <tr>\n      <th>7234</th>\n      <td>02443E</td>\n      <td>0.826958</td>\n      <td>173.522400</td>\n      <td>173.458929</td>\n      <td>19424.5</td>\n      <td>143.495785</td>\n      <td>527.646753</td>\n      <td>0.027164</td>\n      <td>19425</td>\n      <td>0.936346</td>\n      <td>...</td>\n      <td>0.030708</td>\n      <td>6.733106</td>\n      <td>0.019511</td>\n      <td>1.875564e+05</td>\n      <td>21.461052</td>\n      <td>0.001658</td>\n      <td>14.942631</td>\n      <td>0.007449</td>\n      <td>0.228491</td>\n      <td>0</td>\n    </tr>\n    <tr>\n      <th>2089</th>\n      <td>01735E</td>\n      <td>0.909450</td>\n      <td>113.337316</td>\n      <td>120.104122</td>\n      <td>8964.5</td>\n      <td>103.074621</td>\n      <td>364.149278</td>\n      <td>0.040621</td>\n      <td>8965</td>\n      <td>0.921698</td>\n      <td>...</td>\n      <td>0.032573</td>\n      <td>7.002402</td>\n      <td>0.054211</td>\n      <td>3.436618e+03</td>\n      <td>4.417836</td>\n      <td>0.002448</td>\n      <td>54.282475</td>\n      <td>0.013495</td>\n      <td>0.498877</td>\n      <td>1</td>\n    </tr>\n    <tr>\n      <th>...</th>\n      <td>...</td>\n      <td>...</td>\n      <td>...</td>\n      <td>...</td>\n      <td>...</td>\n      <td>...</td>\n      <td>...</td>\n      <td>...</td>\n      <td>...</td>\n      <td>...</td>\n      <td>...</td>\n      <td>...</td>\n      <td>...</td>\n      <td>...</td>\n      <td>...</td>\n      <td>...</td>\n      <td>...</td>\n      <td>...</td>\n      <td>...</td>\n      <td>...</td>\n      <td>...</td>\n    </tr>\n    <tr>\n      <th>4984</th>\n      <td>04111E</td>\n      <td>0.807902</td>\n      <td>237.984547</td>\n      <td>239.209114</td>\n      <td>35576.5</td>\n      <td>192.268098</td>\n      <td>731.251875</td>\n      <td>0.020554</td>\n      <td>35577</td>\n      <td>0.914365</td>\n      <td>...</td>\n      <td>0.041510</td>\n      <td>6.126031</td>\n      <td>0.032127</td>\n      <td>1.473063e+05</td>\n      <td>7.593329</td>\n      <td>0.000959</td>\n      <td>62.533514</td>\n      <td>0.004702</td>\n      <td>0.516465</td>\n      <td>0</td>\n    </tr>\n    <tr>\n      <th>511</th>\n      <td>00088E</td>\n      <td>0.835384</td>\n      <td>283.564064</td>\n      <td>294.108823</td>\n      <td>52293.5</td>\n      <td>236.884955</td>\n      <td>902.624458</td>\n      <td>0.017261</td>\n      <td>52294</td>\n      <td>0.898094</td>\n      <td>...</td>\n      <td>0.030269</td>\n      <td>7.074639</td>\n      <td>0.008548</td>\n      <td>1.103272e+06</td>\n      <td>56.023235</td>\n      <td>0.000420</td>\n      <td>6.870121</td>\n      <td>0.005442</td>\n      <td>0.018135</td>\n      <td>1</td>\n    </tr>\n    <tr>\n      <th>1117</th>\n      <td>00711E</td>\n      <td>0.910626</td>\n      <td>231.661790</td>\n      <td>248.072570</td>\n      <td>37980.5</td>\n      <td>210.957349</td>\n      <td>748.506709</td>\n      <td>0.019708</td>\n      <td>37981</td>\n      <td>0.922974</td>\n      <td>...</td>\n      <td>0.007553</td>\n      <td>7.897183</td>\n      <td>0.030384</td>\n      <td>1.371757e+04</td>\n      <td>9.522719</td>\n      <td>0.000696</td>\n      <td>46.177278</td>\n      <td>0.009577</td>\n      <td>0.126001</td>\n      <td>1</td>\n    </tr>\n    <tr>\n      <th>1456</th>\n      <td>01001E</td>\n      <td>0.769247</td>\n      <td>249.048218</td>\n      <td>250.944217</td>\n      <td>36984.5</td>\n      <td>191.579502</td>\n      <td>755.979798</td>\n      <td>0.020440</td>\n      <td>36985</td>\n      <td>0.901788</td>\n      <td>...</td>\n      <td>0.014117</td>\n      <td>7.396599</td>\n      <td>0.038556</td>\n      <td>2.372173e+04</td>\n      <td>9.296927</td>\n      <td>0.000674</td>\n      <td>59.142381</td>\n      <td>0.010278</td>\n      <td>0.152954</td>\n      <td>1</td>\n    </tr>\n    <tr>\n      <th>6320</th>\n      <td>00479E</td>\n      <td>0.923531</td>\n      <td>147.474335</td>\n      <td>150.446004</td>\n      <td>15738.5</td>\n      <td>136.197105</td>\n      <td>472.132034</td>\n      <td>0.029999</td>\n      <td>15739</td>\n      <td>0.941940</td>\n      <td>...</td>\n      <td>0.013882</td>\n      <td>6.876681</td>\n      <td>0.067793</td>\n      <td>4.981507e+03</td>\n      <td>5.138580</td>\n      <td>0.001173</td>\n      <td>92.460845</td>\n      <td>0.008325</td>\n      <td>0.477082</td>\n      <td>0</td>\n    </tr>\n  </tbody>\n</table>\n<p>1681 rows × 476 columns</p>\n</div>"
     },
     "execution_count": 25,
     "metadata": {},
     "output_type": "execute_result"
    }
   ],
   "source": [
    "X_test"
   ],
   "metadata": {
    "collapsed": false,
    "ExecuteTime": {
     "end_time": "2023-11-23T02:29:00.305853900Z",
     "start_time": "2023-11-23T02:29:00.251756200Z"
    }
   },
   "id": "797435cdd2ef3430"
  },
  {
   "cell_type": "code",
   "execution_count": 27,
   "outputs": [],
   "source": [
    "X_train.to_csv(r'G:\\FAE\\huis_data\\split_data\\better_images_train_set_2D.csv', index=False)\n",
    "X_test.to_csv(r'G:\\FAE\\huis_data\\split_data\\better_images_test_set_2D.csv', index=False)"
   ],
   "metadata": {
    "collapsed": false,
    "ExecuteTime": {
     "end_time": "2023-11-23T02:31:15.338328900Z",
     "start_time": "2023-11-23T02:31:08.451517600Z"
    }
   },
   "id": "47964743eeddbcd1"
  },
  {
   "cell_type": "code",
   "execution_count": null,
   "outputs": [],
   "source": [],
   "metadata": {
    "collapsed": false
   },
   "id": "2fa982a543b21bdf"
  }
 ],
 "metadata": {
  "kernelspec": {
   "display_name": "Python 3",
   "language": "python",
   "name": "python3"
  },
  "language_info": {
   "codemirror_mode": {
    "name": "ipython",
    "version": 2
   },
   "file_extension": ".py",
   "mimetype": "text/x-python",
   "name": "python",
   "nbconvert_exporter": "python",
   "pygments_lexer": "ipython2",
   "version": "2.7.6"
  }
 },
 "nbformat": 4,
 "nbformat_minor": 5
}
