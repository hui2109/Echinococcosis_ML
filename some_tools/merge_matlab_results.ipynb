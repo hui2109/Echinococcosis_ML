{
 "cells": [
  {
   "cell_type": "code",
   "execution_count": 57,
   "id": "initial_id",
   "metadata": {
    "collapsed": true,
    "ExecuteTime": {
     "end_time": "2024-01-04T08:59:19.393521900Z",
     "start_time": "2024-01-04T08:59:19.380847600Z"
    }
   },
   "outputs": [],
   "source": [
    "from pathlib import Path\n",
    "import numpy as np\n",
    "import pandas as pd\n",
    "from sklearn.metrics import accuracy_score, roc_auc_score"
   ]
  },
  {
   "cell_type": "code",
   "outputs": [],
   "source": [
    "dir1 = Path('./resources/results/DL/resnet50_adam')\n",
    "Label = pd.read_csv(dir1 / 'Labels_test.csv', header=None, names=['Label'])\n",
    "Score = pd.read_csv(dir1 / 'probs_test.csv', header=None, names=['probs_0', 'Score'])\n",
    "Pred = pd.read_csv(dir1 / 'YPred_test.csv', header=None, names=['pred'])"
   ],
   "metadata": {
    "collapsed": false,
    "ExecuteTime": {
     "end_time": "2024-01-04T08:59:19.812604600Z",
     "start_time": "2024-01-04T08:59:19.778102Z"
    }
   },
   "id": "34d13c0f5eb18e1d",
   "execution_count": 58
  },
  {
   "cell_type": "code",
   "outputs": [],
   "source": [
    "df = pd.concat([Label, Score, Pred], axis=1)"
   ],
   "metadata": {
    "collapsed": false,
    "ExecuteTime": {
     "end_time": "2024-01-04T08:59:20.158648500Z",
     "start_time": "2024-01-04T08:59:20.140088100Z"
    }
   },
   "id": "9c982a8fcab2dae",
   "execution_count": 59
  },
  {
   "cell_type": "code",
   "outputs": [
    {
     "data": {
      "text/plain": "      Label   probs_0     Score  pred\n0         0  0.622941  0.377059     0\n1         0  0.976522  0.023478     0\n2         0  0.375962  0.624038     1\n3         0  0.154029  0.845971     1\n4         0  0.490001  0.509999     1\n...     ...       ...       ...   ...\n4674      1  0.024157  0.975843     1\n4675      1  0.406643  0.593357     1\n4676      1  0.132101  0.867899     1\n4677      1  0.074275  0.925725     1\n4678      1  0.045936  0.954064     1\n\n[4679 rows x 4 columns]",
      "text/html": "<div>\n<style scoped>\n    .dataframe tbody tr th:only-of-type {\n        vertical-align: middle;\n    }\n\n    .dataframe tbody tr th {\n        vertical-align: top;\n    }\n\n    .dataframe thead th {\n        text-align: right;\n    }\n</style>\n<table border=\"1\" class=\"dataframe\">\n  <thead>\n    <tr style=\"text-align: right;\">\n      <th></th>\n      <th>Label</th>\n      <th>probs_0</th>\n      <th>Score</th>\n      <th>pred</th>\n    </tr>\n  </thead>\n  <tbody>\n    <tr>\n      <th>0</th>\n      <td>0</td>\n      <td>0.622941</td>\n      <td>0.377059</td>\n      <td>0</td>\n    </tr>\n    <tr>\n      <th>1</th>\n      <td>0</td>\n      <td>0.976522</td>\n      <td>0.023478</td>\n      <td>0</td>\n    </tr>\n    <tr>\n      <th>2</th>\n      <td>0</td>\n      <td>0.375962</td>\n      <td>0.624038</td>\n      <td>1</td>\n    </tr>\n    <tr>\n      <th>3</th>\n      <td>0</td>\n      <td>0.154029</td>\n      <td>0.845971</td>\n      <td>1</td>\n    </tr>\n    <tr>\n      <th>4</th>\n      <td>0</td>\n      <td>0.490001</td>\n      <td>0.509999</td>\n      <td>1</td>\n    </tr>\n    <tr>\n      <th>...</th>\n      <td>...</td>\n      <td>...</td>\n      <td>...</td>\n      <td>...</td>\n    </tr>\n    <tr>\n      <th>4674</th>\n      <td>1</td>\n      <td>0.024157</td>\n      <td>0.975843</td>\n      <td>1</td>\n    </tr>\n    <tr>\n      <th>4675</th>\n      <td>1</td>\n      <td>0.406643</td>\n      <td>0.593357</td>\n      <td>1</td>\n    </tr>\n    <tr>\n      <th>4676</th>\n      <td>1</td>\n      <td>0.132101</td>\n      <td>0.867899</td>\n      <td>1</td>\n    </tr>\n    <tr>\n      <th>4677</th>\n      <td>1</td>\n      <td>0.074275</td>\n      <td>0.925725</td>\n      <td>1</td>\n    </tr>\n    <tr>\n      <th>4678</th>\n      <td>1</td>\n      <td>0.045936</td>\n      <td>0.954064</td>\n      <td>1</td>\n    </tr>\n  </tbody>\n</table>\n<p>4679 rows × 4 columns</p>\n</div>"
     },
     "execution_count": 60,
     "metadata": {},
     "output_type": "execute_result"
    }
   ],
   "source": [
    "df"
   ],
   "metadata": {
    "collapsed": false,
    "ExecuteTime": {
     "end_time": "2024-01-04T08:59:20.476189600Z",
     "start_time": "2024-01-04T08:59:20.461940800Z"
    }
   },
   "id": "68369c75f626ac9f",
   "execution_count": 60
  },
  {
   "cell_type": "code",
   "outputs": [],
   "source": [
    "df.to_csv(dir1 / 'test.csv', index=False)"
   ],
   "metadata": {
    "collapsed": false,
    "ExecuteTime": {
     "end_time": "2024-01-04T08:59:20.790936300Z",
     "start_time": "2024-01-04T08:59:20.754478200Z"
    }
   },
   "id": "6a84a60866577c7c",
   "execution_count": 61
  },
  {
   "cell_type": "code",
   "outputs": [],
   "source": [
    "def compute_acc_auc(y_true, y_score, y_pred):\n",
    "    return accuracy_score(y_true, y_pred), roc_auc_score(y_true, y_score)\n",
    "def test_results(df):\n",
    "    y_true = df['Label']\n",
    "    y_score = df['Score']\n",
    "    y_pred = np.where(y_score >= 0.5, 1, 0)\n",
    "    acc, auc = compute_acc_auc(y_true, y_score, y_pred)\n",
    "    # print(f'Accuracy: {acc}, AUC: {auc}')\n",
    "    return acc, auc"
   ],
   "metadata": {
    "collapsed": false,
    "ExecuteTime": {
     "end_time": "2024-01-04T08:59:21.547125900Z",
     "start_time": "2024-01-04T08:59:21.527653500Z"
    }
   },
   "id": "b3e1815b6169b243",
   "execution_count": 62
  },
  {
   "cell_type": "code",
   "outputs": [
    {
     "data": {
      "text/plain": "(0.8279546911733277, 0.892382778304081)"
     },
     "execution_count": 63,
     "metadata": {},
     "output_type": "execute_result"
    }
   ],
   "source": [
    "test_results(df)"
   ],
   "metadata": {
    "collapsed": false,
    "ExecuteTime": {
     "end_time": "2024-01-04T08:59:22.149592400Z",
     "start_time": "2024-01-04T08:59:22.117821300Z"
    }
   },
   "id": "12652d5d497dda32",
   "execution_count": 63
  },
  {
   "cell_type": "code",
   "outputs": [],
   "source": [],
   "metadata": {
    "collapsed": false
   },
   "id": "6e16d31bfa0ee946"
  }
 ],
 "metadata": {
  "kernelspec": {
   "display_name": "Python 3",
   "language": "python",
   "name": "python3"
  },
  "language_info": {
   "codemirror_mode": {
    "name": "ipython",
    "version": 2
   },
   "file_extension": ".py",
   "mimetype": "text/x-python",
   "name": "python",
   "nbconvert_exporter": "python",
   "pygments_lexer": "ipython2",
   "version": "2.7.6"
  }
 },
 "nbformat": 4,
 "nbformat_minor": 5
}
