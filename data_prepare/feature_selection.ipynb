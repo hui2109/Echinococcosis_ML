{
 "cells": [
  {
   "cell_type": "code",
   "execution_count": 2,
   "metadata": {
    "collapsed": false
   },
   "outputs": [
    {
     "name": "stderr",
     "output_type": "stream",
     "text": [
      "Intel(R) Extension for Scikit-learn* enabled (https://github.com/intel/scikit-learn-intelex)\n",
      "Intel(R) Extension for Scikit-learn* enabled (https://github.com/intel/scikit-learn-intelex)\n"
     ]
    }
   ],
   "source": [
    "import matplotlib.pyplot as plt\n",
    "import matplotlib\n",
    "%reload_ext autoreload\n",
    "%autoreload 2\n",
    "from sklearnex import patch_sklearn\n",
    "\n",
    "patch_sklearn()"
   ]
  },
  {
   "cell_type": "code",
   "execution_count": 3,
   "id": "initial_id",
   "metadata": {
    "ExecuteTime": {
     "end_time": "2023-09-22T02:09:55.428408900Z",
     "start_time": "2023-09-22T02:09:55.178490600Z"
    },
    "collapsed": true
   },
   "outputs": [],
   "source": [
    "import pickle\n",
    "\n",
    "import pandas as pd\n",
    "from pathlib import Path\n",
    "import numpy as np\n",
    "import math\n",
    "import sklearn\n",
    "from scipy.stats import levene, ttest_ind\n",
    "from sklearn.preprocessing import StandardScaler\n",
    "from sklearn.feature_selection import SelectKBest\n",
    "from sklearn.feature_selection import RFE\n",
    "from sklearn.linear_model import LogisticRegression\n",
    "from sklearn.linear_model import Lasso\n",
    "from sklearn.utils import shuffle\n",
    "from sklearn.model_selection import train_test_split\n",
    "from sklearn.metrics import roc_auc_score\n",
    "from sklearn.metrics import accuracy_score\n",
    "from sklearn.metrics import log_loss\n",
    "from scipy.stats import pearsonr\n",
    "import matplotlib.pyplot as plt\n",
    "from sklearn.svm import SVC\n",
    "from sklearn.ensemble import RandomForestClassifier\n",
    "\n",
    "from utils import get_target_group\n",
    "from utils import save_to_pickle\n",
    "from utils import load_pickle"
   ]
  },
  {
   "cell_type": "code",
   "execution_count": 3,
   "id": "4d53665accc9e154",
   "metadata": {
    "ExecuteTime": {
     "end_time": "2023-09-18T12:47:02.489509100Z",
     "start_time": "2023-09-18T12:47:02.115909400Z"
    },
    "collapsed": false
   },
   "outputs": [],
   "source": [
    "p = Path('./resources/temp_file/final_extract_results.pkl')\n",
    "final_results_df = pd.read_pickle(p)"
   ]
  },
  {
   "cell_type": "code",
   "execution_count": 7,
   "id": "301575e9061a1a79",
   "metadata": {
    "ExecuteTime": {
     "end_time": "2023-09-18T12:47:02.642314200Z",
     "start_time": "2023-09-18T12:47:02.489509100Z"
    },
    "collapsed": false
   },
   "outputs": [
    {
     "data": {
      "text/plain": "      diagnostics_Versions_PyRadiomics diagnostics_Versions_Numpy  \\\n0                               v3.1.0                     1.21.6   \n1                               v3.1.0                     1.21.6   \n2                               v3.1.0                     1.21.6   \n3                               v3.1.0                     1.21.6   \n4                               v3.1.0                     1.21.6   \n...                                ...                        ...   \n23447                           v3.1.0                     1.21.6   \n23448                           v3.1.0                     1.21.6   \n23449                           v3.1.0                     1.21.6   \n23450                           v3.1.0                     1.21.6   \n23451                           v3.1.0                     1.21.6   \n\n      diagnostics_Versions_SimpleITK diagnostics_Versions_PyWavelet  \\\n0                              2.2.1                          1.3.0   \n1                              2.2.1                          1.3.0   \n2                              2.2.1                          1.3.0   \n3                              2.2.1                          1.3.0   \n4                              2.2.1                          1.3.0   \n...                              ...                            ...   \n23447                          2.2.1                          1.3.0   \n23448                          2.2.1                          1.3.0   \n23449                          2.2.1                          1.3.0   \n23450                          2.2.1                          1.3.0   \n23451                          2.2.1                          1.3.0   \n\n      diagnostics_Versions_Python  \\\n0                           3.7.9   \n1                           3.7.9   \n2                           3.7.9   \n3                           3.7.9   \n4                           3.7.9   \n...                           ...   \n23447                       3.7.9   \n23448                       3.7.9   \n23449                       3.7.9   \n23450                       3.7.9   \n23451                       3.7.9   \n\n                      diagnostics_Configuration_Settings  \\\n0      {'minimumROIDimensions': 2, 'minimumROISize': ...   \n1      {'minimumROIDimensions': 2, 'minimumROISize': ...   \n2      {'minimumROIDimensions': 2, 'minimumROISize': ...   \n3      {'minimumROIDimensions': 2, 'minimumROISize': ...   \n4      {'minimumROIDimensions': 2, 'minimumROISize': ...   \n...                                                  ...   \n23447  {'minimumROIDimensions': 2, 'minimumROISize': ...   \n23448  {'minimumROIDimensions': 2, 'minimumROISize': ...   \n23449  {'minimumROIDimensions': 2, 'minimumROISize': ...   \n23450  {'minimumROIDimensions': 2, 'minimumROISize': ...   \n23451  {'minimumROIDimensions': 2, 'minimumROISize': ...   \n\n             diagnostics_Configuration_EnabledImageTypes  \\\n0      {'Original': {}, 'Wavelet': {}, 'LoG': {}, 'Lo...   \n1      {'Original': {}, 'Wavelet': {}, 'LoG': {}, 'Lo...   \n2      {'Original': {}, 'Wavelet': {}, 'LoG': {}, 'Lo...   \n3      {'Original': {}, 'Wavelet': {}, 'LoG': {}, 'Lo...   \n4      {'Original': {}, 'Wavelet': {}, 'LoG': {}, 'Lo...   \n...                                                  ...   \n23447  {'Original': {}, 'Wavelet': {}, 'LoG': {}, 'Lo...   \n23448  {'Original': {}, 'Wavelet': {}, 'LoG': {}, 'Lo...   \n23449  {'Original': {}, 'Wavelet': {}, 'LoG': {}, 'Lo...   \n23450  {'Original': {}, 'Wavelet': {}, 'LoG': {}, 'Lo...   \n23451  {'Original': {}, 'Wavelet': {}, 'LoG': {}, 'Lo...   \n\n                diagnostics_Image-original_Hash  \\\n0      ed56dfd16b94093bb78ace3a0bd739f8e0d877c2   \n1      8ef55464a40ae22f61f193f0992c28e56d1cf5ef   \n2      c5b7e4cc8b3304b8a9879d11034c9deb7271fd5f   \n3      dbe150397f9576e3980b938d0d01afe113615ced   \n4      9bab9badbf31000349d2c25ac168e70db027b7df   \n...                                         ...   \n23447  8e33e38aa0548554297987805fc901af7aa413b4   \n23448  c3448a7f3927722dda9d759546d512519013a64b   \n23449  f668d1f2f6016fd9ec4471029378ed8870c16d9a   \n23450  7bce5bffd1773d8c1284445f2fa904b5bdab7658   \n23451  67e32f8e482429b61fbab5129d906f997b40f519   \n\n      diagnostics_Image-original_Dimensionality  \\\n0                                            3D   \n1                                            3D   \n2                                            3D   \n3                                            3D   \n4                                            3D   \n...                                         ...   \n23447                                        3D   \n23448                                        3D   \n23449                                        3D   \n23450                                        3D   \n23451                                        3D   \n\n      diagnostics_Image-original_Spacing  ... gradient_glszm_ZoneVariance  \\\n0                        (1.0, 1.0, 1.0)  ...                2.175838e+06   \n1                        (1.0, 1.0, 1.0)  ...                1.533044e+07   \n2                        (1.0, 1.0, 1.0)  ...                1.984614e+08   \n3                        (1.0, 1.0, 1.0)  ...                3.651020e+04   \n4                        (1.0, 1.0, 1.0)  ...                2.430580e+07   \n...                                  ...  ...                         ...   \n23447                    (1.0, 1.0, 1.0)  ...                9.346179e+07   \n23448                    (1.0, 1.0, 1.0)  ...                2.273263e+05   \n23449                    (1.0, 1.0, 1.0)  ...                6.989955e+07   \n23450                    (1.0, 1.0, 1.0)  ...                3.977091e+07   \n23451                    (1.0, 1.0, 1.0)  ...                1.139050e+07   \n\n       gradient_ngtdm_Busyness  gradient_ngtdm_Coarseness  \\\n0                    10.218170                   0.049777   \n1                   321.873332                   0.000793   \n2                    92.457669                   0.002721   \n3                    10.455631                   0.017684   \n4                     8.782931                   0.057331   \n...                        ...                        ...   \n23447                 4.007028                   0.125000   \n23448                25.566116                   0.003057   \n23449                 2.126798                   0.235294   \n23450               142.932545                   0.001177   \n23451                60.670836                   0.002075   \n\n       gradient_ngtdm_Complexity gradient_ngtdm_Contrast  \\\n0                       0.008120            4.500440e-05   \n1                       0.122848            2.118807e-04   \n2                       0.022308            1.193983e-05   \n3                       1.084110            4.594474e-03   \n4                       0.002630            6.120285e-06   \n...                          ...                     ...   \n23447                   0.000779            4.554478e-07   \n23448                   4.933786            7.518353e-03   \n23449                   0.000479            1.349623e-07   \n23450                   0.187414            8.795695e-05   \n23451                   0.344726            8.659226e-05   \n\n      gradient_ngtdm_Strength label process_index  \\\n0                    0.050537     1             0   \n1                    0.003918     1             1   \n2                    0.013522     1             2   \n3                    0.208175     1             3   \n4                    0.057428     1             4   \n...                       ...   ...           ...   \n23447                0.125000     0         23447   \n23448                0.246425     0         23448   \n23449                0.235294     0         23449   \n23450                0.016185     0         23450   \n23451                0.061219     0         23451   \n\n                                     stem  patient_ID  \n0      B-00073B8A5734D5E5D21C6E9B04299C3F      00001E  \n1      B-000C017A869153D099C1AA9B0C892CF1      00002E  \n2      B-0011E7D1D5506FE65860A7C161441B8E      00003E  \n3      B-0016A093D3B14AD44076356F24B59DAC      00004E  \n4      B-00197B92826AEC1999D2DA23FE9A52C6      00005E  \n...                                   ...         ...  \n23447  R-FFBC3481A5479BE3EDB0AF8D6F5447D1      04073E  \n23448  R-FFBDA3DB7ADC48E248DD7467CFD535DC      02897E  \n23449  R-FFD03989F3566EE1C7A843748A6A8652      04592E  \n23450  R-FFDC713CF7698E805C8DA0F8B36D74AF      03363E  \n23451  R-FFF336289C5E489182A4A4EE7880AB15      04814E  \n\n[23452 rows x 1156 columns]",
      "text/html": "<div>\n<style scoped>\n    .dataframe tbody tr th:only-of-type {\n        vertical-align: middle;\n    }\n\n    .dataframe tbody tr th {\n        vertical-align: top;\n    }\n\n    .dataframe thead th {\n        text-align: right;\n    }\n</style>\n<table border=\"1\" class=\"dataframe\">\n  <thead>\n    <tr style=\"text-align: right;\">\n      <th></th>\n      <th>diagnostics_Versions_PyRadiomics</th>\n      <th>diagnostics_Versions_Numpy</th>\n      <th>diagnostics_Versions_SimpleITK</th>\n      <th>diagnostics_Versions_PyWavelet</th>\n      <th>diagnostics_Versions_Python</th>\n      <th>diagnostics_Configuration_Settings</th>\n      <th>diagnostics_Configuration_EnabledImageTypes</th>\n      <th>diagnostics_Image-original_Hash</th>\n      <th>diagnostics_Image-original_Dimensionality</th>\n      <th>diagnostics_Image-original_Spacing</th>\n      <th>...</th>\n      <th>gradient_glszm_ZoneVariance</th>\n      <th>gradient_ngtdm_Busyness</th>\n      <th>gradient_ngtdm_Coarseness</th>\n      <th>gradient_ngtdm_Complexity</th>\n      <th>gradient_ngtdm_Contrast</th>\n      <th>gradient_ngtdm_Strength</th>\n      <th>label</th>\n      <th>process_index</th>\n      <th>stem</th>\n      <th>patient_ID</th>\n    </tr>\n  </thead>\n  <tbody>\n    <tr>\n      <th>0</th>\n      <td>v3.1.0</td>\n      <td>1.21.6</td>\n      <td>2.2.1</td>\n      <td>1.3.0</td>\n      <td>3.7.9</td>\n      <td>{'minimumROIDimensions': 2, 'minimumROISize': ...</td>\n      <td>{'Original': {}, 'Wavelet': {}, 'LoG': {}, 'Lo...</td>\n      <td>ed56dfd16b94093bb78ace3a0bd739f8e0d877c2</td>\n      <td>3D</td>\n      <td>(1.0, 1.0, 1.0)</td>\n      <td>...</td>\n      <td>2.175838e+06</td>\n      <td>10.218170</td>\n      <td>0.049777</td>\n      <td>0.008120</td>\n      <td>4.500440e-05</td>\n      <td>0.050537</td>\n      <td>1</td>\n      <td>0</td>\n      <td>B-00073B8A5734D5E5D21C6E9B04299C3F</td>\n      <td>00001E</td>\n    </tr>\n    <tr>\n      <th>1</th>\n      <td>v3.1.0</td>\n      <td>1.21.6</td>\n      <td>2.2.1</td>\n      <td>1.3.0</td>\n      <td>3.7.9</td>\n      <td>{'minimumROIDimensions': 2, 'minimumROISize': ...</td>\n      <td>{'Original': {}, 'Wavelet': {}, 'LoG': {}, 'Lo...</td>\n      <td>8ef55464a40ae22f61f193f0992c28e56d1cf5ef</td>\n      <td>3D</td>\n      <td>(1.0, 1.0, 1.0)</td>\n      <td>...</td>\n      <td>1.533044e+07</td>\n      <td>321.873332</td>\n      <td>0.000793</td>\n      <td>0.122848</td>\n      <td>2.118807e-04</td>\n      <td>0.003918</td>\n      <td>1</td>\n      <td>1</td>\n      <td>B-000C017A869153D099C1AA9B0C892CF1</td>\n      <td>00002E</td>\n    </tr>\n    <tr>\n      <th>2</th>\n      <td>v3.1.0</td>\n      <td>1.21.6</td>\n      <td>2.2.1</td>\n      <td>1.3.0</td>\n      <td>3.7.9</td>\n      <td>{'minimumROIDimensions': 2, 'minimumROISize': ...</td>\n      <td>{'Original': {}, 'Wavelet': {}, 'LoG': {}, 'Lo...</td>\n      <td>c5b7e4cc8b3304b8a9879d11034c9deb7271fd5f</td>\n      <td>3D</td>\n      <td>(1.0, 1.0, 1.0)</td>\n      <td>...</td>\n      <td>1.984614e+08</td>\n      <td>92.457669</td>\n      <td>0.002721</td>\n      <td>0.022308</td>\n      <td>1.193983e-05</td>\n      <td>0.013522</td>\n      <td>1</td>\n      <td>2</td>\n      <td>B-0011E7D1D5506FE65860A7C161441B8E</td>\n      <td>00003E</td>\n    </tr>\n    <tr>\n      <th>3</th>\n      <td>v3.1.0</td>\n      <td>1.21.6</td>\n      <td>2.2.1</td>\n      <td>1.3.0</td>\n      <td>3.7.9</td>\n      <td>{'minimumROIDimensions': 2, 'minimumROISize': ...</td>\n      <td>{'Original': {}, 'Wavelet': {}, 'LoG': {}, 'Lo...</td>\n      <td>dbe150397f9576e3980b938d0d01afe113615ced</td>\n      <td>3D</td>\n      <td>(1.0, 1.0, 1.0)</td>\n      <td>...</td>\n      <td>3.651020e+04</td>\n      <td>10.455631</td>\n      <td>0.017684</td>\n      <td>1.084110</td>\n      <td>4.594474e-03</td>\n      <td>0.208175</td>\n      <td>1</td>\n      <td>3</td>\n      <td>B-0016A093D3B14AD44076356F24B59DAC</td>\n      <td>00004E</td>\n    </tr>\n    <tr>\n      <th>4</th>\n      <td>v3.1.0</td>\n      <td>1.21.6</td>\n      <td>2.2.1</td>\n      <td>1.3.0</td>\n      <td>3.7.9</td>\n      <td>{'minimumROIDimensions': 2, 'minimumROISize': ...</td>\n      <td>{'Original': {}, 'Wavelet': {}, 'LoG': {}, 'Lo...</td>\n      <td>9bab9badbf31000349d2c25ac168e70db027b7df</td>\n      <td>3D</td>\n      <td>(1.0, 1.0, 1.0)</td>\n      <td>...</td>\n      <td>2.430580e+07</td>\n      <td>8.782931</td>\n      <td>0.057331</td>\n      <td>0.002630</td>\n      <td>6.120285e-06</td>\n      <td>0.057428</td>\n      <td>1</td>\n      <td>4</td>\n      <td>B-00197B92826AEC1999D2DA23FE9A52C6</td>\n      <td>00005E</td>\n    </tr>\n    <tr>\n      <th>...</th>\n      <td>...</td>\n      <td>...</td>\n      <td>...</td>\n      <td>...</td>\n      <td>...</td>\n      <td>...</td>\n      <td>...</td>\n      <td>...</td>\n      <td>...</td>\n      <td>...</td>\n      <td>...</td>\n      <td>...</td>\n      <td>...</td>\n      <td>...</td>\n      <td>...</td>\n      <td>...</td>\n      <td>...</td>\n      <td>...</td>\n      <td>...</td>\n      <td>...</td>\n      <td>...</td>\n    </tr>\n    <tr>\n      <th>23447</th>\n      <td>v3.1.0</td>\n      <td>1.21.6</td>\n      <td>2.2.1</td>\n      <td>1.3.0</td>\n      <td>3.7.9</td>\n      <td>{'minimumROIDimensions': 2, 'minimumROISize': ...</td>\n      <td>{'Original': {}, 'Wavelet': {}, 'LoG': {}, 'Lo...</td>\n      <td>8e33e38aa0548554297987805fc901af7aa413b4</td>\n      <td>3D</td>\n      <td>(1.0, 1.0, 1.0)</td>\n      <td>...</td>\n      <td>9.346179e+07</td>\n      <td>4.007028</td>\n      <td>0.125000</td>\n      <td>0.000779</td>\n      <td>4.554478e-07</td>\n      <td>0.125000</td>\n      <td>0</td>\n      <td>23447</td>\n      <td>R-FFBC3481A5479BE3EDB0AF8D6F5447D1</td>\n      <td>04073E</td>\n    </tr>\n    <tr>\n      <th>23448</th>\n      <td>v3.1.0</td>\n      <td>1.21.6</td>\n      <td>2.2.1</td>\n      <td>1.3.0</td>\n      <td>3.7.9</td>\n      <td>{'minimumROIDimensions': 2, 'minimumROISize': ...</td>\n      <td>{'Original': {}, 'Wavelet': {}, 'LoG': {}, 'Lo...</td>\n      <td>c3448a7f3927722dda9d759546d512519013a64b</td>\n      <td>3D</td>\n      <td>(1.0, 1.0, 1.0)</td>\n      <td>...</td>\n      <td>2.273263e+05</td>\n      <td>25.566116</td>\n      <td>0.003057</td>\n      <td>4.933786</td>\n      <td>7.518353e-03</td>\n      <td>0.246425</td>\n      <td>0</td>\n      <td>23448</td>\n      <td>R-FFBDA3DB7ADC48E248DD7467CFD535DC</td>\n      <td>02897E</td>\n    </tr>\n    <tr>\n      <th>23449</th>\n      <td>v3.1.0</td>\n      <td>1.21.6</td>\n      <td>2.2.1</td>\n      <td>1.3.0</td>\n      <td>3.7.9</td>\n      <td>{'minimumROIDimensions': 2, 'minimumROISize': ...</td>\n      <td>{'Original': {}, 'Wavelet': {}, 'LoG': {}, 'Lo...</td>\n      <td>f668d1f2f6016fd9ec4471029378ed8870c16d9a</td>\n      <td>3D</td>\n      <td>(1.0, 1.0, 1.0)</td>\n      <td>...</td>\n      <td>6.989955e+07</td>\n      <td>2.126798</td>\n      <td>0.235294</td>\n      <td>0.000479</td>\n      <td>1.349623e-07</td>\n      <td>0.235294</td>\n      <td>0</td>\n      <td>23449</td>\n      <td>R-FFD03989F3566EE1C7A843748A6A8652</td>\n      <td>04592E</td>\n    </tr>\n    <tr>\n      <th>23450</th>\n      <td>v3.1.0</td>\n      <td>1.21.6</td>\n      <td>2.2.1</td>\n      <td>1.3.0</td>\n      <td>3.7.9</td>\n      <td>{'minimumROIDimensions': 2, 'minimumROISize': ...</td>\n      <td>{'Original': {}, 'Wavelet': {}, 'LoG': {}, 'Lo...</td>\n      <td>7bce5bffd1773d8c1284445f2fa904b5bdab7658</td>\n      <td>3D</td>\n      <td>(1.0, 1.0, 1.0)</td>\n      <td>...</td>\n      <td>3.977091e+07</td>\n      <td>142.932545</td>\n      <td>0.001177</td>\n      <td>0.187414</td>\n      <td>8.795695e-05</td>\n      <td>0.016185</td>\n      <td>0</td>\n      <td>23450</td>\n      <td>R-FFDC713CF7698E805C8DA0F8B36D74AF</td>\n      <td>03363E</td>\n    </tr>\n    <tr>\n      <th>23451</th>\n      <td>v3.1.0</td>\n      <td>1.21.6</td>\n      <td>2.2.1</td>\n      <td>1.3.0</td>\n      <td>3.7.9</td>\n      <td>{'minimumROIDimensions': 2, 'minimumROISize': ...</td>\n      <td>{'Original': {}, 'Wavelet': {}, 'LoG': {}, 'Lo...</td>\n      <td>67e32f8e482429b61fbab5129d906f997b40f519</td>\n      <td>3D</td>\n      <td>(1.0, 1.0, 1.0)</td>\n      <td>...</td>\n      <td>1.139050e+07</td>\n      <td>60.670836</td>\n      <td>0.002075</td>\n      <td>0.344726</td>\n      <td>8.659226e-05</td>\n      <td>0.061219</td>\n      <td>0</td>\n      <td>23451</td>\n      <td>R-FFF336289C5E489182A4A4EE7880AB15</td>\n      <td>04814E</td>\n    </tr>\n  </tbody>\n</table>\n<p>23452 rows × 1156 columns</p>\n</div>"
     },
     "execution_count": 7,
     "metadata": {},
     "output_type": "execute_result"
    }
   ],
   "source": [
    "final_results_df: pd.DataFrame\n",
    "final_results_df"
   ]
  },
  {
   "cell_type": "code",
   "execution_count": 8,
   "id": "c127845eac8446c3",
   "metadata": {
    "ExecuteTime": {
     "end_time": "2023-09-18T04:28:16.650896900Z",
     "start_time": "2023-09-18T04:26:21.240394300Z"
    },
    "collapsed": false
   },
   "outputs": [],
   "source": [
    "# 数据集的划分\n",
    "p_train = Path('./resources/all_images/Groups/train_ids.csv')\n",
    "train_df = pd.read_csv(p_train)\n",
    "train_label = train_df['ids']\n",
    "train_data = get_target_group(train_label, final_results_df).iloc[:, 22:]\n",
    "\n",
    "p_val = Path('./resources/all_images/Groups/validation_ids.csv')\n",
    "val_df = pd.read_csv(p_val)\n",
    "val_label = val_df['ids']\n",
    "val_data = get_target_group(val_label, final_results_df).iloc[:, 22:]\n",
    "\n",
    "p_test = Path('./resources/all_images/Groups/test_ids.csv')\n",
    "test_df = pd.read_csv(p_test)\n",
    "test_label = test_df['ids']\n",
    "test_data = get_target_group(test_label, final_results_df).iloc[:, 22:]"
   ]
  },
  {
   "cell_type": "code",
   "execution_count": 9,
   "id": "508f6a666b382aa",
   "metadata": {
    "ExecuteTime": {
     "end_time": "2023-09-18T04:28:16.792589100Z",
     "start_time": "2023-09-18T04:28:16.650896900Z"
    },
    "collapsed": false
   },
   "outputs": [
    {
     "name": "stdout",
     "output_type": "stream",
     "text": [
      "(13772, 1134)\n",
      "(4593, 1134)\n",
      "(4691, 1134)\n"
     ]
    }
   ],
   "source": [
    "print(train_data.shape)\n",
    "print(val_data.shape)\n",
    "print(test_data.shape)"
   ]
  },
  {
   "cell_type": "code",
   "execution_count": 13,
   "outputs": [],
   "source": [
    "test_data: pd.DataFrame\n",
    "test_data.to_csv('./resources/source_data/test_set.csv', index=False)"
   ],
   "metadata": {
    "collapsed": false
   }
  },
  {
   "cell_type": "code",
   "execution_count": 14,
   "outputs": [
    {
     "data": {
      "text/plain": "(18365, 1134)"
     },
     "execution_count": 14,
     "metadata": {},
     "output_type": "execute_result"
    }
   ],
   "source": [
    "train_set = pd.concat([train_data, val_data])\n",
    "train_set.shape"
   ],
   "metadata": {
    "collapsed": false
   }
  },
  {
   "cell_type": "code",
   "execution_count": 15,
   "outputs": [],
   "source": [
    "train_set: pd.DataFrame\n",
    "train_set.to_csv('./resources/source_data/train_set.csv', index=False)"
   ],
   "metadata": {
    "collapsed": false
   }
  },
  {
   "cell_type": "code",
   "execution_count": 6,
   "outputs": [],
   "source": [
    "train_set = pd.read_csv(r'D:\\exe_code\\FAE\\huis_data\\split_data\\train_set.csv')\n",
    "train_set_test = train_set.iloc[0:330, :]\n",
    "train_set_test.to_csv(r'D:\\exe_code\\FAE\\huis_data\\test_data\\train_set_test.csv', index=False)"
   ],
   "metadata": {
    "collapsed": false
   }
  },
  {
   "cell_type": "code",
   "execution_count": 8,
   "outputs": [
    {
     "data": {
      "text/plain": "(330, 1132)"
     },
     "execution_count": 8,
     "metadata": {},
     "output_type": "execute_result"
    }
   ],
   "source": [
    "train_set_test.shape"
   ],
   "metadata": {
    "collapsed": false
   }
  },
  {
   "cell_type": "code",
   "execution_count": 7,
   "outputs": [],
   "source": [
    "test_set = pd.read_csv(r'D:\\exe_code\\FAE\\huis_data\\split_data\\test_set.csv')\n",
    "test_set_test = test_set.iloc[0:83, :]\n",
    "test_set_test.to_csv(r'D:\\exe_code\\FAE\\huis_data\\test_data\\test_set_test.csv', index=False)"
   ],
   "metadata": {
    "collapsed": false
   }
  },
  {
   "cell_type": "code",
   "execution_count": 9,
   "outputs": [
    {
     "data": {
      "text/plain": "(83, 1132)"
     },
     "execution_count": 9,
     "metadata": {},
     "output_type": "execute_result"
    }
   ],
   "source": [
    "test_set_test.shape"
   ],
   "metadata": {
    "collapsed": false
   }
  },
  {
   "cell_type": "code",
   "execution_count": 7,
   "id": "6543018f66e57475",
   "metadata": {
    "ExecuteTime": {
     "end_time": "2023-09-18T04:28:17.064953700Z",
     "start_time": "2023-09-18T04:28:16.792589100Z"
    },
    "collapsed": false
   },
   "outputs": [
    {
     "name": "stdout",
     "output_type": "stream",
     "text": [
      "(4944, 1131) (8828, 1131)\n"
     ]
    }
   ],
   "source": [
    "# t检验\n",
    "# 数据分组，数据按 label=0 和 label=1 分组\n",
    "train_data_0 = train_data[train_data['label'] == 0]\n",
    "train_data_1 = train_data[train_data['label'] == 1]\n",
    "print(train_data_0.shape, train_data_1.shape)"
   ]
  },
  {
   "cell_type": "code",
   "execution_count": 8,
   "id": "955293f9896bdcb1",
   "metadata": {
    "ExecuteTime": {
     "end_time": "2023-09-18T04:28:18.553090200Z",
     "start_time": "2023-09-18T04:28:17.064953700Z"
    },
    "collapsed": false
   },
   "outputs": [
    {
     "name": "stderr",
     "output_type": "stream",
     "text": [
      "D:\\exe_code\\Python\\17_Echinococcosis_ML\\.venv\\lib\\site-packages\\scipy\\stats\\morestats.py:2603: RuntimeWarning: invalid value encountered in double_scalars\n",
      "  W = numer / denom\n"
     ]
    },
    {
     "name": "stdout",
     "output_type": "stream",
     "text": [
      "1062 original_shape_Elongation label\n"
     ]
    }
   ],
   "source": [
    "# t检验特征筛选\n",
    "t_test_index = []\n",
    "for colName in train_data.columns[:]:\n",
    "    if levene(train_data_0[colName], train_data_1[colName])[1] > 0.05:\n",
    "        if ttest_ind(train_data_0[colName], train_data_1[colName])[1] < 0.05:\n",
    "            t_test_index.append(colName)\n",
    "    else:\n",
    "        if ttest_ind(train_data_0[colName], train_data_1[colName], equal_var=False)[1] < 0.05:\n",
    "            t_test_index.append(colName)\n",
    "print(len(t_test_index), t_test_index[0], t_test_index[-1])"
   ]
  },
  {
   "cell_type": "code",
   "execution_count": 9,
   "id": "64c20c3a6196ad7f",
   "metadata": {
    "ExecuteTime": {
     "end_time": "2023-09-18T04:28:19.220382300Z",
     "start_time": "2023-09-18T04:28:18.553090200Z"
    },
    "collapsed": false
   },
   "outputs": [
    {
     "name": "stdout",
     "output_type": "stream",
     "text": [
      "(13772, 1061) (13772,)\n"
     ]
    }
   ],
   "source": [
    "# t检验后 训练集 数据整理\n",
    "train_data_0 = train_data_0[t_test_index]\n",
    "train_data_1 = train_data_1[t_test_index]\n",
    "train_data = pd.concat([train_data_0, train_data_1])\n",
    "\n",
    "X_train = train_data[train_data.columns[:-1]]\n",
    "\n",
    "scaler = StandardScaler()\n",
    "scaler.fit(X_train)\n",
    "X_train = scaler.transform(X_train)\n",
    "X_train = pd.DataFrame(X_train)\n",
    "X_train.columns = t_test_index[:-1]\n",
    "\n",
    "y_train = train_data['label']\n",
    "print(X_train.shape, y_train.shape)"
   ]
  },
  {
   "cell_type": "code",
   "execution_count": 10,
   "id": "7583102288726b2c",
   "metadata": {
    "ExecuteTime": {
     "end_time": "2023-09-18T04:28:19.439155800Z",
     "start_time": "2023-09-18T04:28:19.220382300Z"
    },
    "collapsed": false
   },
   "outputs": [
    {
     "name": "stdout",
     "output_type": "stream",
     "text": [
      "(4593, 1061) (4593,)\n"
     ]
    }
   ],
   "source": [
    "# t检验后 验证集 数据整理\n",
    "val_data = val_data[t_test_index]\n",
    "\n",
    "X_val = val_data[val_data.columns[:-1]]\n",
    "\n",
    "X_val = scaler.transform(X_val)\n",
    "X_val = pd.DataFrame(X_val)\n",
    "X_val.columns = t_test_index[:-1]\n",
    "\n",
    "y_val = val_data['label']\n",
    "print(X_val.shape, y_val.shape)"
   ]
  },
  {
   "cell_type": "code",
   "execution_count": 11,
   "id": "c69176b2ab2e0f13",
   "metadata": {
    "ExecuteTime": {
     "end_time": "2023-09-18T04:28:19.649463900Z",
     "start_time": "2023-09-18T04:28:19.439155800Z"
    },
    "collapsed": false
   },
   "outputs": [
    {
     "name": "stdout",
     "output_type": "stream",
     "text": [
      "(4691, 1061) (4691,)\n"
     ]
    }
   ],
   "source": [
    "# t检验后 测试集 数据整理\n",
    "test_data = test_data[t_test_index]\n",
    "\n",
    "X_test = test_data[test_data.columns[:-1]]\n",
    "\n",
    "X_test = scaler.transform(X_test)\n",
    "X_test = pd.DataFrame(X_test)\n",
    "X_test.columns = t_test_index[:-1]\n",
    "\n",
    "y_test = test_data['label']\n",
    "print(X_test.shape, y_test.shape)"
   ]
  },
  {
   "cell_type": "code",
   "execution_count": 12,
   "id": "7e19b925333fb90e",
   "metadata": {
    "ExecuteTime": {
     "end_time": "2023-09-18T04:28:20.194664700Z",
     "start_time": "2023-09-18T04:28:19.642204400Z"
    },
    "collapsed": false
   },
   "outputs": [
    {
     "name": "stdout",
     "output_type": "stream",
     "text": [
      "1059\n"
     ]
    }
   ],
   "source": [
    "# Pearson相关系数\n",
    "pearson_index = []\n",
    "statistic_list = []\n",
    "for colName in X_train.columns[:]:\n",
    "    statistic, p_value = pearsonr(X_train[colName], y_train)\n",
    "    statistic_list.append(statistic)\n",
    "    if p_value < 0.05:\n",
    "        pearson_index.append(colName)\n",
    "print(len(pearson_index))"
   ]
  },
  {
   "cell_type": "code",
   "execution_count": 13,
   "id": "74e3678e17c3a72e",
   "metadata": {
    "ExecuteTime": {
     "end_time": "2023-09-18T04:28:20.382472400Z",
     "start_time": "2023-09-18T04:28:20.194664700Z"
    },
    "collapsed": false
   },
   "outputs": [],
   "source": [
    "# Pearson相关系数 数据整理\n",
    "X_train = X_train[pearson_index]\n",
    "X_val = X_val[pearson_index]\n",
    "X_test = X_test[pearson_index]"
   ]
  },
  {
   "cell_type": "code",
   "execution_count": 14,
   "outputs": [
    {
     "name": "stdout",
     "output_type": "stream",
     "text": [
      "(13772, 1059) (13772,) 0.35898925355794364\n",
      "(4593, 1059) (4593,) 0.377095580230786\n",
      "(4691, 1059) (4691,) 0.3643146450650181\n"
     ]
    }
   ],
   "source": [
    "print(X_train.shape, y_train.shape, np.sum(y_train == 0) / len(y_train))\n",
    "print(X_val.shape, y_val.shape, np.sum(y_val == 0) / len(y_val))\n",
    "print(X_test.shape, y_test.shape, np.sum(y_test == 0) / len(y_test))"
   ],
   "metadata": {
    "collapsed": false
   }
  },
  {
   "cell_type": "code",
   "execution_count": 15,
   "outputs": [
    {
     "name": "stdout",
     "output_type": "stream",
     "text": [
      "(1005, 1059) (1005,) 0.38308457711442784\n",
      "(335, 1059) (335,) 0.3880597014925373\n",
      "(342, 1059) (342,) 0.36257309941520466\n"
     ]
    }
   ],
   "source": [
    "# 选出一小部分数据进行模型训练，以寻找最佳参数\n",
    "X_train_min, _, y_train_min, _ = train_test_split(X_train, y_train, train_size=0.073, random_state=4)\n",
    "print(X_train_min.shape, y_train_min.shape, np.sum(y_train_min == 0)/len(y_train_min))\n",
    "\n",
    "X_val_min, _, y_val_min, _ = train_test_split(X_val, y_val, train_size=0.073, random_state=4)\n",
    "print(X_val_min.shape, y_val_min.shape, np.sum(y_val_min == 0)/len(y_val_min))\n",
    "\n",
    "X_test_min, _, y_test_min, _ = train_test_split(X_test, y_test, train_size=0.073, random_state=4)\n",
    "print(X_test_min.shape, y_test_min.shape, np.sum(y_test_min == 0)/len(y_test_min))"
   ],
   "metadata": {
    "collapsed": false
   }
  },
  {
   "cell_type": "code",
   "execution_count": 16,
   "outputs": [],
   "source": [
    "# Lasso回归筛选特征\n",
    "# 观察alpha值对特征筛选的影响\n",
    "alphas = np.logspace(-2, 1, 100)  # alpha就是损失函数的lambda\n",
    "feature_num_list = []\n",
    "\n",
    "for alpha in alphas:\n",
    "    model_lasso = Lasso(alpha=alpha, random_state=4).fit(X_train_min, y_train_min)\n",
    "\n",
    "    # 评估筛选的特征数量\n",
    "    coef = pd.Series(model_lasso.coef_, index=X_train_min.columns)\n",
    "    feature_num = np.sum(coef != 0)\n",
    "    feature_num_list.append(feature_num)"
   ],
   "metadata": {
    "collapsed": false
   }
  },
  {
   "cell_type": "code",
   "execution_count": 17,
   "outputs": [
    {
     "data": {
      "text/plain": "(100, 61, 0)"
     },
     "execution_count": 17,
     "metadata": {},
     "output_type": "execute_result"
    }
   ],
   "source": [
    "len(feature_num_list), np.max(feature_num_list), np.min(feature_num_list)"
   ],
   "metadata": {
    "collapsed": false
   }
  },
  {
   "cell_type": "code",
   "execution_count": 18,
   "outputs": [
    {
     "data": {
      "text/plain": "[<matplotlib.lines.Line2D at 0x1ba38c7c488>]"
     },
     "execution_count": 18,
     "metadata": {},
     "output_type": "execute_result"
    },
    {
     "data": {
      "text/plain": "<Figure size 640x480 with 1 Axes>",
      "image/png": "[encoded data removed]"
     },
     "metadata": {},
     "output_type": "display_data"
    }
   ],
   "source": [
    "fig, ax = plt.subplots()\n",
    "ax.set_xlabel('alpha')\n",
    "ax.set_ylabel('feature num')\n",
    "ax.set_xticks(ticks = range(len(alphas)),labels=alphas)\n",
    "ax.plot(feature_num_list)"
   ],
   "metadata": {
    "collapsed": false
   }
  },
  {
   "cell_type": "code",
   "execution_count": 19,
   "outputs": [
    {
     "data": {
      "text/plain": "([61,\n  56,\n  56,\n  55,\n  48,\n  41,\n  39,\n  36,\n  33,\n  30,\n  28,\n  25,\n  27,\n  26,\n  25,\n  22,\n  19,\n  18,\n  17,\n  13,\n  10,\n  9,\n  9,\n  7,\n  5,\n  7,\n  6,\n  4,\n  5,\n  6,\n  4,\n  5,\n  3,\n  2,\n  3,\n  2,\n  1,\n  1,\n  1,\n  1,\n  1,\n  1,\n  1,\n  0,\n  0,\n  0,\n  0,\n  0,\n  0,\n  0,\n  0,\n  0,\n  0,\n  0,\n  0,\n  0,\n  0,\n  0,\n  0,\n  0,\n  0,\n  0,\n  0,\n  0,\n  0,\n  0,\n  0,\n  0,\n  0,\n  0,\n  0,\n  0,\n  0,\n  0,\n  0,\n  0,\n  0,\n  0,\n  0,\n  0,\n  0,\n  0,\n  0,\n  0,\n  0,\n  0,\n  0,\n  0,\n  0,\n  0,\n  0,\n  0,\n  0,\n  0,\n  0,\n  0,\n  0,\n  0,\n  0,\n  0],\n (array([9], dtype=int64),))"
     },
     "execution_count": 19,
     "metadata": {},
     "output_type": "execute_result"
    }
   ],
   "source": [
    "feature_num_list, np.where(np.array(feature_num_list) == 30)"
   ],
   "metadata": {
    "collapsed": false
   }
  },
  {
   "cell_type": "code",
   "execution_count": 20,
   "outputs": [
    {
     "data": {
      "text/plain": "0.01873817422860384"
     },
     "execution_count": 20,
     "metadata": {},
     "output_type": "execute_result"
    }
   ],
   "source": [
    "alpha = alphas[9]\n",
    "alpha"
   ],
   "metadata": {
    "collapsed": false
   }
  },
  {
   "cell_type": "code",
   "execution_count": 21,
   "outputs": [],
   "source": [
    "# Lasso回归筛选特征\n",
    "# 观察max_iter值对特征筛选的影响\n",
    "max_iters = [1000, 2000, 4000, 6000, 8000]  # alpha就是损失函数的lambda\n",
    "feature_num_list = []\n",
    "accuracy_list_train = []\n",
    "accuracy_list_val = []\n",
    "\n",
    "for max_iter in max_iters:\n",
    "    model_lasso = Lasso(alpha = alpha, max_iter=max_iter, random_state=4).fit(X_train_min, y_train_min)\n",
    "\n",
    "    # 评估筛选的特征数量\n",
    "    coef = pd.Series(model_lasso.coef_, index=X_train_min.columns)\n",
    "    feature_num = np.sum(coef != 0)\n",
    "    feature_num_list.append(feature_num)"
   ],
   "metadata": {
    "collapsed": false
   }
  },
  {
   "cell_type": "code",
   "execution_count": 22,
   "outputs": [
    {
     "data": {
      "text/plain": "(5, 30, 30)"
     },
     "execution_count": 22,
     "metadata": {},
     "output_type": "execute_result"
    }
   ],
   "source": [
    "len(feature_num_list), np.max(feature_num_list), np.min(feature_num_list)"
   ],
   "metadata": {
    "collapsed": false
   }
  },
  {
   "cell_type": "code",
   "execution_count": 23,
   "outputs": [
    {
     "data": {
      "text/plain": "[<matplotlib.lines.Line2D at 0x1ba38fe2188>]"
     },
     "execution_count": 23,
     "metadata": {},
     "output_type": "execute_result"
    },
    {
     "data": {
      "text/plain": "<Figure size 640x480 with 1 Axes>",
      "image/png": "[encoded data removed]"
     },
     "metadata": {},
     "output_type": "display_data"
    }
   ],
   "source": [
    "fig, ax = plt.subplots()\n",
    "ax.set_xlabel('max_iter')\n",
    "ax.set_ylabel('feature num')\n",
    "ax.set_xticks(ticks = range(len(max_iters)),labels=max_iters)\n",
    "ax.plot(feature_num_list)"
   ],
   "metadata": {
    "collapsed": false
   }
  },
  {
   "cell_type": "code",
   "execution_count": 24,
   "outputs": [],
   "source": [
    "model_lasso = Lasso(alpha = alpha, max_iter=2000, random_state=4).fit(X_train_min, y_train_min)\n",
    "coef = pd.Series(model_lasso.coef_, index=X_train_min.columns)\n",
    "index = coef[coef != 0].index"
   ],
   "metadata": {
    "collapsed": false
   }
  },
  {
   "cell_type": "code",
   "execution_count": 25,
   "outputs": [],
   "source": [
    "# lasso筛选后处理\n",
    "X_train_min = X_train_min[index]\n",
    "X_val_min = X_val_min[index]\n",
    "X_test_min = X_test_min[index]"
   ],
   "metadata": {
    "collapsed": false
   }
  },
  {
   "cell_type": "code",
   "execution_count": 26,
   "outputs": [
    {
     "name": "stdout",
     "output_type": "stream",
     "text": [
      "(1005, 30) (335, 30) (342, 30)\n"
     ]
    }
   ],
   "source": [
    "print(X_train_min.shape, X_val_min.shape, X_test_min.shape)"
   ],
   "metadata": {
    "collapsed": false
   }
  },
  {
   "cell_type": "code",
   "execution_count": 27,
   "outputs": [],
   "source": [
    "def get_AUC_accuracy(model, X_dataset, y_dataset):\n",
    "    y_score = model.predict_proba(X_dataset)[:, 1]\n",
    "    y_pred = model.predict(X_dataset)\n",
    "    AUC = roc_auc_score(y_dataset, y_score)\n",
    "    accuracy = accuracy_score(y_dataset, y_pred)\n",
    "    return AUC, accuracy"
   ],
   "metadata": {
    "collapsed": false
   }
  },
  {
   "cell_type": "code",
   "execution_count": 60,
   "outputs": [
    {
     "data": {
      "text/plain": "((0.8407792207792207, 0.755223880597015),\n (0.8082551594746716, 0.7432835820895523),\n (0.7878810298905001, 0.6988304093567251))"
     },
     "execution_count": 60,
     "metadata": {},
     "output_type": "execute_result"
    }
   ],
   "source": [
    "model_LR = LogisticRegression(class_weight='balanced', max_iter=10000, solver='saga', n_jobs=-1, random_state=4, warm_start=True)\n",
    "model_LR.fit(X_train_min, y_train_min)\n",
    "get_AUC_accuracy(model_LR, X_train_min, y_train_min), get_AUC_accuracy(model_LR, X_val_min, y_val_min), get_AUC_accuracy(model_LR, X_test_min, y_test_min)"
   ],
   "metadata": {
    "collapsed": false
   }
  },
  {
   "cell_type": "code",
   "execution_count": 61,
   "outputs": [],
   "source": [
    "y_score = model_LR.predict_proba(X_train_min)[:, 1]"
   ],
   "metadata": {
    "collapsed": false
   }
  },
  {
   "cell_type": "code",
   "execution_count": 62,
   "outputs": [],
   "source": [
    "df = pd.DataFrame(columns=['Label', 'Pred'])\n",
    "df['Label'] = y_train_min\n",
    "df['Pred'] = y_score\n",
    "df.to_csv('./resources/graphpad/LR_X_train_min.csv', index=False)"
   ],
   "metadata": {
    "collapsed": false
   }
  },
  {
   "cell_type": "code",
   "execution_count": 29,
   "outputs": [
    {
     "data": {
      "text/plain": "((1005, 30), (1005,))"
     },
     "execution_count": 29,
     "metadata": {},
     "output_type": "execute_result"
    }
   ],
   "source": [
    "X_train_min.shape, y_train_min.shape"
   ],
   "metadata": {
    "collapsed": false
   }
  },
  {
   "cell_type": "code",
   "execution_count": 53,
   "outputs": [
    {
     "ename": "TerminatedWorkerError",
     "evalue": "A worker process managed by the executor was unexpectedly terminated. This could be caused by a segmentation fault while calling the function or by an excessive memory usage causing the Operating System to kill the worker.\n",
     "output_type": "error",
     "traceback": [
      "\u001B[1;31m---------------------------------------------------------------------------\u001B[0m",
      "\u001B[1;31mTerminatedWorkerError\u001B[0m                     Traceback (most recent call last)",
      "\u001B[1;32m~\\AppData\\Local\\Temp\\ipykernel_15968\\2401800481.py\u001B[0m in \u001B[0;36m<module>\u001B[1;34m\u001B[0m\n\u001B[0;32m      1\u001B[0m \u001B[0mmodel_SVM\u001B[0m \u001B[1;33m=\u001B[0m \u001B[0mSVC\u001B[0m\u001B[1;33m(\u001B[0m\u001B[0mprobability\u001B[0m\u001B[1;33m=\u001B[0m\u001B[1;32mTrue\u001B[0m\u001B[1;33m)\u001B[0m\u001B[1;33m\u001B[0m\u001B[1;33m\u001B[0m\u001B[0m\n\u001B[1;32m----> 2\u001B[1;33m \u001B[0mmodel_SVM\u001B[0m\u001B[1;33m.\u001B[0m\u001B[0mfit\u001B[0m\u001B[1;33m(\u001B[0m\u001B[0mX_train_min\u001B[0m\u001B[1;33m,\u001B[0m \u001B[0my_train_min\u001B[0m\u001B[1;33m)\u001B[0m\u001B[1;33m\u001B[0m\u001B[1;33m\u001B[0m\u001B[0m\n\u001B[0m\u001B[0;32m      3\u001B[0m \u001B[0mget_AUC_accuracy\u001B[0m\u001B[1;33m(\u001B[0m\u001B[0mmodel_SVM\u001B[0m\u001B[1;33m,\u001B[0m \u001B[0mX_train_min\u001B[0m\u001B[1;33m,\u001B[0m \u001B[0my_train_min\u001B[0m\u001B[1;33m)\u001B[0m\u001B[1;33m,\u001B[0m \u001B[0mget_AUC_accuracy\u001B[0m\u001B[1;33m(\u001B[0m\u001B[0mmodel_SVM\u001B[0m\u001B[1;33m,\u001B[0m \u001B[0mX_val_min\u001B[0m\u001B[1;33m,\u001B[0m \u001B[0my_val_min\u001B[0m\u001B[1;33m)\u001B[0m\u001B[1;33m,\u001B[0m \u001B[0mget_AUC_accuracy\u001B[0m\u001B[1;33m(\u001B[0m\u001B[0mmodel_SVM\u001B[0m\u001B[1;33m,\u001B[0m \u001B[0mX_test_min\u001B[0m\u001B[1;33m,\u001B[0m \u001B[0my_test_min\u001B[0m\u001B[1;33m)\u001B[0m\u001B[1;33m\u001B[0m\u001B[1;33m\u001B[0m\u001B[0m\n",
      "\u001B[1;32mD:\\exe_code\\Python\\17_Echinococcosis_ML\\.venv\\lib\\site-packages\\sklearnex\\svm\\svc.py\u001B[0m in \u001B[0;36mfit\u001B[1;34m(self, X, y, sample_weight)\u001B[0m\n\u001B[0;32m     91\u001B[0m             \u001B[1;34m'onedal'\u001B[0m\u001B[1;33m:\u001B[0m \u001B[0mself\u001B[0m\u001B[1;33m.\u001B[0m\u001B[0m__class__\u001B[0m\u001B[1;33m.\u001B[0m\u001B[0m_onedal_fit\u001B[0m\u001B[1;33m,\u001B[0m\u001B[1;33m\u001B[0m\u001B[1;33m\u001B[0m\u001B[0m\n\u001B[0;32m     92\u001B[0m             \u001B[1;34m'sklearn'\u001B[0m\u001B[1;33m:\u001B[0m \u001B[0msklearn_SVC\u001B[0m\u001B[1;33m.\u001B[0m\u001B[0mfit\u001B[0m\u001B[1;33m,\u001B[0m\u001B[1;33m\u001B[0m\u001B[1;33m\u001B[0m\u001B[0m\n\u001B[1;32m---> 93\u001B[1;33m         }, X, y, sample_weight)\n\u001B[0m\u001B[0;32m     94\u001B[0m         \u001B[1;32mreturn\u001B[0m \u001B[0mself\u001B[0m\u001B[1;33m\u001B[0m\u001B[1;33m\u001B[0m\u001B[0m\n\u001B[0;32m     95\u001B[0m \u001B[1;33m\u001B[0m\u001B[0m\n",
      "\u001B[1;32mD:\\exe_code\\Python\\17_Echinococcosis_ML\\.venv\\lib\\site-packages\\sklearnex\\_device_offload.py\u001B[0m in \u001B[0;36mdispatch\u001B[1;34m(obj, method_name, branches, *args, **kwargs)\u001B[0m\n\u001B[0;32m    159\u001B[0m \u001B[1;33m\u001B[0m\u001B[0m\n\u001B[0;32m    160\u001B[0m     \u001B[1;32mif\u001B[0m \u001B[0mbackend\u001B[0m \u001B[1;33m==\u001B[0m \u001B[1;34m'onedal'\u001B[0m\u001B[1;33m:\u001B[0m\u001B[1;33m\u001B[0m\u001B[1;33m\u001B[0m\u001B[0m\n\u001B[1;32m--> 161\u001B[1;33m         \u001B[1;32mreturn\u001B[0m \u001B[0mbranches\u001B[0m\u001B[1;33m[\u001B[0m\u001B[0mbackend\u001B[0m\u001B[1;33m]\u001B[0m\u001B[1;33m(\u001B[0m\u001B[0mobj\u001B[0m\u001B[1;33m,\u001B[0m \u001B[1;33m*\u001B[0m\u001B[0mhostargs\u001B[0m\u001B[1;33m,\u001B[0m \u001B[1;33m**\u001B[0m\u001B[0mhostkwargs\u001B[0m\u001B[1;33m,\u001B[0m \u001B[0mqueue\u001B[0m\u001B[1;33m=\u001B[0m\u001B[0mq\u001B[0m\u001B[1;33m)\u001B[0m\u001B[1;33m\u001B[0m\u001B[1;33m\u001B[0m\u001B[0m\n\u001B[0m\u001B[0;32m    162\u001B[0m     \u001B[1;32mif\u001B[0m \u001B[0mbackend\u001B[0m \u001B[1;33m==\u001B[0m \u001B[1;34m'sklearn'\u001B[0m\u001B[1;33m:\u001B[0m\u001B[1;33m\u001B[0m\u001B[1;33m\u001B[0m\u001B[0m\n\u001B[0;32m    163\u001B[0m         \u001B[1;32mreturn\u001B[0m \u001B[0mbranches\u001B[0m\u001B[1;33m[\u001B[0m\u001B[0mbackend\u001B[0m\u001B[1;33m]\u001B[0m\u001B[1;33m(\u001B[0m\u001B[0mobj\u001B[0m\u001B[1;33m,\u001B[0m \u001B[1;33m*\u001B[0m\u001B[0mhostargs\u001B[0m\u001B[1;33m,\u001B[0m \u001B[1;33m**\u001B[0m\u001B[0mhostkwargs\u001B[0m\u001B[1;33m)\u001B[0m\u001B[1;33m\u001B[0m\u001B[1;33m\u001B[0m\u001B[0m\n",
      "\u001B[1;32mD:\\exe_code\\Python\\17_Echinococcosis_ML\\.venv\\lib\\site-packages\\sklearnex\\svm\\svc.py\u001B[0m in \u001B[0;36m_onedal_fit\u001B[1;34m(self, X, y, sample_weight, queue)\u001B[0m\n\u001B[0;32m    221\u001B[0m \u001B[1;33m\u001B[0m\u001B[0m\n\u001B[0;32m    222\u001B[0m         \u001B[1;32mif\u001B[0m \u001B[0mself\u001B[0m\u001B[1;33m.\u001B[0m\u001B[0mprobability\u001B[0m\u001B[1;33m:\u001B[0m\u001B[1;33m\u001B[0m\u001B[1;33m\u001B[0m\u001B[0m\n\u001B[1;32m--> 223\u001B[1;33m             \u001B[0mself\u001B[0m\u001B[1;33m.\u001B[0m\u001B[0m_fit_proba\u001B[0m\u001B[1;33m(\u001B[0m\u001B[0mX\u001B[0m\u001B[1;33m,\u001B[0m \u001B[0my\u001B[0m\u001B[1;33m,\u001B[0m \u001B[0msample_weight\u001B[0m\u001B[1;33m,\u001B[0m \u001B[0mqueue\u001B[0m\u001B[1;33m=\u001B[0m\u001B[0mqueue\u001B[0m\u001B[1;33m)\u001B[0m\u001B[1;33m\u001B[0m\u001B[1;33m\u001B[0m\u001B[0m\n\u001B[0m\u001B[0;32m    224\u001B[0m         \u001B[0mself\u001B[0m\u001B[1;33m.\u001B[0m\u001B[0m_save_attributes\u001B[0m\u001B[1;33m(\u001B[0m\u001B[1;33m)\u001B[0m\u001B[1;33m\u001B[0m\u001B[1;33m\u001B[0m\u001B[0m\n\u001B[0;32m    225\u001B[0m \u001B[1;33m\u001B[0m\u001B[0m\n",
      "\u001B[1;32mD:\\exe_code\\Python\\17_Echinococcosis_ML\\.venv\\lib\\site-packages\\sklearnex\\svm\\_common.py\u001B[0m in \u001B[0;36m_fit_proba\u001B[1;34m(self, X, y, sample_weight, queue)\u001B[0m\n\u001B[0;32m    119\u001B[0m                     self.clf_prob = CalibratedClassifierCV(\n\u001B[0;32m    120\u001B[0m                         clf_base, cv=cv, method='sigmoid')\n\u001B[1;32m--> 121\u001B[1;33m                 \u001B[0mself\u001B[0m\u001B[1;33m.\u001B[0m\u001B[0mclf_prob\u001B[0m\u001B[1;33m.\u001B[0m\u001B[0mfit\u001B[0m\u001B[1;33m(\u001B[0m\u001B[0mX\u001B[0m\u001B[1;33m,\u001B[0m \u001B[0my\u001B[0m\u001B[1;33m,\u001B[0m \u001B[0msample_weight\u001B[0m\u001B[1;33m)\u001B[0m\u001B[1;33m\u001B[0m\u001B[1;33m\u001B[0m\u001B[0m\n\u001B[0m\u001B[0;32m    122\u001B[0m             \u001B[1;32mexcept\u001B[0m \u001B[0mValueError\u001B[0m\u001B[1;33m:\u001B[0m\u001B[1;33m\u001B[0m\u001B[1;33m\u001B[0m\u001B[0m\n\u001B[0;32m    123\u001B[0m                 \u001B[0mclf_base\u001B[0m \u001B[1;33m=\u001B[0m \u001B[0mclf_base\u001B[0m\u001B[1;33m.\u001B[0m\u001B[0mfit\u001B[0m\u001B[1;33m(\u001B[0m\u001B[0mX\u001B[0m\u001B[1;33m,\u001B[0m \u001B[0my\u001B[0m\u001B[1;33m,\u001B[0m \u001B[0msample_weight\u001B[0m\u001B[1;33m)\u001B[0m\u001B[1;33m\u001B[0m\u001B[1;33m\u001B[0m\u001B[0m\n",
      "\u001B[1;32mD:\\exe_code\\Python\\17_Echinococcosis_ML\\.venv\\lib\\site-packages\\sklearn\\calibration.py\u001B[0m in \u001B[0;36mfit\u001B[1;34m(self, X, y, sample_weight)\u001B[0m\n\u001B[0;32m    372\u001B[0m                 )\n\u001B[0;32m    373\u001B[0m                 predictions = _compute_predictions(\n\u001B[1;32m--> 374\u001B[1;33m                     \u001B[0mpred_method\u001B[0m\u001B[1;33m,\u001B[0m \u001B[0mmethod_name\u001B[0m\u001B[1;33m,\u001B[0m \u001B[0mX\u001B[0m\u001B[1;33m,\u001B[0m \u001B[0mn_classes\u001B[0m\u001B[1;33m\u001B[0m\u001B[1;33m\u001B[0m\u001B[0m\n\u001B[0m\u001B[0;32m    375\u001B[0m                 )\n\u001B[0;32m    376\u001B[0m \u001B[1;33m\u001B[0m\u001B[0m\n",
      "\u001B[1;32mD:\\exe_code\\Python\\17_Echinococcosis_ML\\.venv\\lib\\site-packages\\sklearn\\calibration.py\u001B[0m in \u001B[0;36m_compute_predictions\u001B[1;34m(pred_method, method_name, X, n_classes)\u001B[0m\n\u001B[0;32m    575\u001B[0m         \u001B[1;33m(\u001B[0m\u001B[0mX\u001B[0m\u001B[1;33m.\u001B[0m\u001B[0mshape\u001B[0m\u001B[1;33m[\u001B[0m\u001B[1;36m0\u001B[0m\u001B[1;33m]\u001B[0m\u001B[1;33m,\u001B[0m \u001B[1;36m1\u001B[0m\u001B[1;33m)\u001B[0m\u001B[1;33m.\u001B[0m\u001B[1;33m\u001B[0m\u001B[1;33m\u001B[0m\u001B[0m\n\u001B[0;32m    576\u001B[0m     \"\"\"\n\u001B[1;32m--> 577\u001B[1;33m     \u001B[0mpredictions\u001B[0m \u001B[1;33m=\u001B[0m \u001B[0mpred_method\u001B[0m\u001B[1;33m(\u001B[0m\u001B[0mX\u001B[0m\u001B[1;33m=\u001B[0m\u001B[0mX\u001B[0m\u001B[1;33m)\u001B[0m\u001B[1;33m\u001B[0m\u001B[1;33m\u001B[0m\u001B[0m\n\u001B[0m\u001B[0;32m    578\u001B[0m \u001B[1;33m\u001B[0m\u001B[0m\n\u001B[0;32m    579\u001B[0m     \u001B[1;32mif\u001B[0m \u001B[0mmethod_name\u001B[0m \u001B[1;33m==\u001B[0m \u001B[1;34m\"decision_function\"\u001B[0m\u001B[1;33m:\u001B[0m\u001B[1;33m\u001B[0m\u001B[1;33m\u001B[0m\u001B[0m\n",
      "\u001B[1;32mD:\\exe_code\\Python\\17_Echinococcosis_ML\\.venv\\lib\\site-packages\\sklearn\\model_selection\\_validation.py\u001B[0m in \u001B[0;36mcross_val_predict\u001B[1;34m(estimator, X, y, groups, cv, n_jobs, verbose, fit_params, pre_dispatch, method)\u001B[0m\n\u001B[0;32m    964\u001B[0m             \u001B[0mclone\u001B[0m\u001B[1;33m(\u001B[0m\u001B[0mestimator\u001B[0m\u001B[1;33m)\u001B[0m\u001B[1;33m,\u001B[0m \u001B[0mX\u001B[0m\u001B[1;33m,\u001B[0m \u001B[0my\u001B[0m\u001B[1;33m,\u001B[0m \u001B[0mtrain\u001B[0m\u001B[1;33m,\u001B[0m \u001B[0mtest\u001B[0m\u001B[1;33m,\u001B[0m \u001B[0mverbose\u001B[0m\u001B[1;33m,\u001B[0m \u001B[0mfit_params\u001B[0m\u001B[1;33m,\u001B[0m \u001B[0mmethod\u001B[0m\u001B[1;33m\u001B[0m\u001B[1;33m\u001B[0m\u001B[0m\n\u001B[0;32m    965\u001B[0m         )\n\u001B[1;32m--> 966\u001B[1;33m         \u001B[1;32mfor\u001B[0m \u001B[0mtrain\u001B[0m\u001B[1;33m,\u001B[0m \u001B[0mtest\u001B[0m \u001B[1;32min\u001B[0m \u001B[0msplits\u001B[0m\u001B[1;33m\u001B[0m\u001B[1;33m\u001B[0m\u001B[0m\n\u001B[0m\u001B[0;32m    967\u001B[0m     )\n\u001B[0;32m    968\u001B[0m \u001B[1;33m\u001B[0m\u001B[0m\n",
      "\u001B[1;32mD:\\exe_code\\Python\\17_Echinococcosis_ML\\.venv\\lib\\site-packages\\joblib\\parallel.py\u001B[0m in \u001B[0;36m__call__\u001B[1;34m(self, iterable)\u001B[0m\n\u001B[0;32m   1950\u001B[0m         \u001B[0mnext\u001B[0m\u001B[1;33m(\u001B[0m\u001B[0moutput\u001B[0m\u001B[1;33m)\u001B[0m\u001B[1;33m\u001B[0m\u001B[1;33m\u001B[0m\u001B[0m\n\u001B[0;32m   1951\u001B[0m \u001B[1;33m\u001B[0m\u001B[0m\n\u001B[1;32m-> 1952\u001B[1;33m         \u001B[1;32mreturn\u001B[0m \u001B[0moutput\u001B[0m \u001B[1;32mif\u001B[0m \u001B[0mself\u001B[0m\u001B[1;33m.\u001B[0m\u001B[0mreturn_generator\u001B[0m \u001B[1;32melse\u001B[0m \u001B[0mlist\u001B[0m\u001B[1;33m(\u001B[0m\u001B[0moutput\u001B[0m\u001B[1;33m)\u001B[0m\u001B[1;33m\u001B[0m\u001B[1;33m\u001B[0m\u001B[0m\n\u001B[0m\u001B[0;32m   1953\u001B[0m \u001B[1;33m\u001B[0m\u001B[0m\n\u001B[0;32m   1954\u001B[0m     \u001B[1;32mdef\u001B[0m \u001B[0m__repr__\u001B[0m\u001B[1;33m(\u001B[0m\u001B[0mself\u001B[0m\u001B[1;33m)\u001B[0m\u001B[1;33m:\u001B[0m\u001B[1;33m\u001B[0m\u001B[1;33m\u001B[0m\u001B[0m\n",
      "\u001B[1;32mD:\\exe_code\\Python\\17_Echinococcosis_ML\\.venv\\lib\\site-packages\\joblib\\parallel.py\u001B[0m in \u001B[0;36m_get_outputs\u001B[1;34m(self, iterator, pre_dispatch)\u001B[0m\n\u001B[0;32m   1593\u001B[0m \u001B[1;33m\u001B[0m\u001B[0m\n\u001B[0;32m   1594\u001B[0m             \u001B[1;32mwith\u001B[0m \u001B[0mself\u001B[0m\u001B[1;33m.\u001B[0m\u001B[0m_backend\u001B[0m\u001B[1;33m.\u001B[0m\u001B[0mretrieval_context\u001B[0m\u001B[1;33m(\u001B[0m\u001B[1;33m)\u001B[0m\u001B[1;33m:\u001B[0m\u001B[1;33m\u001B[0m\u001B[1;33m\u001B[0m\u001B[0m\n\u001B[1;32m-> 1595\u001B[1;33m                 \u001B[1;32myield\u001B[0m \u001B[1;32mfrom\u001B[0m \u001B[0mself\u001B[0m\u001B[1;33m.\u001B[0m\u001B[0m_retrieve\u001B[0m\u001B[1;33m(\u001B[0m\u001B[1;33m)\u001B[0m\u001B[1;33m\u001B[0m\u001B[1;33m\u001B[0m\u001B[0m\n\u001B[0m\u001B[0;32m   1596\u001B[0m \u001B[1;33m\u001B[0m\u001B[0m\n\u001B[0;32m   1597\u001B[0m         \u001B[1;32mexcept\u001B[0m \u001B[0mGeneratorExit\u001B[0m\u001B[1;33m:\u001B[0m\u001B[1;33m\u001B[0m\u001B[1;33m\u001B[0m\u001B[0m\n",
      "\u001B[1;32mD:\\exe_code\\Python\\17_Echinococcosis_ML\\.venv\\lib\\site-packages\\joblib\\parallel.py\u001B[0m in \u001B[0;36m_retrieve\u001B[1;34m(self)\u001B[0m\n\u001B[0;32m   1697\u001B[0m             \u001B[1;31m# worker traceback.\u001B[0m\u001B[1;33m\u001B[0m\u001B[1;33m\u001B[0m\u001B[1;33m\u001B[0m\u001B[0m\n\u001B[0;32m   1698\u001B[0m             \u001B[1;32mif\u001B[0m \u001B[0mself\u001B[0m\u001B[1;33m.\u001B[0m\u001B[0m_aborting\u001B[0m\u001B[1;33m:\u001B[0m\u001B[1;33m\u001B[0m\u001B[1;33m\u001B[0m\u001B[0m\n\u001B[1;32m-> 1699\u001B[1;33m                 \u001B[0mself\u001B[0m\u001B[1;33m.\u001B[0m\u001B[0m_raise_error_fast\u001B[0m\u001B[1;33m(\u001B[0m\u001B[1;33m)\u001B[0m\u001B[1;33m\u001B[0m\u001B[1;33m\u001B[0m\u001B[0m\n\u001B[0m\u001B[0;32m   1700\u001B[0m                 \u001B[1;32mbreak\u001B[0m\u001B[1;33m\u001B[0m\u001B[1;33m\u001B[0m\u001B[0m\n\u001B[0;32m   1701\u001B[0m \u001B[1;33m\u001B[0m\u001B[0m\n",
      "\u001B[1;32mD:\\exe_code\\Python\\17_Echinococcosis_ML\\.venv\\lib\\site-packages\\joblib\\parallel.py\u001B[0m in \u001B[0;36m_raise_error_fast\u001B[1;34m(self)\u001B[0m\n\u001B[0;32m   1732\u001B[0m         \u001B[1;31m# called directly or if the generator is gc'ed.\u001B[0m\u001B[1;33m\u001B[0m\u001B[1;33m\u001B[0m\u001B[1;33m\u001B[0m\u001B[0m\n\u001B[0;32m   1733\u001B[0m         \u001B[1;32mif\u001B[0m \u001B[0merror_job\u001B[0m \u001B[1;32mis\u001B[0m \u001B[1;32mnot\u001B[0m \u001B[1;32mNone\u001B[0m\u001B[1;33m:\u001B[0m\u001B[1;33m\u001B[0m\u001B[1;33m\u001B[0m\u001B[0m\n\u001B[1;32m-> 1734\u001B[1;33m             \u001B[0merror_job\u001B[0m\u001B[1;33m.\u001B[0m\u001B[0mget_result\u001B[0m\u001B[1;33m(\u001B[0m\u001B[0mself\u001B[0m\u001B[1;33m.\u001B[0m\u001B[0mtimeout\u001B[0m\u001B[1;33m)\u001B[0m\u001B[1;33m\u001B[0m\u001B[1;33m\u001B[0m\u001B[0m\n\u001B[0m\u001B[0;32m   1735\u001B[0m \u001B[1;33m\u001B[0m\u001B[0m\n\u001B[0;32m   1736\u001B[0m     \u001B[1;32mdef\u001B[0m \u001B[0m_warn_exit_early\u001B[0m\u001B[1;33m(\u001B[0m\u001B[0mself\u001B[0m\u001B[1;33m)\u001B[0m\u001B[1;33m:\u001B[0m\u001B[1;33m\u001B[0m\u001B[1;33m\u001B[0m\u001B[0m\n",
      "\u001B[1;32mD:\\exe_code\\Python\\17_Echinococcosis_ML\\.venv\\lib\\site-packages\\joblib\\parallel.py\u001B[0m in \u001B[0;36mget_result\u001B[1;34m(self, timeout)\u001B[0m\n\u001B[0;32m    734\u001B[0m             \u001B[1;31m# callback thread, and is stored internally. It's just waiting to\u001B[0m\u001B[1;33m\u001B[0m\u001B[1;33m\u001B[0m\u001B[1;33m\u001B[0m\u001B[0m\n\u001B[0;32m    735\u001B[0m             \u001B[1;31m# be returned.\u001B[0m\u001B[1;33m\u001B[0m\u001B[1;33m\u001B[0m\u001B[1;33m\u001B[0m\u001B[0m\n\u001B[1;32m--> 736\u001B[1;33m             \u001B[1;32mreturn\u001B[0m \u001B[0mself\u001B[0m\u001B[1;33m.\u001B[0m\u001B[0m_return_or_raise\u001B[0m\u001B[1;33m(\u001B[0m\u001B[1;33m)\u001B[0m\u001B[1;33m\u001B[0m\u001B[1;33m\u001B[0m\u001B[0m\n\u001B[0m\u001B[0;32m    737\u001B[0m \u001B[1;33m\u001B[0m\u001B[0m\n\u001B[0;32m    738\u001B[0m         \u001B[1;31m# For other backends, the main thread needs to run the retrieval step.\u001B[0m\u001B[1;33m\u001B[0m\u001B[1;33m\u001B[0m\u001B[1;33m\u001B[0m\u001B[0m\n",
      "\u001B[1;32mD:\\exe_code\\Python\\17_Echinococcosis_ML\\.venv\\lib\\site-packages\\joblib\\parallel.py\u001B[0m in \u001B[0;36m_return_or_raise\u001B[1;34m(self)\u001B[0m\n\u001B[0;32m    752\u001B[0m         \u001B[1;32mtry\u001B[0m\u001B[1;33m:\u001B[0m\u001B[1;33m\u001B[0m\u001B[1;33m\u001B[0m\u001B[0m\n\u001B[0;32m    753\u001B[0m             \u001B[1;32mif\u001B[0m \u001B[0mself\u001B[0m\u001B[1;33m.\u001B[0m\u001B[0mstatus\u001B[0m \u001B[1;33m==\u001B[0m \u001B[0mTASK_ERROR\u001B[0m\u001B[1;33m:\u001B[0m\u001B[1;33m\u001B[0m\u001B[1;33m\u001B[0m\u001B[0m\n\u001B[1;32m--> 754\u001B[1;33m                 \u001B[1;32mraise\u001B[0m \u001B[0mself\u001B[0m\u001B[1;33m.\u001B[0m\u001B[0m_result\u001B[0m\u001B[1;33m\u001B[0m\u001B[1;33m\u001B[0m\u001B[0m\n\u001B[0m\u001B[0;32m    755\u001B[0m             \u001B[1;32mreturn\u001B[0m \u001B[0mself\u001B[0m\u001B[1;33m.\u001B[0m\u001B[0m_result\u001B[0m\u001B[1;33m\u001B[0m\u001B[1;33m\u001B[0m\u001B[0m\n\u001B[0;32m    756\u001B[0m         \u001B[1;32mfinally\u001B[0m\u001B[1;33m:\u001B[0m\u001B[1;33m\u001B[0m\u001B[1;33m\u001B[0m\u001B[0m\n",
      "\u001B[1;31mTerminatedWorkerError\u001B[0m: A worker process managed by the executor was unexpectedly terminated. This could be caused by a segmentation fault while calling the function or by an excessive memory usage causing the Operating System to kill the worker.\n"
     ]
    }
   ],
   "source": [
    "model_SVM = SVC(probability=True)\n",
    "model_SVM.fit(X_train_min, y_train_min)\n",
    "get_AUC_accuracy(model_SVM, X_train_min, y_train_min), get_AUC_accuracy(model_SVM, X_val_min, y_val_min), get_AUC_accuracy(model_SVM, X_test_min, y_test_min)"
   ],
   "metadata": {
    "collapsed": false
   }
  },
  {
   "cell_type": "code",
   "execution_count": 63,
   "outputs": [
    {
     "data": {
      "text/plain": "((0.9999204021784667, 0.9800995024875622),\n (0.821688555347092, 0.7671641791044777),\n (0.763909440662918, 0.6929824561403509))"
     },
     "execution_count": 63,
     "metadata": {},
     "output_type": "execute_result"
    }
   ],
   "source": [
    "model_RF = RandomForestClassifier(random_state=4, class_weight='balanced', n_estimators=100, min_samples_split=10, max_depth=16)\n",
    "model_RF.fit(X_train_min, y_train_min)\n",
    "get_AUC_accuracy(model_RF, X_train_min, y_train_min), get_AUC_accuracy(model_RF, X_val_min, y_val_min), get_AUC_accuracy(model_RF, X_test_min, y_test_min)"
   ],
   "metadata": {
    "collapsed": false
   }
  },
  {
   "cell_type": "code",
   "execution_count": 66,
   "outputs": [],
   "source": [
    "y_score = model_RF.predict_proba(X_val_min)[:, 1]"
   ],
   "metadata": {
    "collapsed": false
   }
  },
  {
   "cell_type": "code",
   "execution_count": 67,
   "outputs": [],
   "source": [
    "df = pd.DataFrame(columns=['Label', 'Pred'])\n",
    "df['Label'] = y_val_min\n",
    "df['Pred'] = y_score\n",
    "df.to_csv('./resources/graphpad/RF_X_train_min.csv', index=False)"
   ],
   "metadata": {
    "collapsed": false
   }
  },
  {
   "cell_type": "code",
   "execution_count": 16,
   "outputs": [],
   "source": [
    "# 临时保存下\n",
    "# save_to_pickle(Path('./resources/temp_file/X_train.pkl'), X_train)\n",
    "# save_to_pickle(Path('./resources/temp_file/y_train.pkl'), y_train)\n",
    "# save_to_pickle(Path('./resources/temp_file/X_val.pkl'), X_val)\n",
    "# save_to_pickle(Path('./resources/temp_file/y_val.pkl'), y_val)\n",
    "# save_to_pickle(Path('./resources/temp_file/X_test.pkl'), X_test)\n",
    "# save_to_pickle(Path('./resources/temp_file/y_test.pkl'), y_test)\n",
    "# save_to_pickle(Path('./resources/temp_file/model_lassoCV.pkl'), model_lassoCV)"
   ],
   "metadata": {
    "collapsed": false
   }
  },
  {
   "cell_type": "code",
   "execution_count": 5,
   "outputs": [],
   "source": [
    "# 加载数据\n",
    "X_train = load_pickle(Path('./resources/temp_file/X_train.pkl'))\n",
    "y_train = load_pickle(Path('./resources/temp_file/y_train.pkl'))\n",
    "X_val = load_pickle(Path('./resources/temp_file/X_val.pkl'))\n",
    "y_val = load_pickle(Path('./resources/temp_file/y_val.pkl'))\n",
    "X_test = load_pickle(Path('./resources/temp_file/X_test.pkl'))\n",
    "y_test = load_pickle(Path('./resources/temp_file/y_test.pkl'))\n",
    "model_lassoCV = load_pickle(Path('./resources/temp_file/model_lassoCV.pkl'))"
   ],
   "metadata": {
    "collapsed": false
   }
  },
  {
   "cell_type": "code",
   "execution_count": 6,
   "outputs": [
    {
     "name": "stdout",
     "output_type": "stream",
     "text": [
      "Lasso选择出的系数不为0的特征的个数: 679 original_shape_Elongation gradient_ngtdm_Strength\n"
     ]
    }
   ],
   "source": [
    "# coef_代表LASSO计算出来的每个特征的系数\n",
    "coef = pd.Series(model_lassoCV.coef_, index=X_train.columns)\n",
    "lasso_index = coef[coef != 0].index\n",
    "print('Lasso选择出的系数不为0的特征的个数:', len(lasso_index), lasso_index[0], lasso_index[-1])"
   ],
   "metadata": {
    "collapsed": false
   }
  },
  {
   "cell_type": "code",
   "execution_count": 7,
   "outputs": [],
   "source": [
    "# lasso回归后数据处理\n",
    "X_train = X_train[lasso_index]\n",
    "X_val = X_val[lasso_index]\n",
    "X_test = X_test[lasso_index]"
   ],
   "metadata": {
    "collapsed": false
   }
  },
  {
   "cell_type": "code",
   "execution_count": 8,
   "outputs": [
    {
     "name": "stdout",
     "output_type": "stream",
     "text": [
      "(13772, 679) (4593, 679) (4691, 679) (13772,)\n"
     ]
    }
   ],
   "source": [
    "print(X_train.shape, X_val.shape, X_test.shape, y_train.shape)"
   ],
   "metadata": {
    "collapsed": false
   }
  },
  {
   "cell_type": "code",
   "execution_count": null,
   "id": "eb2f642e6d7f3252",
   "metadata": {
    "ExecuteTime": {
     "end_time": "2023-09-21T14:34:10.926059900Z",
     "start_time": "2023-09-21T13:57:01.888383600Z"
    },
    "collapsed": false
   },
   "outputs": [],
   "source": [
    "# 递归特征消除\n",
    "estimator = LogisticRegressionCV(class_weight='balanced', cv=5, max_iter=100, solver='sag', n_jobs=-1)\n",
    "rfe = RFE(estimator=estimator, n_features_to_select=30, step=1)\n",
    "rfe = rfe.fit(X_train_min, y_train_min)"
   ]
  },
  {
   "cell_type": "code",
   "execution_count": 37,
   "id": "8cc4a2202700641f",
   "metadata": {
    "ExecuteTime": {
     "end_time": "2023-09-21T14:49:55.708640600Z",
     "start_time": "2023-09-21T14:49:55.137219700Z"
    },
    "collapsed": false
   },
   "outputs": [],
   "source": [
    "# 保存模型\n",
    "# with open('./resources/temp_file/estimator.pkl', 'wb') as f:\n",
    "#     pickle.dump(estimator, f)\n",
    "# with open('./resources/temp_file/rfe.pkl', 'wb') as f:\n",
    "#     pickle.dump(rfe, f)"
   ]
  },
  {
   "cell_type": "code",
   "execution_count": 12,
   "id": "d7a63bb6b60004dc",
   "metadata": {
    "ExecuteTime": {
     "end_time": "2023-09-22T02:01:19.384410500Z",
     "start_time": "2023-09-22T02:01:19.216551400Z"
    },
    "collapsed": false
   },
   "outputs": [],
   "source": [
    "# 加载模型\n",
    "with open('./resources/temp_file/estimator.pkl', 'rb') as f:\n",
    "    estimator = pickle.load(f)\n",
    "with open('./resources/temp_file/rfe.pkl', 'rb') as f:\n",
    "    rfe = pickle.load(f)\n",
    "rfe: sklearn.feature_selection.RFE"
   ]
  },
  {
   "cell_type": "code",
   "execution_count": 13,
   "id": "b676ce949e12de60",
   "metadata": {
    "ExecuteTime": {
     "end_time": "2023-09-22T02:01:28.726906800Z",
     "start_time": "2023-09-22T02:01:28.505558700Z"
    },
    "collapsed": false
   },
   "outputs": [
    {
     "name": "stdout",
     "output_type": "stream",
     "text": [
      "30 679 30\n"
     ]
    }
   ],
   "source": [
    "print(rfe.n_features_, rfe.n_features_in_, rfe.n_features_to_select)"
   ]
  },
  {
   "cell_type": "code",
   "execution_count": 14,
   "id": "4e60e0bdeb641c0d",
   "metadata": {
    "ExecuteTime": {
     "end_time": "2023-09-22T02:13:05.730130200Z",
     "start_time": "2023-09-22T02:13:05.443113600Z"
    },
    "collapsed": false
   },
   "outputs": [],
   "source": []
  },
  {
   "cell_type": "code",
   "execution_count": 13,
   "id": "1860af921b6b8eb8",
   "metadata": {
    "ExecuteTime": {
     "end_time": "2023-09-22T02:13:07.366793700Z",
     "start_time": "2023-09-22T02:13:07.126598900Z"
    },
    "collapsed": false
   },
   "outputs": [
    {
     "data": {
      "text/plain": [
       "(0.8912249734016829, 0.7828054298642534)"
      ]
     },
     "execution_count": 13,
     "metadata": {},
     "output_type": "execute_result"
    }
   ],
   "source": []
  },
  {
   "cell_type": "code",
   "execution_count": 15,
   "id": "2942d34fe955326f",
   "metadata": {
    "collapsed": false
   },
   "outputs": [
    {
     "name": "stdout",
     "output_type": "stream",
     "text": [
      "训练集交叉熵损失: 0.41196795130651687\n",
      "验证集交叉熵损失: 0.611673492395658\n"
     ]
    }
   ],
   "source": [
    "# 在训练集和验证集上计算交叉熵损失\n",
    "train_min_predictions = rfe.predict_proba(X_train_min)\n",
    "train_min_loss = log_loss(y_train_min, train_min_predictions)\n",
    "\n",
    "val_min_predictions = rfe.predict_proba(X_val_min)\n",
    "val_min_loss = log_loss(y_val_min, val_min_predictions)\n",
    "\n",
    "print(\"训练集交叉熵损失:\", train_min_loss)\n",
    "print(\"验证集交叉熵损失:\", val_min_loss)"
   ]
  },
  {
   "cell_type": "code",
   "execution_count": null,
   "metadata": {
    "collapsed": false
   },
   "outputs": [],
   "source": []
  }
 ],
 "metadata": {
  "kernelspec": {
   "display_name": "Python 3",
   "language": "python",
   "name": "python3"
  },
  "language_info": {
   "codemirror_mode": {
    "name": "ipython",
    "version": 3
   },
   "file_extension": ".py",
   "mimetype": "text/x-python",
   "name": "python",
   "nbconvert_exporter": "python",
   "pygments_lexer": "ipython3",
   "version": "3.7.9"
  }
 },
 "nbformat": 4,
 "nbformat_minor": 5
}
