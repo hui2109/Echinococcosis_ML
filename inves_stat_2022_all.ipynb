{
 "cells": [
  {
   "cell_type": "code",
   "execution_count": 11,
   "id": "initial_id",
   "metadata": {
    "collapsed": true,
    "jupyter": {
     "outputs_hidden": true
    },
    "ExecuteTime": {
     "end_time": "2023-11-20T12:42:02.280005500Z",
     "start_time": "2023-11-20T12:42:02.269851100Z"
    }
   },
   "outputs": [],
   "source": [
    "import matplotlib.pyplot as plt\n",
    "import numpy as np\n",
    "import pandas as pd\n",
    "from sklearn.metrics import roc_auc_score, roc_curve, auc\n",
    "from sklearn.metrics import accuracy_score\n",
    "from pprint import pprint\n",
    "from utils import get_add_AE_prediction_num"
   ]
  },
  {
   "cell_type": "code",
   "execution_count": 12,
   "id": "793865cee756b875",
   "metadata": {
    "collapsed": false,
    "ExecuteTime": {
     "end_time": "2023-11-20T12:42:03.017646500Z",
     "start_time": "2023-11-20T12:42:03.004212100Z"
    }
   },
   "outputs": [],
   "source": [
    "# source_df = pd.read_excel('./resources/source_data/2022_inves.xlsx')\n",
    "# source_df.to_pickle('./resources/temp_file/2022_inves.pkl')"
   ]
  },
  {
   "cell_type": "code",
   "execution_count": 13,
   "id": "df3185201f7cc5bf",
   "metadata": {
    "collapsed": false,
    "ExecuteTime": {
     "end_time": "2023-11-20T12:42:03.394635100Z",
     "start_time": "2023-11-20T12:42:03.362386800Z"
    }
   },
   "outputs": [
    {
     "data": {
      "text/plain": "     1、请选择肝包虫类型：（）？  2、请选择肝包虫类型：（）？  3、请选择肝包虫类型：（）？  4、请选择肝包虫类型：（）？  \\\n0                -3              -3              -3              -3   \n1                -3              -3              -3              -3   \n2                -3              -3              -3              -3   \n3                -3              -3              -3              -3   \n4                -3              -3              -3              -3   \n..              ...             ...             ...             ...   \n126              -3              -3              -3              -3   \n127              -3              -3              -3              -3   \n128              -3              -3              -3              -3   \n129               1              -3              -3              -3   \n130              -3              -3              -3              -3   \n\n     5、请选择肝包虫类型：（）？  6、请选择肝包虫类型：（）？  7、请选择肝包虫类型：（）？  8、请选择肝包虫类型：（）？  \\\n0                -3              -3              -3              -3   \n1                -3              -3               1              -3   \n2                -3              -3              -3              -3   \n3                -3              -3              -3              -3   \n4                -3              -3              -3               1   \n..              ...             ...             ...             ...   \n126              -3              -3               1              -3   \n127               1              -3              -3              -3   \n128              -3               1              -3              -3   \n129              -3              -3              -3              -3   \n130              -3              -3              -3               1   \n\n     9、请选择肝包虫类型：（）？  10、请选择肝包虫类型：（）？  ...  441、请选择肝包虫类型：（）？  442、请选择肝包虫类型：（）？  \\\n0                -3               -3  ...                -3                -3   \n1                -3               -3  ...                -3                -3   \n2                -3               -3  ...                -3                -3   \n3                -3               -3  ...                -3                -3   \n4                -3               -3  ...                -3                -3   \n..              ...              ...  ...               ...               ...   \n126              -3               -3  ...                 1                -3   \n127              -3               -3  ...                -3                -3   \n128              -3               -3  ...                -3                 1   \n129              -3               -3  ...                -3                -3   \n130              -3               -3  ...                -3                -3   \n\n     443、请选择肝包虫类型：（）？  444、请选择肝包虫类型：（）？  445、请选择肝包虫类型：（）？  446、请选择肝包虫类型：（）？  \\\n0                  -3                -3                -3                -3   \n1                  -3                 1                -3                -3   \n2                   1                -3                -3                -3   \n3                  -3                -3                -3                -3   \n4                   1                -3                -3                -3   \n..                ...               ...               ...               ...   \n126                -3                -3                -3                -3   \n127                 2                -3                -3                -3   \n128                -3                -3                -3                -3   \n129                -3                -3                -3                -3   \n130                -3                -3                -3                -3   \n\n     447、请选择肝包虫类型：（）？  448、请选择肝包虫类型：（）？  449、请选择肝包虫类型：（）？  450、请选择肝包虫类型：（）？  \n0                  -3                 1                -3                -3  \n1                  -3                -3                -3                -3  \n2                  -3                -3                -3                -3  \n3                  -3                -3                -3                -3  \n4                  -3                -3                -3                -3  \n..                ...               ...               ...               ...  \n126                -3                -3                -3                -3  \n127                -3                -3                -3                -3  \n128                -3                -3                -3                -3  \n129                -3                -3                -3                -3  \n130                -3                 1                -3                -3  \n\n[131 rows x 450 columns]",
      "text/html": "<div>\n<style scoped>\n    .dataframe tbody tr th:only-of-type {\n        vertical-align: middle;\n    }\n\n    .dataframe tbody tr th {\n        vertical-align: top;\n    }\n\n    .dataframe thead th {\n        text-align: right;\n    }\n</style>\n<table border=\"1\" class=\"dataframe\">\n  <thead>\n    <tr style=\"text-align: right;\">\n      <th></th>\n      <th>1、请选择肝包虫类型：（）？</th>\n      <th>2、请选择肝包虫类型：（）？</th>\n      <th>3、请选择肝包虫类型：（）？</th>\n      <th>4、请选择肝包虫类型：（）？</th>\n      <th>5、请选择肝包虫类型：（）？</th>\n      <th>6、请选择肝包虫类型：（）？</th>\n      <th>7、请选择肝包虫类型：（）？</th>\n      <th>8、请选择肝包虫类型：（）？</th>\n      <th>9、请选择肝包虫类型：（）？</th>\n      <th>10、请选择肝包虫类型：（）？</th>\n      <th>...</th>\n      <th>441、请选择肝包虫类型：（）？</th>\n      <th>442、请选择肝包虫类型：（）？</th>\n      <th>443、请选择肝包虫类型：（）？</th>\n      <th>444、请选择肝包虫类型：（）？</th>\n      <th>445、请选择肝包虫类型：（）？</th>\n      <th>446、请选择肝包虫类型：（）？</th>\n      <th>447、请选择肝包虫类型：（）？</th>\n      <th>448、请选择肝包虫类型：（）？</th>\n      <th>449、请选择肝包虫类型：（）？</th>\n      <th>450、请选择肝包虫类型：（）？</th>\n    </tr>\n  </thead>\n  <tbody>\n    <tr>\n      <th>0</th>\n      <td>-3</td>\n      <td>-3</td>\n      <td>-3</td>\n      <td>-3</td>\n      <td>-3</td>\n      <td>-3</td>\n      <td>-3</td>\n      <td>-3</td>\n      <td>-3</td>\n      <td>-3</td>\n      <td>...</td>\n      <td>-3</td>\n      <td>-3</td>\n      <td>-3</td>\n      <td>-3</td>\n      <td>-3</td>\n      <td>-3</td>\n      <td>-3</td>\n      <td>1</td>\n      <td>-3</td>\n      <td>-3</td>\n    </tr>\n    <tr>\n      <th>1</th>\n      <td>-3</td>\n      <td>-3</td>\n      <td>-3</td>\n      <td>-3</td>\n      <td>-3</td>\n      <td>-3</td>\n      <td>1</td>\n      <td>-3</td>\n      <td>-3</td>\n      <td>-3</td>\n      <td>...</td>\n      <td>-3</td>\n      <td>-3</td>\n      <td>-3</td>\n      <td>1</td>\n      <td>-3</td>\n      <td>-3</td>\n      <td>-3</td>\n      <td>-3</td>\n      <td>-3</td>\n      <td>-3</td>\n    </tr>\n    <tr>\n      <th>2</th>\n      <td>-3</td>\n      <td>-3</td>\n      <td>-3</td>\n      <td>-3</td>\n      <td>-3</td>\n      <td>-3</td>\n      <td>-3</td>\n      <td>-3</td>\n      <td>-3</td>\n      <td>-3</td>\n      <td>...</td>\n      <td>-3</td>\n      <td>-3</td>\n      <td>1</td>\n      <td>-3</td>\n      <td>-3</td>\n      <td>-3</td>\n      <td>-3</td>\n      <td>-3</td>\n      <td>-3</td>\n      <td>-3</td>\n    </tr>\n    <tr>\n      <th>3</th>\n      <td>-3</td>\n      <td>-3</td>\n      <td>-3</td>\n      <td>-3</td>\n      <td>-3</td>\n      <td>-3</td>\n      <td>-3</td>\n      <td>-3</td>\n      <td>-3</td>\n      <td>-3</td>\n      <td>...</td>\n      <td>-3</td>\n      <td>-3</td>\n      <td>-3</td>\n      <td>-3</td>\n      <td>-3</td>\n      <td>-3</td>\n      <td>-3</td>\n      <td>-3</td>\n      <td>-3</td>\n      <td>-3</td>\n    </tr>\n    <tr>\n      <th>4</th>\n      <td>-3</td>\n      <td>-3</td>\n      <td>-3</td>\n      <td>-3</td>\n      <td>-3</td>\n      <td>-3</td>\n      <td>-3</td>\n      <td>1</td>\n      <td>-3</td>\n      <td>-3</td>\n      <td>...</td>\n      <td>-3</td>\n      <td>-3</td>\n      <td>1</td>\n      <td>-3</td>\n      <td>-3</td>\n      <td>-3</td>\n      <td>-3</td>\n      <td>-3</td>\n      <td>-3</td>\n      <td>-3</td>\n    </tr>\n    <tr>\n      <th>...</th>\n      <td>...</td>\n      <td>...</td>\n      <td>...</td>\n      <td>...</td>\n      <td>...</td>\n      <td>...</td>\n      <td>...</td>\n      <td>...</td>\n      <td>...</td>\n      <td>...</td>\n      <td>...</td>\n      <td>...</td>\n      <td>...</td>\n      <td>...</td>\n      <td>...</td>\n      <td>...</td>\n      <td>...</td>\n      <td>...</td>\n      <td>...</td>\n      <td>...</td>\n      <td>...</td>\n    </tr>\n    <tr>\n      <th>126</th>\n      <td>-3</td>\n      <td>-3</td>\n      <td>-3</td>\n      <td>-3</td>\n      <td>-3</td>\n      <td>-3</td>\n      <td>1</td>\n      <td>-3</td>\n      <td>-3</td>\n      <td>-3</td>\n      <td>...</td>\n      <td>1</td>\n      <td>-3</td>\n      <td>-3</td>\n      <td>-3</td>\n      <td>-3</td>\n      <td>-3</td>\n      <td>-3</td>\n      <td>-3</td>\n      <td>-3</td>\n      <td>-3</td>\n    </tr>\n    <tr>\n      <th>127</th>\n      <td>-3</td>\n      <td>-3</td>\n      <td>-3</td>\n      <td>-3</td>\n      <td>1</td>\n      <td>-3</td>\n      <td>-3</td>\n      <td>-3</td>\n      <td>-3</td>\n      <td>-3</td>\n      <td>...</td>\n      <td>-3</td>\n      <td>-3</td>\n      <td>2</td>\n      <td>-3</td>\n      <td>-3</td>\n      <td>-3</td>\n      <td>-3</td>\n      <td>-3</td>\n      <td>-3</td>\n      <td>-3</td>\n    </tr>\n    <tr>\n      <th>128</th>\n      <td>-3</td>\n      <td>-3</td>\n      <td>-3</td>\n      <td>-3</td>\n      <td>-3</td>\n      <td>1</td>\n      <td>-3</td>\n      <td>-3</td>\n      <td>-3</td>\n      <td>-3</td>\n      <td>...</td>\n      <td>-3</td>\n      <td>1</td>\n      <td>-3</td>\n      <td>-3</td>\n      <td>-3</td>\n      <td>-3</td>\n      <td>-3</td>\n      <td>-3</td>\n      <td>-3</td>\n      <td>-3</td>\n    </tr>\n    <tr>\n      <th>129</th>\n      <td>1</td>\n      <td>-3</td>\n      <td>-3</td>\n      <td>-3</td>\n      <td>-3</td>\n      <td>-3</td>\n      <td>-3</td>\n      <td>-3</td>\n      <td>-3</td>\n      <td>-3</td>\n      <td>...</td>\n      <td>-3</td>\n      <td>-3</td>\n      <td>-3</td>\n      <td>-3</td>\n      <td>-3</td>\n      <td>-3</td>\n      <td>-3</td>\n      <td>-3</td>\n      <td>-3</td>\n      <td>-3</td>\n    </tr>\n    <tr>\n      <th>130</th>\n      <td>-3</td>\n      <td>-3</td>\n      <td>-3</td>\n      <td>-3</td>\n      <td>-3</td>\n      <td>-3</td>\n      <td>-3</td>\n      <td>1</td>\n      <td>-3</td>\n      <td>-3</td>\n      <td>...</td>\n      <td>-3</td>\n      <td>-3</td>\n      <td>-3</td>\n      <td>-3</td>\n      <td>-3</td>\n      <td>-3</td>\n      <td>-3</td>\n      <td>1</td>\n      <td>-3</td>\n      <td>-3</td>\n    </tr>\n  </tbody>\n</table>\n<p>131 rows × 450 columns</p>\n</div>"
     },
     "execution_count": 13,
     "metadata": {},
     "output_type": "execute_result"
    }
   ],
   "source": [
    "source_df = pd.read_pickle('./resources/temp_file/2022_inves.pkl').iloc[:, 11:]\n",
    "source_df: pd.DataFrame\n",
    "source_df"
   ]
  },
  {
   "cell_type": "code",
   "execution_count": 14,
   "id": "f81039f40ac7b148",
   "metadata": {
    "collapsed": false,
    "ExecuteTime": {
     "end_time": "2023-11-20T12:42:04.788808500Z",
     "start_time": "2023-11-20T12:42:04.780372Z"
    }
   },
   "outputs": [],
   "source": [
    "# 制作选项答案\n",
    "# 答案为A，索引为0；答案为B，索引为1\n",
    "answer_list = []\n",
    "answer_index = '001100100001110111100100111010'\n",
    "for index in answer_index:\n",
    "    if index == '0':\n",
    "        answer_list += [0] * 15\n",
    "    elif index == '1':\n",
    "        answer_list += [1] * 15"
   ]
  },
  {
   "cell_type": "code",
   "execution_count": 15,
   "id": "149f8c67675ab12d",
   "metadata": {
    "collapsed": false,
    "ExecuteTime": {
     "end_time": "2023-11-20T12:42:06.210623100Z",
     "start_time": "2023-11-20T12:42:06.133750700Z"
    }
   },
   "outputs": [
    {
     "name": "stdout",
     "output_type": "stream",
     "text": [
      "[14  4 12  6 10 12  9 12  6  5 10 11  9  6  5 10 11  8  5  5 10  5 12  8\n",
      " 10 11  8  9  7 12  5 10 13 10  7  7  9  6 10 13  7  7  9 10  8  9  7 12\n",
      "  8  7  7  6 15 11  7 11  7  9 10  5 12 11  8 10 11  3  9  7  8  7 16  8\n",
      "  9  7  5  8  6  5 11  6 10 13  8 11 14 10  6  9  8  6  4  9  8  9 11  8\n",
      "  9  8 12  5 13 13 12  6  4  7  9  9  6  8  7  6  6 14 11 14  6 10  9  9\n",
      "  6  6  9 10 14 12  9  6 15  7 11  6 10  1  9 13  7  5  7 15  8  5  8  9\n",
      " 10  6  9 11  9  9  3 11  8  9 10 12 10  5 10  5  6  7 11 10 14  9  6  9\n",
      "  8  7  8 12 13 11 10 11 11  9  2  5 12  9 10  6 11  8  9  6 10  6 14  9\n",
      "  9  6  6 14  7  8 12  7 10 10  7 12  7  6  9  9  8  5  8  6  5  6  6 10\n",
      " 17 10  8 10 10 11  6 10  8 16 12 11  4 10  8 10 11  5  9  5  6  8 10  6\n",
      "  8  8  7  9 10 11 13 11  4  3 11 13  6  6 11  8  4  9 14  9 10  8  8  6\n",
      " 11  8 13  5  9  9 13  9 11  5 18 13 11  7  5  6 12  6  4  6  5  9  7 10\n",
      " 10  3  8  9  8  6 13  9 10  9 10 10  7  9  8  6 11 15  7 10  8  7  6  7\n",
      " 13  7 10  8  7 10  8 12  7  8 10  8 10  6  5 10  8 14 11 16  4  7  7  8\n",
      "  9  8  7  7  8 10  7 13  9 10 10  8  8  9  8  7 11  9  8  9  9 12  8  5\n",
      " 12 11  6  7  8  9 10  6 10  8  8 14  8  9  5 12 14  7  7 13  7 10  8  8\n",
      " 10 10  5  4 11  5  8 16  9 11  9 11  9  8  5  8 10  2  8  6 11  9  9  8\n",
      " 13  6  7  9  6  9 11  5  3 12 11 13  6  8  7  7 11  7  8  9 11  4  6  9\n",
      " 14 10 14  2 11  7 11  7  7  6  9  9 10 10 10 12 14  6]\n"
     ]
    }
   ],
   "source": [
    "# 查看每道题有多少人做\n",
    "num_list = []\n",
    "for i in range(450):\n",
    "    num = np.sum(source_df.iloc[:, i] != -3)\n",
    "    num_list.append(num)\n",
    "num_list = np.array(num_list)\n",
    "print(num_list)"
   ]
  },
  {
   "cell_type": "code",
   "execution_count": 16,
   "id": "7e302681d108e8f8",
   "metadata": {
    "collapsed": false,
    "ExecuteTime": {
     "end_time": "2023-11-20T12:42:07.474832200Z",
     "start_time": "2023-11-20T12:42:07.452013700Z"
    }
   },
   "outputs": [
    {
     "data": {
      "text/plain": "(18, 1, 8.733333333333333)"
     },
     "execution_count": 16,
     "metadata": {},
     "output_type": "execute_result"
    }
   ],
   "source": [
    "np.max(num_list), np.min(num_list), np.mean(num_list)"
   ]
  },
  {
   "cell_type": "code",
   "execution_count": 17,
   "id": "ca345184d73f70fb",
   "metadata": {
    "collapsed": false,
    "ExecuteTime": {
     "end_time": "2023-11-20T12:42:09.184371800Z",
     "start_time": "2023-11-20T12:42:09.175442400Z"
    }
   },
   "outputs": [
    {
     "data": {
      "text/plain": "0"
     },
     "execution_count": 17,
     "metadata": {},
     "output_type": "execute_result"
    }
   ],
   "source": [
    "# 查看是否有题没有人做\n",
    "np.sum(num_list == 0)"
   ]
  },
  {
   "cell_type": "code",
   "execution_count": 18,
   "id": "c9692e59d2d8a7a6",
   "metadata": {
    "collapsed": false,
    "ExecuteTime": {
     "end_time": "2023-11-20T12:42:10.595685400Z",
     "start_time": "2023-11-20T12:42:10.439348700Z"
    }
   },
   "outputs": [
    {
     "data": {
      "text/plain": "<Figure size 640x480 with 1 Axes>",
      "image/png": "[encoded data removed]"
     },
     "metadata": {},
     "output_type": "display_data"
    }
   ],
   "source": [
    "# 对应每一个人数，分别有多少道题被做\n",
    "fig, ax = plt.subplots()\n",
    "ax.set_xlim(1, 19)\n",
    "ax.xaxis.set_major_locator(plt.MultipleLocator(1))\n",
    "for i in range(1, 19):\n",
    "    i_th_num = np.sum(num_list == i)\n",
    "    ax.bar(i, i_th_num)"
   ]
  },
  {
   "cell_type": "code",
   "execution_count": 19,
   "id": "ed891c41f97db741",
   "metadata": {
    "collapsed": false,
    "ExecuteTime": {
     "end_time": "2023-11-20T12:42:34.299892900Z",
     "start_time": "2023-11-20T12:42:34.211897300Z"
    }
   },
   "outputs": [],
   "source": [
    "# 计算每道题的概率，即患者有多少可能预测该图是AE\n",
    "# 设概率为预测 AE 的概率\n",
    "predict_AE_prob_list = []\n",
    "all_num = source_df.shape[0]\n",
    "\n",
    "for i, num in enumerate(num_list):\n",
    "    predict_AE_num: int = np.sum(source_df.iloc[:, i] == 2)\n",
    "    predict_AE_prob = predict_AE_num / num\n",
    "    \n",
    "    # 随机真实数据\n",
    "    # add_AE_num: int = get_add_AE_prediction_num(_predict_AE_prob, source_df.shape[0] - num)\n",
    "    # predict_AE_prob = (predict_AE_num + add_AE_num) / all_num\n",
    "    \n",
    "    predict_AE_prob_list.append(predict_AE_prob)\n",
    "predict_AE_prob_list = np.array(predict_AE_prob_list)"
   ]
  },
  {
   "cell_type": "code",
   "execution_count": 20,
   "id": "17a3e61d2f4bc7ac",
   "metadata": {
    "collapsed": false,
    "ExecuteTime": {
     "end_time": "2023-11-20T12:42:37.296065900Z",
     "start_time": "2023-11-20T12:42:37.272382900Z"
    }
   },
   "outputs": [
    {
     "data": {
      "text/plain": "(450, 0.2857142857142857, 450)"
     },
     "execution_count": 20,
     "metadata": {},
     "output_type": "execute_result"
    }
   ],
   "source": [
    "len(predict_AE_prob_list), predict_AE_prob_list[0], len(answer_list)"
   ]
  },
  {
   "cell_type": "code",
   "execution_count": 21,
   "id": "45f5a1d5ccc00f8",
   "metadata": {
    "collapsed": false,
    "ExecuteTime": {
     "end_time": "2023-11-20T12:42:39.410378800Z",
     "start_time": "2023-11-20T12:42:39.388546400Z"
    }
   },
   "outputs": [
    {
     "name": "stdout",
     "output_type": "stream",
     "text": [
      "[(0.2857142857142857, 14),\n",
      " (0.5, 4),\n",
      " (0.3333333333333333, 12),\n",
      " (0.0, 6),\n",
      " (0.0, 10),\n",
      " (0.0, 12),\n",
      " (0.0, 9),\n",
      " (0.0, 12),\n",
      " (0.0, 6),\n",
      " (0.2, 5),\n",
      " (0.8, 10),\n",
      " (0.0, 11),\n",
      " (0.6666666666666666, 9),\n",
      " (0.6666666666666666, 6),\n",
      " (0.2, 5),\n",
      " (0.1, 10),\n",
      " (0.09090909090909091, 11),\n",
      " (0.0, 8),\n",
      " (0.6, 5),\n",
      " (0.2, 5),\n",
      " (0.0, 10),\n",
      " (0.2, 5),\n",
      " (0.3333333333333333, 12),\n",
      " (0.25, 8),\n",
      " (0.1, 10),\n",
      " (0.09090909090909091, 11),\n",
      " (0.0, 8),\n",
      " (0.4444444444444444, 9),\n",
      " (0.0, 7),\n",
      " (0.3333333333333333, 12),\n",
      " (0.8, 5),\n",
      " (0.7, 10),\n",
      " (0.7692307692307693, 13),\n",
      " (1.0, 10),\n",
      " (0.5714285714285714, 7),\n",
      " (0.8571428571428571, 7),\n",
      " (0.7777777777777778, 9),\n",
      " (0.3333333333333333, 6),\n",
      " (0.8, 10),\n",
      " (0.6923076923076923, 13),\n",
      " (0.2857142857142857, 7),\n",
      " (0.2857142857142857, 7),\n",
      " (0.5555555555555556, 9),\n",
      " (0.8, 10),\n",
      " (0.75, 8),\n",
      " (0.8888888888888888, 9),\n",
      " (1.0, 7),\n",
      " (0.9166666666666666, 12),\n",
      " (0.75, 8),\n",
      " (0.7142857142857143, 7),\n",
      " (0.8571428571428571, 7),\n",
      " (0.6666666666666666, 6),\n",
      " (0.9333333333333333, 15),\n",
      " (0.9090909090909091, 11),\n",
      " (0.5714285714285714, 7),\n",
      " (0.6363636363636364, 11),\n",
      " (0.7142857142857143, 7),\n",
      " (0.8888888888888888, 9),\n",
      " (0.8, 10),\n",
      " (0.8, 5),\n",
      " (0.6666666666666666, 12),\n",
      " (0.6363636363636364, 11),\n",
      " (0.5, 8),\n",
      " (0.4, 10),\n",
      " (0.09090909090909091, 11),\n",
      " (0.6666666666666666, 3),\n",
      " (0.0, 9),\n",
      " (0.0, 7),\n",
      " (0.25, 8),\n",
      " (0.0, 7),\n",
      " (0.1875, 16),\n",
      " (0.25, 8),\n",
      " (0.0, 9),\n",
      " (0.7142857142857143, 7),\n",
      " (0.0, 5),\n",
      " (0.5, 8),\n",
      " (0.16666666666666666, 6),\n",
      " (0.0, 5),\n",
      " (0.09090909090909091, 11),\n",
      " (0.0, 6),\n",
      " (0.4, 10),\n",
      " (0.3076923076923077, 13),\n",
      " (0.25, 8),\n",
      " (0.18181818181818182, 11),\n",
      " (0.5, 14),\n",
      " (0.1, 10),\n",
      " (0.8333333333333334, 6),\n",
      " (0.4444444444444444, 9),\n",
      " (0.375, 8),\n",
      " (0.8333333333333334, 6),\n",
      " (0.75, 4),\n",
      " (1.0, 9),\n",
      " (0.375, 8),\n",
      " (0.8888888888888888, 9),\n",
      " (0.9090909090909091, 11),\n",
      " (0.375, 8),\n",
      " (0.8888888888888888, 9),\n",
      " (0.75, 8),\n",
      " (0.5, 12),\n",
      " (0.4, 5),\n",
      " (0.7692307692307693, 13),\n",
      " (0.9230769230769231, 13),\n",
      " (0.9166666666666666, 12),\n",
      " (1.0, 6),\n",
      " (0.75, 4),\n",
      " (0.0, 7),\n",
      " (0.1111111111111111, 9),\n",
      " (0.1111111111111111, 9),\n",
      " (0.3333333333333333, 6),\n",
      " (0.25, 8),\n",
      " (0.5714285714285714, 7),\n",
      " (0.0, 6),\n",
      " (0.0, 6),\n",
      " (0.14285714285714285, 14),\n",
      " (0.09090909090909091, 11),\n",
      " (0.0, 14),\n",
      " (0.3333333333333333, 6),\n",
      " (0.2, 10),\n",
      " (0.2222222222222222, 9),\n",
      " (0.0, 9),\n",
      " (0.3333333333333333, 6),\n",
      " (0.3333333333333333, 6),\n",
      " (0.4444444444444444, 9),\n",
      " (0.7, 10),\n",
      " (0.42857142857142855, 14),\n",
      " (0.4166666666666667, 12),\n",
      " (0.1111111111111111, 9),\n",
      " (0.16666666666666666, 6),\n",
      " (0.6666666666666666, 15),\n",
      " (0.2857142857142857, 7),\n",
      " (0.45454545454545453, 11),\n",
      " (0.3333333333333333, 6),\n",
      " (0.6, 10),\n",
      " (1.0, 1),\n",
      " (0.3333333333333333, 9),\n",
      " (0.07692307692307693, 13),\n",
      " (0.2857142857142857, 7),\n",
      " (0.0, 5),\n",
      " (0.0, 7),\n",
      " (0.13333333333333333, 15),\n",
      " (0.125, 8),\n",
      " (0.2, 5),\n",
      " (0.25, 8),\n",
      " (0.0, 9),\n",
      " (0.7, 10),\n",
      " (0.5, 6),\n",
      " (0.3333333333333333, 9),\n",
      " (0.0, 11),\n",
      " (0.0, 9),\n",
      " (0.0, 9),\n",
      " (0.6666666666666666, 3),\n",
      " (0.7272727272727273, 11),\n",
      " (0.5, 8),\n",
      " (0.2222222222222222, 9),\n",
      " (0.1, 10),\n",
      " (0.25, 12),\n",
      " (0.5, 10),\n",
      " (0.2, 5),\n",
      " (0.3, 10),\n",
      " (0.8, 5),\n",
      " (0.3333333333333333, 6),\n",
      " (0.0, 7),\n",
      " (0.45454545454545453, 11),\n",
      " (0.6, 10),\n",
      " (0.21428571428571427, 14),\n",
      " (0.8888888888888888, 9),\n",
      " (0.6666666666666666, 6),\n",
      " (0.7777777777777778, 9),\n",
      " (0.875, 8),\n",
      " (0.8571428571428571, 7),\n",
      " (0.5, 8),\n",
      " (0.4166666666666667, 12),\n",
      " (0.7692307692307693, 13),\n",
      " (0.8181818181818182, 11),\n",
      " (0.6, 10),\n",
      " (0.6363636363636364, 11),\n",
      " (1.0, 11),\n",
      " (0.6666666666666666, 9),\n",
      " (0.5, 2),\n",
      " (0.6, 5),\n",
      " (1.0, 12),\n",
      " (0.7777777777777778, 9),\n",
      " (0.6, 10),\n",
      " (0.5, 6),\n",
      " (0.8181818181818182, 11),\n",
      " (1.0, 8),\n",
      " (0.6666666666666666, 9),\n",
      " (0.6666666666666666, 6),\n",
      " (0.5, 10),\n",
      " (0.6666666666666666, 6),\n",
      " (0.7857142857142857, 14),\n",
      " (0.7777777777777778, 9),\n",
      " (0.7777777777777778, 9),\n",
      " (1.0, 6),\n",
      " (0.5, 6),\n",
      " (0.8571428571428571, 14),\n",
      " (0.42857142857142855, 7),\n",
      " (0.625, 8),\n",
      " (0.75, 12),\n",
      " (0.14285714285714285, 7),\n",
      " (0.8, 10),\n",
      " (0.5, 10),\n",
      " (0.7142857142857143, 7),\n",
      " (0.6666666666666666, 12),\n",
      " (0.5714285714285714, 7),\n",
      " (1.0, 6),\n",
      " (0.7777777777777778, 9),\n",
      " (0.8888888888888888, 9),\n",
      " (0.875, 8),\n",
      " (0.8, 5),\n",
      " (0.0, 8),\n",
      " (0.0, 6),\n",
      " (0.2, 5),\n",
      " (0.0, 6),\n",
      " (0.5, 6),\n",
      " (0.8, 10),\n",
      " (0.4117647058823529, 17),\n",
      " (0.6, 10),\n",
      " (0.875, 8),\n",
      " (0.3, 10),\n",
      " (0.3, 10),\n",
      " (0.09090909090909091, 11),\n",
      " (0.0, 6),\n",
      " (0.0, 10),\n",
      " (0.0, 8),\n",
      " (0.875, 16),\n",
      " (0.6666666666666666, 12),\n",
      " (0.8181818181818182, 11),\n",
      " (0.75, 4),\n",
      " (0.7, 10),\n",
      " (1.0, 8),\n",
      " (0.7, 10),\n",
      " (0.8181818181818182, 11),\n",
      " (0.6, 5),\n",
      " (0.8888888888888888, 9),\n",
      " (0.6, 5),\n",
      " (0.8333333333333334, 6),\n",
      " (0.625, 8),\n",
      " (0.5, 10),\n",
      " (0.6666666666666666, 6),\n",
      " (0.75, 8),\n",
      " (0.5, 8),\n",
      " (0.2857142857142857, 7),\n",
      " (0.6666666666666666, 9),\n",
      " (0.4, 10),\n",
      " (0.8181818181818182, 11),\n",
      " (0.9230769230769231, 13),\n",
      " (0.7272727272727273, 11),\n",
      " (1.0, 4),\n",
      " (0.3333333333333333, 3),\n",
      " (0.7272727272727273, 11),\n",
      " (0.7692307692307693, 13),\n",
      " (0.6666666666666666, 6),\n",
      " (0.6666666666666666, 6),\n",
      " (0.8181818181818182, 11),\n",
      " (0.625, 8),\n",
      " (0.75, 4),\n",
      " (0.6666666666666666, 9),\n",
      " (0.9285714285714286, 14),\n",
      " (0.7777777777777778, 9),\n",
      " (0.5, 10),\n",
      " (0.25, 8),\n",
      " (0.625, 8),\n",
      " (0.8333333333333334, 6),\n",
      " (0.9090909090909091, 11),\n",
      " (0.375, 8),\n",
      " (0.8461538461538461, 13),\n",
      " (1.0, 5),\n",
      " (0.7777777777777778, 9),\n",
      " (0.8888888888888888, 9),\n",
      " (0.7692307692307693, 13),\n",
      " (0.7777777777777778, 9),\n",
      " (1.0, 11),\n",
      " (0.8, 5),\n",
      " (0.3888888888888889, 18),\n",
      " (0.38461538461538464, 13),\n",
      " (0.36363636363636365, 11),\n",
      " (0.2857142857142857, 7),\n",
      " (0.4, 5),\n",
      " (0.5, 6),\n",
      " (0.08333333333333333, 12),\n",
      " (1.0, 6),\n",
      " (1.0, 4),\n",
      " (1.0, 6),\n",
      " (0.8, 5),\n",
      " (0.7777777777777778, 9),\n",
      " (0.14285714285714285, 7),\n",
      " (0.7, 10),\n",
      " (0.3, 10),\n",
      " (0.0, 3),\n",
      " (0.625, 8),\n",
      " (0.0, 9),\n",
      " (0.125, 8),\n",
      " (0.0, 6),\n",
      " (0.0, 13),\n",
      " (0.1111111111111111, 9),\n",
      " (0.2, 10),\n",
      " (0.2222222222222222, 9),\n",
      " (0.6, 10),\n",
      " (0.4, 10),\n",
      " (0.2857142857142857, 7),\n",
      " (0.3333333333333333, 9),\n",
      " (0.5, 8),\n",
      " (0.16666666666666666, 6),\n",
      " (0.6363636363636364, 11),\n",
      " (0.6, 15),\n",
      " (0.7142857142857143, 7),\n",
      " (0.3, 10),\n",
      " (0.25, 8),\n",
      " (0.2857142857142857, 7),\n",
      " (0.3333333333333333, 6),\n",
      " (0.14285714285714285, 7),\n",
      " (0.07692307692307693, 13),\n",
      " (0.0, 7),\n",
      " (0.0, 10),\n",
      " (0.875, 8),\n",
      " (0.8571428571428571, 7),\n",
      " (0.8, 10),\n",
      " (0.625, 8),\n",
      " (0.75, 12),\n",
      " (0.8571428571428571, 7),\n",
      " (0.75, 8),\n",
      " (0.7, 10),\n",
      " (0.875, 8),\n",
      " (0.9, 10),\n",
      " (0.8333333333333334, 6),\n",
      " (0.8, 5),\n",
      " (0.6, 10),\n",
      " (0.875, 8),\n",
      " (0.7857142857142857, 14),\n",
      " (0.45454545454545453, 11),\n",
      " (0.375, 16),\n",
      " (0.75, 4),\n",
      " (0.5714285714285714, 7),\n",
      " (0.2857142857142857, 7),\n",
      " (0.375, 8),\n",
      " (0.2222222222222222, 9),\n",
      " (0.125, 8),\n",
      " (0.5714285714285714, 7),\n",
      " (0.7142857142857143, 7),\n",
      " (0.375, 8),\n",
      " (0.6, 10),\n",
      " (0.5714285714285714, 7),\n",
      " (0.07692307692307693, 13),\n",
      " (0.0, 9),\n",
      " (0.3, 10),\n",
      " (0.0, 10),\n",
      " (0.125, 8),\n",
      " (0.125, 8),\n",
      " (0.5555555555555556, 9),\n",
      " (0.375, 8),\n",
      " (0.0, 7),\n",
      " (0.45454545454545453, 11),\n",
      " (0.5555555555555556, 9),\n",
      " (0.0, 8),\n",
      " (0.0, 9),\n",
      " (0.5555555555555556, 9),\n",
      " (0.5833333333333334, 12),\n",
      " (0.25, 8),\n",
      " (0.2, 5),\n",
      " (0.5833333333333334, 12),\n",
      " (1.0, 11),\n",
      " (1.0, 6),\n",
      " (0.5714285714285714, 7),\n",
      " (0.875, 8),\n",
      " (0.7777777777777778, 9),\n",
      " (0.8, 10),\n",
      " (0.6666666666666666, 6),\n",
      " (1.0, 10),\n",
      " (0.625, 8),\n",
      " (0.75, 8),\n",
      " (0.7857142857142857, 14),\n",
      " (0.75, 8),\n",
      " (0.7777777777777778, 9),\n",
      " (0.8, 5),\n",
      " (0.6666666666666666, 12),\n",
      " (0.21428571428571427, 14),\n",
      " (0.5714285714285714, 7),\n",
      " (0.5714285714285714, 7),\n",
      " (0.6923076923076923, 13),\n",
      " (0.8571428571428571, 7),\n",
      " (0.8, 10),\n",
      " (0.875, 8),\n",
      " (0.5, 8),\n",
      " (0.8, 10),\n",
      " (0.7, 10),\n",
      " (0.2, 5),\n",
      " (1.0, 4),\n",
      " (0.7272727272727273, 11),\n",
      " (0.8, 5),\n",
      " (0.75, 8),\n",
      " (0.625, 16),\n",
      " (0.2222222222222222, 9),\n",
      " (0.5454545454545454, 11),\n",
      " (0.6666666666666666, 9),\n",
      " (0.7272727272727273, 11),\n",
      " (0.6666666666666666, 9),\n",
      " (0.625, 8),\n",
      " (0.6, 5),\n",
      " (0.375, 8),\n",
      " (0.8, 10),\n",
      " (0.5, 2),\n",
      " (0.75, 8),\n",
      " (0.6666666666666666, 6),\n",
      " (0.5454545454545454, 11),\n",
      " (0.2222222222222222, 9),\n",
      " (0.5555555555555556, 9),\n",
      " (0.75, 8),\n",
      " (0.6153846153846154, 13),\n",
      " (0.3333333333333333, 6),\n",
      " (0.14285714285714285, 7),\n",
      " (0.1111111111111111, 9),\n",
      " (0.3333333333333333, 6),\n",
      " (0.3333333333333333, 9),\n",
      " (0.2727272727272727, 11),\n",
      " (0.6, 5),\n",
      " (0.6666666666666666, 3),\n",
      " (0.5833333333333334, 12),\n",
      " (0.7272727272727273, 11),\n",
      " (0.07692307692307693, 13),\n",
      " (0.8333333333333334, 6),\n",
      " (0.75, 8),\n",
      " (0.2857142857142857, 7),\n",
      " (0.8571428571428571, 7),\n",
      " (0.45454545454545453, 11),\n",
      " (0.5714285714285714, 7),\n",
      " (1.0, 8),\n",
      " (1.0, 9),\n",
      " (0.6363636363636364, 11),\n",
      " (0.25, 4),\n",
      " (0.6666666666666666, 6),\n",
      " (0.7777777777777778, 9),\n",
      " (0.8571428571428571, 14),\n",
      " (0.7, 10),\n",
      " (0.9285714285714286, 14),\n",
      " (0.0, 2),\n",
      " (0.18181818181818182, 11),\n",
      " (0.2857142857142857, 7),\n",
      " (0.2727272727272727, 11),\n",
      " (0.14285714285714285, 7),\n",
      " (0.14285714285714285, 7),\n",
      " (0.16666666666666666, 6),\n",
      " (0.7777777777777778, 9),\n",
      " (0.0, 9),\n",
      " (0.1, 10),\n",
      " (0.5, 10),\n",
      " (0.0, 10),\n",
      " (0.0, 12),\n",
      " (0.14285714285714285, 14),\n",
      " (0.3333333333333333, 6)]\n",
      "None\n"
     ]
    }
   ],
   "source": [
    "print(pprint([i for i in zip(predict_AE_prob_list, num_list)]))"
   ]
  },
  {
   "cell_type": "code",
   "execution_count": 22,
   "id": "f59ea24f3de8709c",
   "metadata": {
    "collapsed": false,
    "ExecuteTime": {
     "end_time": "2023-11-20T12:42:40.168114300Z",
     "start_time": "2023-11-20T12:42:40.153218800Z"
    }
   },
   "outputs": [
    {
     "data": {
      "text/plain": "0.8933333333333333"
     },
     "execution_count": 22,
     "metadata": {},
     "output_type": "execute_result"
    }
   ],
   "source": [
    "roc_auc_score(answer_list, predict_AE_prob_list)"
   ]
  },
  {
   "cell_type": "code",
   "execution_count": 23,
   "id": "8d1b7ab001af4e0e",
   "metadata": {
    "collapsed": false,
    "ExecuteTime": {
     "end_time": "2023-11-20T12:42:42.077037900Z",
     "start_time": "2023-11-20T12:42:42.057198100Z"
    }
   },
   "outputs": [
    {
     "data": {
      "text/plain": "0.8933333333333333"
     },
     "execution_count": 23,
     "metadata": {},
     "output_type": "execute_result"
    }
   ],
   "source": [
    "fpr, tpr, thresholds = roc_curve(answer_list, predict_AE_prob_list, pos_label=1)\n",
    "auc(fpr, tpr)"
   ]
  },
  {
   "cell_type": "code",
   "execution_count": 27,
   "id": "a282f22d51b68256",
   "metadata": {
    "collapsed": false,
    "ExecuteTime": {
     "end_time": "2023-11-20T12:42:55.919462400Z",
     "start_time": "2023-11-20T12:42:55.905532900Z"
    }
   },
   "outputs": [],
   "source": [
    "mask = predict_AE_prob_list < 0.5"
   ]
  },
  {
   "cell_type": "code",
   "execution_count": 28,
   "id": "bcd2bcba6210b751",
   "metadata": {
    "collapsed": false,
    "ExecuteTime": {
     "end_time": "2023-11-20T12:43:01.170017200Z",
     "start_time": "2023-11-20T12:43:01.139076300Z"
    }
   },
   "outputs": [
    {
     "name": "stdout",
     "output_type": "stream",
     "text": [
      "[0. 1. 0. 0. 0. 0. 0. 0. 0. 0. 1. 0. 1. 1. 0. 0. 0. 0. 1. 0. 0. 0. 0. 0.\n",
      " 0. 0. 0. 0. 0. 0. 1. 1. 1. 1. 1. 1. 1. 0. 1. 1. 0. 0. 1. 1. 1. 1. 1. 1.\n",
      " 1. 1. 1. 1. 1. 1. 1. 1. 1. 1. 1. 1. 1. 1. 1. 0. 0. 1. 0. 0. 0. 0. 0. 0.\n",
      " 0. 1. 0. 1. 0. 0. 0. 0. 0. 0. 0. 0. 1. 0. 1. 0. 0. 1. 1. 1. 0. 1. 1. 0.\n",
      " 1. 1. 1. 0. 1. 1. 1. 1. 1. 0. 0. 0. 0. 0. 1. 0. 0. 0. 0. 0. 0. 0. 0. 0.\n",
      " 0. 0. 0. 1. 0. 0. 0. 0. 1. 0. 0. 0. 1. 1. 0. 0. 0. 0. 0. 0. 0. 0. 0. 0.\n",
      " 1. 1. 0. 0. 0. 0. 1. 1. 1. 0. 0. 0. 1. 0. 0. 1. 0. 0. 0. 1. 0. 1. 1. 1.\n",
      " 1. 1. 1. 0. 1. 1. 1. 1. 1. 1. 1. 1. 1. 1. 1. 1. 1. 1. 1. 1. 1. 1. 1. 1.\n",
      " 1. 1. 1. 1. 0. 1. 1. 0. 1. 1. 1. 1. 1. 1. 1. 1. 1. 1. 0. 0. 0. 0. 1. 1.\n",
      " 0. 1. 1. 0. 0. 0. 0. 0. 0. 1. 1. 1. 1. 1. 1. 1. 1. 1. 1. 1. 1. 1. 1. 1.\n",
      " 1. 1. 0. 1. 0. 1. 1. 1. 1. 0. 1. 1. 1. 1. 1. 1. 1. 1. 1. 1. 1. 0. 1. 1.\n",
      " 1. 0. 1. 1. 1. 1. 1. 1. 1. 1. 0. 0. 0. 0. 0. 1. 0. 1. 1. 1. 1. 1. 0. 1.\n",
      " 0. 0. 1. 0. 0. 0. 0. 0. 0. 0. 1. 0. 0. 0. 1. 0. 1. 1. 1. 0. 0. 0. 0. 0.\n",
      " 0. 0. 0. 1. 1. 1. 1. 1. 1. 1. 1. 1. 1. 1. 1. 1. 1. 1. 0. 0. 1. 1. 0. 0.\n",
      " 0. 0. 1. 1. 0. 1. 1. 0. 0. 0. 0. 0. 0. 1. 0. 0. 0. 1. 0. 0. 1. 1. 0. 0.\n",
      " 1. 1. 1. 1. 1. 1. 1. 1. 1. 1. 1. 1. 1. 1. 1. 1. 0. 1. 1. 1. 1. 1. 1. 1.\n",
      " 1. 1. 0. 1. 1. 1. 1. 1. 0. 1. 1. 1. 1. 1. 1. 0. 1. 1. 1. 1. 1. 0. 1. 1.\n",
      " 1. 0. 0. 0. 0. 0. 0. 1. 1. 1. 1. 0. 1. 1. 0. 1. 0. 1. 1. 1. 1. 0. 1. 1.\n",
      " 1. 1. 1. 0. 0. 0. 0. 0. 0. 0. 1. 0. 0. 1. 0. 0. 0. 0.] [ True False  True  True  True  True  True  True  True  True False  True\n",
      " False False  True  True  True  True False  True  True  True  True  True\n",
      "  True  True  True  True  True  True False False False False False False\n",
      " False  True False False  True  True False False False False False False\n",
      " False False False False False False False False False False False False\n",
      " False False False  True  True False  True  True  True  True  True  True\n",
      "  True False  True False  True  True  True  True  True  True  True  True\n",
      " False  True False  True  True False False False  True False False  True\n",
      " False False False  True False False False False False  True  True  True\n",
      "  True  True False  True  True  True  True  True  True  True  True  True\n",
      "  True  True  True False  True  True  True  True False  True  True  True\n",
      " False False  True  True  True  True  True  True  True  True  True  True\n",
      " False False  True  True  True  True False False False  True  True  True\n",
      " False  True  True False  True  True  True False  True False False False\n",
      " False False False  True False False False False False False False False\n",
      " False False False False False False False False False False False False\n",
      " False False False False  True False False  True False False False False\n",
      " False False False False False False  True  True  True  True False False\n",
      "  True False False  True  True  True  True  True  True False False False\n",
      " False False False False False False False False False False False False\n",
      " False False  True False  True False False False False  True False False\n",
      " False False False False False False False False False  True False False\n",
      " False  True False False False False False False False False  True  True\n",
      "  True  True  True False  True False False False False False  True False\n",
      "  True  True False  True  True  True  True  True  True  True False  True\n",
      "  True  True False  True False False False  True  True  True  True  True\n",
      "  True  True  True False False False False False False False False False\n",
      " False False False False False False  True  True False False  True  True\n",
      "  True  True False False  True False False  True  True  True  True  True\n",
      "  True False  True  True  True False  True  True False False  True  True\n",
      " False False False False False False False False False False False False\n",
      " False False False False  True False False False False False False False\n",
      " False False  True False False False False False  True False False False\n",
      " False False False  True False False False False False  True False False\n",
      " False  True  True  True  True  True  True False False False False  True\n",
      " False False  True False  True False False False False  True False False\n",
      " False False False  True  True  True  True  True  True  True False  True\n",
      "  True False  True  True  True  True]\n"
     ]
    }
   ],
   "source": [
    "predict_result = np.ones(450)\n",
    "predict_result[mask] = 0\n",
    "print(predict_result, mask)"
   ]
  },
  {
   "cell_type": "code",
   "execution_count": 29,
   "id": "5b6777fd8a167cc9",
   "metadata": {
    "collapsed": false,
    "ExecuteTime": {
     "end_time": "2023-11-20T12:43:02.016688600Z",
     "start_time": "2023-11-20T12:43:01.996474Z"
    }
   },
   "outputs": [
    {
     "data": {
      "text/plain": "0.8111111111111111"
     },
     "execution_count": 29,
     "metadata": {},
     "output_type": "execute_result"
    }
   ],
   "source": [
    "accuracy_score(answer_list, predict_result)"
   ]
  },
  {
   "cell_type": "code",
   "execution_count": 12,
   "id": "eef522dc976ab72c",
   "metadata": {
    "collapsed": false
   },
   "outputs": [],
   "source": [
    "# df = pd.DataFrame(columns=['Label', 'Pred'])\n",
    "# df['Label'] = answer_list\n",
    "# df['Pred'] = predict_AE_prob_list\n",
    "# df.to_csv('./resources/graphpad/inves_prob_2022_all.csv', index=False)"
   ]
  },
  {
   "cell_type": "code",
   "execution_count": null,
   "id": "a3fc3f2162d54e0f",
   "metadata": {
    "collapsed": false
   },
   "outputs": [],
   "source": []
  }
 ],
 "metadata": {
  "kernelspec": {
   "display_name": "Python 3 (ipykernel)",
   "language": "python",
   "name": "python3"
  },
  "language_info": {
   "codemirror_mode": {
    "name": "ipython",
    "version": 3
   },
   "file_extension": ".py",
   "mimetype": "text/x-python",
   "name": "python",
   "nbconvert_exporter": "python",
   "pygments_lexer": "ipython3",
   "version": "3.9.10"
  }
 },
 "nbformat": 4,
 "nbformat_minor": 5
}
