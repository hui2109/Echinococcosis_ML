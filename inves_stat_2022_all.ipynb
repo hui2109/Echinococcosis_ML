{
 "cells": [
  {
   "cell_type": "code",
   "execution_count": 8,
   "id": "initial_id",
   "metadata": {
    "collapsed": true,
    "ExecuteTime": {
     "end_time": "2023-09-22T05:02:28.584248Z",
     "start_time": "2023-09-22T05:02:27.255197Z"
    }
   },
   "outputs": [],
   "source": [
    "import matplotlib.pyplot as plt\n",
    "import numpy as np\n",
    "import pandas as pd\n",
    "from sklearn.metrics import roc_auc_score"
   ]
  },
  {
   "cell_type": "code",
   "execution_count": 12,
   "outputs": [],
   "source": [
    "source_df = pd.read_excel('./resources/source_data/2022_inves.xlsx')\n",
    "source_df.to_pickle('./resources/temp_file/2022_inves.pkl')"
   ],
   "metadata": {
    "collapsed": false,
    "ExecuteTime": {
     "end_time": "2023-09-22T05:16:56.244916Z",
     "start_time": "2023-09-22T05:16:55.400065Z"
    }
   },
   "id": "793865cee756b875"
  },
  {
   "cell_type": "code",
   "execution_count": 9,
   "outputs": [
    {
     "data": {
      "text/plain": "     1、请选择肝包虫类型：（）？  2、请选择肝包虫类型：（）？  3、请选择肝包虫类型：（）？  4、请选择肝包虫类型：（）？  \\\n0                -3              -3              -3              -3   \n1                -3              -3              -3              -3   \n2                -3              -3              -3              -3   \n3                -3              -3              -3              -3   \n4                -3              -3              -3              -3   \n..              ...             ...             ...             ...   \n126              -3              -3              -3              -3   \n127              -3              -3              -3              -3   \n128              -3              -3              -3              -3   \n129               1              -3              -3              -3   \n130              -3              -3              -3              -3   \n\n     5、请选择肝包虫类型：（）？  6、请选择肝包虫类型：（）？  7、请选择肝包虫类型：（）？  8、请选择肝包虫类型：（）？  \\\n0                -3              -3              -3              -3   \n1                -3              -3               1              -3   \n2                -3              -3              -3              -3   \n3                -3              -3              -3              -3   \n4                -3              -3              -3               1   \n..              ...             ...             ...             ...   \n126              -3              -3               1              -3   \n127               1              -3              -3              -3   \n128              -3               1              -3              -3   \n129              -3              -3              -3              -3   \n130              -3              -3              -3               1   \n\n     9、请选择肝包虫类型：（）？  10、请选择肝包虫类型：（）？  ...  441、请选择肝包虫类型：（）？  442、请选择肝包虫类型：（）？  \\\n0                -3               -3  ...                -3                -3   \n1                -3               -3  ...                -3                -3   \n2                -3               -3  ...                -3                -3   \n3                -3               -3  ...                -3                -3   \n4                -3               -3  ...                -3                -3   \n..              ...              ...  ...               ...               ...   \n126              -3               -3  ...                 1                -3   \n127              -3               -3  ...                -3                -3   \n128              -3               -3  ...                -3                 1   \n129              -3               -3  ...                -3                -3   \n130              -3               -3  ...                -3                -3   \n\n     443、请选择肝包虫类型：（）？  444、请选择肝包虫类型：（）？  445、请选择肝包虫类型：（）？  446、请选择肝包虫类型：（）？  \\\n0                  -3                -3                -3                -3   \n1                  -3                 1                -3                -3   \n2                   1                -3                -3                -3   \n3                  -3                -3                -3                -3   \n4                   1                -3                -3                -3   \n..                ...               ...               ...               ...   \n126                -3                -3                -3                -3   \n127                 2                -3                -3                -3   \n128                -3                -3                -3                -3   \n129                -3                -3                -3                -3   \n130                -3                -3                -3                -3   \n\n     447、请选择肝包虫类型：（）？  448、请选择肝包虫类型：（）？  449、请选择肝包虫类型：（）？  450、请选择肝包虫类型：（）？  \n0                  -3                 1                -3                -3  \n1                  -3                -3                -3                -3  \n2                  -3                -3                -3                -3  \n3                  -3                -3                -3                -3  \n4                  -3                -3                -3                -3  \n..                ...               ...               ...               ...  \n126                -3                -3                -3                -3  \n127                -3                -3                -3                -3  \n128                -3                -3                -3                -3  \n129                -3                -3                -3                -3  \n130                -3                 1                -3                -3  \n\n[131 rows x 450 columns]",
      "text/html": "<div>\n<style scoped>\n    .dataframe tbody tr th:only-of-type {\n        vertical-align: middle;\n    }\n\n    .dataframe tbody tr th {\n        vertical-align: top;\n    }\n\n    .dataframe thead th {\n        text-align: right;\n    }\n</style>\n<table border=\"1\" class=\"dataframe\">\n  <thead>\n    <tr style=\"text-align: right;\">\n      <th></th>\n      <th>1、请选择肝包虫类型：（）？</th>\n      <th>2、请选择肝包虫类型：（）？</th>\n      <th>3、请选择肝包虫类型：（）？</th>\n      <th>4、请选择肝包虫类型：（）？</th>\n      <th>5、请选择肝包虫类型：（）？</th>\n      <th>6、请选择肝包虫类型：（）？</th>\n      <th>7、请选择肝包虫类型：（）？</th>\n      <th>8、请选择肝包虫类型：（）？</th>\n      <th>9、请选择肝包虫类型：（）？</th>\n      <th>10、请选择肝包虫类型：（）？</th>\n      <th>...</th>\n      <th>441、请选择肝包虫类型：（）？</th>\n      <th>442、请选择肝包虫类型：（）？</th>\n      <th>443、请选择肝包虫类型：（）？</th>\n      <th>444、请选择肝包虫类型：（）？</th>\n      <th>445、请选择肝包虫类型：（）？</th>\n      <th>446、请选择肝包虫类型：（）？</th>\n      <th>447、请选择肝包虫类型：（）？</th>\n      <th>448、请选择肝包虫类型：（）？</th>\n      <th>449、请选择肝包虫类型：（）？</th>\n      <th>450、请选择肝包虫类型：（）？</th>\n    </tr>\n  </thead>\n  <tbody>\n    <tr>\n      <th>0</th>\n      <td>-3</td>\n      <td>-3</td>\n      <td>-3</td>\n      <td>-3</td>\n      <td>-3</td>\n      <td>-3</td>\n      <td>-3</td>\n      <td>-3</td>\n      <td>-3</td>\n      <td>-3</td>\n      <td>...</td>\n      <td>-3</td>\n      <td>-3</td>\n      <td>-3</td>\n      <td>-3</td>\n      <td>-3</td>\n      <td>-3</td>\n      <td>-3</td>\n      <td>1</td>\n      <td>-3</td>\n      <td>-3</td>\n    </tr>\n    <tr>\n      <th>1</th>\n      <td>-3</td>\n      <td>-3</td>\n      <td>-3</td>\n      <td>-3</td>\n      <td>-3</td>\n      <td>-3</td>\n      <td>1</td>\n      <td>-3</td>\n      <td>-3</td>\n      <td>-3</td>\n      <td>...</td>\n      <td>-3</td>\n      <td>-3</td>\n      <td>-3</td>\n      <td>1</td>\n      <td>-3</td>\n      <td>-3</td>\n      <td>-3</td>\n      <td>-3</td>\n      <td>-3</td>\n      <td>-3</td>\n    </tr>\n    <tr>\n      <th>2</th>\n      <td>-3</td>\n      <td>-3</td>\n      <td>-3</td>\n      <td>-3</td>\n      <td>-3</td>\n      <td>-3</td>\n      <td>-3</td>\n      <td>-3</td>\n      <td>-3</td>\n      <td>-3</td>\n      <td>...</td>\n      <td>-3</td>\n      <td>-3</td>\n      <td>1</td>\n      <td>-3</td>\n      <td>-3</td>\n      <td>-3</td>\n      <td>-3</td>\n      <td>-3</td>\n      <td>-3</td>\n      <td>-3</td>\n    </tr>\n    <tr>\n      <th>3</th>\n      <td>-3</td>\n      <td>-3</td>\n      <td>-3</td>\n      <td>-3</td>\n      <td>-3</td>\n      <td>-3</td>\n      <td>-3</td>\n      <td>-3</td>\n      <td>-3</td>\n      <td>-3</td>\n      <td>...</td>\n      <td>-3</td>\n      <td>-3</td>\n      <td>-3</td>\n      <td>-3</td>\n      <td>-3</td>\n      <td>-3</td>\n      <td>-3</td>\n      <td>-3</td>\n      <td>-3</td>\n      <td>-3</td>\n    </tr>\n    <tr>\n      <th>4</th>\n      <td>-3</td>\n      <td>-3</td>\n      <td>-3</td>\n      <td>-3</td>\n      <td>-3</td>\n      <td>-3</td>\n      <td>-3</td>\n      <td>1</td>\n      <td>-3</td>\n      <td>-3</td>\n      <td>...</td>\n      <td>-3</td>\n      <td>-3</td>\n      <td>1</td>\n      <td>-3</td>\n      <td>-3</td>\n      <td>-3</td>\n      <td>-3</td>\n      <td>-3</td>\n      <td>-3</td>\n      <td>-3</td>\n    </tr>\n    <tr>\n      <th>...</th>\n      <td>...</td>\n      <td>...</td>\n      <td>...</td>\n      <td>...</td>\n      <td>...</td>\n      <td>...</td>\n      <td>...</td>\n      <td>...</td>\n      <td>...</td>\n      <td>...</td>\n      <td>...</td>\n      <td>...</td>\n      <td>...</td>\n      <td>...</td>\n      <td>...</td>\n      <td>...</td>\n      <td>...</td>\n      <td>...</td>\n      <td>...</td>\n      <td>...</td>\n      <td>...</td>\n    </tr>\n    <tr>\n      <th>126</th>\n      <td>-3</td>\n      <td>-3</td>\n      <td>-3</td>\n      <td>-3</td>\n      <td>-3</td>\n      <td>-3</td>\n      <td>1</td>\n      <td>-3</td>\n      <td>-3</td>\n      <td>-3</td>\n      <td>...</td>\n      <td>1</td>\n      <td>-3</td>\n      <td>-3</td>\n      <td>-3</td>\n      <td>-3</td>\n      <td>-3</td>\n      <td>-3</td>\n      <td>-3</td>\n      <td>-3</td>\n      <td>-3</td>\n    </tr>\n    <tr>\n      <th>127</th>\n      <td>-3</td>\n      <td>-3</td>\n      <td>-3</td>\n      <td>-3</td>\n      <td>1</td>\n      <td>-3</td>\n      <td>-3</td>\n      <td>-3</td>\n      <td>-3</td>\n      <td>-3</td>\n      <td>...</td>\n      <td>-3</td>\n      <td>-3</td>\n      <td>2</td>\n      <td>-3</td>\n      <td>-3</td>\n      <td>-3</td>\n      <td>-3</td>\n      <td>-3</td>\n      <td>-3</td>\n      <td>-3</td>\n    </tr>\n    <tr>\n      <th>128</th>\n      <td>-3</td>\n      <td>-3</td>\n      <td>-3</td>\n      <td>-3</td>\n      <td>-3</td>\n      <td>1</td>\n      <td>-3</td>\n      <td>-3</td>\n      <td>-3</td>\n      <td>-3</td>\n      <td>...</td>\n      <td>-3</td>\n      <td>1</td>\n      <td>-3</td>\n      <td>-3</td>\n      <td>-3</td>\n      <td>-3</td>\n      <td>-3</td>\n      <td>-3</td>\n      <td>-3</td>\n      <td>-3</td>\n    </tr>\n    <tr>\n      <th>129</th>\n      <td>1</td>\n      <td>-3</td>\n      <td>-3</td>\n      <td>-3</td>\n      <td>-3</td>\n      <td>-3</td>\n      <td>-3</td>\n      <td>-3</td>\n      <td>-3</td>\n      <td>-3</td>\n      <td>...</td>\n      <td>-3</td>\n      <td>-3</td>\n      <td>-3</td>\n      <td>-3</td>\n      <td>-3</td>\n      <td>-3</td>\n      <td>-3</td>\n      <td>-3</td>\n      <td>-3</td>\n      <td>-3</td>\n    </tr>\n    <tr>\n      <th>130</th>\n      <td>-3</td>\n      <td>-3</td>\n      <td>-3</td>\n      <td>-3</td>\n      <td>-3</td>\n      <td>-3</td>\n      <td>-3</td>\n      <td>1</td>\n      <td>-3</td>\n      <td>-3</td>\n      <td>...</td>\n      <td>-3</td>\n      <td>-3</td>\n      <td>-3</td>\n      <td>-3</td>\n      <td>-3</td>\n      <td>-3</td>\n      <td>-3</td>\n      <td>1</td>\n      <td>-3</td>\n      <td>-3</td>\n    </tr>\n  </tbody>\n</table>\n<p>131 rows × 450 columns</p>\n</div>"
     },
     "execution_count": 9,
     "metadata": {},
     "output_type": "execute_result"
    }
   ],
   "source": [
    "source_df = pd.read_pickle('./resources/temp_file/2022_inves.pkl').iloc[:, 11:]\n",
    "source_df: pd.DataFrame\n",
    "source_df"
   ],
   "metadata": {
    "collapsed": false,
    "ExecuteTime": {
     "end_time": "2023-09-22T05:16:57.814060Z",
     "start_time": "2023-09-22T05:16:57.788703Z"
    }
   },
   "id": "df3185201f7cc5bf"
  },
  {
   "cell_type": "code",
   "execution_count": 10,
   "outputs": [],
   "source": [
    "# 制作选项答案\n",
    "# 答案为A，索引为0；答案为B，索引为1\n",
    "answer_list = []\n",
    "answer_index = '001100100001110111100100111010'\n",
    "for index in answer_index:\n",
    "    if index == '0':\n",
    "        answer_list += [0] * 15\n",
    "    elif index == '1':\n",
    "        answer_list += [1] * 15"
   ],
   "metadata": {
    "collapsed": false,
    "ExecuteTime": {
     "end_time": "2023-09-22T05:17:08.059195Z",
     "start_time": "2023-09-22T05:17:08.053193Z"
    }
   },
   "id": "f81039f40ac7b148"
  },
  {
   "cell_type": "code",
   "execution_count": 11,
   "outputs": [],
   "source": [
    "# 查看每道题有多少人做\n",
    "num_list = []\n",
    "for i in range(450):\n",
    "    num = np.sum(~(source_df.iloc[:, i] == -3))\n",
    "    num_list.append(num)\n",
    "num_list = np.array(num_list)"
   ],
   "metadata": {
    "collapsed": false,
    "ExecuteTime": {
     "end_time": "2023-09-22T05:17:08.677456Z",
     "start_time": "2023-09-22T05:17:08.590123Z"
    }
   },
   "id": "149f8c67675ab12d"
  },
  {
   "cell_type": "code",
   "execution_count": 12,
   "outputs": [
    {
     "data": {
      "text/plain": "(18, 1, 8.733333333333333)"
     },
     "execution_count": 12,
     "metadata": {},
     "output_type": "execute_result"
    }
   ],
   "source": [
    "np.max(num_list), np.min(num_list), np.mean(num_list)"
   ],
   "metadata": {
    "collapsed": false,
    "ExecuteTime": {
     "end_time": "2023-09-22T05:17:09.230754Z",
     "start_time": "2023-09-22T05:17:09.224822Z"
    }
   },
   "id": "7e302681d108e8f8"
  },
  {
   "cell_type": "code",
   "execution_count": 13,
   "outputs": [
    {
     "data": {
      "text/plain": "0"
     },
     "execution_count": 13,
     "metadata": {},
     "output_type": "execute_result"
    }
   ],
   "source": [
    "# 查看是否有题没有人做\n",
    "np.sum(num_list == 0)"
   ],
   "metadata": {
    "collapsed": false,
    "ExecuteTime": {
     "end_time": "2023-09-22T05:17:09.716161Z",
     "start_time": "2023-09-22T05:17:09.711422Z"
    }
   },
   "id": "ca345184d73f70fb"
  },
  {
   "cell_type": "code",
   "execution_count": 14,
   "outputs": [
    {
     "data": {
      "text/plain": "<Figure size 640x480 with 1 Axes>",
      "image/png": "[encoded data removed]"
     },
     "metadata": {},
     "output_type": "display_data"
    }
   ],
   "source": [
    "# 对应每一个人数，分别有多少道题被做\n",
    "fig, ax = plt.subplots()\n",
    "ax.set_xlim(1, 19)\n",
    "ax.xaxis.set_major_locator(plt.MultipleLocator(1))\n",
    "for i in range(1, 19):\n",
    "    i_th_num = np.sum(num_list == i)\n",
    "    ax.bar(i, i_th_num)"
   ],
   "metadata": {
    "collapsed": false,
    "ExecuteTime": {
     "end_time": "2023-09-22T05:17:11.237811Z",
     "start_time": "2023-09-22T05:17:11.078839Z"
    }
   },
   "id": "c9692e59d2d8a7a6"
  },
  {
   "cell_type": "code",
   "execution_count": 15,
   "outputs": [],
   "source": [
    "# 计算每道题的概率，即患者有多少可能预测该图是AE\n",
    "# 设概率为预测 AE 的概率\n",
    "predict_AE_prob_list = []\n",
    "for i, num in enumerate(num_list):\n",
    "    predict_AE_num = np.sum(source_df.iloc[:, i] == 2)\n",
    "    predict_AE_prob = predict_AE_num / num\n",
    "    predict_AE_prob_list.append(predict_AE_prob)"
   ],
   "metadata": {
    "collapsed": false,
    "ExecuteTime": {
     "end_time": "2023-09-22T05:17:21.192065Z",
     "start_time": "2023-09-22T05:17:21.143026Z"
    }
   },
   "id": "ed891c41f97db741"
  },
  {
   "cell_type": "code",
   "execution_count": 16,
   "outputs": [
    {
     "data": {
      "text/plain": "(450, 0.2857142857142857, 450)"
     },
     "execution_count": 16,
     "metadata": {},
     "output_type": "execute_result"
    }
   ],
   "source": [
    "len(predict_AE_prob_list), predict_AE_prob_list[0], len(answer_list)"
   ],
   "metadata": {
    "collapsed": false,
    "ExecuteTime": {
     "end_time": "2023-09-22T05:17:21.935107Z",
     "start_time": "2023-09-22T05:17:21.923845Z"
    }
   },
   "id": "17a3e61d2f4bc7ac"
  },
  {
   "cell_type": "code",
   "execution_count": 17,
   "outputs": [
    {
     "data": {
      "text/plain": "0.8933333333333333"
     },
     "execution_count": 17,
     "metadata": {},
     "output_type": "execute_result"
    }
   ],
   "source": [
    "roc_auc_score(answer_list, predict_AE_prob_list)"
   ],
   "metadata": {
    "collapsed": false,
    "ExecuteTime": {
     "end_time": "2023-09-22T05:17:23.502905Z",
     "start_time": "2023-09-22T05:17:23.493418Z"
    }
   },
   "id": "f59ea24f3de8709c"
  },
  {
   "cell_type": "code",
   "execution_count": null,
   "outputs": [],
   "source": [],
   "metadata": {
    "collapsed": false
   },
   "id": "eef522dc976ab72c"
  }
 ],
 "metadata": {
  "kernelspec": {
   "display_name": "Python 3",
   "language": "python",
   "name": "python3"
  },
  "language_info": {
   "codemirror_mode": {
    "name": "ipython",
    "version": 2
   },
   "file_extension": ".py",
   "mimetype": "text/x-python",
   "name": "python",
   "nbconvert_exporter": "python",
   "pygments_lexer": "ipython2",
   "version": "2.7.6"
  }
 },
 "nbformat": 4,
 "nbformat_minor": 5
}
