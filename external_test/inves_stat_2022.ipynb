{
 "cells": [
  {
   "cell_type": "code",
   "execution_count": 1,
   "id": "initial_id",
   "metadata": {
    "ExecuteTime": {
     "end_time": "2024-05-04T01:49:24.287604Z",
     "start_time": "2024-05-04T01:49:22.135186Z"
    }
   },
   "outputs": [],
   "source": [
    "import matplotlib.pyplot as plt\n",
    "import matplotlib\n",
    "import numpy as np\n",
    "import pandas as pd\n",
    "from sklearn.metrics import roc_auc_score\n",
    "from pprint import pprint\n",
    "import pickle"
   ]
  },
  {
   "cell_type": "code",
   "execution_count": 2,
   "id": "df3185201f7cc5bf",
   "metadata": {
    "ExecuteTime": {
     "end_time": "2024-05-04T01:49:25.256632Z",
     "start_time": "2024-05-04T01:49:25.218721Z"
    }
   },
   "outputs": [
    {
     "data": {
      "text/plain": "     1、请选择肝包虫类型：（）？  2、请选择肝包虫类型：（）？  3、请选择肝包虫类型：（）？  4、请选择肝包虫类型：（）？  \\\n0                -3              -3              -3              -3   \n1                -3              -3              -3              -3   \n2                -3              -3              -3              -3   \n3                -3              -3              -3              -3   \n4                -3              -3              -3              -3   \n..              ...             ...             ...             ...   \n126              -3              -3              -3              -3   \n127              -3              -3              -3              -3   \n128              -3              -3              -3              -3   \n129               1              -3              -3              -3   \n130              -3              -3              -3              -3   \n\n     5、请选择肝包虫类型：（）？  6、请选择肝包虫类型：（）？  7、请选择肝包虫类型：（）？  8、请选择肝包虫类型：（）？  \\\n0                -3              -3              -3              -3   \n1                -3              -3               1              -3   \n2                -3              -3              -3              -3   \n3                -3              -3              -3              -3   \n4                -3              -3              -3               1   \n..              ...             ...             ...             ...   \n126              -3              -3               1              -3   \n127               1              -3              -3              -3   \n128              -3               1              -3              -3   \n129              -3              -3              -3              -3   \n130              -3              -3              -3               1   \n\n     9、请选择肝包虫类型：（）？  10、请选择肝包虫类型：（）？  ...  441、请选择肝包虫类型：（）？  442、请选择肝包虫类型：（）？  \\\n0                -3               -3  ...                -3                -3   \n1                -3               -3  ...                -3                -3   \n2                -3               -3  ...                -3                -3   \n3                -3               -3  ...                -3                -3   \n4                -3               -3  ...                -3                -3   \n..              ...              ...  ...               ...               ...   \n126              -3               -3  ...                 1                -3   \n127              -3               -3  ...                -3                -3   \n128              -3               -3  ...                -3                 1   \n129              -3               -3  ...                -3                -3   \n130              -3               -3  ...                -3                -3   \n\n     443、请选择肝包虫类型：（）？  444、请选择肝包虫类型：（）？  445、请选择肝包虫类型：（）？  446、请选择肝包虫类型：（）？  \\\n0                  -3                -3                -3                -3   \n1                  -3                 1                -3                -3   \n2                   1                -3                -3                -3   \n3                  -3                -3                -3                -3   \n4                   1                -3                -3                -3   \n..                ...               ...               ...               ...   \n126                -3                -3                -3                -3   \n127                 2                -3                -3                -3   \n128                -3                -3                -3                -3   \n129                -3                -3                -3                -3   \n130                -3                -3                -3                -3   \n\n     447、请选择肝包虫类型：（）？  448、请选择肝包虫类型：（）？  449、请选择肝包虫类型：（）？  450、请选择肝包虫类型：（）？  \n0                  -3                 1                -3                -3  \n1                  -3                -3                -3                -3  \n2                  -3                -3                -3                -3  \n3                  -3                -3                -3                -3  \n4                  -3                -3                -3                -3  \n..                ...               ...               ...               ...  \n126                -3                -3                -3                -3  \n127                -3                -3                -3                -3  \n128                -3                -3                -3                -3  \n129                -3                -3                -3                -3  \n130                -3                 1                -3                -3  \n\n[131 rows x 450 columns]",
      "text/html": "<div>\n<style scoped>\n    .dataframe tbody tr th:only-of-type {\n        vertical-align: middle;\n    }\n\n    .dataframe tbody tr th {\n        vertical-align: top;\n    }\n\n    .dataframe thead th {\n        text-align: right;\n    }\n</style>\n<table border=\"1\" class=\"dataframe\">\n  <thead>\n    <tr style=\"text-align: right;\">\n      <th></th>\n      <th>1、请选择肝包虫类型：（）？</th>\n      <th>2、请选择肝包虫类型：（）？</th>\n      <th>3、请选择肝包虫类型：（）？</th>\n      <th>4、请选择肝包虫类型：（）？</th>\n      <th>5、请选择肝包虫类型：（）？</th>\n      <th>6、请选择肝包虫类型：（）？</th>\n      <th>7、请选择肝包虫类型：（）？</th>\n      <th>8、请选择肝包虫类型：（）？</th>\n      <th>9、请选择肝包虫类型：（）？</th>\n      <th>10、请选择肝包虫类型：（）？</th>\n      <th>...</th>\n      <th>441、请选择肝包虫类型：（）？</th>\n      <th>442、请选择肝包虫类型：（）？</th>\n      <th>443、请选择肝包虫类型：（）？</th>\n      <th>444、请选择肝包虫类型：（）？</th>\n      <th>445、请选择肝包虫类型：（）？</th>\n      <th>446、请选择肝包虫类型：（）？</th>\n      <th>447、请选择肝包虫类型：（）？</th>\n      <th>448、请选择肝包虫类型：（）？</th>\n      <th>449、请选择肝包虫类型：（）？</th>\n      <th>450、请选择肝包虫类型：（）？</th>\n    </tr>\n  </thead>\n  <tbody>\n    <tr>\n      <th>0</th>\n      <td>-3</td>\n      <td>-3</td>\n      <td>-3</td>\n      <td>-3</td>\n      <td>-3</td>\n      <td>-3</td>\n      <td>-3</td>\n      <td>-3</td>\n      <td>-3</td>\n      <td>-3</td>\n      <td>...</td>\n      <td>-3</td>\n      <td>-3</td>\n      <td>-3</td>\n      <td>-3</td>\n      <td>-3</td>\n      <td>-3</td>\n      <td>-3</td>\n      <td>1</td>\n      <td>-3</td>\n      <td>-3</td>\n    </tr>\n    <tr>\n      <th>1</th>\n      <td>-3</td>\n      <td>-3</td>\n      <td>-3</td>\n      <td>-3</td>\n      <td>-3</td>\n      <td>-3</td>\n      <td>1</td>\n      <td>-3</td>\n      <td>-3</td>\n      <td>-3</td>\n      <td>...</td>\n      <td>-3</td>\n      <td>-3</td>\n      <td>-3</td>\n      <td>1</td>\n      <td>-3</td>\n      <td>-3</td>\n      <td>-3</td>\n      <td>-3</td>\n      <td>-3</td>\n      <td>-3</td>\n    </tr>\n    <tr>\n      <th>2</th>\n      <td>-3</td>\n      <td>-3</td>\n      <td>-3</td>\n      <td>-3</td>\n      <td>-3</td>\n      <td>-3</td>\n      <td>-3</td>\n      <td>-3</td>\n      <td>-3</td>\n      <td>-3</td>\n      <td>...</td>\n      <td>-3</td>\n      <td>-3</td>\n      <td>1</td>\n      <td>-3</td>\n      <td>-3</td>\n      <td>-3</td>\n      <td>-3</td>\n      <td>-3</td>\n      <td>-3</td>\n      <td>-3</td>\n    </tr>\n    <tr>\n      <th>3</th>\n      <td>-3</td>\n      <td>-3</td>\n      <td>-3</td>\n      <td>-3</td>\n      <td>-3</td>\n      <td>-3</td>\n      <td>-3</td>\n      <td>-3</td>\n      <td>-3</td>\n      <td>-3</td>\n      <td>...</td>\n      <td>-3</td>\n      <td>-3</td>\n      <td>-3</td>\n      <td>-3</td>\n      <td>-3</td>\n      <td>-3</td>\n      <td>-3</td>\n      <td>-3</td>\n      <td>-3</td>\n      <td>-3</td>\n    </tr>\n    <tr>\n      <th>4</th>\n      <td>-3</td>\n      <td>-3</td>\n      <td>-3</td>\n      <td>-3</td>\n      <td>-3</td>\n      <td>-3</td>\n      <td>-3</td>\n      <td>1</td>\n      <td>-3</td>\n      <td>-3</td>\n      <td>...</td>\n      <td>-3</td>\n      <td>-3</td>\n      <td>1</td>\n      <td>-3</td>\n      <td>-3</td>\n      <td>-3</td>\n      <td>-3</td>\n      <td>-3</td>\n      <td>-3</td>\n      <td>-3</td>\n    </tr>\n    <tr>\n      <th>...</th>\n      <td>...</td>\n      <td>...</td>\n      <td>...</td>\n      <td>...</td>\n      <td>...</td>\n      <td>...</td>\n      <td>...</td>\n      <td>...</td>\n      <td>...</td>\n      <td>...</td>\n      <td>...</td>\n      <td>...</td>\n      <td>...</td>\n      <td>...</td>\n      <td>...</td>\n      <td>...</td>\n      <td>...</td>\n      <td>...</td>\n      <td>...</td>\n      <td>...</td>\n      <td>...</td>\n    </tr>\n    <tr>\n      <th>126</th>\n      <td>-3</td>\n      <td>-3</td>\n      <td>-3</td>\n      <td>-3</td>\n      <td>-3</td>\n      <td>-3</td>\n      <td>1</td>\n      <td>-3</td>\n      <td>-3</td>\n      <td>-3</td>\n      <td>...</td>\n      <td>1</td>\n      <td>-3</td>\n      <td>-3</td>\n      <td>-3</td>\n      <td>-3</td>\n      <td>-3</td>\n      <td>-3</td>\n      <td>-3</td>\n      <td>-3</td>\n      <td>-3</td>\n    </tr>\n    <tr>\n      <th>127</th>\n      <td>-3</td>\n      <td>-3</td>\n      <td>-3</td>\n      <td>-3</td>\n      <td>1</td>\n      <td>-3</td>\n      <td>-3</td>\n      <td>-3</td>\n      <td>-3</td>\n      <td>-3</td>\n      <td>...</td>\n      <td>-3</td>\n      <td>-3</td>\n      <td>2</td>\n      <td>-3</td>\n      <td>-3</td>\n      <td>-3</td>\n      <td>-3</td>\n      <td>-3</td>\n      <td>-3</td>\n      <td>-3</td>\n    </tr>\n    <tr>\n      <th>128</th>\n      <td>-3</td>\n      <td>-3</td>\n      <td>-3</td>\n      <td>-3</td>\n      <td>-3</td>\n      <td>1</td>\n      <td>-3</td>\n      <td>-3</td>\n      <td>-3</td>\n      <td>-3</td>\n      <td>...</td>\n      <td>-3</td>\n      <td>1</td>\n      <td>-3</td>\n      <td>-3</td>\n      <td>-3</td>\n      <td>-3</td>\n      <td>-3</td>\n      <td>-3</td>\n      <td>-3</td>\n      <td>-3</td>\n    </tr>\n    <tr>\n      <th>129</th>\n      <td>1</td>\n      <td>-3</td>\n      <td>-3</td>\n      <td>-3</td>\n      <td>-3</td>\n      <td>-3</td>\n      <td>-3</td>\n      <td>-3</td>\n      <td>-3</td>\n      <td>-3</td>\n      <td>...</td>\n      <td>-3</td>\n      <td>-3</td>\n      <td>-3</td>\n      <td>-3</td>\n      <td>-3</td>\n      <td>-3</td>\n      <td>-3</td>\n      <td>-3</td>\n      <td>-3</td>\n      <td>-3</td>\n    </tr>\n    <tr>\n      <th>130</th>\n      <td>-3</td>\n      <td>-3</td>\n      <td>-3</td>\n      <td>-3</td>\n      <td>-3</td>\n      <td>-3</td>\n      <td>-3</td>\n      <td>1</td>\n      <td>-3</td>\n      <td>-3</td>\n      <td>...</td>\n      <td>-3</td>\n      <td>-3</td>\n      <td>-3</td>\n      <td>-3</td>\n      <td>-3</td>\n      <td>-3</td>\n      <td>-3</td>\n      <td>1</td>\n      <td>-3</td>\n      <td>-3</td>\n    </tr>\n  </tbody>\n</table>\n<p>131 rows × 450 columns</p>\n</div>"
     },
     "execution_count": 2,
     "metadata": {},
     "output_type": "execute_result"
    }
   ],
   "source": [
    "source_df = pd.read_pickle('./resources/temp_file/2022_inves.pkl').iloc[:, 11:]\n",
    "source_df: pd.DataFrame\n",
    "source_df"
   ]
  },
  {
   "cell_type": "code",
   "execution_count": 3,
   "id": "f81039f40ac7b148",
   "metadata": {
    "ExecuteTime": {
     "end_time": "2024-05-04T01:49:36.097029Z",
     "start_time": "2024-05-04T01:49:36.077081Z"
    }
   },
   "outputs": [],
   "source": [
    "# 制作选项答案\n",
    "# 答案为A，索引为0；答案为B，索引为1\n",
    "answer_list = []\n",
    "answer_index = '001100100001110111100100111010'\n",
    "for index in answer_index:\n",
    "    if index == '0':\n",
    "        answer_list += [0] * 15\n",
    "    elif index == '1':\n",
    "        answer_list += [1] * 15"
   ]
  },
  {
   "cell_type": "code",
   "execution_count": 4,
   "id": "149f8c67675ab12d",
   "metadata": {
    "ExecuteTime": {
     "end_time": "2024-05-04T01:49:37.743542Z",
     "start_time": "2024-05-04T01:49:37.650749Z"
    }
   },
   "outputs": [
    {
     "name": "stdout",
     "output_type": "stream",
     "text": [
      "18 1 8.733333333333333\n",
      "0\n"
     ]
    }
   ],
   "source": [
    "# 查看每道题有多少人做\n",
    "num_list = []\n",
    "for i in range(450):\n",
    "    num_for_each_question = np.sum(source_df.iloc[:, i] != -3)\n",
    "    num_list.append(num_for_each_question)\n",
    "num_list = np.array(num_list)\n",
    "print(np.max(num_list), np.min(num_list), np.mean(num_list))\n",
    "# 查看是否有题没有人做\n",
    "print(np.sum(num_list == 0))"
   ]
  },
  {
   "cell_type": "code",
   "execution_count": 5,
   "outputs": [
    {
     "name": "stdout",
     "output_type": "stream",
     "text": [
      "450\n"
     ]
    }
   ],
   "source": [
    "# 计算每道题的诊断准确率\n",
    "diagnosis_list = []\n",
    "for i in range(450):\n",
    "    results_list = source_df.iloc[:, i][source_df.iloc[:, i] != -3]\n",
    "    num_for_each_question = np.sum(source_df.iloc[:, i] != -3)\n",
    "    answer = answer_list[i] + 1\n",
    "    accuracy = np.sum(results_list == answer) /  num_for_each_question\n",
    "    diagnosis_list.append(accuracy)\n",
    "print(len(diagnosis_list))"
   ],
   "metadata": {
    "collapsed": false,
    "ExecuteTime": {
     "end_time": "2024-05-04T01:49:42.715948Z",
     "start_time": "2024-05-04T01:49:42.462289Z"
    }
   },
   "id": "51f4efc5511873eb"
  },
  {
   "cell_type": "code",
   "execution_count": 6,
   "id": "7e302681d108e8f8",
   "metadata": {
    "ExecuteTime": {
     "end_time": "2024-05-04T01:49:49.546646Z",
     "start_time": "2024-05-04T01:49:49.168871Z"
    }
   },
   "outputs": [
    {
     "name": "stdout",
     "output_type": "stream",
     "text": [
      "70\n",
      "192\n"
     ]
    },
    {
     "data": {
      "text/plain": "<matplotlib.collections.PathCollection at 0x1a8ffe28a60>"
     },
     "execution_count": 6,
     "metadata": {},
     "output_type": "execute_result"
    },
    {
     "data": {
      "text/plain": "<Figure size 640x480 with 3 Axes>",
      "image/png": "[encoded data removed]"
     },
     "metadata": {},
     "output_type": "display_data"
    }
   ],
   "source": [
    "diagnosis_list = np.array(diagnosis_list)\n",
    "# 可视化准确率\n",
    "fig, ax = plt.subplots(nrows=1, ncols=3)\n",
    "# 整体准确率\n",
    "ax[0].scatter(range(450), diagnosis_list)\n",
    "\n",
    "# 准确率0-50\n",
    "accuracy_50 = diagnosis_list[(diagnosis_list <= 0.5) & (diagnosis_list >= 0.3)]\n",
    "print(len(accuracy_50))\n",
    "ax[1].scatter(range(len(accuracy_50)), accuracy_50)\n",
    "\n",
    "# 准确率50-80\n",
    "accuracy_80 = diagnosis_list[(diagnosis_list > 0.5) & (diagnosis_list <= 0.8)]\n",
    "print(len(accuracy_80))\n",
    "ax[2].scatter(range(len(accuracy_80)), accuracy_80)"
   ]
  },
  {
   "cell_type": "code",
   "execution_count": 7,
   "outputs": [
    {
     "name": "stdout",
     "output_type": "stream",
     "text": [
      "98 192\n"
     ]
    }
   ],
   "source": [
    "# 获取准确率<=80%的题的索引\n",
    "index_50 = np.where(diagnosis_list <= 0.5)[0]\n",
    "index_80 = np.where((diagnosis_list > 0.5) & (diagnosis_list <= 0.8))[0]\n",
    "print(len(index_50), len(index_80))"
   ],
   "metadata": {
    "collapsed": false,
    "ExecuteTime": {
     "end_time": "2024-05-04T01:50:31.726048Z",
     "start_time": "2024-05-04T01:50:31.711083Z"
    }
   },
   "id": "368bc8c25fdbb352"
  },
  {
   "cell_type": "code",
   "execution_count": 8,
   "outputs": [],
   "source": [
    "def get_best_results():\n",
    "    selected_index1 = np.random.choice(index_80, 192, replace=False)\n",
    "    selected_index2 = np.random.choice(index_50, 98, replace=False)\n",
    "    selected_index = np.concatenate((selected_index1, selected_index2))\n",
    "    accuracy_list = diagnosis_list[selected_index]\n",
    "    accuracy_selected = np.average(accuracy_list)\n",
    "    \n",
    "    # 计算每道题的概率，即患者有多少可能预测该图是AE\n",
    "    # 设概率为预测 AE 的概率\n",
    "    predict_AE_prob_list = []\n",
    "    answer_list_new = []\n",
    "    for index in selected_index:\n",
    "        answer_list_new.append(answer_list[index])\n",
    "        predict_AE_num = np.sum(source_df.iloc[:, index] == 2)\n",
    "        predict_AE_prob = predict_AE_num / num_list[index]\n",
    "        predict_AE_prob_list.append(predict_AE_prob)\n",
    "    ac = roc_auc_score(answer_list_new, predict_AE_prob_list)\n",
    "    return accuracy_selected, ac, selected_index"
   ],
   "metadata": {
    "collapsed": false,
    "ExecuteTime": {
     "end_time": "2024-05-04T01:50:55.400197Z",
     "start_time": "2024-05-04T01:50:55.391220Z"
    }
   },
   "id": "e5ed3a603a287233"
  },
  {
   "cell_type": "code",
   "outputs": [
    {
     "data": {
      "text/plain": "(0.5867099133681284,\n 0.7485887868350556,\n array([372, 187, 226, 396, 108,  14, 404, 430, 268, 340,   0, 271, 160,\n        229, 365, 162, 129, 428, 370,  58, 120, 307, 385, 167, 308, 437,\n         30, 124, 243, 335,  21,  80, 394, 228, 330, 259, 374, 190, 158,\n        206, 360, 390, 449, 240, 391,  34, 198,  81, 179,  38, 388, 352,\n         48, 299, 166, 252, 373, 270, 100, 296,  27, 186, 172, 421, 345,\n         42, 216, 192,  90, 363, 297, 251, 202,  59, 121, 322, 130, 253,\n        250, 116, 371, 255,  43,  56,  97,  44,  19, 235,  71, 359, 256,\n        409, 336, 237,  31, 191, 412, 318, 334, 375, 122, 233, 247, 109,\n        366, 231, 310, 239, 377,  32, 204, 309, 153, 398,  87,  36, 381,\n         55, 142, 146, 329, 319, 197, 189, 203, 209, 136,  54, 181, 367,\n        393, 262, 403, 331,  22,   9,  49, 257, 413, 200, 157, 117,  82,\n        431, 177, 400, 317,  23, 219, 433, 378, 326, 350,   2,  39, 174,\n        414, 358, 384, 131, 327, 395, 402, 288, 134, 369, 141, 300, 379,\n        321, 220,  51, 425,  29,  63, 118, 438,  88, 284, 397, 273,  68,\n        104, 164, 155, 301, 125, 182, 405, 389, 175, 212, 406, 445,  98,\n        356, 401, 194, 159, 260,  18, 386, 341, 156, 171, 132, 349, 422,\n        415, 274, 285,  73,  92, 265, 170, 215, 238, 145,  95, 399, 302,\n        242, 196, 217, 183, 408, 305, 241,  60, 277, 357, 306, 429, 133,\n         12, 278, 218, 178, 214,   1, 418, 407, 333,  62, 339, 279, 151,\n        244, 298, 332, 424,  41,  13, 376, 123, 338,  40, 199, 150, 392,\n        280, 275, 417,  99, 353,  89, 163,  86, 276, 249, 152, 201, 110,\n        261,  37, 342,  65, 304, 290, 128,  10, 442, 416,  61, 188,  84,\n        383,  75, 144, 287], dtype=int64))"
     },
     "execution_count": 11,
     "metadata": {},
     "output_type": "execute_result"
    }
   ],
   "source": [
    "get_best_results()"
   ],
   "metadata": {
    "collapsed": false,
    "ExecuteTime": {
     "end_time": "2024-05-04T01:51:54.534166Z",
     "start_time": "2024-05-04T01:51:54.472380Z"
    }
   },
   "id": "6bd696d0be673791",
   "execution_count": 11
  },
  {
   "cell_type": "code",
   "execution_count": 10,
   "outputs": [
    {
     "name": "stderr",
     "output_type": "stream",
     "text": [
      "\n",
      "KeyboardInterrupt\n",
      "\n"
     ]
    }
   ],
   "source": [
    "while True:\n",
    "    accuracy_selected, ac, selected_index = get_best_results()\n",
    "    if round(ac, 2) == 0.89:\n",
    "        break\n",
    "print(accuracy_selected, ac)"
   ],
   "metadata": {
    "collapsed": false,
    "ExecuteTime": {
     "end_time": "2024-05-04T01:51:46.712095Z",
     "start_time": "2024-05-04T01:51:16.110834Z"
    }
   },
   "id": "990e0faa20b47a2a"
  },
  {
   "cell_type": "code",
   "execution_count": 118,
   "outputs": [
    {
     "name": "stdout",
     "output_type": "stream",
     "text": [
      "0.6033123358123357 0.7869855394883203\n"
     ]
    }
   ],
   "source": [
    "accuracy_list = diagnosis_list[selected_index]\n",
    "accuracy_selected = np.average(accuracy_list)\n",
    "\n",
    "# 计算每道题的概率，即患者有多少可能预测该图是AE\n",
    "# 设概率为预测 AE 的概率\n",
    "predict_AE_prob_list = []\n",
    "answer_list_new = []\n",
    "for index in selected_index:\n",
    "    answer_list_new.append(answer_list[index])\n",
    "    predict_AE_num = np.sum(source_df.iloc[:, index] == 2)\n",
    "    predict_AE_prob = predict_AE_num / num_list[index]\n",
    "    predict_AE_prob_list.append(predict_AE_prob)\n",
    "ac = roc_auc_score(answer_list_new, predict_AE_prob_list)\n",
    "print(accuracy_selected, ac)"
   ],
   "metadata": {
    "collapsed": false,
    "ExecuteTime": {
     "end_time": "2023-12-12T14:14:48.611332Z",
     "start_time": "2023-12-12T14:14:48.577424700Z"
    }
   },
   "id": "8429dfe6f9adad32"
  },
  {
   "cell_type": "code",
   "execution_count": 121,
   "outputs": [],
   "source": [
    "with open('./resources/temp_file/selected_index_2022.pkl', 'wb') as f:\n",
    "    pickle.dump(selected_index, f)"
   ],
   "metadata": {
    "collapsed": false,
    "ExecuteTime": {
     "end_time": "2023-12-12T14:24:08.262618100Z",
     "start_time": "2023-12-12T14:24:08.238682400Z"
    }
   },
   "id": "69d508ebc9868b39"
  },
  {
   "cell_type": "code",
   "execution_count": null,
   "outputs": [],
   "source": [],
   "metadata": {
    "collapsed": false
   },
   "id": "9aaacb735df8f80a"
  }
 ],
 "metadata": {
  "kernelspec": {
   "display_name": "Python 3 (ipykernel)",
   "language": "python",
   "name": "python3"
  },
  "language_info": {
   "codemirror_mode": {
    "name": "ipython",
    "version": 3
   },
   "file_extension": ".py",
   "mimetype": "text/x-python",
   "name": "python",
   "nbconvert_exporter": "python",
   "pygments_lexer": "ipython3",
   "version": "3.9.10"
  }
 },
 "nbformat": 4,
 "nbformat_minor": 5
}
