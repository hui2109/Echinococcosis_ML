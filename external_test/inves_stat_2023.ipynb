{
 "cells": [
  {
   "cell_type": "code",
   "execution_count": 1,
   "id": "initial_id",
   "metadata": {
    "collapsed": true,
    "ExecuteTime": {
     "end_time": "2023-12-13T09:12:40.638155900Z",
     "start_time": "2023-12-13T09:12:38.269624800Z"
    }
   },
   "outputs": [],
   "source": [
    "import pandas as pd\n",
    "import matplotlib.pyplot as plt\n",
    "import numpy as np\n",
    "from sklearn.metrics import roc_auc_score\n",
    "from sklearn.metrics import accuracy_score"
   ]
  },
  {
   "cell_type": "code",
   "execution_count": 3,
   "outputs": [
    {
     "data": {
      "text/plain": "    序号                          用户ID             提交答卷时间   所用时间  来源  \\\n0    8  o_d200hJcXBqNIFEOCU40u_15vyU  2023/9/9 15:13:27   161秒  微信   \n1    9  o_d200v6eVUti_ffIwzTja21SrrY  2023/9/9 15:13:46   176秒  微信   \n2   10  o_d200pkcHyjBZrWBegRkLil5_28  2023/9/9 15:13:46   177秒  微信   \n3   11  o_d200pBkU2B0gMkI9t5emxy9h8g  2023/9/9 15:13:47   154秒  微信   \n4   12  o_d200gyjI_CdBTT-dkwqt6uWVvI  2023/9/9 15:13:49    94秒  微信   \n..  ..                           ...                ...    ...  ..   \n68  76  o_d200m0_789-Po-EcJ00nyb8E9g  2023/9/9 15:40:05  1393秒  微信   \n69  77  o_d200kr9yZltEc0aiU3zgRY2kd4  2023/9/9 16:01:24   343秒  微信   \n70  78  o_d200oNOvSN3eZ8YjHoaVH6F77Y  2023/9/9 16:04:28   283秒  微信   \n71  79  o_d200nAUnP5Ze8urFCLoP8EoiDw  2023/9/9 17:37:23   168秒  微信   \n72  80  o_d200sWowk6_8zWYKSCOJ_Evhok  2023/9/10 4:30:43  1238秒  微信   \n\n                来源详情                    来自IP   总分 基本信息：—序号：         1、工作地址：  \\\n0                 张梅   39.144.143.208(四川-广安)  120         4      四川-眉山市-东坡区   \n1              卡萨布兰卡   171.92.117.217(四川-成都)   90        23  四川-凉山彝族自治州-美姑县   \n2               康忙北鼻  139.204.128.165(四川-乐山)  135        14      四川-南充市-西充县   \n3     郑川军18482117533  101.206.168.134(四川-成都)   75         7      四川-绵阳市-涪城区   \n4            Cloudy°  171.219.108.103(四川-成都)   95        09      四川-绵阳市-涪城区   \n..               ...                     ...  ...       ...             ...   \n68  _xD83E__xDD8B_ .   171.220.139.20(四川-成都)   65         B      四川-绵阳市-涪城区   \n69               蔡迪明  223.104.220.104(四川-成都)  120       CAI      四川-成都市-武侯区   \n70               Ren     116.169.5.33(四川-成都)  135       任叶蕾      四川-成都市-武侯区   \n71                廖沙   171.218.53.142(四川-成都)  110         0      四川-成都市-武侯区   \n72                杨莉    223.86.101.47(四川-凉山)  120        16      四川-南充市-顺庆区   \n\n    ... 51、请选择肝包虫类型：（）？\\n  52、请选择肝包虫类型：（）？\\n  53、请选择肝包虫类型：（）？\\n  \\\n0   ...                -3                  1                 -3   \n1   ...                 1                  1                 -3   \n2   ...                 1                 -3                 -3   \n3   ...                -3                  1                  1   \n4   ...                 2                  1                  1   \n..  ...               ...                ...                ...   \n68  ...                -3                 -3                  1   \n69  ...                 1                 -3                 -3   \n70  ...                -3                 -3                  1   \n71  ...                 1                 -3                  1   \n72  ...                -3                 -3                 -3   \n\n    54、请选择肝包虫类型：（）？\\n  55、请选择肝包虫类型：（）？\\n  56、请选择肝包虫类型：（）？\\n  \\\n0                   2                  2                 -3   \n1                   2                 -3                  2   \n2                  -3                  2                 -3   \n3                   2                 -3                  2   \n4                   1                 -3                  1   \n..                ...                ...                ...   \n68                 -3                  2                  2   \n69                 -3                  1                 -3   \n70                 -3                 -3                 -3   \n71                 -3                 -3                 -3   \n72                 -3                  1                 -3   \n\n    57、请选择肝包虫类型：（）？\\n  58、请选择肝包虫类型：（）？\\n  59、请选择肝包虫类型：（）？\\n  60、请选择肝包虫类型：（）？\\n  \n0                  -3                  1                 -3                  2  \n1                  -3                 -3                 -3                 -3  \n2                  -3                  1                 -3                  2  \n3                   2                 -3                 -3                  1  \n4                  -3                 -3                  1                 -3  \n..                ...                ...                ...                ...  \n68                  2                 -3                 -3                  2  \n69                  1                 -3                  2                  1  \n70                  1                 -3                  1                  1  \n71                  1                  1                  1                 -3  \n72                 -3                 -3                  1                 -3  \n\n[73 rows x 72 columns]",
      "text/html": "<div>\n<style scoped>\n    .dataframe tbody tr th:only-of-type {\n        vertical-align: middle;\n    }\n\n    .dataframe tbody tr th {\n        vertical-align: top;\n    }\n\n    .dataframe thead th {\n        text-align: right;\n    }\n</style>\n<table border=\"1\" class=\"dataframe\">\n  <thead>\n    <tr style=\"text-align: right;\">\n      <th></th>\n      <th>序号</th>\n      <th>用户ID</th>\n      <th>提交答卷时间</th>\n      <th>所用时间</th>\n      <th>来源</th>\n      <th>来源详情</th>\n      <th>来自IP</th>\n      <th>总分</th>\n      <th>基本信息：—序号：</th>\n      <th>1、工作地址：</th>\n      <th>...</th>\n      <th>51、请选择肝包虫类型：（）？\\n</th>\n      <th>52、请选择肝包虫类型：（）？\\n</th>\n      <th>53、请选择肝包虫类型：（）？\\n</th>\n      <th>54、请选择肝包虫类型：（）？\\n</th>\n      <th>55、请选择肝包虫类型：（）？\\n</th>\n      <th>56、请选择肝包虫类型：（）？\\n</th>\n      <th>57、请选择肝包虫类型：（）？\\n</th>\n      <th>58、请选择肝包虫类型：（）？\\n</th>\n      <th>59、请选择肝包虫类型：（）？\\n</th>\n      <th>60、请选择肝包虫类型：（）？\\n</th>\n    </tr>\n  </thead>\n  <tbody>\n    <tr>\n      <th>0</th>\n      <td>8</td>\n      <td>o_d200hJcXBqNIFEOCU40u_15vyU</td>\n      <td>2023/9/9 15:13:27</td>\n      <td>161秒</td>\n      <td>微信</td>\n      <td>张梅</td>\n      <td>39.144.143.208(四川-广安)</td>\n      <td>120</td>\n      <td>4</td>\n      <td>四川-眉山市-东坡区</td>\n      <td>...</td>\n      <td>-3</td>\n      <td>1</td>\n      <td>-3</td>\n      <td>2</td>\n      <td>2</td>\n      <td>-3</td>\n      <td>-3</td>\n      <td>1</td>\n      <td>-3</td>\n      <td>2</td>\n    </tr>\n    <tr>\n      <th>1</th>\n      <td>9</td>\n      <td>o_d200v6eVUti_ffIwzTja21SrrY</td>\n      <td>2023/9/9 15:13:46</td>\n      <td>176秒</td>\n      <td>微信</td>\n      <td>卡萨布兰卡</td>\n      <td>171.92.117.217(四川-成都)</td>\n      <td>90</td>\n      <td>23</td>\n      <td>四川-凉山彝族自治州-美姑县</td>\n      <td>...</td>\n      <td>1</td>\n      <td>1</td>\n      <td>-3</td>\n      <td>2</td>\n      <td>-3</td>\n      <td>2</td>\n      <td>-3</td>\n      <td>-3</td>\n      <td>-3</td>\n      <td>-3</td>\n    </tr>\n    <tr>\n      <th>2</th>\n      <td>10</td>\n      <td>o_d200pkcHyjBZrWBegRkLil5_28</td>\n      <td>2023/9/9 15:13:46</td>\n      <td>177秒</td>\n      <td>微信</td>\n      <td>康忙北鼻</td>\n      <td>139.204.128.165(四川-乐山)</td>\n      <td>135</td>\n      <td>14</td>\n      <td>四川-南充市-西充县</td>\n      <td>...</td>\n      <td>1</td>\n      <td>-3</td>\n      <td>-3</td>\n      <td>-3</td>\n      <td>2</td>\n      <td>-3</td>\n      <td>-3</td>\n      <td>1</td>\n      <td>-3</td>\n      <td>2</td>\n    </tr>\n    <tr>\n      <th>3</th>\n      <td>11</td>\n      <td>o_d200pBkU2B0gMkI9t5emxy9h8g</td>\n      <td>2023/9/9 15:13:47</td>\n      <td>154秒</td>\n      <td>微信</td>\n      <td>郑川军18482117533</td>\n      <td>101.206.168.134(四川-成都)</td>\n      <td>75</td>\n      <td>7</td>\n      <td>四川-绵阳市-涪城区</td>\n      <td>...</td>\n      <td>-3</td>\n      <td>1</td>\n      <td>1</td>\n      <td>2</td>\n      <td>-3</td>\n      <td>2</td>\n      <td>2</td>\n      <td>-3</td>\n      <td>-3</td>\n      <td>1</td>\n    </tr>\n    <tr>\n      <th>4</th>\n      <td>12</td>\n      <td>o_d200gyjI_CdBTT-dkwqt6uWVvI</td>\n      <td>2023/9/9 15:13:49</td>\n      <td>94秒</td>\n      <td>微信</td>\n      <td>Cloudy°</td>\n      <td>171.219.108.103(四川-成都)</td>\n      <td>95</td>\n      <td>09</td>\n      <td>四川-绵阳市-涪城区</td>\n      <td>...</td>\n      <td>2</td>\n      <td>1</td>\n      <td>1</td>\n      <td>1</td>\n      <td>-3</td>\n      <td>1</td>\n      <td>-3</td>\n      <td>-3</td>\n      <td>1</td>\n      <td>-3</td>\n    </tr>\n    <tr>\n      <th>...</th>\n      <td>...</td>\n      <td>...</td>\n      <td>...</td>\n      <td>...</td>\n      <td>...</td>\n      <td>...</td>\n      <td>...</td>\n      <td>...</td>\n      <td>...</td>\n      <td>...</td>\n      <td>...</td>\n      <td>...</td>\n      <td>...</td>\n      <td>...</td>\n      <td>...</td>\n      <td>...</td>\n      <td>...</td>\n      <td>...</td>\n      <td>...</td>\n      <td>...</td>\n      <td>...</td>\n    </tr>\n    <tr>\n      <th>68</th>\n      <td>76</td>\n      <td>o_d200m0_789-Po-EcJ00nyb8E9g</td>\n      <td>2023/9/9 15:40:05</td>\n      <td>1393秒</td>\n      <td>微信</td>\n      <td>_xD83E__xDD8B_ .</td>\n      <td>171.220.139.20(四川-成都)</td>\n      <td>65</td>\n      <td>B</td>\n      <td>四川-绵阳市-涪城区</td>\n      <td>...</td>\n      <td>-3</td>\n      <td>-3</td>\n      <td>1</td>\n      <td>-3</td>\n      <td>2</td>\n      <td>2</td>\n      <td>2</td>\n      <td>-3</td>\n      <td>-3</td>\n      <td>2</td>\n    </tr>\n    <tr>\n      <th>69</th>\n      <td>77</td>\n      <td>o_d200kr9yZltEc0aiU3zgRY2kd4</td>\n      <td>2023/9/9 16:01:24</td>\n      <td>343秒</td>\n      <td>微信</td>\n      <td>蔡迪明</td>\n      <td>223.104.220.104(四川-成都)</td>\n      <td>120</td>\n      <td>CAI</td>\n      <td>四川-成都市-武侯区</td>\n      <td>...</td>\n      <td>1</td>\n      <td>-3</td>\n      <td>-3</td>\n      <td>-3</td>\n      <td>1</td>\n      <td>-3</td>\n      <td>1</td>\n      <td>-3</td>\n      <td>2</td>\n      <td>1</td>\n    </tr>\n    <tr>\n      <th>70</th>\n      <td>78</td>\n      <td>o_d200oNOvSN3eZ8YjHoaVH6F77Y</td>\n      <td>2023/9/9 16:04:28</td>\n      <td>283秒</td>\n      <td>微信</td>\n      <td>Ren</td>\n      <td>116.169.5.33(四川-成都)</td>\n      <td>135</td>\n      <td>任叶蕾</td>\n      <td>四川-成都市-武侯区</td>\n      <td>...</td>\n      <td>-3</td>\n      <td>-3</td>\n      <td>1</td>\n      <td>-3</td>\n      <td>-3</td>\n      <td>-3</td>\n      <td>1</td>\n      <td>-3</td>\n      <td>1</td>\n      <td>1</td>\n    </tr>\n    <tr>\n      <th>71</th>\n      <td>79</td>\n      <td>o_d200nAUnP5Ze8urFCLoP8EoiDw</td>\n      <td>2023/9/9 17:37:23</td>\n      <td>168秒</td>\n      <td>微信</td>\n      <td>廖沙</td>\n      <td>171.218.53.142(四川-成都)</td>\n      <td>110</td>\n      <td>0</td>\n      <td>四川-成都市-武侯区</td>\n      <td>...</td>\n      <td>1</td>\n      <td>-3</td>\n      <td>1</td>\n      <td>-3</td>\n      <td>-3</td>\n      <td>-3</td>\n      <td>1</td>\n      <td>1</td>\n      <td>1</td>\n      <td>-3</td>\n    </tr>\n    <tr>\n      <th>72</th>\n      <td>80</td>\n      <td>o_d200sWowk6_8zWYKSCOJ_Evhok</td>\n      <td>2023/9/10 4:30:43</td>\n      <td>1238秒</td>\n      <td>微信</td>\n      <td>杨莉</td>\n      <td>223.86.101.47(四川-凉山)</td>\n      <td>120</td>\n      <td>16</td>\n      <td>四川-南充市-顺庆区</td>\n      <td>...</td>\n      <td>-3</td>\n      <td>-3</td>\n      <td>-3</td>\n      <td>-3</td>\n      <td>1</td>\n      <td>-3</td>\n      <td>-3</td>\n      <td>-3</td>\n      <td>1</td>\n      <td>-3</td>\n    </tr>\n  </tbody>\n</table>\n<p>73 rows × 72 columns</p>\n</div>"
     },
     "execution_count": 3,
     "metadata": {},
     "output_type": "execute_result"
    }
   ],
   "source": [
    "source_df = pd.read_pickle('./resources/temp_file/2023_inves.pkl')\n",
    "source_df: pd.DataFrame\n",
    "source_df"
   ],
   "metadata": {
    "collapsed": false,
    "ExecuteTime": {
     "end_time": "2023-12-13T09:13:14.000282Z",
     "start_time": "2023-12-13T09:13:13.946426300Z"
    }
   },
   "id": "df3185201f7cc5bf"
  },
  {
   "cell_type": "code",
   "execution_count": 3,
   "outputs": [
    {
     "name": "stdout",
     "output_type": "stream",
     "text": [
      "60 [1, 1, 1, 1, 1, 1, 1, 1, 1, 1, 1, 1, 1, 1, 1, 0, 0, 0, 0, 0, 0, 0, 0, 0, 0, 0, 0, 0, 0, 0, 1, 1, 1, 1, 1, 1, 1, 1, 1, 1, 1, 1, 1, 1, 1, 0, 0, 0, 0, 0, 0, 0, 0, 0, 0, 0, 0, 0, 0, 0]\n"
     ]
    }
   ],
   "source": [
    "a = list('1'*15)\n",
    "b = list('0'*15)\n",
    "c = list('1'*15)\n",
    "d = list('0'*15)\n",
    "answer_list = a + b + c + d\n",
    "answer_list = list(map(int, answer_list))\n",
    "print(len(answer_list), answer_list)"
   ],
   "metadata": {
    "collapsed": false,
    "ExecuteTime": {
     "end_time": "2023-12-12T14:18:11.160350400Z",
     "start_time": "2023-12-12T14:18:11.154348900Z"
    }
   },
   "id": "f81039f40ac7b148"
  },
  {
   "cell_type": "code",
   "execution_count": 4,
   "outputs": [],
   "source": [
    "# 查看每道题有多少人做\n",
    "num_list = []\n",
    "for i in range(60):\n",
    "    num = np.sum(~(source_df.iloc[:, i] == -3))\n",
    "    num_list.append(num)"
   ],
   "metadata": {
    "collapsed": false
   },
   "id": "f7082abf91e99968"
  },
  {
   "cell_type": "code",
   "execution_count": 5,
   "outputs": [
    {
     "data": {
      "text/plain": "(45, 27, 36.5)"
     },
     "execution_count": 5,
     "metadata": {},
     "output_type": "execute_result"
    }
   ],
   "source": [
    "np.max(num_list), np.min(num_list), np.mean(num_list)"
   ],
   "metadata": {
    "collapsed": false
   },
   "id": "38375fc7a9caf274"
  },
  {
   "cell_type": "code",
   "execution_count": 6,
   "outputs": [
    {
     "data": {
      "text/plain": "0"
     },
     "execution_count": 6,
     "metadata": {},
     "output_type": "execute_result"
    }
   ],
   "source": [
    "# 查看是否有题没有人做\n",
    "np.sum(np.array(num_list) == 0)"
   ],
   "metadata": {
    "collapsed": false
   },
   "id": "65571281a0a213a0"
  },
  {
   "cell_type": "code",
   "execution_count": 19,
   "outputs": [
    {
     "data": {
      "text/plain": "<BarContainer object of 60 artists>"
     },
     "execution_count": 19,
     "metadata": {},
     "output_type": "execute_result"
    },
    {
     "data": {
      "text/plain": "<Figure size 640x480 with 1 Axes>",
      "image/png": "[encoded data removed]"
     },
     "metadata": {},
     "output_type": "display_data"
    }
   ],
   "source": [
    "fig, ax = plt.subplots()\n",
    "ax.bar(range(60), num_list)"
   ],
   "metadata": {
    "collapsed": false
   },
   "id": "56f423f9eb5a6841"
  },
  {
   "cell_type": "code",
   "execution_count": 8,
   "outputs": [],
   "source": [
    "# 计算每道题的概率，即患者有多少可能预测该图是AE\n",
    "# 设概率为预测 AE 的概率\n",
    "predict_AE_prob_list = []\n",
    "for i, num in enumerate(num_list):\n",
    "    predict_AE_num = np.sum(source_df.iloc[:, i] == 2)\n",
    "    predict_AE_prob = predict_AE_num / num\n",
    "    predict_AE_prob_list.append(predict_AE_prob)"
   ],
   "metadata": {
    "collapsed": false
   },
   "id": "525f2644b50299b8"
  },
  {
   "cell_type": "code",
   "execution_count": 9,
   "outputs": [
    {
     "name": "stdout",
     "output_type": "stream",
     "text": [
      "60 0.9\n"
     ]
    }
   ],
   "source": [
    "print(len(predict_AE_prob_list), predict_AE_prob_list[0])"
   ],
   "metadata": {
    "collapsed": false
   },
   "id": "b4e47e5c88203e43"
  },
  {
   "cell_type": "code",
   "execution_count": 15,
   "outputs": [
    {
     "data": {
      "text/plain": "0.8972222222222221"
     },
     "execution_count": 15,
     "metadata": {},
     "output_type": "execute_result"
    }
   ],
   "source": [
    "roc_auc_score(answer_list, predict_AE_prob_list)"
   ],
   "metadata": {
    "collapsed": false
   },
   "id": "9c8b5c9fe77b4b58"
  },
  {
   "cell_type": "code",
   "execution_count": 20,
   "outputs": [],
   "source": [
    "mask = predict_AE_prob_list >= 0.5"
   ],
   "metadata": {
    "collapsed": false
   },
   "id": "eef522dc976ab72c"
  },
  {
   "cell_type": "code",
   "execution_count": 33,
   "outputs": [
    {
     "data": {
      "text/plain": "numpy.ndarray"
     },
     "execution_count": 33,
     "metadata": {},
     "output_type": "execute_result"
    }
   ],
   "source": [
    "type(predict_AE_prob_list)"
   ],
   "metadata": {
    "collapsed": false
   },
   "id": "f8fcb5458b5d759e"
  },
  {
   "cell_type": "code",
   "execution_count": 30,
   "outputs": [
    {
     "name": "stdout",
     "output_type": "stream",
     "text": [
      "[1. 0. 0. 1. 1. 1. 1. 1. 1. 1. 1. 1. 0. 0. 1. 0. 0. 0. 0. 0. 0. 0. 0. 1.\n",
      " 0. 0. 0. 0. 0. 0. 1. 0. 0. 0. 0. 1. 1. 1. 1. 1. 1. 1. 1. 1. 1. 0. 0. 0.\n",
      " 0. 0. 0. 0. 0. 1. 1. 0. 1. 0. 1. 1.] [ True False False  True  True  True  True  True  True  True  True  True\n",
      " False False  True False False False False False False False False  True\n",
      " False False False False False False  True False False False False  True\n",
      "  True  True  True  True  True  True  True  True  True False False False\n",
      " False False False False False  True  True False  True False  True  True]\n"
     ]
    }
   ],
   "source": [
    "predict_result = np.ones(60)\n",
    "predict_result[mask] = 1\n",
    "predict_result[~mask] = 0\n",
    "print(predict_result, mask)"
   ],
   "metadata": {
    "collapsed": false
   },
   "id": "53e8619d364ed2fc"
  },
  {
   "cell_type": "code",
   "execution_count": 32,
   "outputs": [
    {
     "data": {
      "text/plain": "0.7666666666666667"
     },
     "execution_count": 32,
     "metadata": {},
     "output_type": "execute_result"
    }
   ],
   "source": [
    "accuracy_score(answer_list, predict_result)"
   ],
   "metadata": {
    "collapsed": false
   },
   "id": "3eabe321cb698721"
  },
  {
   "cell_type": "code",
   "execution_count": null,
   "outputs": [],
   "source": [],
   "metadata": {
    "collapsed": false
   },
   "id": "96a6266eca9c8538"
  },
  {
   "cell_type": "code",
   "execution_count": 12,
   "outputs": [],
   "source": [
    "# df = pd.DataFrame(columns=['Label', 'Pred'])\n",
    "# df['Label'] = answer_list\n",
    "# df['Pred'] = predict_AE_prob_list\n",
    "# df.to_csv('./resources/graphpad/inves_prob_2023.csv', index=False)"
   ],
   "metadata": {
    "collapsed": false
   },
   "id": "a59058ac941a3808"
  },
  {
   "cell_type": "code",
   "execution_count": null,
   "outputs": [],
   "source": [
    "# 用GraphPad进行验证\n",
    "# answer_list = np.array(answer_list)\n",
    "# predict_AE_prob_list = np.array(predict_AE_prob_list)\n",
    "# roc_auc_score(answer_list, predict_AE_prob_list)\n",
    "# # 取出所有答案为0或1的概率\n",
    "# predict_AE_prob_0 = predict_AE_prob_list[answer_list == 0]\n",
    "# predict_AE_prob_1 = predict_AE_prob_list[answer_list == 1]\n",
    "# len(predict_AE_prob_0), len(predict_AE_prob_1)\n",
    "# df = pd.DataFrame(columns=['0_prob', '1_prob'])\n",
    "# df['0_prob'] = predict_AE_prob_0\n",
    "# df['1_prob'] = predict_AE_prob_1\n",
    "# df.head()\n",
    "# df.to_csv('./resources/source_data/inves_prob_2023.csv', index=False)"
   ],
   "metadata": {
    "collapsed": false,
    "pycharm": {
     "is_executing": true
    }
   },
   "id": "ca26a30bc776cec6"
  }
 ],
 "metadata": {
  "kernelspec": {
   "display_name": "Python 3",
   "language": "python",
   "name": "python3"
  },
  "language_info": {
   "codemirror_mode": {
    "name": "ipython",
    "version": 2
   },
   "file_extension": ".py",
   "mimetype": "text/x-python",
   "name": "python",
   "nbconvert_exporter": "python",
   "pygments_lexer": "ipython2",
   "version": "2.7.6"
  }
 },
 "nbformat": 4,
 "nbformat_minor": 5
}
