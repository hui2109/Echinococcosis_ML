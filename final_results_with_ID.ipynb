{
 "cells": [
  {
   "cell_type": "code",
   "execution_count": 1,
   "outputs": [],
   "source": [
    "import pandas as pd\n",
    "from pathlib import Path"
   ],
   "metadata": {
    "collapsed": false,
    "ExecuteTime": {
     "end_time": "2023-09-16T14:20:44.918440800Z",
     "start_time": "2023-09-16T14:20:44.525608600Z"
    }
   },
   "id": "80e0db870dac3ce5"
  },
  {
   "cell_type": "code",
   "execution_count": 3,
   "outputs": [],
   "source": [
    "p1 = Path('./resources/trim_data/add_ID.csv')\n",
    "add_ID_df = pd.read_csv(p1)\n",
    "p2 = Path('./resources/source_data/final_extract_results.xlsx')\n",
    "final_results_df = pd.read_excel(p2)"
   ],
   "metadata": {
    "collapsed": false,
    "ExecuteTime": {
     "end_time": "2023-09-16T14:32:31.704036600Z",
     "start_time": "2023-09-16T14:23:40.047301700Z"
    }
   },
   "id": "ff2050398a18931"
  },
  {
   "cell_type": "code",
   "execution_count": 4,
   "outputs": [
    {
     "name": "stdout",
     "output_type": "stream",
     "text": [
      "已全部检查完毕！\n"
     ]
    }
   ],
   "source": [
    "for i, stem in enumerate(final_results_df['stem']):\n",
    "    if stem != str(add_ID_df.iloc[i, 0])[:-4]:\n",
    "        print(i, stem, '不相等')\n",
    "        break\n",
    "print('已全部检查完毕！')"
   ],
   "metadata": {
    "collapsed": false,
    "ExecuteTime": {
     "end_time": "2023-09-16T14:32:32.341731100Z",
     "start_time": "2023-09-16T14:32:31.712014900Z"
    }
   },
   "id": "271b93ee6f6cb2b2"
  },
  {
   "cell_type": "code",
   "execution_count": 8,
   "outputs": [],
   "source": [
    "ID_list = list(add_ID_df['患者新ID'])\n",
    "final_results_df['patient_ID'] = ID_list\n",
    "p3 = Path('./resources/source_data/final_extract_results2.xlsx')\n",
    "with pd.ExcelWriter(p3) as writer:\n",
    "    final_results_df.to_excel(writer, index=False)"
   ],
   "metadata": {
    "collapsed": false,
    "ExecuteTime": {
     "end_time": "2023-09-16T15:00:39.575682900Z",
     "start_time": "2023-09-16T14:38:44.117955800Z"
    }
   },
   "id": "ebd37090cb0464a4"
  },
  {
   "cell_type": "code",
   "execution_count": null,
   "outputs": [],
   "source": [],
   "metadata": {
    "collapsed": false
   },
   "id": "ba469ce2fd3c8c8e"
  }
 ],
 "metadata": {
  "kernelspec": {
   "display_name": "Python 3",
   "language": "python",
   "name": "python3"
  },
  "language_info": {
   "codemirror_mode": {
    "name": "ipython",
    "version": 2
   },
   "file_extension": ".py",
   "mimetype": "text/x-python",
   "name": "python",
   "nbconvert_exporter": "python",
   "pygments_lexer": "ipython2",
   "version": "2.7.6"
  }
 },
 "nbformat": 4,
 "nbformat_minor": 5
}
